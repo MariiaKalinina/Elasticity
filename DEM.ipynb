{
  "cells": [
    {
      "cell_type": "markdown",
      "metadata": {
        "id": "view-in-github",
        "colab_type": "text"
      },
      "source": [
        "<a href=\"https://colab.research.google.com/github/MariiaKalinina/Elasticity/blob/main/DEM.ipynb\" target=\"_parent\"><img src=\"https://colab.research.google.com/assets/colab-badge.svg\" alt=\"Open In Colab\"/></a>"
      ]
    },
    {
      "cell_type": "code",
      "execution_count": null,
      "id": "bfb36325",
      "metadata": {
        "id": "bfb36325"
      },
      "outputs": [],
      "source": [
        "import numpy as np\n",
        "# import torch\n",
        "from math import *\n",
        "from scipy import integrate\n",
        "from numpy import linalg as LA\n",
        "import matplotlib.pyplot as plt\n",
        "%matplotlib inline\n",
        "from numba import njit\n",
        "import numpy as np\n",
        "from scipy.integrate import dblquad\n",
        "\n",
        "import matplotlib.pylab as plt\n",
        "import seaborn as sns\n",
        "import pandas as pd\n",
        "from pathlib import Path\n",
        "import matplotlib.colors\n",
        "\n",
        "import matplotlib.pyplot as plt\n",
        "import matplotlib.font_manager as font_manager\n",
        "%matplotlib inline\n",
        "csfont = {'fontname':'Times New Roman'}"
      ]
    },
    {
      "cell_type": "code",
      "execution_count": null,
      "id": "2ecc58d6",
      "metadata": {
        "id": "2ecc58d6"
      },
      "outputs": [],
      "source": [
        "# !pip install GitPython\n",
        "# from git import Repo\n",
        "# # !git clone https://github.com/MariiaKalinina/Elasticity.git\n",
        "# !git clone https://github.com/fvizeus/PyDEM.git DEM"
      ]
    },
    {
      "cell_type": "code",
      "execution_count": null,
      "id": "ddcf26b7",
      "metadata": {
        "id": "ddcf26b7"
      },
      "outputs": [],
      "source": [
        "\"\"\"\n",
        "From Berryman 1980\n",
        "\"\"\"\n",
        "\n",
        "import numpy as np\n",
        "from scipy.optimize import fsolve\n",
        "\n",
        "def theta(alpha):\n",
        "    return alpha*(np.arccos(alpha) - alpha*np.sqrt(1.0 - alpha*alpha))/(1.0 - alpha*alpha)**(3.0/2.0)\n",
        "\n",
        "def f(alpha, theta):\n",
        "    return alpha*alpha*(3.0*theta - 2.0)/(1.0 - alpha*alpha)\n",
        "\n",
        "def PQ(A, B, R, theta, f):\n",
        "    F1 = 1.0 + A*(1.5*(f + theta) - R*(1.5*f + 2.5*theta - 4.0/3.0))\n",
        "    F2 = 1.0 + A*(1.0 + 1.5*(f + theta) - R*(1.5*f + 2.5*theta)) + B*(3.0 - 4.0*R) + A*(A + 3.0*B)*(1.5 - 2.0*R)*(f + theta - R*(f - theta + 2.0*theta*theta))\n",
        "    F3 = 1.0 + A*(1.0 - f - 1.5*theta + R*(f + theta))\n",
        "    F4 = 1.0 + (A/4.0)*(f + 3.0*theta - R*(f - theta))\n",
        "    F5 = A*(-f + R*(f + theta - 4.0/3.0)) + B*theta*(3.0 - 4.0*R)\n",
        "    F6 = 1.0 + A*(1.0 + f - R*(f + theta)) + B*(1.0 - theta)*(3.0 - 4.0*R)\n",
        "    F7 = 2.0 + (A/4.0)*(3.0*f + 9.0*theta - R*(3.0*f + 5.0*theta)) + B*theta*(3.0 - 4.0*R)\n",
        "    F8 = A*(1.0 - 2.0*R + (f/2.0)*(R - 1.0) + (theta/2.0)*(5.0*R - 3.0)) + B*(1.0 - theta)*(3.0 - 4.0*R)\n",
        "    F9 = A*((R - 1.0)*f - R*theta) + B*theta*(3.0 - 4.0*R)\n",
        "\n",
        "    P = 3.0*F1/F2\n",
        "#     P = F1/F2\n",
        "    Q = 2.0/F3 + 1.0/F4 + (F4*F5 + F6*F7 - F8*F9)/(F2*F4)\n",
        "    return P, Q\n",
        "\n",
        "def KG(Km, Gm, Ki, Gi, ci, theta, f):\n",
        "    A = Gi/Gm - 1.0\n",
        "    B = (Ki/Km - Gi/Gm)/3.0\n",
        "    R = Gm/(Km + (4.0/3.0)*Gm)\n",
        "    Fm = (Gm/6.0)*(9.0*Km + 8.0*Gm)/(Km + 2.0*Gm)\n",
        "\n",
        "    P, Q = PQ(A, B, R, theta, f)\n",
        "\n",
        "    K = Km - (Km + (4.0/3.0)*Gm)*ci*(Km - Ki)*P/3.0/(Km + (4.0/3.0)*Gm + ci*(Km - Ki)*P/3.0)\n",
        "    G = Gm - (Gm + Fm)*ci*(Gm - Gi)*Q/5.0/(Gm + Fm + ci*(Gm - Gi)*Q/5.0)\n",
        "\n",
        "    return K, G\n",
        "\n",
        "def DEM(Km, Gm, Ki, Gi, alphai, phii, phi0=0.0, r=1000, phitol=1.0E-10, gamma=0.01):\n",
        "    phi = np.sum(phii)\n",
        "    fraci = phii/np.sum(phi)\n",
        "    ci = fraci*alphai/r\n",
        "    n = int(np.ceil((np.log(1.0-phi)-np.log(1.0-phi0))/np.sum(np.log(1.0-ci))))\n",
        "    m = len(alphai)\n",
        "\n",
        "    def func(r):\n",
        "        f = np.empty(m)\n",
        "        f[0] = np.log(alphai[0]/r[0]) + np.log(1.0 - phi0/phi) - np.log(1 - ((1.0 - phi)/(1.0 - phi0))**(1.0/n))\n",
        "        for j in range(1, m):\n",
        "            f[j] = f[j-1] + np.log(alphai[j]/r[j]) + np.log(r[j-1]/alphai[j-1] - fraci[j-1])\n",
        "        return f\n",
        "\n",
        "    def fprime(r):\n",
        "        jac = np.diag(-1.0/r)\n",
        "        for j in range(0, m-1):\n",
        "            jac[j+1:, j] = -1.0/r[j] + 1.0/(r[j] - fraci[j]*alphai[j])\n",
        "\n",
        "        return jac\n",
        "\n",
        "    r0 = r*np.ones(m)\n",
        "\n",
        "    ri = fsolve(func, r0, fprime=fprime, factor=0.1)\n",
        "\n",
        "    ci = fraci*alphai/ri\n",
        "\n",
        "    thetai = theta(alphai)\n",
        "    fi = f(alphai, thetai)\n",
        "\n",
        "    K = np.empty(n)\n",
        "    G = np.empty(n)\n",
        "    phi = np.empty(n)\n",
        "\n",
        "    K_ = Km\n",
        "    G_ = Gm\n",
        "    phi_ = phi0\n",
        "\n",
        "    for i in range(n):\n",
        "        dphi = ci[0]*(1.0 - phi_)\n",
        "        K_, G_ = KG(K_, G_, Ki[0], Gi[0], ci[0], thetai[0], fi[0])\n",
        "        phi_ += dphi\n",
        "        for j in range(1, m):\n",
        "            dphi *= ci[j]*(1.0 - ci[j-1])/ci[j-1]\n",
        "            K_, G_ = KG(K_, G_, Ki[j], Gi[j], ci[j], thetai[j], fi[j])\n",
        "            phi_ += dphi\n",
        "        K[i] = K_\n",
        "        G[i] = G_\n",
        "        phi[i] = phi_\n",
        "\n",
        "    return K, G, phi"
      ]
    },
    {
      "cell_type": "code",
      "execution_count": null,
      "id": "41416ad5",
      "metadata": {
        "id": "41416ad5",
        "outputId": "e23330d7-28c1-4205-a881-9768a68608be"
      },
      "outputs": [
        {
          "data": {
            "image/png": "[encoded data removed]",
            "text/plain": [
              "<Figure size 432x288 with 1 Axes>"
            ]
          },
          "metadata": {
            "needs_background": "light"
          },
          "output_type": "display_data"
        }
      ],
      "source": [
        "# Matrix properties\n",
        "Km = 77.0 # GPa\n",
        "Gm = 32.0 # GPa\n",
        "rhom = 2.71 # g/cm3\n",
        "\n",
        "# Fluid properties\n",
        "Kf = 2.2 # GPa\n",
        "rhof = 1.0 # g/cm3\n",
        "\n",
        "\n",
        "# Porosity\n",
        "phimax = 0.4\n",
        "\n",
        "# Inclusion properties\n",
        "# In this example a mixture of three inclusion types are used:\n",
        "# - 30% of 0.02 aspect ratio\n",
        "# - 50% of 0.15 aspect ratio\n",
        "# - 20% of 0.80 aspect ratio\n",
        "# alphas = np.array([0.01, 0.15, 0.8])\n",
        "# volumes = np.array([0.3, 0.5, 0.2])*phimax\n",
        "\n",
        "alphas = np.array([0.01])\n",
        "volumes = np.array([1])*phimax\n",
        "\n",
        "# Dry inclusions\n",
        "Kis = np.zeros(len(alphas), dtype=float)\n",
        "Gis = np.zeros(len(alphas), dtype=float)\n",
        "\n",
        "# The DEM function returns the bulk and shear moduli along with the porosity array to match them.\n",
        "# The porosity array is not regularly spaced. If you need so, you should reinterpolate.\n",
        "K, G, phi = DEM(Km, Gm, Kis, Gis, alphas, volumes)\n",
        "\n",
        "rho = (1.0 - phi)*rhom + phi*rhof\n",
        "# Ks = Gassmann.Ks(K, Km, Kf, phi)\n",
        "\n",
        "# Vp = np.sqrt((Ks + 4.0*G/3.0)/rho)\n",
        "# Vs = np.sqrt(G/rho)\n",
        "\n",
        "plt.plot(phi, K, 'b', label='K')\n",
        "plt.plot(phi, G, 'g', label='G')\n",
        "\n",
        "plt.legend()\n",
        "\n",
        "plt.show()"
      ]
    },
    {
      "cell_type": "code",
      "execution_count": null,
      "id": "dac583ed",
      "metadata": {
        "id": "dac583ed"
      },
      "outputs": [],
      "source": [
        "from scipy.optimize import fsolve\n",
        "from scipy.integrate import odeint"
      ]
    },
    {
      "cell_type": "code",
      "execution_count": null,
      "id": "ac1dae1e",
      "metadata": {
        "id": "ac1dae1e"
      },
      "outputs": [],
      "source": [
        "def PQ(Km,Gm, Ki,Gi, alpha):\n",
        "    \"\"\"compute geometric strain concentration factors P and Q for prolate and oblate spheroids according to Berymann (1980). See also PQ_vectorize\n",
        "\n",
        "    Parameters\n",
        "    ----------\n",
        "    Km : float\n",
        "        Bulk modulus of matrix phase\n",
        "    Gm : float\n",
        "        Shear modulus of matrix phase\n",
        "    Ki : float\n",
        "        Bulk modulus of inclusion phase\n",
        "    Gi : float\n",
        "        Shear modulus of inclusion phase\n",
        "    alpha : float\n",
        "        aspect ratio of the inclusion. Note that α <1 for oblate spheroids and α > 1 for prolate spheroids\n",
        "\n",
        "    Returns\n",
        "    -------\n",
        "    float\n",
        "        P,Q (unitless): geometric strain concentration factors\n",
        "    \"\"\"\n",
        "\n",
        "    if alpha==1:\n",
        "        P= (Km+4*Gm/3)/(Ki+4*Gm/3)\n",
        "        kesai= Gm/6 *(9*Km+8*Gm)/(Km+2*Gm)\n",
        "        Q= (Gm+kesai)/(Gi+kesai)\n",
        "\n",
        "    else:\n",
        "\n",
        "        if alpha<1:\n",
        "            theta= alpha/(1.0 - alpha**2)**(3.0/2.0) * (np.arccos(alpha) - alpha*np.sqrt(1.0 - alpha**2))\n",
        "        else:\n",
        "            theta= alpha/(alpha**2-1)**(3.0/2.0) * ( alpha*(alpha**2-1)**0.5 -np.cosh(alpha)**-1)\n",
        "        f= alpha**2*(3.0*theta - 2.0)/(1.0 - alpha**2)\n",
        "        A = Gi/Gm - 1.0\n",
        "        B = (Ki/Km - Gi/Gm)/3.0\n",
        "        R = Gm/(Km + (4.0/3.0)*Gm) #\n",
        "        F1 = 1.0 + A*(1.5*(f + theta) - R*(1.5*f + 2.5*theta - 4.0/3.0))\n",
        "        F2 = 1.0 + A*(1.0 + 1.5*(f + theta) - R*(1.5*f + 2.5*theta)) + B*(3.0 - 4.0*R) + A*(A + 3.0*B)*(1.5 - 2.0*R)*(f + theta - R*(f - theta +\n",
        "        2.0*theta**2))\n",
        "        F3 = 1.0 + A*(1.0 - f - 1.5*theta + R*(f + theta))\n",
        "        F4 = 1.0 + (A/4.0)*(f + 3.0*theta - R*(f - theta))\n",
        "        F5 = A*(-f + R*(f + theta - 4.0/3.0)) + B*theta*(3.0 - 4.0*R)\n",
        "        F6 = 1.0 + A*(1.0 + f - R*(f + theta)) + B*(1.0 - theta)*(3.0 - 4.0*R)\n",
        "        F7 = 2.0 + (A/4.0)*(3.0*f + 9.0*theta - R*(3.0*f + 5.0*theta)) + B*theta*(3.0 - 4.0*R)\n",
        "        F8 = A*(1.0 - 2.0*R + (f/2.0)*(R - 1.0) + (theta/2.0)*(5.0*R - 3.0)) + B*(1.0 - theta)*(3.0 - 4.0*R)\n",
        "        F9 = A*((R - 1.0)*f - R*theta) + B*theta*(3.0 - 4.0*R)\n",
        "        Tiijj = 3*F1/F2\n",
        "        Tijij = Tiijj/3 + 2/F3 + 1/F4 + (F4*F5 + F6*F7 - F8*F9)/(F2*F4)\n",
        "        P = Tiijj/3\n",
        "        Q = (Tijij - P)/5\n",
        "    return P, Q\n",
        "\n",
        "def DEM(y,t, params):\n",
        "    '''\n",
        "    ODE solver tutorial: https://physics.nyu.edu/pine/pymanual/html/chap9/chap9_scipy.html.\n",
        "    '''\n",
        "    K_eff,G_eff=y  # unpack current values of y\n",
        "    Gi,Ki,alpha = params # unpack parameters\n",
        "    P, Q= PQ(G_eff,K_eff,Gi,Ki, alpha)\n",
        "    derivs = [1/(1-t) * (Ki-K_eff) * P,  1/(1-t) * Gi-G_eff * Q]\n",
        "    return derivs\n",
        "\n",
        "\n",
        "def Berryman_DEM(Km,Gm, Ki, Gi, alpha,phi):\n",
        "    \"\"\"Compute elastic moduli of two-phase composites by incrementally adding inclusions of one phase (phase 2) to the matrix phase using Berryman DEM theory\n",
        "\n",
        "    Parameters\n",
        "    ----------\n",
        "    Km : float\n",
        "        host mineral bulk modulus\n",
        "    Gm : float\n",
        "        host mineral shear modulus\n",
        "    Ki : float\n",
        "        bulk modulus of inclusion\n",
        "    Gi : float\n",
        "        shear modulus of inclusion\n",
        "    alpha : float\n",
        "        aspect ratio of the inclusion phase\n",
        "    phi : float\n",
        "        desired fraction occupied by the inclusion\n",
        "    \"\"\"\n",
        "    #Bundle parameters for ODE solver\n",
        "    params = [Gi,Ki,alpha]\n",
        "    #Bundle initial conditions for ODE solver\n",
        "    y0 = [Km,Gm]\n",
        "    # Make time array for solution\n",
        "    tStop = phi\n",
        "    tInc = 0.01\n",
        "    t = np.arange(0, tStop+tInc, tInc)\n",
        "    psoln = odeint(DEM, y0, t, args=(params,))\n",
        "    K_dry_dem=psoln[:,0]\n",
        "    G_dry_dem=psoln[:,1]\n",
        "    return K_dry_dem, G_dry_dem,t"
      ]
    },
    {
      "cell_type": "code",
      "execution_count": null,
      "id": "43e705e5",
      "metadata": {
        "id": "43e705e5",
        "outputId": "06693eda-da8d-44cf-8396-a552e9e1c525"
      },
      "outputs": [
        {
          "data": {
            "text/plain": [
              "[<matplotlib.lines.Line2D at 0x7fd7e39d3f70>]"
            ]
          },
          "execution_count": 14,
          "metadata": {},
          "output_type": "execute_result"
        },
        {
          "data": {
            "image/png": "[encoded data removed]",
            "text/plain": [
              "<Figure size 432x288 with 1 Axes>"
            ]
          },
          "metadata": {
            "needs_background": "light"
          },
          "output_type": "display_data"
        }
      ],
      "source": [
        "\n",
        "Db, Kb = 1, 2.2 # brine density, bulk modulus\n",
        "Do, Ko = 0.8, 1.5 # oil density, bulk modulus\n",
        "Dg, Kg = 0.2, 0.06 # gas density, bulk modulus\n",
        "\n",
        "Km = 77.0 # GPa\n",
        "Gm = 32.0 # GPa\n",
        "\n",
        "Ki, Gi = 0.06, 10**-6\n",
        "alpha = 0.01\n",
        "phi=0.2\n",
        "\n",
        "a, b, c = Berryman_DEM(Km,Gm, Ki, Gi, alpha,phi)\n",
        "\n",
        "plt.plot(c, a)\n",
        "plt.plot(c, b)"
      ]
    },
    {
      "cell_type": "code",
      "execution_count": null,
      "id": "31a117e0",
      "metadata": {
        "id": "31a117e0"
      },
      "outputs": [],
      "source": [
        "#Thermal conductivity"
      ]
    },
    {
      "cell_type": "code",
      "execution_count": null,
      "id": "1a9db34d",
      "metadata": {
        "id": "1a9db34d"
      },
      "outputs": [],
      "source": [
        "def tau_transport(Lm,Li,alpha):\n",
        "    \"\"\"compute geometric strain concentration factors P and Q for prolate and oblate spheroids according to Berymann (1980). See also PQ_vectorize\n",
        "\n",
        "    Parameters\n",
        "    ----------\n",
        "    Km : float\n",
        "        Bulk modulus of matrix phase\n",
        "    Gm : float\n",
        "        Shear modulus of matrix phase\n",
        "    Ki : float\n",
        "        Bulk modulus of inclusion phase\n",
        "    Gi : float\n",
        "        Shear modulus of inclusion phase\n",
        "    alpha : float\n",
        "        aspect ratio of the inclusion. Note that α <1 for oblate spheroids and α > 1 for prolate spheroids\n",
        "\n",
        "    Returns\n",
        "    -------\n",
        "    float\n",
        "        P,Q (unitless): geometric strain concentration factors\n",
        "    \"\"\"\n",
        "\n",
        "#     if alpha==1:\n",
        "#         f3 = 1/3\n",
        "#         f1 = f2 = f3\n",
        "\n",
        "#     else:\n",
        "\n",
        "#         if alpha<1:\n",
        "#             theta= alpha/(1.0 - alpha**2)**(3.0/2.0) * (np.arccos(alpha) - alpha*np.sqrt(1.0 - alpha**2))\n",
        "#         else:\n",
        "#             theta= alpha/(alpha**2-1)**(3.0/2.0) * ( alpha*(alpha**2-1)**0.5 -np.cosh(alpha)**-1)\n",
        "#         f3 = alpha**2*(3.0*theta - 2.0)/(1.0 - alpha**2)\n",
        "# #         tau = 1/9 * (4/(Lm+Li+f*(Lm - Li)) + 1/(Lm - f*(Lm - Li)))\n",
        "#         f1=f2 = (1-f3)/2\n",
        "#         print(f1, f2, f3)\n",
        "\n",
        "\n",
        "    if alpha < 1:\n",
        "        t1 = alpha ** 2\n",
        "        t2 = 1 / t1\n",
        "        t4 = np.sqrt(t2-1)\n",
        "        t5 = np.arctan(t4)\n",
        "        t8 = t4 ** 2\n",
        "\n",
        "        f3 = t2 * (t4-t5) / t8 / t4\n",
        "        f2 = f1 = (1-f3)/2\n",
        "\n",
        "    elif alpha > 1:\n",
        "        t1 = alpha ** 2\n",
        "        t2 = 1 / t1\n",
        "        t4 = np.sqrt(1-t2)\n",
        "        t6 = np.log(1+t4)\n",
        "        t9 = np.log(1-t4)\n",
        "        t13 = t4 ** 2\n",
        "        f3 = t2 * (t6 / 2-t9 / 2-t4) / t13 / t4\n",
        "        f2 = f1 = (1-f3)/2\n",
        "\n",
        "    elif alpha == 1:\n",
        "        f3 = 1 / 3\n",
        "        f1 = f2 = f3\n",
        "\n",
        "#     print(f1, f2, f3)\n",
        "\n",
        "\n",
        "#     tau = 1/9 * ((2*(1+(Li/Lm - 1)*f1)**-1 + (1+(Li/Lm - 1)*f3))**-1)\n",
        "    tau = 1/9 * (2*(1-f1)**-1 + (1-f3)**-1)\n",
        "#     tau1 = (f1*Li + (1-f1)*Lm)**-1\n",
        "#     tau3 = (f3*Li + (1-f3)*Lm)**-1\n",
        "#     tau = 1/9 * (2*tau1 + tau3)\n",
        "\n",
        "\n",
        "    return tau\n",
        "\n",
        "def DEM(y,t,params):\n",
        "\n",
        "    L_eff = y  # unpack current values of y\n",
        "    Lm, Li, alpha = params # unpack parameters\n",
        "    tau = tau_transport(Lm, Li, alpha)\n",
        "    derivs = ((Li - L_eff)*tau)/(1-t)\n",
        "    return derivs\n",
        "\n",
        "\n",
        "def Berryman_DEM(Lm,Li,alpha,phi):\n",
        "\n",
        "    #Bundle parameters for ODE solver\n",
        "    params = [Lm, Li,alpha]\n",
        "    #Bundle initial conditions for ODE solver\n",
        "    y0 = Lm\n",
        "    # Make time array for solution\n",
        "    tStop = phi\n",
        "    tInc = 0.001\n",
        "    t = np.arange(0, tStop+tInc, tInc)\n",
        "    L_eff = odeint(DEM, y0, t, args=(params,))\n",
        "#     L_dry_dem=psoln[:,0]\n",
        "    return L_eff"
      ]
    },
    {
      "cell_type": "code",
      "execution_count": null,
      "id": "76a453ee",
      "metadata": {
        "id": "76a453ee"
      },
      "outputs": [],
      "source": [
        "Lm,Li,alpha,phi = 3, 0.12, 0.01, 0.1\n",
        "lam = Berryman_DEM(Lm,Li,alpha,phi)"
      ]
    },
    {
      "cell_type": "code",
      "execution_count": null,
      "id": "fad54a49",
      "metadata": {
        "id": "fad54a49"
      },
      "outputs": [],
      "source": [
        "lam_air, lam_water = Berryman_DEM(Lm,0.025,1,phi), Berryman_DEM(Lm,0.025,0.05,phi)"
      ]
    },
    {
      "cell_type": "code",
      "execution_count": null,
      "id": "dc5ed52c",
      "metadata": {
        "id": "dc5ed52c"
      },
      "outputs": [],
      "source": [
        "def effective_tc(conc, alpha_shape, lam):\n",
        "\n",
        "    x0=0\n",
        "\n",
        "    phi = conc\n",
        "\n",
        "    #------------------depolarization factor calculation-----\n",
        "    def depolarizaton(alpha):\n",
        "        if alpha < 1:\n",
        "            t1 = alpha ** 2\n",
        "            t2 = 1 / t1\n",
        "            t4 = np.sqrt(t2-1)\n",
        "            t5 = np.arctan(t4)\n",
        "            t8 = t4 ** 2\n",
        "            form = t2 * (t4-t5) / t8 / t4\n",
        "            return form\n",
        "        elif alpha > 1:\n",
        "            t1 = alpha ** 2\n",
        "            t2 = 1 / t1\n",
        "            t4 = np.sqrt(1-t2)\n",
        "            t6 = np.log(1+t4)\n",
        "            t9 = np.log(1-t4)\n",
        "            t13 = t4 ** 2\n",
        "            form = t2 * (t6 / 2-t9 / 2-t4) / t13 / t4\n",
        "            return form\n",
        "        elif alpha == 1:\n",
        "            form = 1 / 3\n",
        "            return form\n",
        "\n",
        "\n",
        "    depolar_F = []\n",
        "    for i in alpha_shape:\n",
        "        depolar_F.append(depolarizaton(i))\n",
        "    L0 = lam[0]\n",
        "\n",
        "    def raschet(L0):\n",
        "\n",
        "        parall_comp, perpen_comp = [], []\n",
        "#         print('Тело сравнения', L0)\n",
        "\n",
        "        for i, j, f in zip(phi, lam, depolar_F):\n",
        "\n",
        "#             print('Каждая комопонента')\n",
        "#             print(i, j, f)\n",
        "\n",
        "            termc_3 = i * j / (L0 * (1-f)+j * f)\n",
        "            termz_3 = i / (L0 * (1-f)+j * f)\n",
        "\n",
        "            termc_12 = i * j / (L0 * (1+f) / 2+j * (1-f) / 2)\n",
        "            termz_12 = i / (L0 * (1+f) / 2+j * (1-f) / 2)\n",
        "\n",
        "            termc_all = (termc_3+2 * termc_12) / 3\n",
        "            termz_all = (termz_3+2 * termz_12) / 3\n",
        "\n",
        "            t16 = termc_all # числитель\n",
        "            t15 = termz_all # Знаменатель\n",
        "\n",
        "#             print('ТС матрицы', j)\n",
        "#             print('t16:' , t16)\n",
        "#             print('t15:' , t15)\n",
        "\n",
        "            parall_comp.append(t16)  # числитель формулы (матрица, флюид)\n",
        "            perpen_comp.append(t15)  # знаменатель формулы (матрица, флюид)\n",
        "\n",
        "#         print('Параллельный компоненты ТС', parall_comp)\n",
        "#         print('Перпендикулярные компоненты ТС', perpen_comp)\n",
        "\n",
        "        L_eff = np.sum(parall_comp) / np.sum(perpen_comp)\n",
        "#         print('TC eff: ', L_eff, end='\\n\\n')\n",
        "        return L_eff\n",
        "\n",
        "    x0 = L0\n",
        "    L0 = raschet(x0)\n",
        "    it_f = 1\n",
        "    while abs(x0-L0) >= 10 **-6:\n",
        "        x0 = L0\n",
        "        L0 = raschet(x0)\n",
        "        it_f += 1\n",
        "\n",
        "#     print('Количество итераций: ', it_f, end='\\n\\n')\n",
        "    return L0\n",
        "\n",
        "#     print('Эффективное значение TC_eff:', raschet(L0))"
      ]
    },
    {
      "cell_type": "code",
      "execution_count": null,
      "id": "d028cd6e",
      "metadata": {
        "id": "d028cd6e"
      },
      "outputs": [],
      "source": [
        "tStop = phi\n",
        "tInc = 0.001\n",
        "t = np.arange(0, tStop+tInc, tInc)\n",
        "lam_eff_1 = []\n",
        "lam_eff_001 = []\n",
        "\n",
        "for i in t:\n",
        "    lam_eff_1.append(effective_tc([1-i, i], [1, 1], [3, 0.025]))\n",
        "    lam_eff_001.append(effective_tc([1-i, i], [1, 0.01], [3, 0.025]))"
      ]
    },
    {
      "cell_type": "code",
      "execution_count": null,
      "id": "9e02aa4f",
      "metadata": {
        "id": "9e02aa4f"
      },
      "outputs": [],
      "source": [
        "Lm,phi = 3, 0.1\n",
        "lam = Berryman_DEM(Lm,Li,alpha,phi)"
      ]
    },
    {
      "cell_type": "code",
      "execution_count": null,
      "id": "257f9be9",
      "metadata": {
        "id": "257f9be9"
      },
      "outputs": [],
      "source": [
        "lam_air, lam_water = Berryman_DEM(Lm, 0.025,1,phi), Berryman_DEM(Lm,0.025,0.01,phi)"
      ]
    },
    {
      "cell_type": "code",
      "execution_count": null,
      "id": "3883b332",
      "metadata": {
        "id": "3883b332",
        "outputId": "b76bed92-cce6-432d-cabd-9775b2be394c"
      },
      "outputs": [
        {
          "data": {
            "image/png": "[encoded data removed]",
            "text/plain": [
              "<Figure size 432x288 with 1 Axes>"
            ]
          },
          "metadata": {
            "needs_background": "light"
          },
          "output_type": "display_data"
        }
      ],
      "source": [
        "tStop = phi\n",
        "tInc = 0.001\n",
        "t = np.arange(0, tStop+tInc, tInc)\n",
        "\n",
        "plt.plot(t,lam_air, '-b', label='DEM 1')\n",
        "plt.plot(t, lam_water, '-r', label='DEM 0.01')\n",
        "plt.plot(t, lam_eff_1, '--b', label='SC 1',)\n",
        "plt.plot(t, lam_eff_001, '--r', label='SC 0.01',)\n",
        "plt.xlabel('concentrarion')\n",
        "plt.ylabel('')\n",
        "plt.legend()\n",
        "plt.show()"
      ]
    },
    {
      "cell_type": "code",
      "execution_count": null,
      "id": "3076cea5",
      "metadata": {
        "id": "3076cea5"
      },
      "outputs": [],
      "source": []
    }
  ],
  "metadata": {
    "kernelspec": {
      "display_name": "Python 3 (ipykernel)",
      "language": "python",
      "name": "python3"
    },
    "language_info": {
      "codemirror_mode": {
        "name": "ipython",
        "version": 3
      },
      "file_extension": ".py",
      "mimetype": "text/x-python",
      "name": "python",
      "nbconvert_exporter": "python",
      "pygments_lexer": "ipython3",
      "version": "3.9.12"
    },
    "colab": {
      "provenance": [],
      "include_colab_link": true
    }
  },
  "nbformat": 4,
  "nbformat_minor": 5
}