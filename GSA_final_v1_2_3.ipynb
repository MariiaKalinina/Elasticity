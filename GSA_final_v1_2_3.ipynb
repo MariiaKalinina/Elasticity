{
  "cells": [
    {
      "cell_type": "markdown",
      "metadata": {
        "id": "view-in-github",
        "colab_type": "text"
      },
      "source": [
        "<a href=\"https://colab.research.google.com/github/MariiaKalinina/Elasticity/blob/main/GSA_final_v1_2_3.ipynb\" target=\"_parent\"><img src=\"https://colab.research.google.com/assets/colab-badge.svg\" alt=\"Open In Colab\"/></a>"
      ]
    },
    {
      "cell_type": "code",
      "execution_count": null,
      "metadata": {
        "id": "Ts9fFr_Q4wDJ"
      },
      "outputs": [],
      "source": [
        "import numpy as np\n",
        "import torch\n",
        "from math import *\n",
        "from scipy import integrate\n",
        "from numpy import linalg as LA\n",
        "import matplotlib.pyplot as plt\n",
        "%matplotlib inline\n",
        "from numba import njit\n",
        "import numpy as np\n",
        "from scipy.integrate import dblquad"
      ]
    },
    {
      "cell_type": "markdown",
      "metadata": {
        "id": "Iy76RYnPnuav"
      },
      "source": [
        "# Нотация фойта из тензора (3x3x3x3) в матрицу (6х6)"
      ]
    },
    {
      "cell_type": "code",
      "execution_count": null,
      "metadata": {
        "id": "NjKUPvHqZkLC"
      },
      "outputs": [],
      "source": [
        "\"\"\"Нотация Фойта - переход к матричной записи\"\"\"\n",
        "\n",
        "def tens2mat(cij_tens, compl=False):\n",
        "    \"\"\"Convert from full tensor to Voigt notation\n",
        "       Convert from the 3*3*3*3 elastic constants tensor to\n",
        "       to 6*6 matrix representation. Recoded from the Fortran\n",
        "       implementation in DRex. Use the optional\n",
        "       argument \"compl\" for the elastic compliance (not\n",
        "       stiffness) tensor to deal with the multiplication\n",
        "       of elements needed to keep the Voigt and full\n",
        "       notation consistant.\n",
        "    \"\"\"\n",
        "    t2m = np.array([[0,1,2,1,2,0],[0,1,2,2,0,1]])\n",
        "    cij_mat = np.zeros((6,6))\n",
        "    # Convert back to matrix form\n",
        "    for i in range(6):\n",
        "        for j in range(6):\n",
        "            cij_mat[i,j] = cij_tens[t2m[0,i],t2m[1,i],t2m[0,j],t2m[1,j]]\n",
        "#             cij_mat = toFixed(cij_mat[i,j], 1)\n",
        "#             print(cij_mat)\n",
        "\n",
        "\n",
        "    if compl:\n",
        "        cij_mat = cij_mat * np.array([[1.0, 1.0, 1.0, 2.0, 2.0, 2.0],\n",
        "                                      [1.0, 1.0, 1.0, 2.0, 2.0, 2.0],\n",
        "                                      [1.0, 1.0, 1.0, 2.0, 2.0, 2.0],\n",
        "                                      [2.0, 2.0, 2.0, 4.0, 4.0, 4.0],\n",
        "                                      [2.0, 2.0, 2.0, 4.0, 4.0, 4.0],\n",
        "                                      [2.0, 2.0, 2.0, 4.0, 4.0, 4.0]])\n",
        "\n",
        "    return cij_mat\n",
        "\n",
        "# print(tens2mat(C_c))\n",
        "# C_cmtrx = tens2mat(C_c)\n",
        "\n",
        "def mat2tens(cij_mat, compl=False): # cij_mat - надо задавать матрицу 6х6. compl = True - для податливости\n",
        "    \"\"\"Convert from Voigt to full tensor notation\n",
        "       Convert from the 6*6 elastic constants matrix to\n",
        "       the 3*3*3*3 tensor representation. Recoded from\n",
        "       the Fortran implementation in DRex. Use the optional\n",
        "       argument \"compl\" for the elastic compliance (not\n",
        "       stiffness) tensor to deal with the multiplication\n",
        "       of elements needed to keep the Voigt and full\n",
        "       notation consistant.\n",
        "    \"\"\"\n",
        "    cij_tens = np.zeros((3,3,3,3))\n",
        "    m2t = np.array([[0,5,4],[5,1,3],[4,3,2]])\n",
        "\n",
        "    if compl:\n",
        "        cij_mat = cij_mat / np.array([[1.0, 1.0, 1.0, 2.0, 2.0, 2.0],\n",
        "                                      [1.0, 1.0, 1.0, 2.0, 2.0, 2.0],\n",
        "                                      [1.0, 1.0, 1.0, 2.0, 2.0, 2.0],\n",
        "                                      [2.0, 2.0, 2.0, 4.0, 4.0, 4.0],\n",
        "                                      [2.0, 2.0, 2.0, 4.0, 4.0, 4.0],\n",
        "                                      [2.0, 2.0, 2.0, 4.0, 4.0, 4.0]])\n",
        "    for i in range(3):\n",
        "        for j in range(3):\n",
        "            for k in range(3):\n",
        "                for l in range(3):\n",
        "\n",
        "                    # print(m2t[i,j])\n",
        "                    # print(m2t[k,l])\n",
        "\n",
        "                    cij_tens[i,j,k,l] = cij_mat[m2t[i,j],m2t[k,l]]\n",
        "\n",
        "\n",
        "    return cij_tens"
      ]
    },
    {
      "cell_type": "markdown",
      "metadata": {
        "id": "OPaLxZYjo7RM"
      },
      "source": [
        "# Расчет эффективного $C_{ij}$"
      ]
    },
    {
      "cell_type": "markdown",
      "metadata": {
        "id": "1oUmaT-xHQ1E"
      },
      "source": [
        "## Initial data"
      ]
    },
    {
      "cell_type": "code",
      "execution_count": null,
      "metadata": {
        "id": "BgScYcfhHPW6"
      },
      "outputs": [],
      "source": [
        "M_C11 = 80.\n",
        "M_C12 = 8.\n",
        "M_C44 = (M_C11 - M_C12)*0.5\n",
        "\n",
        "\n",
        "\n",
        "C_mtrx = np.zeros((6,6))\n",
        "C_mtrx[0,0] = C_mtrx[1,1] = C_mtrx[2,2] = M_C11\n",
        "C_mtrx[0,1] = C_mtrx[0,2] = C_mtrx[1,0] = C_mtrx[1,2] =C_mtrx[2,0] = C_mtrx[2,1] = M_C12\n",
        "C_mtrx[3,3] = C_mtrx[4,4] = C_mtrx[5,5] = M_C44\n",
        "\n",
        "C_mtrx = mat2tens(C_mtrx, compl=False)\n",
        "C_c = C_mtrx\n",
        "\n",
        "\n",
        "k, mu = 2.25,  9.99e-17\n",
        "lambda_ = k - 2 * mu / 3\n",
        "c11 = lambda_ + 2 * mu\n",
        "c12 = lambda_\n",
        "c44 = mu\n",
        "\n",
        "Fl_C11 = c11\n",
        "Fl_C12 = c12\n",
        "Fl_C44 = (Fl_C11 - Fl_C12)*0.5\n",
        "\n",
        "C_fl = np.zeros((6, 6))\n",
        "C_fl[0,0] = C_fl[1,1] = C_fl[2,2] = Fl_C11\n",
        "C_fl[0,1] = C_fl[0,2] = C_fl[1,0] = C_fl[1,2] =C_fl[2,0] = C_fl[2,1] = Fl_C12\n",
        "C_fl[3,3] = C_fl[4,4] = C_fl[5,5] = Fl_C44\n",
        "\n",
        "C_fl = mat2tens(C_fl, compl=False)"
      ]
    },
    {
      "cell_type": "code",
      "execution_count": null,
      "metadata": {
        "id": "OdMCkOHqjpVL"
      },
      "outputs": [],
      "source": [
        "import numpy as np\n",
        "import scipy.integrate as integrate\n",
        "\n",
        "pi = np.pi\n",
        "\n",
        "def tensor_g(C_c, AR):\n",
        "\n",
        "    # Define the integrand function f(θ, φ)\n",
        "    def func(θ, φ, position):\n",
        "        n_vector = np.array([[((np.sin(θ) * np.cos(φ))*AR[0]**-1),\n",
        "                        (np.sin(θ) * np.sin(φ))*AR[1]**-1,\n",
        "                        (np.cos(θ)*AR[2]**-1)]])\n",
        "\n",
        "\n",
        "\n",
        "        n = n_vector.T @ n_vector\n",
        "\n",
        "        n = n.astype(np.float64)\n",
        "\n",
        "        λ = np.linalg.inv(np.einsum('imjn,mn->ij', C_c, n))\n",
        "        return (np.einsum('mn,ij -> imjn', n, λ))[position[0],\n",
        "                                                            position[1],\n",
        "                                                            position[2],\n",
        "                                                            position[3]]  # Return a scalar value\n",
        "\n",
        "\n",
        "    # Compute the double integral for each component of A over θ and φ\n",
        "    integrals = np.zeros((3,3,3,3))\n",
        "\n",
        "    abserr = 1.0e-8\n",
        "    relerr = 1.0e-8\n",
        "    # points = [0,]\n",
        "    opts={\n",
        "        'epsabs': abserr,\n",
        "        'epsrel': relerr\n",
        "        }\n",
        "\n",
        "\n",
        "    for i in range(C_c.shape[0]):\n",
        "        for j in range(C_c.shape[1]):\n",
        "            for k in range(C_c.shape[2]):\n",
        "                for l in range(C_c.shape[3]):\n",
        "\n",
        "\n",
        "                  integrand = (lambda θ, φ, i=i, j=j, k=k, l=l: func(θ, φ, (i, k, l, j))* np.sin(θ) + \\\n",
        "                                 func(θ, φ, (j, k, l, i))* np.sin(θ) +\\\n",
        "                                 func(θ, φ, (i, l, k, j))* np.sin(θ) +\\\n",
        "                                 func(θ, φ, (j, l, k, i))* np.sin(θ))\n",
        "\n",
        "                  integral,_ = integrate.nquad(integrand, [(0, pi), (0, 2*pi)], opts=opts)\n",
        "\n",
        "                  integrals[i, j, k, l] = integral / (-16 * pi)\n",
        "\n",
        "    A_klnm = integrals\n",
        "    return A_klnm"
      ]
    },
    {
      "cell_type": "code",
      "execution_count": null,
      "metadata": {
        "colab": {
          "base_uri": "https://localhost:8080/",
          "height": 207
        },
        "id": "C_tI1vUaaZro",
        "outputId": "a54d4e1d-1a01-4902-8079-11e582b4fbf6"
      },
      "outputs": [
        {
          "ename": "NameError",
          "evalue": "name 'C_c' is not defined",
          "output_type": "error",
          "traceback": [
            "\u001b[0;31m---------------------------------------------------------------------------\u001b[0m",
            "\u001b[0;31mNameError\u001b[0m                                 Traceback (most recent call last)",
            "\u001b[0;32m<ipython-input-4-ff0141d317fa>\u001b[0m in \u001b[0;36m<cell line: 2>\u001b[0;34m()\u001b[0m\n\u001b[1;32m      1\u001b[0m \u001b[0mAR\u001b[0m \u001b[0;34m=\u001b[0m \u001b[0;34m[\u001b[0m\u001b[0;36m1\u001b[0m\u001b[0;34m,\u001b[0m \u001b[0;36m1\u001b[0m\u001b[0;34m,\u001b[0m \u001b[0;36m1\u001b[0m\u001b[0;34m]\u001b[0m\u001b[0;34m\u001b[0m\u001b[0;34m\u001b[0m\u001b[0m\n\u001b[0;32m----> 2\u001b[0;31m \u001b[0mresult\u001b[0m \u001b[0;34m=\u001b[0m \u001b[0mtensor_g\u001b[0m\u001b[0;34m(\u001b[0m\u001b[0mC_c\u001b[0m\u001b[0;34m,\u001b[0m \u001b[0mAR\u001b[0m\u001b[0;34m)\u001b[0m\u001b[0;34m\u001b[0m\u001b[0;34m\u001b[0m\u001b[0m\n\u001b[0m\u001b[1;32m      3\u001b[0m \u001b[0mb\u001b[0m \u001b[0;34m=\u001b[0m \u001b[0mresult\u001b[0m\u001b[0;34m.\u001b[0m\u001b[0mcopy\u001b[0m\u001b[0;34m(\u001b[0m\u001b[0;34m)\u001b[0m\u001b[0;34m\u001b[0m\u001b[0;34m\u001b[0m\u001b[0m\n\u001b[1;32m      4\u001b[0m \u001b[0mb\u001b[0m\u001b[0;34m.\u001b[0m\u001b[0mresize\u001b[0m\u001b[0;34m(\u001b[0m\u001b[0;36m9\u001b[0m\u001b[0;34m,\u001b[0m\u001b[0;36m9\u001b[0m\u001b[0;34m)\u001b[0m\u001b[0;34m\u001b[0m\u001b[0;34m\u001b[0m\u001b[0m\n\u001b[1;32m      5\u001b[0m \u001b[0mnp\u001b[0m\u001b[0;34m.\u001b[0m\u001b[0mround\u001b[0m\u001b[0;34m(\u001b[0m\u001b[0mb\u001b[0m \u001b[0;34m,\u001b[0m \u001b[0;36m6\u001b[0m\u001b[0;34m)\u001b[0m\u001b[0;34m\u001b[0m\u001b[0;34m\u001b[0m\u001b[0m\n",
            "\u001b[0;31mNameError\u001b[0m: name 'C_c' is not defined"
          ]
        }
      ],
      "source": [
        "AR = [1, 1, 1]\n",
        "result = tensor_g(C_c, AR)\n",
        "b = result.copy()\n",
        "b.resize(9,9)\n",
        "np.round(b , 6)"
      ]
    },
    {
      "cell_type": "code",
      "execution_count": null,
      "metadata": {
        "colab": {
          "base_uri": "https://localhost:8080/"
        },
        "id": "6tb5hq2jacUB",
        "outputId": "06da687c-2841-4be1-edb0-992001bda4bd"
      },
      "outputs": [
        {
          "name": "stderr",
          "output_type": "stream",
          "text": [
            "/usr/local/lib/python3.10/dist-packages/scipy/integrate/_quadpack_py.py:1233: IntegrationWarning: The integral is probably divergent, or slowly convergent.\n",
            "  quad_r = quad(f, low, high, args=args, full_output=self.full_output,\n"
          ]
        },
        {
          "data": {
            "text/plain": [
              "array([[-1.7000e-05,  0.0000e+00,  0.0000e+00,  0.0000e+00,  1.0000e-06,\n",
              "         0.0000e+00,  0.0000e+00, -0.0000e+00,  6.0000e-06],\n",
              "       [ 0.0000e+00, -9.0000e-06,  0.0000e+00, -9.0000e-06,  0.0000e+00,\n",
              "         0.0000e+00,  0.0000e+00,  0.0000e+00,  0.0000e+00],\n",
              "       [ 0.0000e+00,  0.0000e+00, -6.9330e-03,  0.0000e+00, -0.0000e+00,\n",
              "        -0.0000e+00, -6.9330e-03, -0.0000e+00, -0.0000e+00],\n",
              "       [-0.0000e+00, -9.0000e-06,  0.0000e+00, -9.0000e-06,  0.0000e+00,\n",
              "         0.0000e+00,  0.0000e+00,  0.0000e+00, -0.0000e+00],\n",
              "       [ 1.0000e-06,  0.0000e+00, -0.0000e+00,  0.0000e+00, -1.7000e-05,\n",
              "        -0.0000e+00, -0.0000e+00,  0.0000e+00,  6.0000e-06],\n",
              "       [ 0.0000e+00,  0.0000e+00, -0.0000e+00,  0.0000e+00,  0.0000e+00,\n",
              "        -6.9330e-03, -0.0000e+00, -6.9330e-03,  0.0000e+00],\n",
              "       [ 0.0000e+00,  0.0000e+00, -6.9330e-03,  0.0000e+00, -0.0000e+00,\n",
              "        -0.0000e+00, -6.9330e-03, -0.0000e+00, -0.0000e+00],\n",
              "       [ 0.0000e+00,  0.0000e+00, -0.0000e+00,  0.0000e+00,  0.0000e+00,\n",
              "        -6.9330e-03, -0.0000e+00, -6.9330e-03,  0.0000e+00],\n",
              "       [ 6.0000e-06, -0.0000e+00,  0.0000e+00, -0.0000e+00,  6.0000e-06,\n",
              "         0.0000e+00,  0.0000e+00,  0.0000e+00, -1.2492e-02]])"
            ]
          },
          "execution_count": 6,
          "metadata": {},
          "output_type": "execute_result"
        }
      ],
      "source": [
        "AR = [1000, 1000, 1]\n",
        "result = tensor_g(C_c, AR)\n"
      ]
    },
    {
      "cell_type": "code",
      "execution_count": null,
      "metadata": {
        "colab": {
          "base_uri": "https://localhost:8080/"
        },
        "id": "6h_cuUrjddD_",
        "outputId": "462ffbdf-9f13-4c8d-b0f9-57400c865637"
      },
      "outputs": [
        {
          "name": "stdout",
          "output_type": "stream",
          "text": [
            "[[-1.72892003e-05  7.95696073e-23  3.75845464e-23  2.15384495e-23\n",
            "   1.49988408e-06  3.30250261e-28  3.67299240e-23 -8.34584608e-28\n",
            "   5.98431847e-06]\n",
            " [ 2.40299745e-22 -9.39454520e-06  1.80130174e-23 -9.39454520e-06\n",
            "   3.28056014e-22  1.29334046e-22  1.80130174e-23  1.29334046e-22\n",
            "   3.35381414e-23]\n",
            " [ 2.38865171e-23  1.80130174e-23 -6.93301291e-03  1.80130174e-23\n",
            "  -2.21123258e-27 -6.68903242e-23 -6.93301291e-03 -1.42368287e-22\n",
            "  -9.64735883e-23]\n",
            " [-2.08459689e-23 -9.39454520e-06  1.80130174e-23 -9.39454520e-06\n",
            "   4.38298469e-22  1.29334046e-22  1.80130174e-23  1.29334046e-22\n",
            "  -8.99131518e-23]\n",
            " [ 1.49988408e-06  1.60374415e-22 -3.24756162e-27  2.36161628e-22\n",
            "  -1.72891939e-05 -6.07679682e-23 -3.64932447e-27  2.96380962e-23\n",
            "   5.98431848e-06]\n",
            " [ 1.61752724e-27  1.29334046e-22 -9.71816290e-23  1.29334046e-22\n",
            "   1.17703417e-22 -6.93301291e-03 -8.46480255e-23 -6.93301291e-03\n",
            "   3.05085667e-23]\n",
            " [ 3.67299240e-23  1.80130174e-23 -6.93301291e-03  1.80130174e-23\n",
            "  -1.79222187e-27 -5.33243972e-23 -6.93301291e-03 -1.03511896e-22\n",
            "  -8.14448253e-23]\n",
            " [ 6.52560094e-28  1.29334046e-22 -9.86406791e-23  1.29334046e-22\n",
            "   2.96380962e-23 -6.93301291e-03 -6.52150031e-23 -6.93301291e-03\n",
            "   3.81633753e-23]\n",
            " [ 5.98431847e-06 -1.83467653e-23  2.11900942e-23 -8.65468053e-23\n",
            "   5.98431848e-06  7.27026883e-23  1.45168760e-23  6.18095323e-23\n",
            "  -1.24923587e-02]]\n"
          ]
        }
      ],
      "source": [
        "b = result.copy()\n",
        "b.resize(9,9)\n",
        "# np.round(b , 7)\n",
        "print(b)"
      ]
    },
    {
      "cell_type": "code",
      "execution_count": null,
      "metadata": {
        "colab": {
          "base_uri": "https://localhost:8080/",
          "height": 420
        },
        "id": "JojBwOqzuY03",
        "outputId": "4b0e8a32-2951-4042-c366-47d6e4b39a37"
      },
      "outputs": [
        {
          "name": "stderr",
          "output_type": "stream",
          "text": [
            "/usr/local/lib/python3.10/dist-packages/scipy/integrate/_quadpack_py.py:1233: IntegrationWarning: The integral is probably divergent, or slowly convergent.\n",
            "  quad_r = quad(f, low, high, args=args, full_output=self.full_output,\n"
          ]
        },
        {
          "ename": "KeyboardInterrupt",
          "evalue": "",
          "output_type": "error",
          "traceback": [
            "\u001b[0;31m---------------------------------------------------------------------------\u001b[0m",
            "\u001b[0;31mKeyboardInterrupt\u001b[0m                         Traceback (most recent call last)",
            "\u001b[0;32m<ipython-input-92-c23a203d8228>\u001b[0m in \u001b[0;36m<cell line: 2>\u001b[0;34m()\u001b[0m\n\u001b[1;32m      1\u001b[0m \u001b[0mAR\u001b[0m \u001b[0;34m=\u001b[0m \u001b[0;34m[\u001b[0m\u001b[0;36m1000\u001b[0m\u001b[0;34m,\u001b[0m \u001b[0;36m1000\u001b[0m\u001b[0;34m,\u001b[0m \u001b[0;36m1\u001b[0m\u001b[0;34m]\u001b[0m\u001b[0;34m\u001b[0m\u001b[0;34m\u001b[0m\u001b[0m\n\u001b[0;32m----> 2\u001b[0;31m \u001b[0mresult\u001b[0m \u001b[0;34m=\u001b[0m \u001b[0mtensor_g\u001b[0m\u001b[0;34m(\u001b[0m\u001b[0mC_c\u001b[0m\u001b[0;34m,\u001b[0m \u001b[0mAR\u001b[0m\u001b[0;34m)\u001b[0m\u001b[0;34m\u001b[0m\u001b[0;34m\u001b[0m\u001b[0m\n\u001b[0m\u001b[1;32m      3\u001b[0m \u001b[0mb\u001b[0m \u001b[0;34m=\u001b[0m \u001b[0mresult\u001b[0m\u001b[0;34m.\u001b[0m\u001b[0mcopy\u001b[0m\u001b[0;34m(\u001b[0m\u001b[0;34m)\u001b[0m\u001b[0;34m\u001b[0m\u001b[0;34m\u001b[0m\u001b[0m\n\u001b[1;32m      4\u001b[0m \u001b[0mb\u001b[0m\u001b[0;34m.\u001b[0m\u001b[0mresize\u001b[0m\u001b[0;34m(\u001b[0m\u001b[0;36m9\u001b[0m\u001b[0;34m,\u001b[0m\u001b[0;36m9\u001b[0m\u001b[0;34m)\u001b[0m\u001b[0;34m\u001b[0m\u001b[0;34m\u001b[0m\u001b[0m\n\u001b[1;32m      5\u001b[0m \u001b[0mnp\u001b[0m\u001b[0;34m.\u001b[0m\u001b[0mround\u001b[0m\u001b[0;34m(\u001b[0m\u001b[0mb\u001b[0m \u001b[0;34m,\u001b[0m \u001b[0;36m7\u001b[0m\u001b[0;34m)\u001b[0m\u001b[0;34m\u001b[0m\u001b[0;34m\u001b[0m\u001b[0m\n",
            "\u001b[0;32m<ipython-input-91-e54e5d37b591>\u001b[0m in \u001b[0;36mtensor_g\u001b[0;34m(C_c, AR)\u001b[0m\n\u001b[1;32m     43\u001b[0m                     \u001b[0mintegrand\u001b[0m \u001b[0;34m=\u001b[0m \u001b[0;34m(\u001b[0m\u001b[0;32mlambda\u001b[0m \u001b[0mθ\u001b[0m\u001b[0;34m,\u001b[0m \u001b[0mφ\u001b[0m\u001b[0;34m,\u001b[0m \u001b[0mi\u001b[0m\u001b[0;34m=\u001b[0m\u001b[0mi\u001b[0m\u001b[0;34m,\u001b[0m \u001b[0mj\u001b[0m\u001b[0;34m=\u001b[0m\u001b[0mj\u001b[0m\u001b[0;34m,\u001b[0m \u001b[0mk\u001b[0m\u001b[0;34m=\u001b[0m\u001b[0mk\u001b[0m\u001b[0;34m,\u001b[0m \u001b[0ml\u001b[0m\u001b[0;34m=\u001b[0m\u001b[0ml\u001b[0m\u001b[0;34m:\u001b[0m \u001b[0mfunc\u001b[0m\u001b[0;34m(\u001b[0m\u001b[0mθ\u001b[0m\u001b[0;34m,\u001b[0m \u001b[0mφ\u001b[0m\u001b[0;34m,\u001b[0m \u001b[0;34m(\u001b[0m\u001b[0mi\u001b[0m\u001b[0;34m,\u001b[0m \u001b[0mk\u001b[0m\u001b[0;34m,\u001b[0m \u001b[0ml\u001b[0m\u001b[0;34m,\u001b[0m \u001b[0mj\u001b[0m\u001b[0;34m)\u001b[0m\u001b[0;34m)\u001b[0m\u001b[0;34m*\u001b[0m \u001b[0mnp\u001b[0m\u001b[0;34m.\u001b[0m\u001b[0msin\u001b[0m\u001b[0;34m(\u001b[0m\u001b[0mθ\u001b[0m\u001b[0;34m)\u001b[0m \u001b[0;34m+\u001b[0m \u001b[0mfunc\u001b[0m\u001b[0;34m(\u001b[0m\u001b[0mθ\u001b[0m\u001b[0;34m,\u001b[0m \u001b[0mφ\u001b[0m\u001b[0;34m,\u001b[0m \u001b[0;34m(\u001b[0m\u001b[0mj\u001b[0m\u001b[0;34m,\u001b[0m \u001b[0mk\u001b[0m\u001b[0;34m,\u001b[0m \u001b[0ml\u001b[0m\u001b[0;34m,\u001b[0m \u001b[0mi\u001b[0m\u001b[0;34m)\u001b[0m\u001b[0;34m)\u001b[0m\u001b[0;34m*\u001b[0m \u001b[0mnp\u001b[0m\u001b[0;34m.\u001b[0m\u001b[0msin\u001b[0m\u001b[0;34m(\u001b[0m\u001b[0mθ\u001b[0m\u001b[0;34m)\u001b[0m \u001b[0;34m+\u001b[0m \u001b[0mfunc\u001b[0m\u001b[0;34m(\u001b[0m\u001b[0mθ\u001b[0m\u001b[0;34m,\u001b[0m \u001b[0mφ\u001b[0m\u001b[0;34m,\u001b[0m \u001b[0;34m(\u001b[0m\u001b[0mi\u001b[0m\u001b[0;34m,\u001b[0m \u001b[0ml\u001b[0m\u001b[0;34m,\u001b[0m \u001b[0mk\u001b[0m\u001b[0;34m,\u001b[0m \u001b[0mj\u001b[0m\u001b[0;34m)\u001b[0m\u001b[0;34m)\u001b[0m\u001b[0;34m*\u001b[0m \u001b[0mnp\u001b[0m\u001b[0;34m.\u001b[0m\u001b[0msin\u001b[0m\u001b[0;34m(\u001b[0m\u001b[0mθ\u001b[0m\u001b[0;34m)\u001b[0m \u001b[0;34m+\u001b[0m \u001b[0mfunc\u001b[0m\u001b[0;34m(\u001b[0m\u001b[0mθ\u001b[0m\u001b[0;34m,\u001b[0m \u001b[0mφ\u001b[0m\u001b[0;34m,\u001b[0m \u001b[0;34m(\u001b[0m\u001b[0mj\u001b[0m\u001b[0;34m,\u001b[0m \u001b[0ml\u001b[0m\u001b[0;34m,\u001b[0m \u001b[0mk\u001b[0m\u001b[0;34m,\u001b[0m \u001b[0mi\u001b[0m\u001b[0;34m)\u001b[0m\u001b[0;34m)\u001b[0m\u001b[0;34m*\u001b[0m \u001b[0mnp\u001b[0m\u001b[0;34m.\u001b[0m\u001b[0msin\u001b[0m\u001b[0;34m(\u001b[0m\u001b[0mθ\u001b[0m\u001b[0;34m)\u001b[0m\u001b[0;34m)\u001b[0m\u001b[0;34m\u001b[0m\u001b[0;34m\u001b[0m\u001b[0m\n\u001b[1;32m     44\u001b[0m \u001b[0;34m\u001b[0m\u001b[0m\n\u001b[0;32m---> 45\u001b[0;31m                     \u001b[0mintegral\u001b[0m\u001b[0;34m,\u001b[0m\u001b[0m_\u001b[0m \u001b[0;34m=\u001b[0m \u001b[0mintegrate\u001b[0m\u001b[0;34m.\u001b[0m\u001b[0mnquad\u001b[0m\u001b[0;34m(\u001b[0m\u001b[0mintegrand\u001b[0m\u001b[0;34m,\u001b[0m \u001b[0;34m[\u001b[0m\u001b[0;34m(\u001b[0m\u001b[0;36m0\u001b[0m\u001b[0;34m,\u001b[0m \u001b[0mpi\u001b[0m\u001b[0;34m)\u001b[0m\u001b[0;34m,\u001b[0m \u001b[0;34m(\u001b[0m\u001b[0;36m0\u001b[0m\u001b[0;34m,\u001b[0m \u001b[0;36m2\u001b[0m\u001b[0;34m*\u001b[0m\u001b[0mpi\u001b[0m\u001b[0;34m)\u001b[0m\u001b[0;34m]\u001b[0m\u001b[0;34m,\u001b[0m \u001b[0mopts\u001b[0m\u001b[0;34m=\u001b[0m\u001b[0mopts\u001b[0m\u001b[0;34m)\u001b[0m\u001b[0;34m\u001b[0m\u001b[0;34m\u001b[0m\u001b[0m\n\u001b[0m\u001b[1;32m     46\u001b[0m \u001b[0;34m\u001b[0m\u001b[0m\n\u001b[1;32m     47\u001b[0m                     \u001b[0mintegrals\u001b[0m\u001b[0;34m[\u001b[0m\u001b[0mi\u001b[0m\u001b[0;34m,\u001b[0m \u001b[0mj\u001b[0m\u001b[0;34m,\u001b[0m \u001b[0mk\u001b[0m\u001b[0;34m,\u001b[0m \u001b[0ml\u001b[0m\u001b[0;34m]\u001b[0m \u001b[0;34m=\u001b[0m \u001b[0mintegral\u001b[0m \u001b[0;34m/\u001b[0m \u001b[0;34m(\u001b[0m\u001b[0;34m-\u001b[0m\u001b[0;36m16\u001b[0m \u001b[0;34m*\u001b[0m \u001b[0mpi\u001b[0m\u001b[0;34m)\u001b[0m\u001b[0;34m\u001b[0m\u001b[0;34m\u001b[0m\u001b[0m\n",
            "\u001b[0;32m/usr/local/lib/python3.10/dist-packages/scipy/integrate/_quadpack_py.py\u001b[0m in \u001b[0;36mnquad\u001b[0;34m(func, ranges, args, opts, full_output)\u001b[0m\n\u001b[1;32m   1177\u001b[0m     \u001b[0;32melse\u001b[0m\u001b[0;34m:\u001b[0m\u001b[0;34m\u001b[0m\u001b[0;34m\u001b[0m\u001b[0m\n\u001b[1;32m   1178\u001b[0m         \u001b[0mopts\u001b[0m \u001b[0;34m=\u001b[0m \u001b[0;34m[\u001b[0m\u001b[0mopt\u001b[0m \u001b[0;32mif\u001b[0m \u001b[0mcallable\u001b[0m\u001b[0;34m(\u001b[0m\u001b[0mopt\u001b[0m\u001b[0;34m)\u001b[0m \u001b[0;32melse\u001b[0m \u001b[0m_OptFunc\u001b[0m\u001b[0;34m(\u001b[0m\u001b[0mopt\u001b[0m\u001b[0;34m)\u001b[0m \u001b[0;32mfor\u001b[0m \u001b[0mopt\u001b[0m \u001b[0;32min\u001b[0m \u001b[0mopts\u001b[0m\u001b[0;34m]\u001b[0m\u001b[0;34m\u001b[0m\u001b[0;34m\u001b[0m\u001b[0m\n\u001b[0;32m-> 1179\u001b[0;31m     \u001b[0;32mreturn\u001b[0m \u001b[0m_NQuad\u001b[0m\u001b[0;34m(\u001b[0m\u001b[0mfunc\u001b[0m\u001b[0;34m,\u001b[0m \u001b[0mranges\u001b[0m\u001b[0;34m,\u001b[0m \u001b[0mopts\u001b[0m\u001b[0;34m,\u001b[0m \u001b[0mfull_output\u001b[0m\u001b[0;34m)\u001b[0m\u001b[0;34m.\u001b[0m\u001b[0mintegrate\u001b[0m\u001b[0;34m(\u001b[0m\u001b[0;34m*\u001b[0m\u001b[0margs\u001b[0m\u001b[0;34m)\u001b[0m\u001b[0;34m\u001b[0m\u001b[0;34m\u001b[0m\u001b[0m\n\u001b[0m\u001b[1;32m   1180\u001b[0m \u001b[0;34m\u001b[0m\u001b[0m\n\u001b[1;32m   1181\u001b[0m \u001b[0;34m\u001b[0m\u001b[0m\n",
            "\u001b[0;32m/usr/local/lib/python3.10/dist-packages/scipy/integrate/_quadpack_py.py\u001b[0m in \u001b[0;36mintegrate\u001b[0;34m(self, *args, **kwargs)\u001b[0m\n\u001b[1;32m   1231\u001b[0m         \u001b[0;32melse\u001b[0m\u001b[0;34m:\u001b[0m\u001b[0;34m\u001b[0m\u001b[0;34m\u001b[0m\u001b[0m\n\u001b[1;32m   1232\u001b[0m             \u001b[0mf\u001b[0m \u001b[0;34m=\u001b[0m \u001b[0mpartial\u001b[0m\u001b[0;34m(\u001b[0m\u001b[0mself\u001b[0m\u001b[0;34m.\u001b[0m\u001b[0mintegrate\u001b[0m\u001b[0;34m,\u001b[0m \u001b[0mdepth\u001b[0m\u001b[0;34m=\u001b[0m\u001b[0mdepth\u001b[0m\u001b[0;34m+\u001b[0m\u001b[0;36m1\u001b[0m\u001b[0;34m)\u001b[0m\u001b[0;34m\u001b[0m\u001b[0;34m\u001b[0m\u001b[0m\n\u001b[0;32m-> 1233\u001b[0;31m         quad_r = quad(f, low, high, args=args, full_output=self.full_output,\n\u001b[0m\u001b[1;32m   1234\u001b[0m                       **opt)\n\u001b[1;32m   1235\u001b[0m         \u001b[0mvalue\u001b[0m \u001b[0;34m=\u001b[0m \u001b[0mquad_r\u001b[0m\u001b[0;34m[\u001b[0m\u001b[0;36m0\u001b[0m\u001b[0;34m]\u001b[0m\u001b[0;34m\u001b[0m\u001b[0;34m\u001b[0m\u001b[0m\n",
            "\u001b[0;32m/usr/local/lib/python3.10/dist-packages/scipy/integrate/_quadpack_py.py\u001b[0m in \u001b[0;36mquad\u001b[0;34m(func, a, b, args, full_output, epsabs, epsrel, limit, points, weight, wvar, wopts, maxp1, limlst, complex_func)\u001b[0m\n\u001b[1;32m    463\u001b[0m \u001b[0;34m\u001b[0m\u001b[0m\n\u001b[1;32m    464\u001b[0m     \u001b[0;32mif\u001b[0m \u001b[0mweight\u001b[0m \u001b[0;32mis\u001b[0m \u001b[0;32mNone\u001b[0m\u001b[0;34m:\u001b[0m\u001b[0;34m\u001b[0m\u001b[0;34m\u001b[0m\u001b[0m\n\u001b[0;32m--> 465\u001b[0;31m         retval = _quad(func, a, b, args, full_output, epsabs, epsrel, limit,\n\u001b[0m\u001b[1;32m    466\u001b[0m                        points)\n\u001b[1;32m    467\u001b[0m     \u001b[0;32melse\u001b[0m\u001b[0;34m:\u001b[0m\u001b[0;34m\u001b[0m\u001b[0;34m\u001b[0m\u001b[0m\n",
            "\u001b[0;32m/usr/local/lib/python3.10/dist-packages/scipy/integrate/_quadpack_py.py\u001b[0m in \u001b[0;36m_quad\u001b[0;34m(func, a, b, args, full_output, epsabs, epsrel, limit, points)\u001b[0m\n\u001b[1;32m    575\u001b[0m     \u001b[0;32mif\u001b[0m \u001b[0mpoints\u001b[0m \u001b[0;32mis\u001b[0m \u001b[0;32mNone\u001b[0m\u001b[0;34m:\u001b[0m\u001b[0;34m\u001b[0m\u001b[0;34m\u001b[0m\u001b[0m\n\u001b[1;32m    576\u001b[0m         \u001b[0;32mif\u001b[0m \u001b[0minfbounds\u001b[0m \u001b[0;34m==\u001b[0m \u001b[0;36m0\u001b[0m\u001b[0;34m:\u001b[0m\u001b[0;34m\u001b[0m\u001b[0;34m\u001b[0m\u001b[0m\n\u001b[0;32m--> 577\u001b[0;31m             \u001b[0;32mreturn\u001b[0m \u001b[0m_quadpack\u001b[0m\u001b[0;34m.\u001b[0m\u001b[0m_qagse\u001b[0m\u001b[0;34m(\u001b[0m\u001b[0mfunc\u001b[0m\u001b[0;34m,\u001b[0m\u001b[0ma\u001b[0m\u001b[0;34m,\u001b[0m\u001b[0mb\u001b[0m\u001b[0;34m,\u001b[0m\u001b[0margs\u001b[0m\u001b[0;34m,\u001b[0m\u001b[0mfull_output\u001b[0m\u001b[0;34m,\u001b[0m\u001b[0mepsabs\u001b[0m\u001b[0;34m,\u001b[0m\u001b[0mepsrel\u001b[0m\u001b[0;34m,\u001b[0m\u001b[0mlimit\u001b[0m\u001b[0;34m)\u001b[0m\u001b[0;34m\u001b[0m\u001b[0;34m\u001b[0m\u001b[0m\n\u001b[0m\u001b[1;32m    578\u001b[0m         \u001b[0;32melse\u001b[0m\u001b[0;34m:\u001b[0m\u001b[0;34m\u001b[0m\u001b[0;34m\u001b[0m\u001b[0m\n\u001b[1;32m    579\u001b[0m             \u001b[0;32mreturn\u001b[0m \u001b[0m_quadpack\u001b[0m\u001b[0;34m.\u001b[0m\u001b[0m_qagie\u001b[0m\u001b[0;34m(\u001b[0m\u001b[0mfunc\u001b[0m\u001b[0;34m,\u001b[0m\u001b[0mbound\u001b[0m\u001b[0;34m,\u001b[0m\u001b[0minfbounds\u001b[0m\u001b[0;34m,\u001b[0m\u001b[0margs\u001b[0m\u001b[0;34m,\u001b[0m\u001b[0mfull_output\u001b[0m\u001b[0;34m,\u001b[0m\u001b[0mepsabs\u001b[0m\u001b[0;34m,\u001b[0m\u001b[0mepsrel\u001b[0m\u001b[0;34m,\u001b[0m\u001b[0mlimit\u001b[0m\u001b[0;34m)\u001b[0m\u001b[0;34m\u001b[0m\u001b[0;34m\u001b[0m\u001b[0m\n",
            "\u001b[0;32m/usr/local/lib/python3.10/dist-packages/scipy/integrate/_quadpack_py.py\u001b[0m in \u001b[0;36mintegrate\u001b[0;34m(self, *args, **kwargs)\u001b[0m\n\u001b[1;32m   1231\u001b[0m         \u001b[0;32melse\u001b[0m\u001b[0;34m:\u001b[0m\u001b[0;34m\u001b[0m\u001b[0;34m\u001b[0m\u001b[0m\n\u001b[1;32m   1232\u001b[0m             \u001b[0mf\u001b[0m \u001b[0;34m=\u001b[0m \u001b[0mpartial\u001b[0m\u001b[0;34m(\u001b[0m\u001b[0mself\u001b[0m\u001b[0;34m.\u001b[0m\u001b[0mintegrate\u001b[0m\u001b[0;34m,\u001b[0m \u001b[0mdepth\u001b[0m\u001b[0;34m=\u001b[0m\u001b[0mdepth\u001b[0m\u001b[0;34m+\u001b[0m\u001b[0;36m1\u001b[0m\u001b[0;34m)\u001b[0m\u001b[0;34m\u001b[0m\u001b[0;34m\u001b[0m\u001b[0m\n\u001b[0;32m-> 1233\u001b[0;31m         quad_r = quad(f, low, high, args=args, full_output=self.full_output,\n\u001b[0m\u001b[1;32m   1234\u001b[0m                       **opt)\n\u001b[1;32m   1235\u001b[0m         \u001b[0mvalue\u001b[0m \u001b[0;34m=\u001b[0m \u001b[0mquad_r\u001b[0m\u001b[0;34m[\u001b[0m\u001b[0;36m0\u001b[0m\u001b[0;34m]\u001b[0m\u001b[0;34m\u001b[0m\u001b[0;34m\u001b[0m\u001b[0m\n",
            "\u001b[0;32m/usr/local/lib/python3.10/dist-packages/scipy/integrate/_quadpack_py.py\u001b[0m in \u001b[0;36mquad\u001b[0;34m(func, a, b, args, full_output, epsabs, epsrel, limit, points, weight, wvar, wopts, maxp1, limlst, complex_func)\u001b[0m\n\u001b[1;32m    463\u001b[0m \u001b[0;34m\u001b[0m\u001b[0m\n\u001b[1;32m    464\u001b[0m     \u001b[0;32mif\u001b[0m \u001b[0mweight\u001b[0m \u001b[0;32mis\u001b[0m \u001b[0;32mNone\u001b[0m\u001b[0;34m:\u001b[0m\u001b[0;34m\u001b[0m\u001b[0;34m\u001b[0m\u001b[0m\n\u001b[0;32m--> 465\u001b[0;31m         retval = _quad(func, a, b, args, full_output, epsabs, epsrel, limit,\n\u001b[0m\u001b[1;32m    466\u001b[0m                        points)\n\u001b[1;32m    467\u001b[0m     \u001b[0;32melse\u001b[0m\u001b[0;34m:\u001b[0m\u001b[0;34m\u001b[0m\u001b[0;34m\u001b[0m\u001b[0m\n",
            "\u001b[0;32m/usr/local/lib/python3.10/dist-packages/scipy/integrate/_quadpack_py.py\u001b[0m in \u001b[0;36m_quad\u001b[0;34m(func, a, b, args, full_output, epsabs, epsrel, limit, points)\u001b[0m\n\u001b[1;32m    575\u001b[0m     \u001b[0;32mif\u001b[0m \u001b[0mpoints\u001b[0m \u001b[0;32mis\u001b[0m \u001b[0;32mNone\u001b[0m\u001b[0;34m:\u001b[0m\u001b[0;34m\u001b[0m\u001b[0;34m\u001b[0m\u001b[0m\n\u001b[1;32m    576\u001b[0m         \u001b[0;32mif\u001b[0m \u001b[0minfbounds\u001b[0m \u001b[0;34m==\u001b[0m \u001b[0;36m0\u001b[0m\u001b[0;34m:\u001b[0m\u001b[0;34m\u001b[0m\u001b[0;34m\u001b[0m\u001b[0m\n\u001b[0;32m--> 577\u001b[0;31m             \u001b[0;32mreturn\u001b[0m \u001b[0m_quadpack\u001b[0m\u001b[0;34m.\u001b[0m\u001b[0m_qagse\u001b[0m\u001b[0;34m(\u001b[0m\u001b[0mfunc\u001b[0m\u001b[0;34m,\u001b[0m\u001b[0ma\u001b[0m\u001b[0;34m,\u001b[0m\u001b[0mb\u001b[0m\u001b[0;34m,\u001b[0m\u001b[0margs\u001b[0m\u001b[0;34m,\u001b[0m\u001b[0mfull_output\u001b[0m\u001b[0;34m,\u001b[0m\u001b[0mepsabs\u001b[0m\u001b[0;34m,\u001b[0m\u001b[0mepsrel\u001b[0m\u001b[0;34m,\u001b[0m\u001b[0mlimit\u001b[0m\u001b[0;34m)\u001b[0m\u001b[0;34m\u001b[0m\u001b[0;34m\u001b[0m\u001b[0m\n\u001b[0m\u001b[1;32m    578\u001b[0m         \u001b[0;32melse\u001b[0m\u001b[0;34m:\u001b[0m\u001b[0;34m\u001b[0m\u001b[0;34m\u001b[0m\u001b[0m\n\u001b[1;32m    579\u001b[0m             \u001b[0;32mreturn\u001b[0m \u001b[0m_quadpack\u001b[0m\u001b[0;34m.\u001b[0m\u001b[0m_qagie\u001b[0m\u001b[0;34m(\u001b[0m\u001b[0mfunc\u001b[0m\u001b[0;34m,\u001b[0m\u001b[0mbound\u001b[0m\u001b[0;34m,\u001b[0m\u001b[0minfbounds\u001b[0m\u001b[0;34m,\u001b[0m\u001b[0margs\u001b[0m\u001b[0;34m,\u001b[0m\u001b[0mfull_output\u001b[0m\u001b[0;34m,\u001b[0m\u001b[0mepsabs\u001b[0m\u001b[0;34m,\u001b[0m\u001b[0mepsrel\u001b[0m\u001b[0;34m,\u001b[0m\u001b[0mlimit\u001b[0m\u001b[0;34m)\u001b[0m\u001b[0;34m\u001b[0m\u001b[0;34m\u001b[0m\u001b[0m\n",
            "\u001b[0;32m<ipython-input-91-e54e5d37b591>\u001b[0m in \u001b[0;36m<lambda>\u001b[0;34m(θ, φ, i, j, k, l)\u001b[0m\n\u001b[1;32m     41\u001b[0m                 \u001b[0;32mfor\u001b[0m \u001b[0ml\u001b[0m \u001b[0;32min\u001b[0m \u001b[0mrange\u001b[0m\u001b[0;34m(\u001b[0m\u001b[0mC_c\u001b[0m\u001b[0;34m.\u001b[0m\u001b[0mshape\u001b[0m\u001b[0;34m[\u001b[0m\u001b[0;36m3\u001b[0m\u001b[0;34m]\u001b[0m\u001b[0;34m)\u001b[0m\u001b[0;34m:\u001b[0m\u001b[0;34m\u001b[0m\u001b[0;34m\u001b[0m\u001b[0m\n\u001b[1;32m     42\u001b[0m \u001b[0;34m\u001b[0m\u001b[0m\n\u001b[0;32m---> 43\u001b[0;31m                     \u001b[0mintegrand\u001b[0m \u001b[0;34m=\u001b[0m \u001b[0;34m(\u001b[0m\u001b[0;32mlambda\u001b[0m \u001b[0mθ\u001b[0m\u001b[0;34m,\u001b[0m \u001b[0mφ\u001b[0m\u001b[0;34m,\u001b[0m \u001b[0mi\u001b[0m\u001b[0;34m=\u001b[0m\u001b[0mi\u001b[0m\u001b[0;34m,\u001b[0m \u001b[0mj\u001b[0m\u001b[0;34m=\u001b[0m\u001b[0mj\u001b[0m\u001b[0;34m,\u001b[0m \u001b[0mk\u001b[0m\u001b[0;34m=\u001b[0m\u001b[0mk\u001b[0m\u001b[0;34m,\u001b[0m \u001b[0ml\u001b[0m\u001b[0;34m=\u001b[0m\u001b[0ml\u001b[0m\u001b[0;34m:\u001b[0m \u001b[0mfunc\u001b[0m\u001b[0;34m(\u001b[0m\u001b[0mθ\u001b[0m\u001b[0;34m,\u001b[0m \u001b[0mφ\u001b[0m\u001b[0;34m,\u001b[0m \u001b[0;34m(\u001b[0m\u001b[0mi\u001b[0m\u001b[0;34m,\u001b[0m \u001b[0mk\u001b[0m\u001b[0;34m,\u001b[0m \u001b[0ml\u001b[0m\u001b[0;34m,\u001b[0m \u001b[0mj\u001b[0m\u001b[0;34m)\u001b[0m\u001b[0;34m)\u001b[0m\u001b[0;34m*\u001b[0m \u001b[0mnp\u001b[0m\u001b[0;34m.\u001b[0m\u001b[0msin\u001b[0m\u001b[0;34m(\u001b[0m\u001b[0mθ\u001b[0m\u001b[0;34m)\u001b[0m \u001b[0;34m+\u001b[0m \u001b[0mfunc\u001b[0m\u001b[0;34m(\u001b[0m\u001b[0mθ\u001b[0m\u001b[0;34m,\u001b[0m \u001b[0mφ\u001b[0m\u001b[0;34m,\u001b[0m \u001b[0;34m(\u001b[0m\u001b[0mj\u001b[0m\u001b[0;34m,\u001b[0m \u001b[0mk\u001b[0m\u001b[0;34m,\u001b[0m \u001b[0ml\u001b[0m\u001b[0;34m,\u001b[0m \u001b[0mi\u001b[0m\u001b[0;34m)\u001b[0m\u001b[0;34m)\u001b[0m\u001b[0;34m*\u001b[0m \u001b[0mnp\u001b[0m\u001b[0;34m.\u001b[0m\u001b[0msin\u001b[0m\u001b[0;34m(\u001b[0m\u001b[0mθ\u001b[0m\u001b[0;34m)\u001b[0m \u001b[0;34m+\u001b[0m \u001b[0mfunc\u001b[0m\u001b[0;34m(\u001b[0m\u001b[0mθ\u001b[0m\u001b[0;34m,\u001b[0m \u001b[0mφ\u001b[0m\u001b[0;34m,\u001b[0m \u001b[0;34m(\u001b[0m\u001b[0mi\u001b[0m\u001b[0;34m,\u001b[0m \u001b[0ml\u001b[0m\u001b[0;34m,\u001b[0m \u001b[0mk\u001b[0m\u001b[0;34m,\u001b[0m \u001b[0mj\u001b[0m\u001b[0;34m)\u001b[0m\u001b[0;34m)\u001b[0m\u001b[0;34m*\u001b[0m \u001b[0mnp\u001b[0m\u001b[0;34m.\u001b[0m\u001b[0msin\u001b[0m\u001b[0;34m(\u001b[0m\u001b[0mθ\u001b[0m\u001b[0;34m)\u001b[0m \u001b[0;34m+\u001b[0m \u001b[0mfunc\u001b[0m\u001b[0;34m(\u001b[0m\u001b[0mθ\u001b[0m\u001b[0;34m,\u001b[0m \u001b[0mφ\u001b[0m\u001b[0;34m,\u001b[0m \u001b[0;34m(\u001b[0m\u001b[0mj\u001b[0m\u001b[0;34m,\u001b[0m \u001b[0ml\u001b[0m\u001b[0;34m,\u001b[0m \u001b[0mk\u001b[0m\u001b[0;34m,\u001b[0m \u001b[0mi\u001b[0m\u001b[0;34m)\u001b[0m\u001b[0;34m)\u001b[0m\u001b[0;34m*\u001b[0m \u001b[0mnp\u001b[0m\u001b[0;34m.\u001b[0m\u001b[0msin\u001b[0m\u001b[0;34m(\u001b[0m\u001b[0mθ\u001b[0m\u001b[0;34m)\u001b[0m\u001b[0;34m)\u001b[0m\u001b[0;34m\u001b[0m\u001b[0;34m\u001b[0m\u001b[0m\n\u001b[0m\u001b[1;32m     44\u001b[0m \u001b[0;34m\u001b[0m\u001b[0m\n\u001b[1;32m     45\u001b[0m                     \u001b[0mintegral\u001b[0m\u001b[0;34m,\u001b[0m\u001b[0m_\u001b[0m \u001b[0;34m=\u001b[0m \u001b[0mintegrate\u001b[0m\u001b[0;34m.\u001b[0m\u001b[0mnquad\u001b[0m\u001b[0;34m(\u001b[0m\u001b[0mintegrand\u001b[0m\u001b[0;34m,\u001b[0m \u001b[0;34m[\u001b[0m\u001b[0;34m(\u001b[0m\u001b[0;36m0\u001b[0m\u001b[0;34m,\u001b[0m \u001b[0mpi\u001b[0m\u001b[0;34m)\u001b[0m\u001b[0;34m,\u001b[0m \u001b[0;34m(\u001b[0m\u001b[0;36m0\u001b[0m\u001b[0;34m,\u001b[0m \u001b[0;36m2\u001b[0m\u001b[0;34m*\u001b[0m\u001b[0mpi\u001b[0m\u001b[0;34m)\u001b[0m\u001b[0;34m]\u001b[0m\u001b[0;34m,\u001b[0m \u001b[0mopts\u001b[0m\u001b[0;34m=\u001b[0m\u001b[0mopts\u001b[0m\u001b[0;34m)\u001b[0m\u001b[0;34m\u001b[0m\u001b[0;34m\u001b[0m\u001b[0m\n",
            "\u001b[0;32m<ipython-input-91-e54e5d37b591>\u001b[0m in \u001b[0;36mfunc\u001b[0;34m(θ, φ, position)\u001b[0m\n\u001b[1;32m     18\u001b[0m         \u001b[0mn\u001b[0m \u001b[0;34m=\u001b[0m \u001b[0mn\u001b[0m\u001b[0;34m.\u001b[0m\u001b[0mastype\u001b[0m\u001b[0;34m(\u001b[0m\u001b[0mnp\u001b[0m\u001b[0;34m.\u001b[0m\u001b[0mfloat64\u001b[0m\u001b[0;34m)\u001b[0m\u001b[0;34m\u001b[0m\u001b[0;34m\u001b[0m\u001b[0m\n\u001b[1;32m     19\u001b[0m \u001b[0;34m\u001b[0m\u001b[0m\n\u001b[0;32m---> 20\u001b[0;31m         \u001b[0mλ\u001b[0m \u001b[0;34m=\u001b[0m \u001b[0mnp\u001b[0m\u001b[0;34m.\u001b[0m\u001b[0mlinalg\u001b[0m\u001b[0;34m.\u001b[0m\u001b[0minv\u001b[0m\u001b[0;34m(\u001b[0m\u001b[0mnp\u001b[0m\u001b[0;34m.\u001b[0m\u001b[0meinsum\u001b[0m\u001b[0;34m(\u001b[0m\u001b[0;34m'imjn,mn->ij'\u001b[0m\u001b[0;34m,\u001b[0m \u001b[0mC_c\u001b[0m\u001b[0;34m,\u001b[0m \u001b[0mn\u001b[0m\u001b[0;34m)\u001b[0m\u001b[0;34m)\u001b[0m\u001b[0;34m\u001b[0m\u001b[0;34m\u001b[0m\u001b[0m\n\u001b[0m\u001b[1;32m     21\u001b[0m         return (np.einsum('mn,ij -> imjn', n, λ))[position[0],\n\u001b[1;32m     22\u001b[0m                                                             \u001b[0mposition\u001b[0m\u001b[0;34m[\u001b[0m\u001b[0;36m1\u001b[0m\u001b[0;34m]\u001b[0m\u001b[0;34m,\u001b[0m\u001b[0;34m\u001b[0m\u001b[0;34m\u001b[0m\u001b[0m\n",
            "\u001b[0;32m/usr/local/lib/python3.10/dist-packages/numpy/linalg/linalg.py\u001b[0m in \u001b[0;36minv\u001b[0;34m(a)\u001b[0m\n\u001b[1;32m    559\u001b[0m     \u001b[0msignature\u001b[0m \u001b[0;34m=\u001b[0m \u001b[0;34m'D->D'\u001b[0m \u001b[0;32mif\u001b[0m \u001b[0misComplexType\u001b[0m\u001b[0;34m(\u001b[0m\u001b[0mt\u001b[0m\u001b[0;34m)\u001b[0m \u001b[0;32melse\u001b[0m \u001b[0;34m'd->d'\u001b[0m\u001b[0;34m\u001b[0m\u001b[0;34m\u001b[0m\u001b[0m\n\u001b[1;32m    560\u001b[0m     \u001b[0mextobj\u001b[0m \u001b[0;34m=\u001b[0m \u001b[0mget_linalg_error_extobj\u001b[0m\u001b[0;34m(\u001b[0m\u001b[0m_raise_linalgerror_singular\u001b[0m\u001b[0;34m)\u001b[0m\u001b[0;34m\u001b[0m\u001b[0;34m\u001b[0m\u001b[0m\n\u001b[0;32m--> 561\u001b[0;31m     \u001b[0mainv\u001b[0m \u001b[0;34m=\u001b[0m \u001b[0m_umath_linalg\u001b[0m\u001b[0;34m.\u001b[0m\u001b[0minv\u001b[0m\u001b[0;34m(\u001b[0m\u001b[0ma\u001b[0m\u001b[0;34m,\u001b[0m \u001b[0msignature\u001b[0m\u001b[0;34m=\u001b[0m\u001b[0msignature\u001b[0m\u001b[0;34m,\u001b[0m \u001b[0mextobj\u001b[0m\u001b[0;34m=\u001b[0m\u001b[0mextobj\u001b[0m\u001b[0;34m)\u001b[0m\u001b[0;34m\u001b[0m\u001b[0;34m\u001b[0m\u001b[0m\n\u001b[0m\u001b[1;32m    562\u001b[0m     \u001b[0;32mreturn\u001b[0m \u001b[0mwrap\u001b[0m\u001b[0;34m(\u001b[0m\u001b[0mainv\u001b[0m\u001b[0;34m.\u001b[0m\u001b[0mastype\u001b[0m\u001b[0;34m(\u001b[0m\u001b[0mresult_t\u001b[0m\u001b[0;34m,\u001b[0m \u001b[0mcopy\u001b[0m\u001b[0;34m=\u001b[0m\u001b[0;32mFalse\u001b[0m\u001b[0;34m)\u001b[0m\u001b[0;34m)\u001b[0m\u001b[0;34m\u001b[0m\u001b[0;34m\u001b[0m\u001b[0m\n\u001b[1;32m    563\u001b[0m \u001b[0;34m\u001b[0m\u001b[0m\n",
            "\u001b[0;31mKeyboardInterrupt\u001b[0m: "
          ]
        }
      ],
      "source": [
        "AR = [1000, 1000, 1]\n",
        "result = tensor_g(C_c, AR)\n",
        "b = result.copy()\n",
        "b.resize(9,9)\n",
        "np.round(b , 7)"
      ]
    },
    {
      "cell_type": "code",
      "execution_count": null,
      "metadata": {
        "id": "gF7wsKck8oK7"
      },
      "outputs": [],
      "source": [
        "AR = [100, 100, 1]\n",
        "result = tensor_g(C_c, AR)\n",
        "b = result.copy()\n",
        "b.resize(9,9)\n",
        "np.round(b , 7)"
      ]
    },
    {
      "cell_type": "code",
      "execution_count": null,
      "metadata": {
        "id": "aRodbZ5aICtr"
      },
      "outputs": [],
      "source": [
        "AR = [10, 10, 1]\n",
        "result = tensor_g(C_c, AR)\n",
        "b = result.copy()\n",
        "b.resize(9,9)\n",
        "np.round(b , 7)"
      ]
    },
    {
      "cell_type": "code",
      "execution_count": null,
      "metadata": {
        "id": "K8ToefhS8oNt"
      },
      "outputs": [],
      "source": [
        "AR = [1, 1, 1]\n",
        "result = tensor_g(C_c, AR)\n",
        "b = result.copy()\n",
        "b.resize(9,9)\n",
        "np.round(b , 7)"
      ]
    },
    {
      "cell_type": "code",
      "execution_count": null,
      "metadata": {
        "id": "_1BoYeICIVBF"
      },
      "outputs": [],
      "source": [
        "C_mtrx.resize(9,9)\n",
        "np.round(C_mtrx , 7)"
      ]
    },
    {
      "cell_type": "code",
      "execution_count": null,
      "metadata": {
        "id": "NKfbrkQrsnLl"
      },
      "outputs": [],
      "source": [
        "def round_func(matrix_to_change):\n",
        "\n",
        "  matrix= np.zeros((6,6))\n",
        "\n",
        "  for i in range(6):\n",
        "    for j in range(6):\n",
        "\n",
        "      if np.abs(matrix_to_change[i,j]) > 10**-10:\n",
        "        matrix[i,j] = matrix_to_change[i,j]\n",
        "  return matrix"
      ]
    },
    {
      "cell_type": "code",
      "execution_count": null,
      "metadata": {
        "id": "nRDSrOyaymFz"
      },
      "outputs": [],
      "source": [
        "def effective_tensor_new(g_m, g_fl, C_mtrx, C_fl, C_c, porosity):\n",
        "\n",
        "                  ### Числитель\n",
        "\n",
        "  ### matrix\n",
        "  A_m1 = tens2mat(C_mtrx - C_c, compl=False)\n",
        "  g_m1 = round_func(tens2mat(g_m, compl=True))\n",
        "\n",
        "  g_inv_m1 = np.linalg.inv(g_m1)\n",
        "  x_m1 = np.linalg.inv(g_inv_m1 - A_m1)\n",
        "\n",
        "  num_mtrx =  tens2mat(C_mtrx, compl=False) @ (x_m1 @ g_inv_m1) # -----> multiply in matrix form not in tensor\n",
        "\n",
        "  ### fluid\n",
        "\n",
        "  A_fl1 = tens2mat(C_fl - C_c, compl=False)\n",
        "  g_fl1 = tens2mat(g_fl, compl=True)\n",
        "\n",
        "  g_inv_fl1 = np.linalg.inv(g_fl1)\n",
        "  x_fl1 = np.linalg.inv(g_inv_fl1 - A_fl1)\n",
        "\n",
        "  num_fl =  tens2mat(C_fl, compl=False) @ (x_fl1 @ g_inv_fl1)\n",
        "\n",
        "  ### sum\n",
        "  rslt_num = round_func((1-porosity)*num_mtrx + porosity*num_fl)\n",
        "\n",
        "\n",
        "                    ### Знаменатель\n",
        "  ### matrix\n",
        "  result_mtrx =  (x_m1 @ g_inv_m1) * (1-porosity)\n",
        "\n",
        "  ### fluid\n",
        "  result_fl = (x_fl1 @ g_inv_fl1) * porosity\n",
        "\n",
        "  ### sum\n",
        "  rslt_dnmntr = np.linalg.inv(result_mtrx + result_fl)\n",
        "\n",
        "        ### Effective Cij\n",
        "  eff = rslt_num @ rslt_dnmntr\n",
        "\n",
        "  print('Porosity ', porosity)\n",
        "  print(np.round(round_func(eff), 5), end='\\n\\n')\n",
        "\n",
        "  return eff[0,0], eff[0,2], eff[3,3], eff[2,2], eff[5,5]\n",
        "  # return eff[2,2]"
      ]
    },
    {
      "cell_type": "code",
      "execution_count": null,
      "metadata": {
        "id": "QkB2jRVXy-oI"
      },
      "outputs": [],
      "source": []
    },
    {
      "cell_type": "code",
      "execution_count": null,
      "metadata": {
        "id": "u08YG783y-we"
      },
      "outputs": [],
      "source": [
        "def result_rotation_matrix(psi, phi, theta):\n",
        "\n",
        "\n",
        "  B_phi = np.array(\n",
        "      [[np.cos(phi), np.sin(phi), 0], ### <-- Rotation around new axis Z on phi angle\n",
        "      [-np.sin(phi), np.cos(phi), 0],\n",
        "      [0, 0, 1]])\n",
        "\n",
        "  B_theta = np.array([[1, 0, 0], ### <-- Rotation around new axis N on theta angle\n",
        "           [0, np.cos(theta), np.sin(theta)],\n",
        "           [0, -np.sin(theta), np.cos(theta)]])\n",
        "\n",
        "  B_psi = np.array([[np.cos(psi), np.sin(psi), 0], ### <-- Rotation around new axis N on theta angle\n",
        "           [-np.sin(psi), np.cos(psi), 0],\n",
        "           [0, 0, 1]])\n",
        "\n",
        "  return np.linalg.inv(B_theta @ B_psi @ B_phi)"
      ]
    },
    {
      "cell_type": "code",
      "execution_count": null,
      "metadata": {
        "id": "i0RD1WgbtxsJ"
      },
      "outputs": [],
      "source": [
        "def result_rotation_sh(theta, phi, psi, Cij, position):\n",
        "\n",
        "  c11, c12, c44 = Cij[0], Cij[1], Cij[2]\n",
        "  i,j,k,l = int(position[0]), int(position[1]), int(position[2]), int(position[3])\n",
        "  # i,j = int(position[0]), int(position[1])\n",
        "\n",
        "  c1, c2, c3 = np.cos(theta), np.cos(psi), np.cos(phi)\n",
        "  s1, s2, s3 = np.sin(theta), np.sin(psi), np.sin(phi)\n",
        "\n",
        "  l1 = c2*c3 - c1*s2*s3\n",
        "  l2 = -c2*s3 - c1*s2*c3\n",
        "  l3 = s1*s2\n",
        "\n",
        "  m1 = s2*c3 + c1*c2*s3\n",
        "  m2 = -s2*s3 + c1*c2*c3\n",
        "  m3 = -s1*c2\n",
        "\n",
        "  n1 = s1*s3\n",
        "  n2 = s1*c3\n",
        "  n3 = c1\n",
        "\n",
        "  c = c11 - c12 - 2*c44\n",
        "\n",
        "  c11_new = c11 - 2*c*(l1**2*m1**2 + m1**2*n1**2 + n1**2*l1**2)\n",
        "  c12_new = c12 + c* (l1**2*l2**2 + m1**2*m2**2 + n1**2*n2**2)\n",
        "  c44_new = c44 + c* (l2**2*l3**2 + m2**2*m3**2 + n2**2*n3**2)\n",
        "\n",
        "  C_new = np.zeros((6, 6))\n",
        "  C_new[0,0] = C_new[1, 1] = C_new[2,2] = c11_new\n",
        "  C_new[0,1] = C_new[0,2] = C_new[1,0] = C_new[1,2] = C_new[2,0] = C_new[2,1] = c12_new\n",
        "  C_new[3,3] = C_new[4,4] = C_new[5,5] = c44_new\n",
        "\n",
        "  A_new = mat2tens(C_new, compl=False)\n",
        "\n",
        "  return A_new[i,j,k,l]\n",
        "  # return C_new[i,j]"
      ]
    },
    {
      "cell_type": "code",
      "execution_count": null,
      "metadata": {
        "colab": {
          "base_uri": "https://localhost:8080/",
          "height": 411
        },
        "id": "w0pZVbaE1apC",
        "outputId": "bc8d0b51-4b0e-4bff-d602-5c29ddfb6509"
      },
      "outputs": [
        {
          "name": "stdout",
          "output_type": "stream",
          "text": [
            "0\n",
            "0 1 1 0\n",
            "[[25.12159595 16.716404   16.716404    0.          0.          0.        ]\n",
            " [16.716404   25.12159595 16.716404    0.          0.          0.        ]\n",
            " [ 0.         16.716404   16.716404    0.          0.          0.        ]\n",
            " [ 0.          0.          0.          6.40138924  0.          0.        ]\n",
            " [ 0.          0.          0.          0.          6.40138924  0.        ]\n",
            " [ 0.          0.          0.          0.          0.          6.40138924]]\n",
            "0 1 -70 0\n"
          ]
        },
        {
          "ename": "IndexError",
          "evalue": "index -70 is out of bounds for axis 2 with size 3",
          "output_type": "error",
          "traceback": [
            "\u001b[0;31m---------------------------------------------------------------------------\u001b[0m",
            "\u001b[0;31mIndexError\u001b[0m                                Traceback (most recent call last)",
            "\u001b[0;32m<ipython-input-28-4785f60a160c>\u001b[0m in \u001b[0;36m<cell line: 7>\u001b[0;34m()\u001b[0m\n\u001b[1;32m      5\u001b[0m \u001b[0mposition\u001b[0m \u001b[0;34m=\u001b[0m \u001b[0;34m(\u001b[0m\u001b[0ma\u001b[0m\u001b[0;34m,\u001b[0m \u001b[0mb\u001b[0m\u001b[0;34m,\u001b[0m \u001b[0mc\u001b[0m\u001b[0;34m,\u001b[0m \u001b[0md\u001b[0m\u001b[0;34m)\u001b[0m\u001b[0;34m\u001b[0m\u001b[0;34m\u001b[0m\u001b[0m\n\u001b[1;32m      6\u001b[0m \u001b[0mprint\u001b[0m\u001b[0;34m(\u001b[0m\u001b[0mposition\u001b[0m\u001b[0;34m[\u001b[0m\u001b[0;36m0\u001b[0m\u001b[0;34m]\u001b[0m\u001b[0;34m)\u001b[0m\u001b[0;34m\u001b[0m\u001b[0;34m\u001b[0m\u001b[0m\n\u001b[0;32m----> 7\u001b[0;31m \u001b[0mresult_rotation_sh\u001b[0m\u001b[0;34m(\u001b[0m\u001b[0mtheta\u001b[0m\u001b[0;34m,\u001b[0m \u001b[0mphi\u001b[0m\u001b[0;34m,\u001b[0m \u001b[0mpsi\u001b[0m\u001b[0;34m,\u001b[0m \u001b[0mCij\u001b[0m\u001b[0;34m,\u001b[0m \u001b[0mposition\u001b[0m\u001b[0;34m)\u001b[0m\u001b[0;34m\u001b[0m\u001b[0;34m\u001b[0m\u001b[0m\n\u001b[0m",
            "\u001b[0;32m<ipython-input-26-11ec4dfb505e>\u001b[0m in \u001b[0;36mresult_rotation_sh\u001b[0;34m(theta, phi, psi, Cij, position)\u001b[0m\n\u001b[1;32m     38\u001b[0m \u001b[0;34m\u001b[0m\u001b[0m\n\u001b[1;32m     39\u001b[0m   \u001b[0mprint\u001b[0m\u001b[0;34m(\u001b[0m\u001b[0ma\u001b[0m\u001b[0;34m,\u001b[0m \u001b[0mb\u001b[0m\u001b[0;34m,\u001b[0m \u001b[0mc\u001b[0m\u001b[0;34m,\u001b[0m \u001b[0md\u001b[0m\u001b[0;34m)\u001b[0m\u001b[0;34m\u001b[0m\u001b[0;34m\u001b[0m\u001b[0m\n\u001b[0;32m---> 40\u001b[0;31m   \u001b[0;32mreturn\u001b[0m \u001b[0mA_new\u001b[0m\u001b[0;34m[\u001b[0m\u001b[0ma\u001b[0m\u001b[0;34m,\u001b[0m \u001b[0mb\u001b[0m\u001b[0;34m,\u001b[0m \u001b[0mc\u001b[0m\u001b[0;34m,\u001b[0m \u001b[0md\u001b[0m\u001b[0;34m]\u001b[0m\u001b[0;34m\u001b[0m\u001b[0;34m\u001b[0m\u001b[0m\n\u001b[0m",
            "\u001b[0;31mIndexError\u001b[0m: index -70 is out of bounds for axis 2 with size 3"
          ]
        }
      ],
      "source": [
        "psi, phi, theta = np.pi/5, np.pi/6, 3*np.pi/2.5\n",
        "Cij = [10, 20, 30]\n",
        "a, b, c, d = 0, 1, 1, 0\n",
        "\n",
        "position = (a, b, c, d)\n",
        "print(position[0])\n",
        "result_rotation_sh(theta, phi, psi, Cij, position)"
      ]
    },
    {
      "cell_type": "code",
      "execution_count": null,
      "metadata": {
        "id": "IwbGg5D6MWge"
      },
      "outputs": [],
      "source": [
        "c = c11-c12 - 2*c44\n",
        "\n",
        "c11_new = c11 - 2*c*(l1**2*m1**2 + m1**2*n1**2 + n1**2*l1**2)\n"
      ]
    },
    {
      "cell_type": "code",
      "execution_count": null,
      "metadata": {
        "id": "AiU1bDTAvAfV"
      },
      "outputs": [],
      "source": [
        "psi, phi, theta = np.pi/5, np.pi/6, 3*np.pi/2.5"
      ]
    },
    {
      "cell_type": "code",
      "execution_count": null,
      "metadata": {
        "id": "TnjJLBK5u6tj"
      },
      "outputs": [],
      "source": [
        "A = result_rotation_sh(psi, phi, theta)\n",
        "T = result_rotation_matrix(psi, phi, theta)"
      ]
    },
    {
      "cell_type": "code",
      "execution_count": null,
      "metadata": {
        "colab": {
          "base_uri": "https://localhost:8080/"
        },
        "id": "DlNb6l_dSGc9",
        "outputId": "c0cd99a3-5322-45b3-a948-0f034dd29cf7"
      },
      "outputs": [
        {
          "data": {
            "text/plain": [
              "array([[False, False, False],\n",
              "       [False, False, False],\n",
              "       [False, False,  True]])"
            ]
          },
          "execution_count": 52,
          "metadata": {},
          "output_type": "execute_result"
        }
      ],
      "source": [
        "np.isclose(A, T)"
      ]
    },
    {
      "cell_type": "code",
      "execution_count": null,
      "metadata": {
        "id": "8D5d_a121Ixm"
      },
      "outputs": [],
      "source": [
        "def rotation(psi, phi, theta, C, position):\n",
        "\n",
        "  a, b, c ,d = position[0], position[1], position[2], position[3]\n",
        "\n",
        "  B = result_rotation_matrix(psi, phi, theta)\n",
        "  B =  result_rotation_sh(psi, phi, theta)\n",
        "\n",
        "  # print(B, end='\\n\\n')\n",
        "\n",
        "  A_new = np.zeros((3, 3, 3, 3))\n",
        "\n",
        "  # Perform the calculation for B_{p,q,m,n}\n",
        "  for p in range(3):\n",
        "      for q in range(3):\n",
        "          for m in range(3):\n",
        "              for n in range(3):\n",
        "\n",
        "                for i in range(3):\n",
        "                    for j in range(3):\n",
        "                        for k in range(3):\n",
        "                            for l in range(3):\n",
        "                                A_new[p, q, m, n] +=  B[i,p] * B[j,q] * B[k,m] * B[l,n] * C[i, j, k, l]\n",
        "  print(A_new)\n",
        "  return A_new[a, b, c, d]"
      ]
    },
    {
      "cell_type": "code",
      "execution_count": null,
      "metadata": {
        "colab": {
          "base_uri": "https://localhost:8080/"
        },
        "id": "qKzIfX3qbpAi",
        "outputId": "7ae4c2cc-44ae-470d-f213-3ac57bc48226"
      },
      "outputs": [
        {
          "name": "stdout",
          "output_type": "stream",
          "text": [
            "[[[[ 4.45359199e+01  2.83554426e+00  6.21181845e+00]\n",
            "   [ 2.83554426e+00  6.13146303e+00 -1.32750161e-01]\n",
            "   [ 6.21181845e+00 -1.32750161e-01  9.10883133e+00]]\n",
            "\n",
            "  [[ 2.83554426e+00  2.69597096e+01 -1.98162021e+00]\n",
            "   [ 2.69597096e+01  3.80037288e+00  3.57532807e+00]\n",
            "   [-1.98162021e+00  3.57532807e+00 -8.31680227e-02]]\n",
            "\n",
            "  [[ 6.21181845e+00 -1.98162021e+00  3.79572807e+01]\n",
            "   [-1.98162021e+00  5.52513231e-01  2.01145358e+00]\n",
            "   [ 3.79572807e+01  2.01145358e+00  1.16172705e+01]]]\n",
            "\n",
            "\n",
            " [[[ 2.83554426e+00  2.69597096e+01 -1.98162021e+00]\n",
            "   [ 2.69597096e+01  3.80037288e+00  3.57532807e+00]\n",
            "   [-1.98162021e+00  3.57532807e+00 -8.31680227e-02]]\n",
            "\n",
            "  [[ 6.13146303e+00  3.80037288e+00  5.52513231e-01]\n",
            "   [ 3.80037288e+00  8.00000000e+01 -6.54984468e+00]\n",
            "   [ 5.52513231e-01 -6.54984468e+00  1.16457492e+01]]\n",
            "\n",
            "  [[-1.32750161e-01  3.57532807e+00  2.01145358e+00]\n",
            "   [ 3.57532807e+00 -6.54984468e+00  5.05289760e+01]\n",
            "   [ 2.01145358e+00  5.05289760e+01 -9.13958692e+00]]]\n",
            "\n",
            "\n",
            " [[[ 6.21181845e+00 -1.98162021e+00  3.79572807e+01]\n",
            "   [-1.98162021e+00  5.52513231e-01  2.01145358e+00]\n",
            "   [ 3.79572807e+01  2.01145358e+00  1.16172705e+01]]\n",
            "\n",
            "  [[-1.32750161e-01  3.57532807e+00  2.01145358e+00]\n",
            "   [ 3.57532807e+00 -6.54984468e+00  5.05289760e+01]\n",
            "   [ 2.01145358e+00  5.05289760e+01 -9.13958692e+00]]\n",
            "\n",
            "  [[ 9.10883133e+00 -8.31680227e-02  1.16172705e+01]\n",
            "   [-8.31680227e-02  1.16457492e+01 -9.13958692e+00]\n",
            "   [ 1.16172705e+01 -9.13958692e+00  1.55769031e+02]]]]\n"
          ]
        }
      ],
      "source": [
        "psi, phi, theta = np.pi/5, np.pi/6, 3*np.pi/2.5\n",
        "A = C_mtrx\n",
        "integrand = rotation(theta, phi, psi, A, (0,1,0,1))* np.sin(theta)"
      ]
    },
    {
      "cell_type": "code",
      "execution_count": null,
      "metadata": {
        "colab": {
          "base_uri": "https://localhost:8080/"
        },
        "id": "nAC1hEIJb0oP",
        "outputId": "3591b2ad-6658-403e-a061-a1a3997c03a3"
      },
      "outputs": [
        {
          "data": {
            "text/plain": [
              "-0.0"
            ]
          },
          "execution_count": 65,
          "metadata": {},
          "output_type": "execute_result"
        }
      ],
      "source": [
        "integrand"
      ]
    },
    {
      "cell_type": "code",
      "execution_count": null,
      "metadata": {
        "id": "k5oeByzcF19f"
      },
      "outputs": [],
      "source": [
        "from scipy import integrate"
      ]
    },
    {
      "cell_type": "code",
      "execution_count": null,
      "metadata": {
        "id": "PULZtjAkkYTu"
      },
      "outputs": [],
      "source": [
        "def effective_tensor_new(g_m, g_fl, C_mtrx, C_fl, C_c, porosity):\n",
        "\n",
        "                  ### Числитель\n",
        "\n",
        "  ### matrix\n",
        "  A_m1 = tens2mat(C_mtrx - C_c, compl=False)\n",
        "  g_m1 = (tens2mat(g_m, compl=True))\n",
        "\n",
        "  g_inv_m1 = np.linalg.inv(g_m1)\n",
        "  x_m1 = np.linalg.inv(g_inv_m1 - A_m1)\n",
        "\n",
        "  num_mtrx =  tens2mat(C_mtrx, compl=False) @ (x_m1 @ g_inv_m1) # -----> multiply in matrix form not in tensor\n",
        "\n",
        "  ### fluid\n",
        "\n",
        "  A_fl1 = tens2mat(C_fl - C_c, compl=False)\n",
        "  g_fl1 = tens2mat(g_fl, compl=True)\n",
        "\n",
        "  g_inv_fl1 = np.linalg.inv(g_fl1)\n",
        "  x_fl1 = np.linalg.inv(g_inv_fl1 - A_fl1)\n",
        "\n",
        "  num_fl =  tens2mat(C_fl, compl=False) @ (x_fl1 @ g_inv_fl1)\n",
        "\n",
        "  ### sum\n",
        "  rslt_num = ((1-porosity)*num_mtrx + porosity*num_fl)\n",
        "  # print(rslt_num)\n",
        "  # rslt_num = mat2tens(rslt_num, compl=False)\n",
        "\n",
        "\n",
        "  # rslt_num_A = np.zeros((6,6))\n",
        "\n",
        "  # for i in range(3):\n",
        "  #   for j in range(3):\n",
        "  #     # for k in range(3):\n",
        "  #     #   for l in range(3):\n",
        "\n",
        "  #       Cij = [rslt_num[0,0], rslt_num[0,1], rslt_num[3,3]]\n",
        "\n",
        "  #         # integrand = (lambda theta, phi, psi, i=i, j=j, k=k, l=l: rotation(theta, phi, psi, A, (i,j,k,l))* np.sin(theta))\n",
        "  #         # integral,_ = integrate.nquad(integrand, [[0, np.pi], [0, 2*np.pi], [0, 2*np.pi]])\n",
        "  #         # rslt_num_A[i, j, k, l] =  integral * 1/(8*np.pi**2)\n",
        "  #         # print(i,j,k,l, rslt_num_A[i, j, k, l])\n",
        "\n",
        "\n",
        "  #       integrand = (lambda theta, phi, psi, i=i, j=j: result_rotation_sh(theta, phi, psi, Cij,(i,j))* np.sin(theta))\n",
        "  #       integral,_ = integrate.nquad(integrand, [[0, np.pi], [0, 2*np.pi], [0, 2*np.pi]])\n",
        "\n",
        "  #       # Q = (lambda theta, phi, psi: np.sin(theta))\n",
        "  #       # integral_Q,_ = integrate.nquad(Q, [[0, np.pi], [0, 2*np.pi], [0, 2*np.pi]])\n",
        "\n",
        "  #       rslt_num_A[i, j] =  integral\n",
        "  #       print(i,j, rslt_num_A[i, j])\n",
        "\n",
        "  # Q = (lambda theta, phi, psi: np.sin(theta))\n",
        "  # integral_Q,_ = integrate.nquad(Q, [[0, np.pi], [0, 2*np.pi], [0, 2*np.pi]])\n",
        "  # rslt_num_A *= integral_Q**-1\n",
        "  #       ### -----------\n",
        "\n",
        "\n",
        "   ### Знаменатель\n",
        "\n",
        "  result_mtrx =  (x_m1 @ g_inv_m1) * (1-porosity)\n",
        "  result_fl = (x_fl1 @ g_inv_fl1) * porosity\n",
        "  rslt_dnmntr = np.linalg.inv(result_mtrx + result_fl)\n",
        "  # rslt_dnmntr = mat2tens(rslt_dnmntr, compl=False)\n",
        "\n",
        "  # rslt_dnmntr_B = np.zeros((6,6))\n",
        "\n",
        "  # for i in range(3):\n",
        "  #   for j in range(3):\n",
        "  #     # for k in range(3):\n",
        "  #     #   for l in range(3):\n",
        "\n",
        "  #       A = rslt_dnmntr\n",
        "\n",
        "  #       # integrand = (lambda psi, phi, theta, i=i, j=j, k=k, l=l: rotation(psi, phi, theta, A, (i, k, l, j))* np.sin(theta))\n",
        "  #       # integral, _ = integrate.tplquad(integrand, (0, 2*np.pi), (0, 2*np.pi), (0, np.pi))\n",
        "\n",
        "  #       Cij = [rslt_dnmntr[0,0], rslt_dnmntr[0,1], rslt_dnmntr[3,3]]\n",
        "\n",
        "\n",
        "  #       integrand = (lambda theta, phi, psi, i=i, j=j: result_rotation_sh(theta, phi, psi, Cij,(i,j))* np.sin(theta))\n",
        "  #       integral,_ = integrate.nquad(integrand, [[0, np.pi], [0, 2*np.pi], [0, 2*np.pi]])\n",
        "  #       rslt_dnmntr_B[i, j] =  integral\n",
        "  #       print(i,j, rslt_dnmntr_B[i, j])\n",
        "\n",
        "  # Q = (lambda theta, phi, psi: np.sin(theta))\n",
        "  # integral_Q,_ = integrate.nquad(Q, [[0, np.pi], [0, 2*np.pi], [0, 2*np.pi]])\n",
        "  # rslt_dnmntr_B *= integral_Q**-1\n",
        "\n",
        "\n",
        "\n",
        "\n",
        "        ### Effective Cij\n",
        "  # eff = rslt_num_A @ rslt_dnmntr_B\n",
        "  eff = rslt_num @ rslt_dnmntr\n",
        "  # print(eff)\n",
        "\n",
        "  new_eff = np.zeros((3,3,3,3))\n",
        "\n",
        "  for i in range(3):\n",
        "    for j in range(3):\n",
        "      for k in range(3):\n",
        "        for l in range(3):\n",
        "\n",
        "          A = eff\n",
        "\n",
        "          # integrand = (lambda psi, phi, theta, i=i, j=j, k=k, l=l: rotation(psi, phi, theta, A, (i, k, l, j))* np.sin(theta))\n",
        "          # integral, _ = integrate.tplquad(integrand, (0, 2*np.pi), (0, 2*np.pi), (0, np.pi))\n",
        "\n",
        "          Cij = [A[0,0], A[0,1], A[3,3]]\n",
        "\n",
        "\n",
        "          integrand = (lambda theta, phi, psi, i=i, j=j, k=k, l=l: result_rotation_sh(theta, phi, psi, Cij,(i,j,k,l))* np.sin(theta))\n",
        "          integral,_ = integrate.nquad(integrand, [[0, np.pi], [0, 2*np.pi], [0, 2*np.pi]])\n",
        "          new_eff[i, j, k, l] =  integral\n",
        "          # print(i,j,k,l, new_eff[i, j, k,l])\n",
        "\n",
        "  Q = (lambda theta, phi, psi: np.sin(theta))\n",
        "  integral_Q,_ = integrate.nquad(Q, [[0, np.pi], [0, 2*np.pi], [0, 2*np.pi]])\n",
        "  new_eff *= integral_Q**-1\n",
        "\n",
        "\n",
        "  # print('Porosity ', porosity)\n",
        "  # print(np.round(round_func(eff), 5), end='\\n\\n')\n",
        "\n",
        "  # return eff[0,0], eff[0,2], eff[3,3], eff[2,2], eff[5,5]\n",
        "  # # return eff[2,2]\n",
        "\n",
        "  # print(np.round(new_eff, 5))\n",
        "\n",
        "  result = tens2mat(new_eff, compl=False)\n",
        "  print(np.round(result, 5))\n",
        "\n",
        "  return result[0,0], result[0,2], result[3,3]"
      ]
    },
    {
      "cell_type": "code",
      "execution_count": null,
      "metadata": {
        "colab": {
          "base_uri": "https://localhost:8080/"
        },
        "id": "WFIZiJRbC4fX",
        "outputId": "66b6944f-4351-4385-be94-979f04c1e2c3"
      },
      "outputs": [
        {
          "name": "stdout",
          "output_type": "stream",
          "text": [
            "[[ 6.65058607e+01  8.03969529e+00  8.03969529e+00 -1.41705375e-17\n",
            "   7.90095323e-18 -1.01632598e-16]\n",
            " [ 8.03969529e+00  6.65058607e+01  8.03969529e+00 -5.78970661e-17\n",
            "   8.05985290e-19  5.16965233e-16]\n",
            " [ 8.03969529e+00  8.03969529e+00  6.65058607e+01  2.24463221e-17\n",
            "  -3.74305595e-17 -4.03403287e-18]\n",
            " [-1.35537022e-17 -5.91433197e-17  2.21916114e-17  2.92330827e+01\n",
            "  -2.81534998e-18 -6.09074645e-18]\n",
            " [ 9.45327969e-18  6.83657252e-18 -3.76849705e-17 -5.18586172e-17\n",
            "   2.92330827e+01 -1.18366835e-17]\n",
            " [-1.30673067e-16  4.93584022e-16  1.82173359e-17 -6.02441243e-18\n",
            "  -3.56967715e-17  2.92330827e+01]]\n",
            "0 0 0 0 5251.092284197229\n",
            "0 0 0 1 0.0\n",
            "0 0 0 2 0.0\n",
            "0 0 1 0 0.0\n",
            "0 0 1 1 634.788896355374\n",
            "0 0 1 2 0.0\n",
            "0 0 2 0 0.0\n",
            "0 0 2 1 0.0\n",
            "0 0 2 2 634.788896355374\n",
            "0 1 0 0 0.0\n",
            "0 1 0 1 2308.1516939209278\n",
            "0 1 0 2 0.0\n",
            "0 1 1 0 2308.1516939209278\n",
            "0 1 1 1 0.0\n",
            "0 1 1 2 0.0\n",
            "0 1 2 0 0.0\n",
            "0 1 2 1 0.0\n",
            "0 1 2 2 0.0\n",
            "0 2 0 0 0.0\n",
            "0 2 0 1 0.0\n",
            "0 2 0 2 2308.1516939209278\n",
            "0 2 1 0 0.0\n",
            "0 2 1 1 0.0\n",
            "0 2 1 2 0.0\n",
            "0 2 2 0 2308.1516939209278\n",
            "0 2 2 1 0.0\n",
            "0 2 2 2 0.0\n",
            "1 0 0 0 0.0\n",
            "1 0 0 1 2308.1516939209278\n",
            "1 0 0 2 0.0\n",
            "1 0 1 0 2308.1516939209278\n",
            "1 0 1 1 0.0\n",
            "1 0 1 2 0.0\n",
            "1 0 2 0 0.0\n",
            "1 0 2 1 0.0\n",
            "1 0 2 2 0.0\n",
            "1 1 0 0 634.788896355374\n",
            "1 1 0 1 0.0\n",
            "1 1 0 2 0.0\n",
            "1 1 1 0 0.0\n",
            "1 1 1 1 5251.092284197229\n",
            "1 1 1 2 0.0\n",
            "1 1 2 0 0.0\n",
            "1 1 2 1 0.0\n",
            "1 1 2 2 634.788896355374\n",
            "1 2 0 0 0.0\n",
            "1 2 0 1 0.0\n",
            "1 2 0 2 0.0\n",
            "1 2 1 0 0.0\n",
            "1 2 1 1 0.0\n",
            "1 2 1 2 2308.1516939209278\n",
            "1 2 2 0 0.0\n",
            "1 2 2 1 2308.1516939209278\n",
            "1 2 2 2 0.0\n",
            "2 0 0 0 0.0\n",
            "2 0 0 1 0.0\n",
            "2 0 0 2 2308.1516939209278\n",
            "2 0 1 0 0.0\n",
            "2 0 1 1 0.0\n",
            "2 0 1 2 0.0\n",
            "2 0 2 0 2308.1516939209278\n",
            "2 0 2 1 0.0\n",
            "2 0 2 2 0.0\n",
            "2 1 0 0 0.0\n",
            "2 1 0 1 0.0\n",
            "2 1 0 2 0.0\n",
            "2 1 1 0 0.0\n",
            "2 1 1 1 0.0\n",
            "2 1 1 2 2308.1516939209278\n",
            "2 1 2 0 0.0\n",
            "2 1 2 1 2308.1516939209278\n",
            "2 1 2 2 0.0\n",
            "2 2 0 0 0.0\n",
            "2 2 0 1 0.0\n",
            "2 2 0 2 0.0\n",
            "2 2 1 0 0.0\n",
            "2 2 1 1 634.788896355374\n",
            "2 2 1 2 0.0\n",
            "2 2 2 0 0.0\n",
            "2 2 2 1 0.0\n",
            "2 2 2 2 634.788896355374\n"
          ]
        }
      ],
      "source": [
        "A = effective_tensor_new(g_m, g_fl, C_mtrx, C_fl, C_c, porosity)"
      ]
    },
    {
      "cell_type": "code",
      "execution_count": null,
      "metadata": {
        "colab": {
          "base_uri": "https://localhost:8080/"
        },
        "id": "CZFyBQt9DUxt",
        "outputId": "8464bab3-6c7b-4d00-88f8-bf7a38e0ae3e"
      },
      "outputs": [
        {
          "data": {
            "text/plain": [
              "array([[66.50586071,  8.03969529,  8.03969529,  0.        ,  0.        ,\n",
              "         0.        ],\n",
              "       [ 8.03969529, 66.50586071,  8.03969529,  0.        ,  0.        ,\n",
              "         0.        ],\n",
              "       [ 0.        ,  8.03969529,  8.03969529,  0.        ,  0.        ,\n",
              "         0.        ],\n",
              "       [ 0.        ,  0.        ,  0.        , 29.23308271,  0.        ,\n",
              "         0.        ],\n",
              "       [ 0.        ,  0.        ,  0.        ,  0.        , 29.23308271,\n",
              "         0.        ],\n",
              "       [ 0.        ,  0.        ,  0.        ,  0.        ,  0.        ,\n",
              "        29.23308271]])"
            ]
          },
          "execution_count": 57,
          "metadata": {},
          "output_type": "execute_result"
        }
      ],
      "source": [
        "A"
      ]
    },
    {
      "cell_type": "code",
      "execution_count": null,
      "metadata": {
        "id": "G1uo9ZhxJVL8"
      },
      "outputs": [],
      "source": [
        "C_c = C_mtrx\n",
        "g_m = tensor_g(C_c, [1, 1, 1])\n",
        "g_fl = g_m\n",
        "# g_fl = tensor_g(C_c, [10, 10, 1])\n",
        "porosity = 0.1"
      ]
    },
    {
      "cell_type": "code",
      "execution_count": null,
      "metadata": {
        "colab": {
          "base_uri": "https://localhost:8080/"
        },
        "id": "fsnbY5kb82of",
        "outputId": "32048f7b-2ea4-4b26-b82b-09e106d305d8"
      },
      "outputs": [
        {
          "data": {
            "text/plain": [
              "array([[ 91.150778,  -3.653538, -14.564636,   0.      ,   0.      ,\n",
              "          0.      ],\n",
              "       [ -2.395086,  89.892327, -14.564636,   0.      ,   0.      ,\n",
              "          0.      ],\n",
              "       [ -1.258451,   8.394196,  -2.516903,   0.      ,   0.      ,\n",
              "          0.      ],\n",
              "       [  0.      ,   0.      ,   0.      ,  23.386466,   0.      ,\n",
              "          0.      ],\n",
              "       [  0.      ,   0.      ,   0.      ,   0.      ,  23.386466,\n",
              "          0.      ],\n",
              "       [  0.      ,   0.      ,   0.      ,   0.      ,   0.      ,\n",
              "         23.386466]])"
            ]
          },
          "execution_count": 38,
          "metadata": {},
          "output_type": "execute_result"
        }
      ],
      "source": [
        "np.round(A, 6)"
      ]
    },
    {
      "cell_type": "code",
      "execution_count": null,
      "metadata": {
        "colab": {
          "base_uri": "https://localhost:8080/",
          "height": 299
        },
        "id": "K7toCdTSJOKP",
        "outputId": "e073ed13-2987-4750-e8e8-1b343a812b73"
      },
      "outputs": [
        {
          "ename": "KeyboardInterrupt",
          "evalue": "",
          "output_type": "error",
          "traceback": [
            "\u001b[0;31m---------------------------------------------------------------------------\u001b[0m",
            "\u001b[0;31mKeyboardInterrupt\u001b[0m                         Traceback (most recent call last)",
            "\u001b[0;32m<ipython-input-12-928cb72a6ba6>\u001b[0m in \u001b[0;36m<cell line: 1>\u001b[0;34m()\u001b[0m\n\u001b[0;32m----> 1\u001b[0;31m \u001b[0mA\u001b[0m \u001b[0;34m=\u001b[0m \u001b[0meffective_tensor_new\u001b[0m\u001b[0;34m(\u001b[0m\u001b[0mg_m\u001b[0m\u001b[0;34m,\u001b[0m \u001b[0mg_fl\u001b[0m\u001b[0;34m,\u001b[0m \u001b[0mC_mtrx\u001b[0m\u001b[0;34m,\u001b[0m \u001b[0mC_fl\u001b[0m\u001b[0;34m,\u001b[0m \u001b[0mC_c\u001b[0m\u001b[0;34m,\u001b[0m \u001b[0mporosity\u001b[0m\u001b[0;34m)\u001b[0m\u001b[0;34m\u001b[0m\u001b[0;34m\u001b[0m\u001b[0m\n\u001b[0m\u001b[1;32m      2\u001b[0m \u001b[0;31m# print(A.shape)\u001b[0m\u001b[0;34m\u001b[0m\u001b[0;34m\u001b[0m\u001b[0m\n",
            "\u001b[0;32m<ipython-input-11-63bf664b1b4e>\u001b[0m in \u001b[0;36meffective_tensor_new\u001b[0;34m(g_m, g_fl, C_mtrx, C_fl, C_c, porosity)\u001b[0m\n\u001b[1;32m     41\u001b[0m \u001b[0;34m\u001b[0m\u001b[0m\n\u001b[1;32m     42\u001b[0m           \u001b[0mintegrand\u001b[0m \u001b[0;34m=\u001b[0m \u001b[0;34m(\u001b[0m\u001b[0;32mlambda\u001b[0m \u001b[0mtheta\u001b[0m\u001b[0;34m,\u001b[0m \u001b[0mphi\u001b[0m\u001b[0;34m,\u001b[0m \u001b[0mpsi\u001b[0m\u001b[0;34m,\u001b[0m \u001b[0mi\u001b[0m\u001b[0;34m=\u001b[0m\u001b[0mi\u001b[0m\u001b[0;34m,\u001b[0m \u001b[0mj\u001b[0m\u001b[0;34m=\u001b[0m\u001b[0mj\u001b[0m\u001b[0;34m,\u001b[0m \u001b[0mk\u001b[0m\u001b[0;34m=\u001b[0m\u001b[0mk\u001b[0m\u001b[0;34m,\u001b[0m \u001b[0ml\u001b[0m\u001b[0;34m=\u001b[0m\u001b[0ml\u001b[0m\u001b[0;34m:\u001b[0m \u001b[0mrotation\u001b[0m\u001b[0;34m(\u001b[0m\u001b[0mtheta\u001b[0m\u001b[0;34m,\u001b[0m \u001b[0mphi\u001b[0m\u001b[0;34m,\u001b[0m \u001b[0mpsi\u001b[0m\u001b[0;34m,\u001b[0m \u001b[0mA\u001b[0m\u001b[0;34m,\u001b[0m \u001b[0;34m(\u001b[0m\u001b[0mi\u001b[0m\u001b[0;34m,\u001b[0m\u001b[0mj\u001b[0m\u001b[0;34m,\u001b[0m\u001b[0mk\u001b[0m\u001b[0;34m,\u001b[0m\u001b[0ml\u001b[0m\u001b[0;34m)\u001b[0m\u001b[0;34m)\u001b[0m\u001b[0;34m*\u001b[0m \u001b[0mnp\u001b[0m\u001b[0;34m.\u001b[0m\u001b[0msin\u001b[0m\u001b[0;34m(\u001b[0m\u001b[0mtheta\u001b[0m\u001b[0;34m)\u001b[0m\u001b[0;34m)\u001b[0m\u001b[0;34m\u001b[0m\u001b[0;34m\u001b[0m\u001b[0m\n\u001b[0;32m---> 43\u001b[0;31m           \u001b[0mintegral\u001b[0m\u001b[0;34m,\u001b[0m\u001b[0m_\u001b[0m \u001b[0;34m=\u001b[0m \u001b[0mintegrate\u001b[0m\u001b[0;34m.\u001b[0m\u001b[0mnquad\u001b[0m\u001b[0;34m(\u001b[0m\u001b[0mintegrand\u001b[0m\u001b[0;34m,\u001b[0m \u001b[0;34m[\u001b[0m\u001b[0;34m[\u001b[0m\u001b[0;36m0\u001b[0m\u001b[0;34m,\u001b[0m \u001b[0mnp\u001b[0m\u001b[0;34m.\u001b[0m\u001b[0mpi\u001b[0m\u001b[0;34m]\u001b[0m\u001b[0;34m,\u001b[0m \u001b[0;34m[\u001b[0m\u001b[0;36m0\u001b[0m\u001b[0;34m,\u001b[0m \u001b[0;36m2\u001b[0m\u001b[0;34m*\u001b[0m\u001b[0mnp\u001b[0m\u001b[0;34m.\u001b[0m\u001b[0mpi\u001b[0m\u001b[0;34m]\u001b[0m\u001b[0;34m,\u001b[0m \u001b[0;34m[\u001b[0m\u001b[0;36m0\u001b[0m\u001b[0;34m,\u001b[0m \u001b[0;36m2\u001b[0m\u001b[0;34m*\u001b[0m\u001b[0mnp\u001b[0m\u001b[0;34m.\u001b[0m\u001b[0mpi\u001b[0m\u001b[0;34m]\u001b[0m\u001b[0;34m]\u001b[0m\u001b[0;34m)\u001b[0m\u001b[0;34m\u001b[0m\u001b[0;34m\u001b[0m\u001b[0m\n\u001b[0m\u001b[1;32m     44\u001b[0m           \u001b[0mrslt_num_A\u001b[0m\u001b[0;34m[\u001b[0m\u001b[0mi\u001b[0m\u001b[0;34m,\u001b[0m \u001b[0mj\u001b[0m\u001b[0;34m,\u001b[0m \u001b[0mk\u001b[0m\u001b[0;34m,\u001b[0m \u001b[0ml\u001b[0m\u001b[0;34m]\u001b[0m \u001b[0;34m=\u001b[0m  \u001b[0mintegral\u001b[0m \u001b[0;34m*\u001b[0m \u001b[0;36m1\u001b[0m\u001b[0;34m/\u001b[0m\u001b[0;34m(\u001b[0m\u001b[0;36m8\u001b[0m\u001b[0;34m*\u001b[0m\u001b[0mnp\u001b[0m\u001b[0;34m.\u001b[0m\u001b[0mpi\u001b[0m\u001b[0;34m**\u001b[0m\u001b[0;36m2\u001b[0m\u001b[0;34m)\u001b[0m\u001b[0;34m\u001b[0m\u001b[0;34m\u001b[0m\u001b[0m\n\u001b[1;32m     45\u001b[0m           \u001b[0mprint\u001b[0m\u001b[0;34m(\u001b[0m\u001b[0mrslt_num_A\u001b[0m\u001b[0;34m[\u001b[0m\u001b[0mi\u001b[0m\u001b[0;34m,\u001b[0m \u001b[0mj\u001b[0m\u001b[0;34m,\u001b[0m \u001b[0mk\u001b[0m\u001b[0;34m,\u001b[0m \u001b[0ml\u001b[0m\u001b[0;34m]\u001b[0m\u001b[0;34m)\u001b[0m\u001b[0;34m\u001b[0m\u001b[0;34m\u001b[0m\u001b[0m\n",
            "\u001b[0;32m/usr/local/lib/python3.10/dist-packages/scipy/integrate/_quadpack_py.py\u001b[0m in \u001b[0;36mnquad\u001b[0;34m(func, ranges, args, opts, full_output)\u001b[0m\n\u001b[1;32m   1177\u001b[0m     \u001b[0;32melse\u001b[0m\u001b[0;34m:\u001b[0m\u001b[0;34m\u001b[0m\u001b[0;34m\u001b[0m\u001b[0m\n\u001b[1;32m   1178\u001b[0m         \u001b[0mopts\u001b[0m \u001b[0;34m=\u001b[0m \u001b[0;34m[\u001b[0m\u001b[0mopt\u001b[0m \u001b[0;32mif\u001b[0m \u001b[0mcallable\u001b[0m\u001b[0;34m(\u001b[0m\u001b[0mopt\u001b[0m\u001b[0;34m)\u001b[0m \u001b[0;32melse\u001b[0m \u001b[0m_OptFunc\u001b[0m\u001b[0;34m(\u001b[0m\u001b[0mopt\u001b[0m\u001b[0;34m)\u001b[0m \u001b[0;32mfor\u001b[0m \u001b[0mopt\u001b[0m \u001b[0;32min\u001b[0m \u001b[0mopts\u001b[0m\u001b[0;34m]\u001b[0m\u001b[0;34m\u001b[0m\u001b[0;34m\u001b[0m\u001b[0m\n\u001b[0;32m-> 1179\u001b[0;31m     \u001b[0;32mreturn\u001b[0m \u001b[0m_NQuad\u001b[0m\u001b[0;34m(\u001b[0m\u001b[0mfunc\u001b[0m\u001b[0;34m,\u001b[0m \u001b[0mranges\u001b[0m\u001b[0;34m,\u001b[0m \u001b[0mopts\u001b[0m\u001b[0;34m,\u001b[0m \u001b[0mfull_output\u001b[0m\u001b[0;34m)\u001b[0m\u001b[0;34m.\u001b[0m\u001b[0mintegrate\u001b[0m\u001b[0;34m(\u001b[0m\u001b[0;34m*\u001b[0m\u001b[0margs\u001b[0m\u001b[0;34m)\u001b[0m\u001b[0;34m\u001b[0m\u001b[0;34m\u001b[0m\u001b[0m\n\u001b[0m\u001b[1;32m   1180\u001b[0m \u001b[0;34m\u001b[0m\u001b[0m\n\u001b[1;32m   1181\u001b[0m \u001b[0;34m\u001b[0m\u001b[0m\n",
            "\u001b[0;32m/usr/local/lib/python3.10/dist-packages/scipy/integrate/_quadpack_py.py\u001b[0m in \u001b[0;36mintegrate\u001b[0;34m(self, *args, **kwargs)\u001b[0m\n\u001b[1;32m   1231\u001b[0m         \u001b[0;32melse\u001b[0m\u001b[0;34m:\u001b[0m\u001b[0;34m\u001b[0m\u001b[0;34m\u001b[0m\u001b[0m\n\u001b[1;32m   1232\u001b[0m             \u001b[0mf\u001b[0m \u001b[0;34m=\u001b[0m \u001b[0mpartial\u001b[0m\u001b[0;34m(\u001b[0m\u001b[0mself\u001b[0m\u001b[0;34m.\u001b[0m\u001b[0mintegrate\u001b[0m\u001b[0;34m,\u001b[0m \u001b[0mdepth\u001b[0m\u001b[0;34m=\u001b[0m\u001b[0mdepth\u001b[0m\u001b[0;34m+\u001b[0m\u001b[0;36m1\u001b[0m\u001b[0;34m)\u001b[0m\u001b[0;34m\u001b[0m\u001b[0;34m\u001b[0m\u001b[0m\n\u001b[0;32m-> 1233\u001b[0;31m         quad_r = quad(f, low, high, args=args, full_output=self.full_output,\n\u001b[0m\u001b[1;32m   1234\u001b[0m                       **opt)\n\u001b[1;32m   1235\u001b[0m         \u001b[0mvalue\u001b[0m \u001b[0;34m=\u001b[0m \u001b[0mquad_r\u001b[0m\u001b[0;34m[\u001b[0m\u001b[0;36m0\u001b[0m\u001b[0;34m]\u001b[0m\u001b[0;34m\u001b[0m\u001b[0;34m\u001b[0m\u001b[0m\n",
            "\u001b[0;32m/usr/local/lib/python3.10/dist-packages/scipy/integrate/_quadpack_py.py\u001b[0m in \u001b[0;36mquad\u001b[0;34m(func, a, b, args, full_output, epsabs, epsrel, limit, points, weight, wvar, wopts, maxp1, limlst, complex_func)\u001b[0m\n\u001b[1;32m    463\u001b[0m \u001b[0;34m\u001b[0m\u001b[0m\n\u001b[1;32m    464\u001b[0m     \u001b[0;32mif\u001b[0m \u001b[0mweight\u001b[0m \u001b[0;32mis\u001b[0m \u001b[0;32mNone\u001b[0m\u001b[0;34m:\u001b[0m\u001b[0;34m\u001b[0m\u001b[0;34m\u001b[0m\u001b[0m\n\u001b[0;32m--> 465\u001b[0;31m         retval = _quad(func, a, b, args, full_output, epsabs, epsrel, limit,\n\u001b[0m\u001b[1;32m    466\u001b[0m                        points)\n\u001b[1;32m    467\u001b[0m     \u001b[0;32melse\u001b[0m\u001b[0;34m:\u001b[0m\u001b[0;34m\u001b[0m\u001b[0;34m\u001b[0m\u001b[0m\n",
            "\u001b[0;32m/usr/local/lib/python3.10/dist-packages/scipy/integrate/_quadpack_py.py\u001b[0m in \u001b[0;36m_quad\u001b[0;34m(func, a, b, args, full_output, epsabs, epsrel, limit, points)\u001b[0m\n\u001b[1;32m    575\u001b[0m     \u001b[0;32mif\u001b[0m \u001b[0mpoints\u001b[0m \u001b[0;32mis\u001b[0m \u001b[0;32mNone\u001b[0m\u001b[0;34m:\u001b[0m\u001b[0;34m\u001b[0m\u001b[0;34m\u001b[0m\u001b[0m\n\u001b[1;32m    576\u001b[0m         \u001b[0;32mif\u001b[0m \u001b[0minfbounds\u001b[0m \u001b[0;34m==\u001b[0m \u001b[0;36m0\u001b[0m\u001b[0;34m:\u001b[0m\u001b[0;34m\u001b[0m\u001b[0;34m\u001b[0m\u001b[0m\n\u001b[0;32m--> 577\u001b[0;31m             \u001b[0;32mreturn\u001b[0m \u001b[0m_quadpack\u001b[0m\u001b[0;34m.\u001b[0m\u001b[0m_qagse\u001b[0m\u001b[0;34m(\u001b[0m\u001b[0mfunc\u001b[0m\u001b[0;34m,\u001b[0m\u001b[0ma\u001b[0m\u001b[0;34m,\u001b[0m\u001b[0mb\u001b[0m\u001b[0;34m,\u001b[0m\u001b[0margs\u001b[0m\u001b[0;34m,\u001b[0m\u001b[0mfull_output\u001b[0m\u001b[0;34m,\u001b[0m\u001b[0mepsabs\u001b[0m\u001b[0;34m,\u001b[0m\u001b[0mepsrel\u001b[0m\u001b[0;34m,\u001b[0m\u001b[0mlimit\u001b[0m\u001b[0;34m)\u001b[0m\u001b[0;34m\u001b[0m\u001b[0;34m\u001b[0m\u001b[0m\n\u001b[0m\u001b[1;32m    578\u001b[0m         \u001b[0;32melse\u001b[0m\u001b[0;34m:\u001b[0m\u001b[0;34m\u001b[0m\u001b[0;34m\u001b[0m\u001b[0m\n\u001b[1;32m    579\u001b[0m             \u001b[0;32mreturn\u001b[0m \u001b[0m_quadpack\u001b[0m\u001b[0;34m.\u001b[0m\u001b[0m_qagie\u001b[0m\u001b[0;34m(\u001b[0m\u001b[0mfunc\u001b[0m\u001b[0;34m,\u001b[0m\u001b[0mbound\u001b[0m\u001b[0;34m,\u001b[0m\u001b[0minfbounds\u001b[0m\u001b[0;34m,\u001b[0m\u001b[0margs\u001b[0m\u001b[0;34m,\u001b[0m\u001b[0mfull_output\u001b[0m\u001b[0;34m,\u001b[0m\u001b[0mepsabs\u001b[0m\u001b[0;34m,\u001b[0m\u001b[0mepsrel\u001b[0m\u001b[0;34m,\u001b[0m\u001b[0mlimit\u001b[0m\u001b[0;34m)\u001b[0m\u001b[0;34m\u001b[0m\u001b[0;34m\u001b[0m\u001b[0m\n",
            "\u001b[0;32m/usr/local/lib/python3.10/dist-packages/scipy/integrate/_quadpack_py.py\u001b[0m in \u001b[0;36mintegrate\u001b[0;34m(self, *args, **kwargs)\u001b[0m\n\u001b[1;32m   1231\u001b[0m         \u001b[0;32melse\u001b[0m\u001b[0;34m:\u001b[0m\u001b[0;34m\u001b[0m\u001b[0;34m\u001b[0m\u001b[0m\n\u001b[1;32m   1232\u001b[0m             \u001b[0mf\u001b[0m \u001b[0;34m=\u001b[0m \u001b[0mpartial\u001b[0m\u001b[0;34m(\u001b[0m\u001b[0mself\u001b[0m\u001b[0;34m.\u001b[0m\u001b[0mintegrate\u001b[0m\u001b[0;34m,\u001b[0m \u001b[0mdepth\u001b[0m\u001b[0;34m=\u001b[0m\u001b[0mdepth\u001b[0m\u001b[0;34m+\u001b[0m\u001b[0;36m1\u001b[0m\u001b[0;34m)\u001b[0m\u001b[0;34m\u001b[0m\u001b[0;34m\u001b[0m\u001b[0m\n\u001b[0;32m-> 1233\u001b[0;31m         quad_r = quad(f, low, high, args=args, full_output=self.full_output,\n\u001b[0m\u001b[1;32m   1234\u001b[0m                       **opt)\n\u001b[1;32m   1235\u001b[0m         \u001b[0mvalue\u001b[0m \u001b[0;34m=\u001b[0m \u001b[0mquad_r\u001b[0m\u001b[0;34m[\u001b[0m\u001b[0;36m0\u001b[0m\u001b[0;34m]\u001b[0m\u001b[0;34m\u001b[0m\u001b[0;34m\u001b[0m\u001b[0m\n",
            "\u001b[0;32m/usr/local/lib/python3.10/dist-packages/scipy/integrate/_quadpack_py.py\u001b[0m in \u001b[0;36mquad\u001b[0;34m(func, a, b, args, full_output, epsabs, epsrel, limit, points, weight, wvar, wopts, maxp1, limlst, complex_func)\u001b[0m\n\u001b[1;32m    463\u001b[0m \u001b[0;34m\u001b[0m\u001b[0m\n\u001b[1;32m    464\u001b[0m     \u001b[0;32mif\u001b[0m \u001b[0mweight\u001b[0m \u001b[0;32mis\u001b[0m \u001b[0;32mNone\u001b[0m\u001b[0;34m:\u001b[0m\u001b[0;34m\u001b[0m\u001b[0;34m\u001b[0m\u001b[0m\n\u001b[0;32m--> 465\u001b[0;31m         retval = _quad(func, a, b, args, full_output, epsabs, epsrel, limit,\n\u001b[0m\u001b[1;32m    466\u001b[0m                        points)\n\u001b[1;32m    467\u001b[0m     \u001b[0;32melse\u001b[0m\u001b[0;34m:\u001b[0m\u001b[0;34m\u001b[0m\u001b[0;34m\u001b[0m\u001b[0m\n",
            "\u001b[0;32m/usr/local/lib/python3.10/dist-packages/scipy/integrate/_quadpack_py.py\u001b[0m in \u001b[0;36m_quad\u001b[0;34m(func, a, b, args, full_output, epsabs, epsrel, limit, points)\u001b[0m\n\u001b[1;32m    575\u001b[0m     \u001b[0;32mif\u001b[0m \u001b[0mpoints\u001b[0m \u001b[0;32mis\u001b[0m \u001b[0;32mNone\u001b[0m\u001b[0;34m:\u001b[0m\u001b[0;34m\u001b[0m\u001b[0;34m\u001b[0m\u001b[0m\n\u001b[1;32m    576\u001b[0m         \u001b[0;32mif\u001b[0m \u001b[0minfbounds\u001b[0m \u001b[0;34m==\u001b[0m \u001b[0;36m0\u001b[0m\u001b[0;34m:\u001b[0m\u001b[0;34m\u001b[0m\u001b[0;34m\u001b[0m\u001b[0m\n\u001b[0;32m--> 577\u001b[0;31m             \u001b[0;32mreturn\u001b[0m \u001b[0m_quadpack\u001b[0m\u001b[0;34m.\u001b[0m\u001b[0m_qagse\u001b[0m\u001b[0;34m(\u001b[0m\u001b[0mfunc\u001b[0m\u001b[0;34m,\u001b[0m\u001b[0ma\u001b[0m\u001b[0;34m,\u001b[0m\u001b[0mb\u001b[0m\u001b[0;34m,\u001b[0m\u001b[0margs\u001b[0m\u001b[0;34m,\u001b[0m\u001b[0mfull_output\u001b[0m\u001b[0;34m,\u001b[0m\u001b[0mepsabs\u001b[0m\u001b[0;34m,\u001b[0m\u001b[0mepsrel\u001b[0m\u001b[0;34m,\u001b[0m\u001b[0mlimit\u001b[0m\u001b[0;34m)\u001b[0m\u001b[0;34m\u001b[0m\u001b[0;34m\u001b[0m\u001b[0m\n\u001b[0m\u001b[1;32m    578\u001b[0m         \u001b[0;32melse\u001b[0m\u001b[0;34m:\u001b[0m\u001b[0;34m\u001b[0m\u001b[0;34m\u001b[0m\u001b[0m\n\u001b[1;32m    579\u001b[0m             \u001b[0;32mreturn\u001b[0m \u001b[0m_quadpack\u001b[0m\u001b[0;34m.\u001b[0m\u001b[0m_qagie\u001b[0m\u001b[0;34m(\u001b[0m\u001b[0mfunc\u001b[0m\u001b[0;34m,\u001b[0m\u001b[0mbound\u001b[0m\u001b[0;34m,\u001b[0m\u001b[0minfbounds\u001b[0m\u001b[0;34m,\u001b[0m\u001b[0margs\u001b[0m\u001b[0;34m,\u001b[0m\u001b[0mfull_output\u001b[0m\u001b[0;34m,\u001b[0m\u001b[0mepsabs\u001b[0m\u001b[0;34m,\u001b[0m\u001b[0mepsrel\u001b[0m\u001b[0;34m,\u001b[0m\u001b[0mlimit\u001b[0m\u001b[0;34m)\u001b[0m\u001b[0;34m\u001b[0m\u001b[0;34m\u001b[0m\u001b[0m\n",
            "\u001b[0;32m/usr/local/lib/python3.10/dist-packages/scipy/integrate/_quadpack_py.py\u001b[0m in \u001b[0;36mintegrate\u001b[0;34m(self, *args, **kwargs)\u001b[0m\n\u001b[1;32m   1231\u001b[0m         \u001b[0;32melse\u001b[0m\u001b[0;34m:\u001b[0m\u001b[0;34m\u001b[0m\u001b[0;34m\u001b[0m\u001b[0m\n\u001b[1;32m   1232\u001b[0m             \u001b[0mf\u001b[0m \u001b[0;34m=\u001b[0m \u001b[0mpartial\u001b[0m\u001b[0;34m(\u001b[0m\u001b[0mself\u001b[0m\u001b[0;34m.\u001b[0m\u001b[0mintegrate\u001b[0m\u001b[0;34m,\u001b[0m \u001b[0mdepth\u001b[0m\u001b[0;34m=\u001b[0m\u001b[0mdepth\u001b[0m\u001b[0;34m+\u001b[0m\u001b[0;36m1\u001b[0m\u001b[0;34m)\u001b[0m\u001b[0;34m\u001b[0m\u001b[0;34m\u001b[0m\u001b[0m\n\u001b[0;32m-> 1233\u001b[0;31m         quad_r = quad(f, low, high, args=args, full_output=self.full_output,\n\u001b[0m\u001b[1;32m   1234\u001b[0m                       **opt)\n\u001b[1;32m   1235\u001b[0m         \u001b[0mvalue\u001b[0m \u001b[0;34m=\u001b[0m \u001b[0mquad_r\u001b[0m\u001b[0;34m[\u001b[0m\u001b[0;36m0\u001b[0m\u001b[0;34m]\u001b[0m\u001b[0;34m\u001b[0m\u001b[0;34m\u001b[0m\u001b[0m\n",
            "\u001b[0;32m/usr/local/lib/python3.10/dist-packages/scipy/integrate/_quadpack_py.py\u001b[0m in \u001b[0;36mquad\u001b[0;34m(func, a, b, args, full_output, epsabs, epsrel, limit, points, weight, wvar, wopts, maxp1, limlst, complex_func)\u001b[0m\n\u001b[1;32m    463\u001b[0m \u001b[0;34m\u001b[0m\u001b[0m\n\u001b[1;32m    464\u001b[0m     \u001b[0;32mif\u001b[0m \u001b[0mweight\u001b[0m \u001b[0;32mis\u001b[0m \u001b[0;32mNone\u001b[0m\u001b[0;34m:\u001b[0m\u001b[0;34m\u001b[0m\u001b[0;34m\u001b[0m\u001b[0m\n\u001b[0;32m--> 465\u001b[0;31m         retval = _quad(func, a, b, args, full_output, epsabs, epsrel, limit,\n\u001b[0m\u001b[1;32m    466\u001b[0m                        points)\n\u001b[1;32m    467\u001b[0m     \u001b[0;32melse\u001b[0m\u001b[0;34m:\u001b[0m\u001b[0;34m\u001b[0m\u001b[0;34m\u001b[0m\u001b[0m\n",
            "\u001b[0;32m/usr/local/lib/python3.10/dist-packages/scipy/integrate/_quadpack_py.py\u001b[0m in \u001b[0;36m_quad\u001b[0;34m(func, a, b, args, full_output, epsabs, epsrel, limit, points)\u001b[0m\n\u001b[1;32m    575\u001b[0m     \u001b[0;32mif\u001b[0m \u001b[0mpoints\u001b[0m \u001b[0;32mis\u001b[0m \u001b[0;32mNone\u001b[0m\u001b[0;34m:\u001b[0m\u001b[0;34m\u001b[0m\u001b[0;34m\u001b[0m\u001b[0m\n\u001b[1;32m    576\u001b[0m         \u001b[0;32mif\u001b[0m \u001b[0minfbounds\u001b[0m \u001b[0;34m==\u001b[0m \u001b[0;36m0\u001b[0m\u001b[0;34m:\u001b[0m\u001b[0;34m\u001b[0m\u001b[0;34m\u001b[0m\u001b[0m\n\u001b[0;32m--> 577\u001b[0;31m             \u001b[0;32mreturn\u001b[0m \u001b[0m_quadpack\u001b[0m\u001b[0;34m.\u001b[0m\u001b[0m_qagse\u001b[0m\u001b[0;34m(\u001b[0m\u001b[0mfunc\u001b[0m\u001b[0;34m,\u001b[0m\u001b[0ma\u001b[0m\u001b[0;34m,\u001b[0m\u001b[0mb\u001b[0m\u001b[0;34m,\u001b[0m\u001b[0margs\u001b[0m\u001b[0;34m,\u001b[0m\u001b[0mfull_output\u001b[0m\u001b[0;34m,\u001b[0m\u001b[0mepsabs\u001b[0m\u001b[0;34m,\u001b[0m\u001b[0mepsrel\u001b[0m\u001b[0;34m,\u001b[0m\u001b[0mlimit\u001b[0m\u001b[0;34m)\u001b[0m\u001b[0;34m\u001b[0m\u001b[0;34m\u001b[0m\u001b[0m\n\u001b[0m\u001b[1;32m    578\u001b[0m         \u001b[0;32melse\u001b[0m\u001b[0;34m:\u001b[0m\u001b[0;34m\u001b[0m\u001b[0;34m\u001b[0m\u001b[0m\n\u001b[1;32m    579\u001b[0m             \u001b[0;32mreturn\u001b[0m \u001b[0m_quadpack\u001b[0m\u001b[0;34m.\u001b[0m\u001b[0m_qagie\u001b[0m\u001b[0;34m(\u001b[0m\u001b[0mfunc\u001b[0m\u001b[0;34m,\u001b[0m\u001b[0mbound\u001b[0m\u001b[0;34m,\u001b[0m\u001b[0minfbounds\u001b[0m\u001b[0;34m,\u001b[0m\u001b[0margs\u001b[0m\u001b[0;34m,\u001b[0m\u001b[0mfull_output\u001b[0m\u001b[0;34m,\u001b[0m\u001b[0mepsabs\u001b[0m\u001b[0;34m,\u001b[0m\u001b[0mepsrel\u001b[0m\u001b[0;34m,\u001b[0m\u001b[0mlimit\u001b[0m\u001b[0;34m)\u001b[0m\u001b[0;34m\u001b[0m\u001b[0;34m\u001b[0m\u001b[0m\n",
            "\u001b[0;32m<ipython-input-11-63bf664b1b4e>\u001b[0m in \u001b[0;36m<lambda>\u001b[0;34m(theta, phi, psi, i, j, k, l)\u001b[0m\n\u001b[1;32m     40\u001b[0m \u001b[0;34m\u001b[0m\u001b[0m\n\u001b[1;32m     41\u001b[0m \u001b[0;34m\u001b[0m\u001b[0m\n\u001b[0;32m---> 42\u001b[0;31m           \u001b[0mintegrand\u001b[0m \u001b[0;34m=\u001b[0m \u001b[0;34m(\u001b[0m\u001b[0;32mlambda\u001b[0m \u001b[0mtheta\u001b[0m\u001b[0;34m,\u001b[0m \u001b[0mphi\u001b[0m\u001b[0;34m,\u001b[0m \u001b[0mpsi\u001b[0m\u001b[0;34m,\u001b[0m \u001b[0mi\u001b[0m\u001b[0;34m=\u001b[0m\u001b[0mi\u001b[0m\u001b[0;34m,\u001b[0m \u001b[0mj\u001b[0m\u001b[0;34m=\u001b[0m\u001b[0mj\u001b[0m\u001b[0;34m,\u001b[0m \u001b[0mk\u001b[0m\u001b[0;34m=\u001b[0m\u001b[0mk\u001b[0m\u001b[0;34m,\u001b[0m \u001b[0ml\u001b[0m\u001b[0;34m=\u001b[0m\u001b[0ml\u001b[0m\u001b[0;34m:\u001b[0m \u001b[0mrotation\u001b[0m\u001b[0;34m(\u001b[0m\u001b[0mtheta\u001b[0m\u001b[0;34m,\u001b[0m \u001b[0mphi\u001b[0m\u001b[0;34m,\u001b[0m \u001b[0mpsi\u001b[0m\u001b[0;34m,\u001b[0m \u001b[0mA\u001b[0m\u001b[0;34m,\u001b[0m \u001b[0;34m(\u001b[0m\u001b[0mi\u001b[0m\u001b[0;34m,\u001b[0m\u001b[0mj\u001b[0m\u001b[0;34m,\u001b[0m\u001b[0mk\u001b[0m\u001b[0;34m,\u001b[0m\u001b[0ml\u001b[0m\u001b[0;34m)\u001b[0m\u001b[0;34m)\u001b[0m\u001b[0;34m*\u001b[0m \u001b[0mnp\u001b[0m\u001b[0;34m.\u001b[0m\u001b[0msin\u001b[0m\u001b[0;34m(\u001b[0m\u001b[0mtheta\u001b[0m\u001b[0;34m)\u001b[0m\u001b[0;34m)\u001b[0m\u001b[0;34m\u001b[0m\u001b[0;34m\u001b[0m\u001b[0m\n\u001b[0m\u001b[1;32m     43\u001b[0m           \u001b[0mintegral\u001b[0m\u001b[0;34m,\u001b[0m\u001b[0m_\u001b[0m \u001b[0;34m=\u001b[0m \u001b[0mintegrate\u001b[0m\u001b[0;34m.\u001b[0m\u001b[0mnquad\u001b[0m\u001b[0;34m(\u001b[0m\u001b[0mintegrand\u001b[0m\u001b[0;34m,\u001b[0m \u001b[0;34m[\u001b[0m\u001b[0;34m[\u001b[0m\u001b[0;36m0\u001b[0m\u001b[0;34m,\u001b[0m \u001b[0mnp\u001b[0m\u001b[0;34m.\u001b[0m\u001b[0mpi\u001b[0m\u001b[0;34m]\u001b[0m\u001b[0;34m,\u001b[0m \u001b[0;34m[\u001b[0m\u001b[0;36m0\u001b[0m\u001b[0;34m,\u001b[0m \u001b[0;36m2\u001b[0m\u001b[0;34m*\u001b[0m\u001b[0mnp\u001b[0m\u001b[0;34m.\u001b[0m\u001b[0mpi\u001b[0m\u001b[0;34m]\u001b[0m\u001b[0;34m,\u001b[0m \u001b[0;34m[\u001b[0m\u001b[0;36m0\u001b[0m\u001b[0;34m,\u001b[0m \u001b[0;36m2\u001b[0m\u001b[0;34m*\u001b[0m\u001b[0mnp\u001b[0m\u001b[0;34m.\u001b[0m\u001b[0mpi\u001b[0m\u001b[0;34m]\u001b[0m\u001b[0;34m]\u001b[0m\u001b[0;34m)\u001b[0m\u001b[0;34m\u001b[0m\u001b[0;34m\u001b[0m\u001b[0m\n\u001b[1;32m     44\u001b[0m           \u001b[0mrslt_num_A\u001b[0m\u001b[0;34m[\u001b[0m\u001b[0mi\u001b[0m\u001b[0;34m,\u001b[0m \u001b[0mj\u001b[0m\u001b[0;34m,\u001b[0m \u001b[0mk\u001b[0m\u001b[0;34m,\u001b[0m \u001b[0ml\u001b[0m\u001b[0;34m]\u001b[0m \u001b[0;34m=\u001b[0m  \u001b[0mintegral\u001b[0m \u001b[0;34m*\u001b[0m \u001b[0;36m1\u001b[0m\u001b[0;34m/\u001b[0m\u001b[0;34m(\u001b[0m\u001b[0;36m8\u001b[0m\u001b[0;34m*\u001b[0m\u001b[0mnp\u001b[0m\u001b[0;34m.\u001b[0m\u001b[0mpi\u001b[0m\u001b[0;34m**\u001b[0m\u001b[0;36m2\u001b[0m\u001b[0;34m)\u001b[0m\u001b[0;34m\u001b[0m\u001b[0;34m\u001b[0m\u001b[0m\n",
            "\u001b[0;32m<ipython-input-7-665dc1d0d088>\u001b[0m in \u001b[0;36mrotation\u001b[0;34m(psi, phi, theta, A, position)\u001b[0m\n\u001b[1;32m     19\u001b[0m                 \u001b[0;32mfor\u001b[0m \u001b[0mt\u001b[0m \u001b[0;32min\u001b[0m \u001b[0mrange\u001b[0m\u001b[0;34m(\u001b[0m\u001b[0;36m3\u001b[0m\u001b[0;34m)\u001b[0m\u001b[0;34m:\u001b[0m\u001b[0;34m\u001b[0m\u001b[0;34m\u001b[0m\u001b[0m\n\u001b[1;32m     20\u001b[0m \u001b[0;34m\u001b[0m\u001b[0m\n\u001b[0;32m---> 21\u001b[0;31m                   \u001b[0mA_new_cord\u001b[0m\u001b[0;34m[\u001b[0m\u001b[0mp\u001b[0m\u001b[0;34m,\u001b[0m\u001b[0mq\u001b[0m\u001b[0;34m,\u001b[0m\u001b[0mr\u001b[0m\u001b[0;34m,\u001b[0m\u001b[0mt\u001b[0m\u001b[0;34m]\u001b[0m \u001b[0;34m+=\u001b[0m  \u001b[0mA\u001b[0m\u001b[0;34m[\u001b[0m\u001b[0mi\u001b[0m\u001b[0;34m,\u001b[0m\u001b[0mj\u001b[0m\u001b[0;34m,\u001b[0m\u001b[0mk\u001b[0m\u001b[0;34m,\u001b[0m\u001b[0ml\u001b[0m\u001b[0;34m]\u001b[0m\u001b[0;34m*\u001b[0m \u001b[0mB\u001b[0m\u001b[0;34m[\u001b[0m\u001b[0mi\u001b[0m\u001b[0;34m,\u001b[0m\u001b[0mp\u001b[0m\u001b[0;34m]\u001b[0m \u001b[0;34m*\u001b[0m \u001b[0mB\u001b[0m\u001b[0;34m[\u001b[0m\u001b[0mj\u001b[0m\u001b[0;34m,\u001b[0m\u001b[0mq\u001b[0m\u001b[0;34m]\u001b[0m \u001b[0;34m*\u001b[0m \u001b[0mB\u001b[0m\u001b[0;34m[\u001b[0m\u001b[0mk\u001b[0m\u001b[0;34m,\u001b[0m\u001b[0mr\u001b[0m\u001b[0;34m]\u001b[0m \u001b[0;34m*\u001b[0m \u001b[0mB\u001b[0m\u001b[0;34m[\u001b[0m\u001b[0ml\u001b[0m\u001b[0;34m,\u001b[0m\u001b[0mt\u001b[0m\u001b[0;34m]\u001b[0m\u001b[0;34m\u001b[0m\u001b[0;34m\u001b[0m\u001b[0m\n\u001b[0m\u001b[1;32m     22\u001b[0m \u001b[0;34m\u001b[0m\u001b[0m\n\u001b[1;32m     23\u001b[0m     \u001b[0;32mreturn\u001b[0m \u001b[0mA_new_cord\u001b[0m\u001b[0;34m[\u001b[0m\u001b[0ma\u001b[0m\u001b[0;34m,\u001b[0m \u001b[0mb\u001b[0m\u001b[0;34m,\u001b[0m \u001b[0mc\u001b[0m\u001b[0;34m,\u001b[0m \u001b[0md\u001b[0m\u001b[0;34m]\u001b[0m\u001b[0;34m\u001b[0m\u001b[0;34m\u001b[0m\u001b[0m\n",
            "\u001b[0;31mKeyboardInterrupt\u001b[0m: "
          ]
        }
      ],
      "source": [
        "A = effective_tensor_new(g_m, g_fl, C_mtrx, C_fl, C_c, porosity)\n",
        "# print(A.shape)"
      ]
    },
    {
      "cell_type": "code",
      "execution_count": null,
      "metadata": {
        "colab": {
          "base_uri": "https://localhost:8080/"
        },
        "id": "__n5kLwZAAwV",
        "outputId": "e95d2df0-976d-4eb8-f505-c6067204bc35"
      },
      "outputs": [
        {
          "data": {
            "text/plain": [
              "array([[ 4.9904e+00,  4.9681e+00,  4.9681e+00, -0.0000e+00, -0.0000e+00,\n",
              "         0.0000e+00],\n",
              "       [ 4.9681e+00,  4.9904e+00,  4.9681e+00, -0.0000e+00, -0.0000e+00,\n",
              "         0.0000e+00],\n",
              "       [ 4.9681e+00,  4.9681e+00,  4.9904e+00, -0.0000e+00, -0.0000e+00,\n",
              "         0.0000e+00],\n",
              "       [-0.0000e+00, -0.0000e+00,  0.0000e+00,  4.2000e-03, -0.0000e+00,\n",
              "        -0.0000e+00],\n",
              "       [ 0.0000e+00, -0.0000e+00, -0.0000e+00, -0.0000e+00,  4.2000e-03,\n",
              "        -0.0000e+00],\n",
              "       [-0.0000e+00,  0.0000e+00, -0.0000e+00, -0.0000e+00, -0.0000e+00,\n",
              "         4.2000e-03]])"
            ]
          },
          "execution_count": 200,
          "metadata": {},
          "output_type": "execute_result"
        }
      ],
      "source": [
        "np.round(A, 4)"
      ]
    },
    {
      "cell_type": "code",
      "execution_count": null,
      "metadata": {
        "id": "uwlQue765Qve"
      },
      "outputs": [],
      "source": [
        "C_c = C_mtrx\n",
        "g_m = tensor_g(C_c, [1, 1, 1])\n",
        "g_fl = g_m\n",
        "# g_fl = tensor_g(C_c, [10, 10, 1])\n",
        "porosity = 0.1"
      ]
    },
    {
      "cell_type": "code",
      "execution_count": null,
      "metadata": {
        "colab": {
          "base_uri": "https://localhost:8080/",
          "height": 282
        },
        "id": "Hpzlrv6jntlz",
        "outputId": "3e3ed92c-121f-4997-a2c1-4d8e0d715e6e"
      },
      "outputs": [
        {
          "ename": "KeyboardInterrupt",
          "evalue": "",
          "output_type": "error",
          "traceback": [
            "\u001b[0;31m---------------------------------------------------------------------------\u001b[0m",
            "\u001b[0;31mKeyboardInterrupt\u001b[0m                         Traceback (most recent call last)",
            "\u001b[0;32m<ipython-input-153-8d6e8f700117>\u001b[0m in \u001b[0;36m<cell line: 1>\u001b[0;34m()\u001b[0m\n\u001b[0;32m----> 1\u001b[0;31m \u001b[0mresult\u001b[0m \u001b[0;34m=\u001b[0m \u001b[0meffective_tensor_new\u001b[0m\u001b[0;34m(\u001b[0m\u001b[0mg_m\u001b[0m\u001b[0;34m,\u001b[0m \u001b[0mg_fl\u001b[0m\u001b[0;34m,\u001b[0m \u001b[0mC_mtrx\u001b[0m\u001b[0;34m,\u001b[0m \u001b[0mC_fl\u001b[0m\u001b[0;34m,\u001b[0m \u001b[0mC_c\u001b[0m\u001b[0;34m,\u001b[0m \u001b[0mporosity\u001b[0m\u001b[0;34m)\u001b[0m\u001b[0;34m\u001b[0m\u001b[0;34m\u001b[0m\u001b[0m\n\u001b[0m",
            "\u001b[0;32m<ipython-input-152-d7f91602e359>\u001b[0m in \u001b[0;36meffective_tensor_new\u001b[0;34m(g_m, g_fl, C_mtrx, C_fl, C_c, porosity)\u001b[0m\n\u001b[1;32m     41\u001b[0m \u001b[0;34m\u001b[0m\u001b[0m\n\u001b[1;32m     42\u001b[0m           \u001b[0mintegrand\u001b[0m \u001b[0;34m=\u001b[0m \u001b[0;34m(\u001b[0m\u001b[0;32mlambda\u001b[0m \u001b[0mtheta\u001b[0m\u001b[0;34m,\u001b[0m \u001b[0mphi\u001b[0m\u001b[0;34m,\u001b[0m \u001b[0mpsi\u001b[0m\u001b[0;34m,\u001b[0m \u001b[0mi\u001b[0m\u001b[0;34m=\u001b[0m\u001b[0mi\u001b[0m\u001b[0;34m,\u001b[0m \u001b[0mj\u001b[0m\u001b[0;34m=\u001b[0m\u001b[0mj\u001b[0m\u001b[0;34m,\u001b[0m \u001b[0mk\u001b[0m\u001b[0;34m=\u001b[0m\u001b[0mk\u001b[0m\u001b[0;34m,\u001b[0m \u001b[0ml\u001b[0m\u001b[0;34m=\u001b[0m\u001b[0ml\u001b[0m\u001b[0;34m:\u001b[0m \u001b[0mrotation\u001b[0m\u001b[0;34m(\u001b[0m\u001b[0mtheta\u001b[0m\u001b[0;34m,\u001b[0m \u001b[0mphi\u001b[0m\u001b[0;34m,\u001b[0m \u001b[0mpsi\u001b[0m\u001b[0;34m,\u001b[0m \u001b[0mrslt_num\u001b[0m\u001b[0;34m,\u001b[0m \u001b[0;34m(\u001b[0m\u001b[0mi\u001b[0m\u001b[0;34m,\u001b[0m \u001b[0mk\u001b[0m\u001b[0;34m,\u001b[0m \u001b[0ml\u001b[0m\u001b[0;34m,\u001b[0m \u001b[0mj\u001b[0m\u001b[0;34m)\u001b[0m\u001b[0;34m)\u001b[0m\u001b[0;34m*\u001b[0m \u001b[0mnp\u001b[0m\u001b[0;34m.\u001b[0m\u001b[0msin\u001b[0m\u001b[0;34m(\u001b[0m\u001b[0mtheta\u001b[0m\u001b[0;34m)\u001b[0m\u001b[0;34m)\u001b[0m\u001b[0;34m\u001b[0m\u001b[0;34m\u001b[0m\u001b[0m\n\u001b[0;32m---> 43\u001b[0;31m           \u001b[0mintegral\u001b[0m \u001b[0;34m=\u001b[0m \u001b[0mintegrate\u001b[0m\u001b[0;34m.\u001b[0m\u001b[0mtplquad\u001b[0m\u001b[0;34m(\u001b[0m\u001b[0mintegrand\u001b[0m\u001b[0;34m,\u001b[0m \u001b[0;36m0\u001b[0m\u001b[0;34m,\u001b[0m \u001b[0mnp\u001b[0m\u001b[0;34m.\u001b[0m\u001b[0mpi\u001b[0m\u001b[0;34m,\u001b[0m \u001b[0;36m0\u001b[0m\u001b[0;34m,\u001b[0m \u001b[0;36m2\u001b[0m\u001b[0;34m*\u001b[0m\u001b[0mnp\u001b[0m\u001b[0;34m.\u001b[0m\u001b[0mpi\u001b[0m\u001b[0;34m,\u001b[0m \u001b[0;36m0\u001b[0m\u001b[0;34m,\u001b[0m \u001b[0;36m2\u001b[0m\u001b[0;34m*\u001b[0m\u001b[0mnp\u001b[0m\u001b[0;34m.\u001b[0m\u001b[0mpi\u001b[0m\u001b[0;34m)\u001b[0m\u001b[0;34m\u001b[0m\u001b[0;34m\u001b[0m\u001b[0m\n\u001b[0m\u001b[1;32m     44\u001b[0m \u001b[0;34m\u001b[0m\u001b[0m\n\u001b[1;32m     45\u001b[0m \u001b[0;34m\u001b[0m\u001b[0m\n",
            "\u001b[0;32m/usr/local/lib/python3.10/dist-packages/scipy/integrate/_quadpack_py.py\u001b[0m in \u001b[0;36mtplquad\u001b[0;34m(func, a, b, gfun, hfun, qfun, rfun, args, epsabs, epsrel)\u001b[0m\n\u001b[1;32m    923\u001b[0m \u001b[0;34m\u001b[0m\u001b[0m\n\u001b[1;32m    924\u001b[0m     \u001b[0mranges\u001b[0m \u001b[0;34m=\u001b[0m \u001b[0;34m[\u001b[0m\u001b[0mranges0\u001b[0m\u001b[0;34m,\u001b[0m \u001b[0mranges1\u001b[0m\u001b[0;34m,\u001b[0m \u001b[0;34m[\u001b[0m\u001b[0ma\u001b[0m\u001b[0;34m,\u001b[0m \u001b[0mb\u001b[0m\u001b[0;34m]\u001b[0m\u001b[0;34m]\u001b[0m\u001b[0;34m\u001b[0m\u001b[0;34m\u001b[0m\u001b[0m\n\u001b[0;32m--> 925\u001b[0;31m     return nquad(func, ranges, args=args,\n\u001b[0m\u001b[1;32m    926\u001b[0m             opts={\"epsabs\": epsabs, \"epsrel\": epsrel})\n\u001b[1;32m    927\u001b[0m \u001b[0;34m\u001b[0m\u001b[0m\n",
            "\u001b[0;32m/usr/local/lib/python3.10/dist-packages/scipy/integrate/_quadpack_py.py\u001b[0m in \u001b[0;36mnquad\u001b[0;34m(func, ranges, args, opts, full_output)\u001b[0m\n\u001b[1;32m   1177\u001b[0m     \u001b[0;32melse\u001b[0m\u001b[0;34m:\u001b[0m\u001b[0;34m\u001b[0m\u001b[0;34m\u001b[0m\u001b[0m\n\u001b[1;32m   1178\u001b[0m         \u001b[0mopts\u001b[0m \u001b[0;34m=\u001b[0m \u001b[0;34m[\u001b[0m\u001b[0mopt\u001b[0m \u001b[0;32mif\u001b[0m \u001b[0mcallable\u001b[0m\u001b[0;34m(\u001b[0m\u001b[0mopt\u001b[0m\u001b[0;34m)\u001b[0m \u001b[0;32melse\u001b[0m \u001b[0m_OptFunc\u001b[0m\u001b[0;34m(\u001b[0m\u001b[0mopt\u001b[0m\u001b[0;34m)\u001b[0m \u001b[0;32mfor\u001b[0m \u001b[0mopt\u001b[0m \u001b[0;32min\u001b[0m \u001b[0mopts\u001b[0m\u001b[0;34m]\u001b[0m\u001b[0;34m\u001b[0m\u001b[0;34m\u001b[0m\u001b[0m\n\u001b[0;32m-> 1179\u001b[0;31m     \u001b[0;32mreturn\u001b[0m \u001b[0m_NQuad\u001b[0m\u001b[0;34m(\u001b[0m\u001b[0mfunc\u001b[0m\u001b[0;34m,\u001b[0m \u001b[0mranges\u001b[0m\u001b[0;34m,\u001b[0m \u001b[0mopts\u001b[0m\u001b[0;34m,\u001b[0m \u001b[0mfull_output\u001b[0m\u001b[0;34m)\u001b[0m\u001b[0;34m.\u001b[0m\u001b[0mintegrate\u001b[0m\u001b[0;34m(\u001b[0m\u001b[0;34m*\u001b[0m\u001b[0margs\u001b[0m\u001b[0;34m)\u001b[0m\u001b[0;34m\u001b[0m\u001b[0;34m\u001b[0m\u001b[0m\n\u001b[0m\u001b[1;32m   1180\u001b[0m \u001b[0;34m\u001b[0m\u001b[0m\n\u001b[1;32m   1181\u001b[0m \u001b[0;34m\u001b[0m\u001b[0m\n",
            "\u001b[0;32m/usr/local/lib/python3.10/dist-packages/scipy/integrate/_quadpack_py.py\u001b[0m in \u001b[0;36mintegrate\u001b[0;34m(self, *args, **kwargs)\u001b[0m\n\u001b[1;32m   1231\u001b[0m         \u001b[0;32melse\u001b[0m\u001b[0;34m:\u001b[0m\u001b[0;34m\u001b[0m\u001b[0;34m\u001b[0m\u001b[0m\n\u001b[1;32m   1232\u001b[0m             \u001b[0mf\u001b[0m \u001b[0;34m=\u001b[0m \u001b[0mpartial\u001b[0m\u001b[0;34m(\u001b[0m\u001b[0mself\u001b[0m\u001b[0;34m.\u001b[0m\u001b[0mintegrate\u001b[0m\u001b[0;34m,\u001b[0m \u001b[0mdepth\u001b[0m\u001b[0;34m=\u001b[0m\u001b[0mdepth\u001b[0m\u001b[0;34m+\u001b[0m\u001b[0;36m1\u001b[0m\u001b[0;34m)\u001b[0m\u001b[0;34m\u001b[0m\u001b[0;34m\u001b[0m\u001b[0m\n\u001b[0;32m-> 1233\u001b[0;31m         quad_r = quad(f, low, high, args=args, full_output=self.full_output,\n\u001b[0m\u001b[1;32m   1234\u001b[0m                       **opt)\n\u001b[1;32m   1235\u001b[0m         \u001b[0mvalue\u001b[0m \u001b[0;34m=\u001b[0m \u001b[0mquad_r\u001b[0m\u001b[0;34m[\u001b[0m\u001b[0;36m0\u001b[0m\u001b[0;34m]\u001b[0m\u001b[0;34m\u001b[0m\u001b[0;34m\u001b[0m\u001b[0m\n",
            "\u001b[0;32m/usr/local/lib/python3.10/dist-packages/scipy/integrate/_quadpack_py.py\u001b[0m in \u001b[0;36mquad\u001b[0;34m(func, a, b, args, full_output, epsabs, epsrel, limit, points, weight, wvar, wopts, maxp1, limlst, complex_func)\u001b[0m\n\u001b[1;32m    463\u001b[0m \u001b[0;34m\u001b[0m\u001b[0m\n\u001b[1;32m    464\u001b[0m     \u001b[0;32mif\u001b[0m \u001b[0mweight\u001b[0m \u001b[0;32mis\u001b[0m \u001b[0;32mNone\u001b[0m\u001b[0;34m:\u001b[0m\u001b[0;34m\u001b[0m\u001b[0;34m\u001b[0m\u001b[0m\n\u001b[0;32m--> 465\u001b[0;31m         retval = _quad(func, a, b, args, full_output, epsabs, epsrel, limit,\n\u001b[0m\u001b[1;32m    466\u001b[0m                        points)\n\u001b[1;32m    467\u001b[0m     \u001b[0;32melse\u001b[0m\u001b[0;34m:\u001b[0m\u001b[0;34m\u001b[0m\u001b[0;34m\u001b[0m\u001b[0m\n",
            "\u001b[0;32m/usr/local/lib/python3.10/dist-packages/scipy/integrate/_quadpack_py.py\u001b[0m in \u001b[0;36m_quad\u001b[0;34m(func, a, b, args, full_output, epsabs, epsrel, limit, points)\u001b[0m\n\u001b[1;32m    575\u001b[0m     \u001b[0;32mif\u001b[0m \u001b[0mpoints\u001b[0m \u001b[0;32mis\u001b[0m \u001b[0;32mNone\u001b[0m\u001b[0;34m:\u001b[0m\u001b[0;34m\u001b[0m\u001b[0;34m\u001b[0m\u001b[0m\n\u001b[1;32m    576\u001b[0m         \u001b[0;32mif\u001b[0m \u001b[0minfbounds\u001b[0m \u001b[0;34m==\u001b[0m \u001b[0;36m0\u001b[0m\u001b[0;34m:\u001b[0m\u001b[0;34m\u001b[0m\u001b[0;34m\u001b[0m\u001b[0m\n\u001b[0;32m--> 577\u001b[0;31m             \u001b[0;32mreturn\u001b[0m \u001b[0m_quadpack\u001b[0m\u001b[0;34m.\u001b[0m\u001b[0m_qagse\u001b[0m\u001b[0;34m(\u001b[0m\u001b[0mfunc\u001b[0m\u001b[0;34m,\u001b[0m\u001b[0ma\u001b[0m\u001b[0;34m,\u001b[0m\u001b[0mb\u001b[0m\u001b[0;34m,\u001b[0m\u001b[0margs\u001b[0m\u001b[0;34m,\u001b[0m\u001b[0mfull_output\u001b[0m\u001b[0;34m,\u001b[0m\u001b[0mepsabs\u001b[0m\u001b[0;34m,\u001b[0m\u001b[0mepsrel\u001b[0m\u001b[0;34m,\u001b[0m\u001b[0mlimit\u001b[0m\u001b[0;34m)\u001b[0m\u001b[0;34m\u001b[0m\u001b[0;34m\u001b[0m\u001b[0m\n\u001b[0m\u001b[1;32m    578\u001b[0m         \u001b[0;32melse\u001b[0m\u001b[0;34m:\u001b[0m\u001b[0;34m\u001b[0m\u001b[0;34m\u001b[0m\u001b[0m\n\u001b[1;32m    579\u001b[0m             \u001b[0;32mreturn\u001b[0m \u001b[0m_quadpack\u001b[0m\u001b[0;34m.\u001b[0m\u001b[0m_qagie\u001b[0m\u001b[0;34m(\u001b[0m\u001b[0mfunc\u001b[0m\u001b[0;34m,\u001b[0m\u001b[0mbound\u001b[0m\u001b[0;34m,\u001b[0m\u001b[0minfbounds\u001b[0m\u001b[0;34m,\u001b[0m\u001b[0margs\u001b[0m\u001b[0;34m,\u001b[0m\u001b[0mfull_output\u001b[0m\u001b[0;34m,\u001b[0m\u001b[0mepsabs\u001b[0m\u001b[0;34m,\u001b[0m\u001b[0mepsrel\u001b[0m\u001b[0;34m,\u001b[0m\u001b[0mlimit\u001b[0m\u001b[0;34m)\u001b[0m\u001b[0;34m\u001b[0m\u001b[0;34m\u001b[0m\u001b[0m\n",
            "\u001b[0;32m/usr/local/lib/python3.10/dist-packages/scipy/integrate/_quadpack_py.py\u001b[0m in \u001b[0;36mintegrate\u001b[0;34m(self, *args, **kwargs)\u001b[0m\n\u001b[1;32m   1231\u001b[0m         \u001b[0;32melse\u001b[0m\u001b[0;34m:\u001b[0m\u001b[0;34m\u001b[0m\u001b[0;34m\u001b[0m\u001b[0m\n\u001b[1;32m   1232\u001b[0m             \u001b[0mf\u001b[0m \u001b[0;34m=\u001b[0m \u001b[0mpartial\u001b[0m\u001b[0;34m(\u001b[0m\u001b[0mself\u001b[0m\u001b[0;34m.\u001b[0m\u001b[0mintegrate\u001b[0m\u001b[0;34m,\u001b[0m \u001b[0mdepth\u001b[0m\u001b[0;34m=\u001b[0m\u001b[0mdepth\u001b[0m\u001b[0;34m+\u001b[0m\u001b[0;36m1\u001b[0m\u001b[0;34m)\u001b[0m\u001b[0;34m\u001b[0m\u001b[0;34m\u001b[0m\u001b[0m\n\u001b[0;32m-> 1233\u001b[0;31m         quad_r = quad(f, low, high, args=args, full_output=self.full_output,\n\u001b[0m\u001b[1;32m   1234\u001b[0m                       **opt)\n\u001b[1;32m   1235\u001b[0m         \u001b[0mvalue\u001b[0m \u001b[0;34m=\u001b[0m \u001b[0mquad_r\u001b[0m\u001b[0;34m[\u001b[0m\u001b[0;36m0\u001b[0m\u001b[0;34m]\u001b[0m\u001b[0;34m\u001b[0m\u001b[0;34m\u001b[0m\u001b[0m\n",
            "\u001b[0;32m/usr/local/lib/python3.10/dist-packages/scipy/integrate/_quadpack_py.py\u001b[0m in \u001b[0;36mquad\u001b[0;34m(func, a, b, args, full_output, epsabs, epsrel, limit, points, weight, wvar, wopts, maxp1, limlst, complex_func)\u001b[0m\n\u001b[1;32m    463\u001b[0m \u001b[0;34m\u001b[0m\u001b[0m\n\u001b[1;32m    464\u001b[0m     \u001b[0;32mif\u001b[0m \u001b[0mweight\u001b[0m \u001b[0;32mis\u001b[0m \u001b[0;32mNone\u001b[0m\u001b[0;34m:\u001b[0m\u001b[0;34m\u001b[0m\u001b[0;34m\u001b[0m\u001b[0m\n\u001b[0;32m--> 465\u001b[0;31m         retval = _quad(func, a, b, args, full_output, epsabs, epsrel, limit,\n\u001b[0m\u001b[1;32m    466\u001b[0m                        points)\n\u001b[1;32m    467\u001b[0m     \u001b[0;32melse\u001b[0m\u001b[0;34m:\u001b[0m\u001b[0;34m\u001b[0m\u001b[0;34m\u001b[0m\u001b[0m\n",
            "\u001b[0;32m/usr/local/lib/python3.10/dist-packages/scipy/integrate/_quadpack_py.py\u001b[0m in \u001b[0;36m_quad\u001b[0;34m(func, a, b, args, full_output, epsabs, epsrel, limit, points)\u001b[0m\n\u001b[1;32m    575\u001b[0m     \u001b[0;32mif\u001b[0m \u001b[0mpoints\u001b[0m \u001b[0;32mis\u001b[0m \u001b[0;32mNone\u001b[0m\u001b[0;34m:\u001b[0m\u001b[0;34m\u001b[0m\u001b[0;34m\u001b[0m\u001b[0m\n\u001b[1;32m    576\u001b[0m         \u001b[0;32mif\u001b[0m \u001b[0minfbounds\u001b[0m \u001b[0;34m==\u001b[0m \u001b[0;36m0\u001b[0m\u001b[0;34m:\u001b[0m\u001b[0;34m\u001b[0m\u001b[0;34m\u001b[0m\u001b[0m\n\u001b[0;32m--> 577\u001b[0;31m             \u001b[0;32mreturn\u001b[0m \u001b[0m_quadpack\u001b[0m\u001b[0;34m.\u001b[0m\u001b[0m_qagse\u001b[0m\u001b[0;34m(\u001b[0m\u001b[0mfunc\u001b[0m\u001b[0;34m,\u001b[0m\u001b[0ma\u001b[0m\u001b[0;34m,\u001b[0m\u001b[0mb\u001b[0m\u001b[0;34m,\u001b[0m\u001b[0margs\u001b[0m\u001b[0;34m,\u001b[0m\u001b[0mfull_output\u001b[0m\u001b[0;34m,\u001b[0m\u001b[0mepsabs\u001b[0m\u001b[0;34m,\u001b[0m\u001b[0mepsrel\u001b[0m\u001b[0;34m,\u001b[0m\u001b[0mlimit\u001b[0m\u001b[0;34m)\u001b[0m\u001b[0;34m\u001b[0m\u001b[0;34m\u001b[0m\u001b[0m\n\u001b[0m\u001b[1;32m    578\u001b[0m         \u001b[0;32melse\u001b[0m\u001b[0;34m:\u001b[0m\u001b[0;34m\u001b[0m\u001b[0;34m\u001b[0m\u001b[0m\n\u001b[1;32m    579\u001b[0m             \u001b[0;32mreturn\u001b[0m \u001b[0m_quadpack\u001b[0m\u001b[0;34m.\u001b[0m\u001b[0m_qagie\u001b[0m\u001b[0;34m(\u001b[0m\u001b[0mfunc\u001b[0m\u001b[0;34m,\u001b[0m\u001b[0mbound\u001b[0m\u001b[0;34m,\u001b[0m\u001b[0minfbounds\u001b[0m\u001b[0;34m,\u001b[0m\u001b[0margs\u001b[0m\u001b[0;34m,\u001b[0m\u001b[0mfull_output\u001b[0m\u001b[0;34m,\u001b[0m\u001b[0mepsabs\u001b[0m\u001b[0;34m,\u001b[0m\u001b[0mepsrel\u001b[0m\u001b[0;34m,\u001b[0m\u001b[0mlimit\u001b[0m\u001b[0;34m)\u001b[0m\u001b[0;34m\u001b[0m\u001b[0;34m\u001b[0m\u001b[0m\n",
            "\u001b[0;32m/usr/local/lib/python3.10/dist-packages/scipy/integrate/_quadpack_py.py\u001b[0m in \u001b[0;36mintegrate\u001b[0;34m(self, *args, **kwargs)\u001b[0m\n\u001b[1;32m   1231\u001b[0m         \u001b[0;32melse\u001b[0m\u001b[0;34m:\u001b[0m\u001b[0;34m\u001b[0m\u001b[0;34m\u001b[0m\u001b[0m\n\u001b[1;32m   1232\u001b[0m             \u001b[0mf\u001b[0m \u001b[0;34m=\u001b[0m \u001b[0mpartial\u001b[0m\u001b[0;34m(\u001b[0m\u001b[0mself\u001b[0m\u001b[0;34m.\u001b[0m\u001b[0mintegrate\u001b[0m\u001b[0;34m,\u001b[0m \u001b[0mdepth\u001b[0m\u001b[0;34m=\u001b[0m\u001b[0mdepth\u001b[0m\u001b[0;34m+\u001b[0m\u001b[0;36m1\u001b[0m\u001b[0;34m)\u001b[0m\u001b[0;34m\u001b[0m\u001b[0;34m\u001b[0m\u001b[0m\n\u001b[0;32m-> 1233\u001b[0;31m         quad_r = quad(f, low, high, args=args, full_output=self.full_output,\n\u001b[0m\u001b[1;32m   1234\u001b[0m                       **opt)\n\u001b[1;32m   1235\u001b[0m         \u001b[0mvalue\u001b[0m \u001b[0;34m=\u001b[0m \u001b[0mquad_r\u001b[0m\u001b[0;34m[\u001b[0m\u001b[0;36m0\u001b[0m\u001b[0;34m]\u001b[0m\u001b[0;34m\u001b[0m\u001b[0;34m\u001b[0m\u001b[0m\n",
            "\u001b[0;32m/usr/local/lib/python3.10/dist-packages/scipy/integrate/_quadpack_py.py\u001b[0m in \u001b[0;36mquad\u001b[0;34m(func, a, b, args, full_output, epsabs, epsrel, limit, points, weight, wvar, wopts, maxp1, limlst, complex_func)\u001b[0m\n\u001b[1;32m    463\u001b[0m \u001b[0;34m\u001b[0m\u001b[0m\n\u001b[1;32m    464\u001b[0m     \u001b[0;32mif\u001b[0m \u001b[0mweight\u001b[0m \u001b[0;32mis\u001b[0m \u001b[0;32mNone\u001b[0m\u001b[0;34m:\u001b[0m\u001b[0;34m\u001b[0m\u001b[0;34m\u001b[0m\u001b[0m\n\u001b[0;32m--> 465\u001b[0;31m         retval = _quad(func, a, b, args, full_output, epsabs, epsrel, limit,\n\u001b[0m\u001b[1;32m    466\u001b[0m                        points)\n\u001b[1;32m    467\u001b[0m     \u001b[0;32melse\u001b[0m\u001b[0;34m:\u001b[0m\u001b[0;34m\u001b[0m\u001b[0;34m\u001b[0m\u001b[0m\n",
            "\u001b[0;32m/usr/local/lib/python3.10/dist-packages/scipy/integrate/_quadpack_py.py\u001b[0m in \u001b[0;36m_quad\u001b[0;34m(func, a, b, args, full_output, epsabs, epsrel, limit, points)\u001b[0m\n\u001b[1;32m    575\u001b[0m     \u001b[0;32mif\u001b[0m \u001b[0mpoints\u001b[0m \u001b[0;32mis\u001b[0m \u001b[0;32mNone\u001b[0m\u001b[0;34m:\u001b[0m\u001b[0;34m\u001b[0m\u001b[0;34m\u001b[0m\u001b[0m\n\u001b[1;32m    576\u001b[0m         \u001b[0;32mif\u001b[0m \u001b[0minfbounds\u001b[0m \u001b[0;34m==\u001b[0m \u001b[0;36m0\u001b[0m\u001b[0;34m:\u001b[0m\u001b[0;34m\u001b[0m\u001b[0;34m\u001b[0m\u001b[0m\n\u001b[0;32m--> 577\u001b[0;31m             \u001b[0;32mreturn\u001b[0m \u001b[0m_quadpack\u001b[0m\u001b[0;34m.\u001b[0m\u001b[0m_qagse\u001b[0m\u001b[0;34m(\u001b[0m\u001b[0mfunc\u001b[0m\u001b[0;34m,\u001b[0m\u001b[0ma\u001b[0m\u001b[0;34m,\u001b[0m\u001b[0mb\u001b[0m\u001b[0;34m,\u001b[0m\u001b[0margs\u001b[0m\u001b[0;34m,\u001b[0m\u001b[0mfull_output\u001b[0m\u001b[0;34m,\u001b[0m\u001b[0mepsabs\u001b[0m\u001b[0;34m,\u001b[0m\u001b[0mepsrel\u001b[0m\u001b[0;34m,\u001b[0m\u001b[0mlimit\u001b[0m\u001b[0;34m)\u001b[0m\u001b[0;34m\u001b[0m\u001b[0;34m\u001b[0m\u001b[0m\n\u001b[0m\u001b[1;32m    578\u001b[0m         \u001b[0;32melse\u001b[0m\u001b[0;34m:\u001b[0m\u001b[0;34m\u001b[0m\u001b[0;34m\u001b[0m\u001b[0m\n\u001b[1;32m    579\u001b[0m             \u001b[0;32mreturn\u001b[0m \u001b[0m_quadpack\u001b[0m\u001b[0;34m.\u001b[0m\u001b[0m_qagie\u001b[0m\u001b[0;34m(\u001b[0m\u001b[0mfunc\u001b[0m\u001b[0;34m,\u001b[0m\u001b[0mbound\u001b[0m\u001b[0;34m,\u001b[0m\u001b[0minfbounds\u001b[0m\u001b[0;34m,\u001b[0m\u001b[0margs\u001b[0m\u001b[0;34m,\u001b[0m\u001b[0mfull_output\u001b[0m\u001b[0;34m,\u001b[0m\u001b[0mepsabs\u001b[0m\u001b[0;34m,\u001b[0m\u001b[0mepsrel\u001b[0m\u001b[0;34m,\u001b[0m\u001b[0mlimit\u001b[0m\u001b[0;34m)\u001b[0m\u001b[0;34m\u001b[0m\u001b[0;34m\u001b[0m\u001b[0m\n",
            "\u001b[0;32m<ipython-input-152-d7f91602e359>\u001b[0m in \u001b[0;36m<lambda>\u001b[0;34m(theta, phi, psi, i, j, k, l)\u001b[0m\n\u001b[1;32m     40\u001b[0m \u001b[0;34m\u001b[0m\u001b[0m\n\u001b[1;32m     41\u001b[0m \u001b[0;34m\u001b[0m\u001b[0m\n\u001b[0;32m---> 42\u001b[0;31m           \u001b[0mintegrand\u001b[0m \u001b[0;34m=\u001b[0m \u001b[0;34m(\u001b[0m\u001b[0;32mlambda\u001b[0m \u001b[0mtheta\u001b[0m\u001b[0;34m,\u001b[0m \u001b[0mphi\u001b[0m\u001b[0;34m,\u001b[0m \u001b[0mpsi\u001b[0m\u001b[0;34m,\u001b[0m \u001b[0mi\u001b[0m\u001b[0;34m=\u001b[0m\u001b[0mi\u001b[0m\u001b[0;34m,\u001b[0m \u001b[0mj\u001b[0m\u001b[0;34m=\u001b[0m\u001b[0mj\u001b[0m\u001b[0;34m,\u001b[0m \u001b[0mk\u001b[0m\u001b[0;34m=\u001b[0m\u001b[0mk\u001b[0m\u001b[0;34m,\u001b[0m \u001b[0ml\u001b[0m\u001b[0;34m=\u001b[0m\u001b[0ml\u001b[0m\u001b[0;34m:\u001b[0m \u001b[0mrotation\u001b[0m\u001b[0;34m(\u001b[0m\u001b[0mtheta\u001b[0m\u001b[0;34m,\u001b[0m \u001b[0mphi\u001b[0m\u001b[0;34m,\u001b[0m \u001b[0mpsi\u001b[0m\u001b[0;34m,\u001b[0m \u001b[0mrslt_num\u001b[0m\u001b[0;34m,\u001b[0m \u001b[0;34m(\u001b[0m\u001b[0mi\u001b[0m\u001b[0;34m,\u001b[0m \u001b[0mk\u001b[0m\u001b[0;34m,\u001b[0m \u001b[0ml\u001b[0m\u001b[0;34m,\u001b[0m \u001b[0mj\u001b[0m\u001b[0;34m)\u001b[0m\u001b[0;34m)\u001b[0m\u001b[0;34m*\u001b[0m \u001b[0mnp\u001b[0m\u001b[0;34m.\u001b[0m\u001b[0msin\u001b[0m\u001b[0;34m(\u001b[0m\u001b[0mtheta\u001b[0m\u001b[0;34m)\u001b[0m\u001b[0;34m)\u001b[0m\u001b[0;34m\u001b[0m\u001b[0;34m\u001b[0m\u001b[0m\n\u001b[0m\u001b[1;32m     43\u001b[0m           \u001b[0mintegral\u001b[0m \u001b[0;34m=\u001b[0m \u001b[0mintegrate\u001b[0m\u001b[0;34m.\u001b[0m\u001b[0mtplquad\u001b[0m\u001b[0;34m(\u001b[0m\u001b[0mintegrand\u001b[0m\u001b[0;34m,\u001b[0m \u001b[0;36m0\u001b[0m\u001b[0;34m,\u001b[0m \u001b[0mnp\u001b[0m\u001b[0;34m.\u001b[0m\u001b[0mpi\u001b[0m\u001b[0;34m,\u001b[0m \u001b[0;36m0\u001b[0m\u001b[0;34m,\u001b[0m \u001b[0;36m2\u001b[0m\u001b[0;34m*\u001b[0m\u001b[0mnp\u001b[0m\u001b[0;34m.\u001b[0m\u001b[0mpi\u001b[0m\u001b[0;34m,\u001b[0m \u001b[0;36m0\u001b[0m\u001b[0;34m,\u001b[0m \u001b[0;36m2\u001b[0m\u001b[0;34m*\u001b[0m\u001b[0mnp\u001b[0m\u001b[0;34m.\u001b[0m\u001b[0mpi\u001b[0m\u001b[0;34m)\u001b[0m\u001b[0;34m\u001b[0m\u001b[0;34m\u001b[0m\u001b[0m\n\u001b[1;32m     44\u001b[0m \u001b[0;34m\u001b[0m\u001b[0m\n",
            "\u001b[0;32m<ipython-input-143-60c0fff1c012>\u001b[0m in \u001b[0;36mrotation\u001b[0;34m(theta, phi, psi, A, position)\u001b[0m\n\u001b[1;32m      3\u001b[0m   \u001b[0mA_new_cord\u001b[0m \u001b[0;34m=\u001b[0m \u001b[0mnp\u001b[0m\u001b[0;34m.\u001b[0m\u001b[0mzeros\u001b[0m\u001b[0;34m(\u001b[0m\u001b[0;34m(\u001b[0m\u001b[0;36m3\u001b[0m\u001b[0;34m,\u001b[0m\u001b[0;36m3\u001b[0m\u001b[0;34m,\u001b[0m\u001b[0;36m3\u001b[0m\u001b[0;34m,\u001b[0m\u001b[0;36m3\u001b[0m\u001b[0;34m)\u001b[0m\u001b[0;34m)\u001b[0m\u001b[0;34m\u001b[0m\u001b[0;34m\u001b[0m\u001b[0m\n\u001b[1;32m      4\u001b[0m \u001b[0;34m\u001b[0m\u001b[0m\n\u001b[0;32m----> 5\u001b[0;31m   \u001b[0mB\u001b[0m \u001b[0;34m=\u001b[0m \u001b[0mresult_rotation_matrix\u001b[0m\u001b[0;34m(\u001b[0m\u001b[0mtheta\u001b[0m\u001b[0;34m,\u001b[0m \u001b[0mphi\u001b[0m\u001b[0;34m,\u001b[0m \u001b[0mpsi\u001b[0m\u001b[0;34m)\u001b[0m\u001b[0;34m\u001b[0m\u001b[0;34m\u001b[0m\u001b[0m\n\u001b[0m\u001b[1;32m      6\u001b[0m \u001b[0;34m\u001b[0m\u001b[0m\n\u001b[1;32m      7\u001b[0m   \u001b[0;32mfor\u001b[0m \u001b[0mp\u001b[0m \u001b[0;32min\u001b[0m \u001b[0mrange\u001b[0m\u001b[0;34m(\u001b[0m\u001b[0;36m3\u001b[0m\u001b[0;34m)\u001b[0m\u001b[0;34m:\u001b[0m\u001b[0;34m\u001b[0m\u001b[0;34m\u001b[0m\u001b[0m\n",
            "\u001b[0;32m<ipython-input-103-fc471b46bcfc>\u001b[0m in \u001b[0;36mresult_rotation_matrix\u001b[0;34m(theta, phi, psi)\u001b[0m\n\u001b[1;32m     14\u001b[0m            [0, 0, 1]])\n\u001b[1;32m     15\u001b[0m \u001b[0;34m\u001b[0m\u001b[0m\n\u001b[0;32m---> 16\u001b[0;31m   \u001b[0;32mreturn\u001b[0m \u001b[0mnp\u001b[0m\u001b[0;34m.\u001b[0m\u001b[0mlinalg\u001b[0m\u001b[0;34m.\u001b[0m\u001b[0minv\u001b[0m\u001b[0;34m(\u001b[0m\u001b[0mB_phi\u001b[0m \u001b[0;34m@\u001b[0m \u001b[0mB_theta\u001b[0m \u001b[0;34m@\u001b[0m \u001b[0mB_psi\u001b[0m\u001b[0;34m)\u001b[0m\u001b[0;34m\u001b[0m\u001b[0;34m\u001b[0m\u001b[0m\n\u001b[0m\u001b[1;32m     17\u001b[0m   \u001b[0;31m# return np.linalg.inv(B_psi @ B_theta @ B_phi )\u001b[0m\u001b[0;34m\u001b[0m\u001b[0;34m\u001b[0m\u001b[0m\n",
            "\u001b[0;32m/usr/local/lib/python3.10/dist-packages/numpy/linalg/linalg.py\u001b[0m in \u001b[0;36minv\u001b[0;34m(a)\u001b[0m\n\u001b[1;32m    559\u001b[0m     \u001b[0msignature\u001b[0m \u001b[0;34m=\u001b[0m \u001b[0;34m'D->D'\u001b[0m \u001b[0;32mif\u001b[0m \u001b[0misComplexType\u001b[0m\u001b[0;34m(\u001b[0m\u001b[0mt\u001b[0m\u001b[0;34m)\u001b[0m \u001b[0;32melse\u001b[0m \u001b[0;34m'd->d'\u001b[0m\u001b[0;34m\u001b[0m\u001b[0;34m\u001b[0m\u001b[0m\n\u001b[1;32m    560\u001b[0m     \u001b[0mextobj\u001b[0m \u001b[0;34m=\u001b[0m \u001b[0mget_linalg_error_extobj\u001b[0m\u001b[0;34m(\u001b[0m\u001b[0m_raise_linalgerror_singular\u001b[0m\u001b[0;34m)\u001b[0m\u001b[0;34m\u001b[0m\u001b[0;34m\u001b[0m\u001b[0m\n\u001b[0;32m--> 561\u001b[0;31m     \u001b[0mainv\u001b[0m \u001b[0;34m=\u001b[0m \u001b[0m_umath_linalg\u001b[0m\u001b[0;34m.\u001b[0m\u001b[0minv\u001b[0m\u001b[0;34m(\u001b[0m\u001b[0ma\u001b[0m\u001b[0;34m,\u001b[0m \u001b[0msignature\u001b[0m\u001b[0;34m=\u001b[0m\u001b[0msignature\u001b[0m\u001b[0;34m,\u001b[0m \u001b[0mextobj\u001b[0m\u001b[0;34m=\u001b[0m\u001b[0mextobj\u001b[0m\u001b[0;34m)\u001b[0m\u001b[0;34m\u001b[0m\u001b[0;34m\u001b[0m\u001b[0m\n\u001b[0m\u001b[1;32m    562\u001b[0m     \u001b[0;32mreturn\u001b[0m \u001b[0mwrap\u001b[0m\u001b[0;34m(\u001b[0m\u001b[0mainv\u001b[0m\u001b[0;34m.\u001b[0m\u001b[0mastype\u001b[0m\u001b[0;34m(\u001b[0m\u001b[0mresult_t\u001b[0m\u001b[0;34m,\u001b[0m \u001b[0mcopy\u001b[0m\u001b[0;34m=\u001b[0m\u001b[0;32mFalse\u001b[0m\u001b[0;34m)\u001b[0m\u001b[0;34m)\u001b[0m\u001b[0;34m\u001b[0m\u001b[0;34m\u001b[0m\u001b[0m\n\u001b[1;32m    563\u001b[0m \u001b[0;34m\u001b[0m\u001b[0m\n",
            "\u001b[0;31mKeyboardInterrupt\u001b[0m: "
          ]
        }
      ],
      "source": []
    },
    {
      "cell_type": "code",
      "execution_count": null,
      "metadata": {
        "colab": {
          "base_uri": "https://localhost:8080/"
        },
        "id": "Xd62UxiooDMo",
        "outputId": "8008d071-e6d0-45a5-b5df-55276c11fcb3"
      },
      "outputs": [
        {
          "data": {
            "text/plain": [
              "array([[65.944951,  8.097633,  8.097633, -0.      , -0.      , -0.      ],\n",
              "       [ 8.097633, 65.944951,  8.097633, -0.      ,  0.      ,  0.      ],\n",
              "       [ 8.097633,  8.097633, 65.944951,  0.      ,  0.      , -0.      ],\n",
              "       [-0.      , -0.      ,  0.      , 28.923659,  0.      , -0.      ],\n",
              "       [-0.      ,  0.      ,  0.      , -0.      , 28.923659, -0.      ],\n",
              "       [-0.      ,  0.      , -0.      , -0.      , -0.      , 28.923659]])"
            ]
          },
          "execution_count": 42,
          "metadata": {},
          "output_type": "execute_result"
        }
      ],
      "source": [
        "np.round(result, 6)"
      ]
    },
    {
      "cell_type": "markdown",
      "metadata": {
        "id": "6YG_JPqNje-w"
      },
      "source": [
        "Aspect ratio 1 (isotropic symmetry)"
      ]
    },
    {
      "cell_type": "code",
      "execution_count": null,
      "metadata": {
        "colab": {
          "base_uri": "https://localhost:8080/",
          "height": 1000
        },
        "id": "7RRXei13mCHT",
        "outputId": "12da84fc-e0f9-4733-9f47-dfee0989e55c"
      },
      "outputs": [
        {
          "name": "stdout",
          "output_type": "stream",
          "text": [
            "Porosity  0.0\n",
            "[[80.  8.  8.  0.  0.  0.]\n",
            " [ 8. 80.  8.  0.  0.  0.]\n",
            " [ 8.  8. 80.  0.  0.  0.]\n",
            " [ 0.  0.  0. 36.  0.  0.]\n",
            " [ 0.  0.  0.  0. 36.  0.]\n",
            " [ 0.  0.  0.  0.  0. 36.]]\n",
            "\n",
            "Porosity  0.1\n",
            "[[66.50586  8.0397   8.0397   0.       0.       0.     ]\n",
            " [ 8.0397  66.50586  8.0397   0.       0.       0.     ]\n",
            " [ 8.0397   8.0397  66.50586  0.       0.       0.     ]\n",
            " [ 0.       0.       0.      29.23308  0.       0.     ]\n",
            " [ 0.       0.       0.       0.      29.23308  0.     ]\n",
            " [ 0.       0.       0.       0.       0.      29.23308]]\n",
            "\n",
            "Porosity  0.2\n",
            "[[55.09189  7.74943  7.74943  0.       0.       0.     ]\n",
            " [ 7.74943 55.09189  7.74943  0.       0.       0.     ]\n",
            " [ 7.74943  7.74943 55.09189  0.       0.       0.     ]\n",
            " [ 0.       0.       0.      23.67123  0.       0.     ]\n",
            " [ 0.       0.       0.       0.      23.67123  0.     ]\n",
            " [ 0.       0.       0.       0.       0.      23.67123]]\n",
            "\n",
            "Porosity  0.30000000000000004\n",
            "[[45.29258  7.25485  7.25485  0.       0.       0.     ]\n",
            " [ 7.25485 45.29258  7.25485  0.       0.       0.     ]\n",
            " [ 7.25485  7.25485 45.29258  0.       0.       0.     ]\n",
            " [ 0.       0.       0.      19.01887  0.       0.     ]\n",
            " [ 0.       0.       0.       0.      19.01887  0.     ]\n",
            " [ 0.       0.       0.       0.       0.      19.01887]]\n",
            "\n",
            "Porosity  0.4\n",
            "[[36.77524  6.63571  6.63571  0.       0.       0.     ]\n",
            " [ 6.63571 36.77524  6.63571  0.       0.       0.     ]\n",
            " [ 6.63571  6.63571 36.77524  0.       0.       0.     ]\n",
            " [ 0.       0.       0.      15.06977  0.       0.     ]\n",
            " [ 0.       0.       0.       0.      15.06977  0.     ]\n",
            " [ 0.       0.       0.       0.       0.      15.06977]]\n",
            "\n",
            "Porosity  0.5\n",
            "[[29.29501  5.94366  5.94366  0.       0.       0.     ]\n",
            " [ 5.94366 29.29501  5.94366  0.       0.       0.     ]\n",
            " [ 5.94366  5.94366 29.29501  0.       0.       0.     ]\n",
            " [ 0.       0.       0.      11.67568  0.       0.     ]\n",
            " [ 0.       0.       0.       0.      11.67568  0.     ]\n",
            " [ 0.       0.       0.       0.       0.      11.67568]]\n",
            "\n",
            "Porosity  0.6000000000000001\n",
            "[[22.6672   5.21266  5.21266  0.       0.       0.     ]\n",
            " [ 5.21266 22.6672   5.21266  0.       0.       0.     ]\n",
            " [ 5.21266  5.21266 22.6672   0.       0.       0.     ]\n",
            " [ 0.       0.       0.       8.72727  0.       0.     ]\n",
            " [ 0.       0.       0.       0.       8.72727  0.     ]\n",
            " [ 0.       0.       0.       0.       0.       8.72727]]\n",
            "\n",
            "Porosity  0.7000000000000001\n",
            "[[16.74955  4.46519  4.46519  0.       0.       0.     ]\n",
            " [ 4.46519 16.74955  4.46519  0.       0.       0.     ]\n",
            " [ 4.46519  4.46519 16.74955  0.       0.       0.     ]\n",
            " [ 0.       0.       0.       6.14218  0.       0.     ]\n",
            " [ 0.       0.       0.       0.       6.14218  0.     ]\n",
            " [ 0.       0.       0.       0.       0.       6.14218]]\n",
            "\n",
            "Porosity  0.8\n",
            "[[11.4305   3.71621  3.71621  0.       0.       0.     ]\n",
            " [ 3.71621 11.4305   3.71621  0.       0.       0.     ]\n",
            " [ 3.71621  3.71621 11.4305   0.       0.       0.     ]\n",
            " [ 0.       0.       0.       3.85714  0.       0.     ]\n",
            " [ 0.       0.       0.       0.       3.85714  0.     ]\n",
            " [ 0.       0.       0.       0.       0.       3.85714]]\n",
            "\n",
            "Porosity  0.9\n",
            "[[6.62123 2.97566 2.97566 0.      0.      0.     ]\n",
            " [2.97566 6.62123 2.97566 0.      0.      0.     ]\n",
            " [2.97566 2.97566 6.62123 0.      0.      0.     ]\n",
            " [0.      0.      0.      1.82278 0.      0.     ]\n",
            " [0.      0.      0.      0.      1.82278 0.     ]\n",
            " [0.      0.      0.      0.      0.      1.82278]]\n",
            "\n",
            "Porosity  1.0\n",
            "[[2.25 2.25 2.25 0.   0.   0.  ]\n",
            " [2.25 2.25 2.25 0.   0.   0.  ]\n",
            " [2.25 2.25 2.25 0.   0.   0.  ]\n",
            " [0.   0.   0.   0.   0.   0.  ]\n",
            " [0.   0.   0.   0.   0.   0.  ]\n",
            " [0.   0.   0.   0.   0.   0.  ]]\n",
            "\n"
          ]
        },
        {
          "data": {
            "text/plain": [
              "<matplotlib.legend.Legend at 0x7a739e8883a0>"
            ]
          },
          "execution_count": 14,
          "metadata": {},
          "output_type": "execute_result"
        },
        {
          "data": {
            "image/png": "[encoded data removed]",
            "text/plain": [
              "<Figure size 640x480 with 1 Axes>"
            ]
          },
          "metadata": {},
          "output_type": "display_data"
        }
      ],
      "source": [
        "c11, c13, c44, c33, c66 = [], [], [], [], []\n",
        "porosity = np.arange(0, 1.1, 0.1)\n",
        "\n",
        "g_m = tensor_g(C_c, [1, 1, 1])\n",
        "g_fl = g_m\n",
        "\n",
        "for i in porosity:\n",
        "\n",
        "  a, b, c, d, f =  effective_tensor_new(g_m, g_fl, C_mtrx, C_fl, C_c, i)\n",
        "\n",
        "  c11.append(a)\n",
        "  c13.append(b)\n",
        "  c44.append(c)\n",
        "  c33.append(d)\n",
        "  c66.append(f)\n",
        "\n",
        "plt.plot(porosity, c11, label='c11', marker=\"o\")\n",
        "plt.plot(porosity, c13, label='c13', marker=\"o\")\n",
        "plt.plot(porosity, c44, label='c44', marker=\"o\")\n",
        "plt.plot(porosity, c33, label='c33', marker=\"o\")\n",
        "plt.plot(porosity, c66, label='c66', marker=\"o\")\n",
        "plt.xlabel('Porosity, n/n')\n",
        "plt.ylabel('Cij, ГПа')\n",
        "plt.title ('AR fluid 1')\n",
        "plt.xlim([0, 1])\n",
        "plt.ylim([0, 100])\n",
        "plt.grid()\n",
        "plt.legend()"
      ]
    },
    {
      "cell_type": "markdown",
      "metadata": {
        "id": "UTxTS1sai5Sx"
      },
      "source": [
        "Aspect ratio 0.1 (VTI)"
      ]
    },
    {
      "cell_type": "code",
      "execution_count": null,
      "metadata": {
        "colab": {
          "base_uri": "https://localhost:8080/",
          "height": 1000
        },
        "id": "WtOfMHjgi41N",
        "outputId": "4a5895b3-ddb2-46e1-c88a-5dd81e8f1d2b"
      },
      "outputs": [
        {
          "name": "stderr",
          "output_type": "stream",
          "text": [
            "/usr/local/lib/python3.10/dist-packages/scipy/integrate/_quadpack_py.py:1233: IntegrationWarning: The integral is probably divergent, or slowly convergent.\n",
            "  quad_r = quad(f, low, high, args=args, full_output=self.full_output,\n"
          ]
        },
        {
          "name": "stdout",
          "output_type": "stream",
          "text": [
            "Porosity  0.0\n",
            "[[80.  8.  8.  0.  0.  0.]\n",
            " [ 8. 80.  8.  0.  0.  0.]\n",
            " [ 8.  8. 80.  0.  0.  0.]\n",
            " [ 0.  0.  0. 36.  0.  0.]\n",
            " [ 0.  0.  0.  0. 36.  0.]\n",
            " [ 0.  0.  0.  0.  0. 36.]]\n",
            "\n",
            "Porosity  0.1\n",
            "[[71.92394  7.13272  3.45716  0.       0.       0.     ]\n",
            " [ 7.13272 71.92394  3.45716  0.       0.       0.     ]\n",
            " [ 3.45716  3.45716 18.27344  0.       0.       0.     ]\n",
            " [ 0.       0.       0.       0.52556  0.       0.     ]\n",
            " [ 0.       0.       0.       0.       0.52556  0.     ]\n",
            " [ 0.       0.       0.       0.       0.      32.39561]]\n",
            "\n",
            "Porosity  0.2\n",
            "[[64.14064  6.55624  2.86699  0.       0.       0.     ]\n",
            " [ 6.55624 64.14064  2.86699  0.       0.       0.     ]\n",
            " [ 2.86699  2.86699 10.29234  0.       0.       0.     ]\n",
            " [ 0.       0.       0.       0.23549  0.       0.     ]\n",
            " [ 0.       0.       0.       0.       0.23549  0.     ]\n",
            " [ 0.       0.       0.       0.       0.      28.7922 ]]\n",
            "\n",
            "Porosity  0.30000000000000004\n",
            "[[56.38557  6.00605  2.6329   0.       0.       0.     ]\n",
            " [ 6.00605 56.38557  2.6329   0.       0.       0.     ]\n",
            " [ 2.6329   2.6329   7.15267  0.       0.       0.     ]\n",
            " [ 0.       0.       0.       0.13775  0.       0.     ]\n",
            " [ 0.       0.       0.       0.       0.13775  0.     ]\n",
            " [ 0.       0.       0.       0.       0.      25.18976]]\n",
            "\n",
            "Porosity  0.4\n",
            "[[48.64047  5.46387  2.50627  0.       0.       0.     ]\n",
            " [ 5.46387 48.64047  2.50627  0.       0.       0.     ]\n",
            " [ 2.50627  2.50627  5.47433  0.       0.       0.     ]\n",
            " [ 0.       0.       0.       0.08867  0.       0.     ]\n",
            " [ 0.       0.       0.       0.       0.08867  0.     ]\n",
            " [ 0.       0.       0.       0.       0.      21.5883 ]]\n",
            "\n",
            "Porosity  0.5\n",
            "[[40.90085  4.92522  2.42625  0.       0.       0.     ]\n",
            " [ 4.92522 40.90085  2.42625  0.       0.       0.     ]\n",
            " [ 2.42625  2.42625  4.42969  0.       0.       0.     ]\n",
            " [ 0.       0.       0.       0.05916  0.       0.     ]\n",
            " [ 0.       0.       0.       0.       0.05916  0.     ]\n",
            " [ 0.       0.       0.       0.       0.      17.98782]]\n",
            "\n",
            "Porosity  0.6000000000000001\n",
            "[[33.16508  4.38847  2.37063  0.       0.       0.     ]\n",
            " [ 4.38847 33.16508  2.37063  0.       0.       0.     ]\n",
            " [ 2.37063  2.37063  3.71683  0.       0.       0.     ]\n",
            " [ 0.       0.       0.       0.03946  0.       0.     ]\n",
            " [ 0.       0.       0.       0.       0.03946  0.     ]\n",
            " [ 0.       0.       0.       0.       0.      14.38831]]\n",
            "\n",
            "Porosity  0.7000000000000001\n",
            "[[2.543242e+01 3.852880e+00 2.329390e+00 0.000000e+00 0.000000e+00\n",
            "  0.000000e+00]\n",
            " [3.852880e+00 2.543242e+01 2.329390e+00 0.000000e+00 0.000000e+00\n",
            "  0.000000e+00]\n",
            " [2.329390e+00 2.329390e+00 3.199360e+00 0.000000e+00 0.000000e+00\n",
            "  0.000000e+00]\n",
            " [0.000000e+00 0.000000e+00 0.000000e+00 2.538000e-02 0.000000e+00\n",
            "  0.000000e+00]\n",
            " [0.000000e+00 0.000000e+00 0.000000e+00 0.000000e+00 2.538000e-02\n",
            "  0.000000e+00]\n",
            " [0.000000e+00 0.000000e+00 0.000000e+00 0.000000e+00 0.000000e+00\n",
            "  1.078977e+01]]\n",
            "\n",
            "Porosity  0.8\n",
            "[[1.770248e+01 3.318070e+00 2.297310e+00 0.000000e+00 0.000000e+00\n",
            "  0.000000e+00]\n",
            " [3.318070e+00 1.770248e+01 2.297310e+00 0.000000e+00 0.000000e+00\n",
            "  0.000000e+00]\n",
            " [2.297310e+00 2.297310e+00 2.806630e+00 0.000000e+00 0.000000e+00\n",
            "  0.000000e+00]\n",
            " [0.000000e+00 0.000000e+00 0.000000e+00 1.481000e-02 0.000000e+00\n",
            "  0.000000e+00]\n",
            " [0.000000e+00 0.000000e+00 0.000000e+00 0.000000e+00 1.481000e-02\n",
            "  0.000000e+00]\n",
            " [0.000000e+00 0.000000e+00 0.000000e+00 0.000000e+00 0.000000e+00\n",
            "  7.192210e+00]]\n",
            "\n",
            "Porosity  0.9\n",
            "[[9.97505e+00 2.78382e+00 2.27145e+00 0.00000e+00 0.00000e+00 0.00000e+00]\n",
            " [2.78382e+00 9.97505e+00 2.27145e+00 0.00000e+00 0.00000e+00 0.00000e+00]\n",
            " [2.27145e+00 2.27145e+00 2.49838e+00 0.00000e+00 0.00000e+00 0.00000e+00]\n",
            " [0.00000e+00 0.00000e+00 0.00000e+00 6.58000e-03 0.00000e+00 0.00000e+00]\n",
            " [0.00000e+00 0.00000e+00 0.00000e+00 0.00000e+00 6.58000e-03 0.00000e+00]\n",
            " [0.00000e+00 0.00000e+00 0.00000e+00 0.00000e+00 0.00000e+00 3.59562e+00]]\n",
            "\n",
            "Porosity  1.0\n",
            "[[2.25 2.25 2.25 0.   0.   0.  ]\n",
            " [2.25 2.25 2.25 0.   0.   0.  ]\n",
            " [2.25 2.25 2.25 0.   0.   0.  ]\n",
            " [0.   0.   0.   0.   0.   0.  ]\n",
            " [0.   0.   0.   0.   0.   0.  ]\n",
            " [0.   0.   0.   0.   0.   0.  ]]\n",
            "\n"
          ]
        },
        {
          "data": {
            "text/plain": [
              "<matplotlib.legend.Legend at 0x79f21b382ad0>"
            ]
          },
          "execution_count": 7,
          "metadata": {},
          "output_type": "execute_result"
        },
        {
          "data": {
            "image/png": "[encoded data removed]",
            "text/plain": [
              "<Figure size 640x480 with 1 Axes>"
            ]
          },
          "metadata": {},
          "output_type": "display_data"
        }
      ],
      "source": [
        "c11, c13, c44, c33, c66 = [], [], [], [], []\n",
        "porosity = np.arange(0, 1.1, 0.1)\n",
        "\n",
        "g_m = tensor_g(C_c, [1, 1, 1])\n",
        "\n",
        "g_fl = tensor_g(C_c, [1000, 1000, 1])\n",
        "\n",
        "for i in porosity:\n",
        "\n",
        "  a, b, c, d, f =  effective_tensor_new(g_m, g_fl, C_mtrx, C_fl, C_c, i)\n",
        "\n",
        "  c11.append(a)\n",
        "  c13.append(b)\n",
        "  c44.append(c)\n",
        "  c33.append(d)\n",
        "  c66.append(f)\n",
        "\n",
        "plt.plot(porosity, c11, label='c11', marker=\"o\")\n",
        "plt.plot(porosity, c13, label='c13', marker=\"o\")\n",
        "plt.plot(porosity, c44, label='c44', marker=\"o\")\n",
        "plt.plot(porosity, c33, label='c33', marker=\"o\")\n",
        "plt.plot(porosity, c66, label='c66', marker=\"o\")\n",
        "plt.xlabel('Porosity, n/n')\n",
        "plt.ylabel('Cij, ГПа')\n",
        "plt.title ('AR fluid 0.1')\n",
        "plt.xlim([0, 1])\n",
        "plt.ylim([0, 100])\n",
        "plt.grid()\n",
        "plt.legend()"
      ]
    },
    {
      "cell_type": "code",
      "source": [
        "c11, c13, c44 = [], [], []\n",
        "# porosity = np.arange(0.0, 1.1, 0.1)\n",
        "porosity = np.arange(0, 1.1, 0.1)\n",
        "\n",
        "ar_list\n",
        "\n",
        "g_m = tensor_g(C_c, [1, 1, 1])\n",
        "g_fl = tensor_g(C_c, [100, 100, 1])\n",
        "\n",
        "\n",
        "for i in porosity:\n",
        "\n",
        "  a, b, c =  effective_tensor_new(g_m, g_fl, C_mtrx, C_fl, C_c, i)\n",
        "\n",
        "  c11.append(a)\n",
        "  c13.append(b)\n",
        "  c44.append(c)\n",
        "\n",
        "plt.plot(porosity, c11, label='c11', marker=\"o\")\n",
        "plt.plot(porosity, c13, label='c13', marker=\"o\")\n",
        "plt.plot(porosity, c44, label='c44', marker=\"o\")\n",
        "plt.xlabel('Porosity, n/n')\n",
        "plt.ylabel('Cij, ГПа')\n",
        "plt.title ('AR fluid 0.01')\n",
        "plt.xlim([0, 1])\n",
        "plt.ylim([0, 100])\n",
        "plt.grid()\n",
        "plt.legend()"
      ],
      "metadata": {
        "colab": {
          "base_uri": "https://localhost:8080/"
        },
        "id": "qU4vvXERHXS2",
        "outputId": "5e1b36ed-be8a-4521-a27d-abdb8a1c6617"
      },
      "execution_count": null,
      "outputs": [
        {
          "output_type": "stream",
          "name": "stdout",
          "text": [
            "[[80.  8.  8.  0.  0.  0.]\n",
            " [ 8. 80.  8.  0.  0.  0.]\n",
            " [ 8.  8. 80.  0.  0.  0.]\n",
            " [ 0.  0.  0. 36.  0.  0.]\n",
            " [ 0.  0.  0.  0. 36.  0.]\n",
            " [ 0.  0.  0.  0.  0. 36.]]\n",
            "[[49.65828 18.28263 18.28263  0.       0.       0.     ]\n",
            " [18.28263 49.65828 18.28263  0.       0.       0.     ]\n",
            " [18.28263 18.28263 49.65828  0.       0.       0.     ]\n",
            " [ 0.       0.       0.      15.68782  0.       0.     ]\n",
            " [ 0.       0.       0.       0.      15.68782  0.     ]\n",
            " [ 0.       0.       0.       0.       0.      15.68782]]\n",
            "[[42.80248 17.19896 17.19896  0.       0.       0.     ]\n",
            " [17.19896 42.80248 17.19896  0.       0.       0.     ]\n",
            " [17.19896 17.19896 42.80248  0.       0.       0.     ]\n",
            " [ 0.       0.       0.      12.80176  0.       0.     ]\n",
            " [ 0.       0.       0.       0.      12.80176  0.     ]\n",
            " [ 0.       0.       0.       0.       0.      12.80176]]\n",
            "[[37.19306 15.54312 15.54312  0.       0.       0.     ]\n",
            " [15.54312 37.19306 15.54312  0.       0.       0.     ]\n",
            " [15.54312 15.54312 37.19306  0.       0.       0.     ]\n",
            " [ 0.       0.       0.      10.82497  0.       0.     ]\n",
            " [ 0.       0.       0.       0.      10.82497  0.     ]\n",
            " [ 0.       0.       0.       0.       0.      10.82497]]\n",
            "[[31.94217 13.73168 13.73168  0.       0.       0.     ]\n",
            " [13.73168 31.94217 13.73168  0.       0.       0.     ]\n",
            " [13.73168 13.73168 31.94217  0.       0.       0.     ]\n",
            " [ 0.       0.       0.       9.10525  0.       0.     ]\n",
            " [ 0.       0.       0.       0.       9.10525  0.     ]\n",
            " [ 0.       0.       0.       0.       0.       9.10525]]\n",
            "[[26.84905 11.85805 11.85805  0.       0.       0.     ]\n",
            " [11.85805 26.84905 11.85805  0.       0.       0.     ]\n",
            " [11.85805 11.85805 26.84905  0.       0.       0.     ]\n",
            " [ 0.       0.       0.       7.4955   0.       0.     ]\n",
            " [ 0.       0.       0.       0.       7.4955   0.     ]\n",
            " [ 0.       0.       0.       0.       0.       7.4955 ]]\n",
            "[[21.84309  9.9549   9.9549   0.       0.       0.     ]\n",
            " [ 9.9549  21.84309  9.9549   0.       0.       0.     ]\n",
            " [ 9.9549   9.9549  21.84309  0.       0.       0.     ]\n",
            " [ 0.       0.       0.       5.94409  0.       0.     ]\n",
            " [ 0.       0.       0.       0.       5.94409  0.     ]\n",
            " [ 0.       0.       0.       0.       0.       5.94409]]\n",
            "[[16.89304  8.03664  8.03664  0.       0.       0.     ]\n",
            " [ 8.03664 16.89304  8.03664  0.       0.       0.     ]\n",
            " [ 8.03664  8.03664 16.89304  0.       0.       0.     ]\n",
            " [ 0.       0.       0.       4.4282   0.       0.     ]\n",
            " [ 0.       0.       0.       0.       4.4282   0.     ]\n",
            " [ 0.       0.       0.       0.       0.       4.4282 ]]\n",
            "[[11.98294  6.1106   6.1106   0.       0.       0.     ]\n",
            " [ 6.1106  11.98294  6.1106   0.       0.       0.     ]\n",
            " [ 6.1106   6.1106  11.98294  0.       0.       0.     ]\n",
            " [ 0.       0.       0.       2.93617  0.       0.     ]\n",
            " [ 0.       0.       0.       0.       2.93617  0.     ]\n",
            " [ 0.       0.       0.       0.       0.       2.93617]]\n",
            "[[7.10376 4.18089 4.18089 0.      0.      0.     ]\n",
            " [4.18089 7.10376 4.18089 0.      0.      0.     ]\n",
            " [4.18089 4.18089 7.10376 0.      0.      0.     ]\n",
            " [0.      0.      0.      1.46143 0.      0.     ]\n",
            " [0.      0.      0.      0.      1.46143 0.     ]\n",
            " [0.      0.      0.      0.      0.      1.46143]]\n",
            "[[2.25 2.25 2.25 0.   0.   0.  ]\n",
            " [2.25 2.25 2.25 0.   0.   0.  ]\n",
            " [2.25 2.25 2.25 0.   0.   0.  ]\n",
            " [0.   0.   0.   0.   0.   0.  ]\n",
            " [0.   0.   0.   0.   0.   0.  ]\n",
            " [0.   0.   0.   0.   0.   0.  ]]\n"
          ]
        },
        {
          "output_type": "execute_result",
          "data": {
            "text/plain": [
              "<matplotlib.legend.Legend at 0x7b08960febc0>"
            ]
          },
          "metadata": {},
          "execution_count": 10
        },
        {
          "output_type": "display_data",
          "data": {
            "text/plain": [
              "<Figure size 640x480 with 1 Axes>"
            ],
            "image/png": "[encoded data removed]"
          },
          "metadata": {}
        }
      ]
    },
    {
      "cell_type": "markdown",
      "metadata": {
        "id": "lenbMangkxOb"
      },
      "source": [
        "Aspect ratio 0.01 (VTI)"
      ]
    },
    {
      "cell_type": "code",
      "execution_count": null,
      "metadata": {
        "colab": {
          "background_save": true
        },
        "id": "rBEfDn_ek3jv",
        "outputId": "b76c61da-7ad6-43f4-b0a9-4bf0dd310bcc"
      },
      "outputs": [
        {
          "name": "stdout",
          "output_type": "stream",
          "text": [
            "Porosity  0.0\n",
            "[[80.  8.  8.  0.  0.  0.]\n",
            " [ 8. 80.  8.  0.  0.  0.]\n",
            " [ 8.  8. 80.  0.  0.  0.]\n",
            " [ 0.  0.  0. 36.  0.  0.]\n",
            " [ 0.  0.  0.  0. 36.  0.]\n",
            " [ 0.  0.  0.  0.  0. 36.]]\n",
            "\n",
            "Porosity  0.1\n",
            "[[71.8828   7.17036  3.84476  0.       0.       0.     ]\n",
            " [ 7.17036 71.8828   3.84476  0.       0.       0.     ]\n",
            " [ 3.84476  3.84476 20.99185  0.       0.       0.     ]\n",
            " [ 0.       0.       0.       4.57556  0.       0.     ]\n",
            " [ 0.       0.       0.       0.       4.57556  0.     ]\n",
            " [ 0.       0.       0.       0.       0.      32.35622]]\n",
            "\n",
            "Porosity  0.2\n",
            "[[64.02983  6.58529  3.17525  0.       0.       0.     ]\n",
            " [ 6.58529 64.02983  3.17525  0.       0.       0.     ]\n",
            " [ 3.17525  3.17525 11.86839  0.       0.       0.     ]\n",
            " [ 0.       0.       0.       2.18808  0.       0.     ]\n",
            " [ 0.       0.       0.       0.       2.18808  0.     ]\n",
            " [ 0.       0.       0.       0.       0.      28.72227]]\n",
            "\n",
            "Porosity  0.30000000000000004\n",
            "[[56.22392  6.02769  2.88462  0.       0.       0.     ]\n",
            " [ 6.02769 56.22392  2.88462  0.       0.       0.     ]\n",
            " [ 2.88462  2.88462  8.1661   0.       0.       0.     ]\n",
            " [ 0.       0.       0.       1.30955  0.       0.     ]\n",
            " [ 0.       0.       0.       0.       1.30955  0.     ]\n",
            " [ 0.       0.       0.       0.       0.      25.09812]]\n",
            "\n",
            "Porosity  0.4\n",
            "[[48.4468   5.47937  2.71258  0.       0.       0.     ]\n",
            " [ 5.47937 48.4468   2.71258  0.       0.       0.     ]\n",
            " [ 2.71258  2.71258  6.15975  0.       0.       0.     ]\n",
            " [ 0.       0.       0.       0.85293  0.       0.     ]\n",
            " [ 0.       0.       0.       0.       0.85293  0.     ]\n",
            " [ 0.       0.       0.       0.       0.      21.48372]]\n",
            "\n",
            "Porosity  0.5\n",
            "[[40.69376  4.93569  2.59287  0.       0.       0.     ]\n",
            " [ 4.93569 40.69376  2.59287  0.       0.       0.     ]\n",
            " [ 2.59287  2.59287  4.90114  0.       0.       0.     ]\n",
            " [ 0.       0.       0.       0.57315  0.       0.     ]\n",
            " [ 0.       0.       0.       0.       0.57315  0.     ]\n",
            " [ 0.       0.       0.       0.       0.      17.87904]]\n",
            "\n",
            "Porosity  0.6000000000000001\n",
            "[[32.96301  4.39495  2.50086  0.       0.       0.     ]\n",
            " [ 4.39495 32.96301  2.50086  0.       0.       0.     ]\n",
            " [ 2.50086  2.50086  4.03789  0.       0.       0.     ]\n",
            " [ 0.       0.       0.       0.38414  0.       0.     ]\n",
            " [ 0.       0.       0.       0.       0.38414  0.     ]\n",
            " [ 0.       0.       0.       0.       0.      14.28403]]\n",
            "\n",
            "Porosity  0.7000000000000001\n",
            "[[25.25366  3.85634  2.42531  0.       0.       0.     ]\n",
            " [ 3.85634 25.25366  2.42531  0.       0.       0.     ]\n",
            " [ 2.42531  2.42531  3.40897  0.       0.       0.     ]\n",
            " [ 0.       0.       0.       0.24789  0.       0.     ]\n",
            " [ 0.       0.       0.       0.       0.24789  0.     ]\n",
            " [ 0.       0.       0.       0.       0.      10.69866]]\n",
            "\n",
            "Porosity  0.8\n",
            "[[17.56524  3.31945  2.36034  0.       0.       0.     ]\n",
            " [ 3.31945 17.56524  2.36034  0.       0.       0.     ]\n",
            " [ 2.36034  2.36034  2.93035  0.       0.       0.     ]\n",
            " [ 0.       0.       0.       0.14502  0.       0.     ]\n",
            " [ 0.       0.       0.       0.       0.14502  0.     ]\n",
            " [ 0.       0.       0.       0.       0.       7.12289]]\n",
            "\n",
            "Porosity  0.9\n",
            "[[9.89743 2.78406 2.3026  0.      0.      0.     ]\n",
            " [2.78406 9.89743 2.3026  0.      0.      0.     ]\n",
            " [2.3026  2.3026  2.55388 0.      0.      0.     ]\n",
            " [0.      0.      0.      0.0646  0.      0.     ]\n",
            " [0.      0.      0.      0.      0.0646  0.     ]\n",
            " [0.      0.      0.      0.      0.      3.55669]]\n",
            "\n",
            "Porosity  1.0\n",
            "[[2.25 2.25 2.25 0.   0.   0.  ]\n",
            " [2.25 2.25 2.25 0.   0.   0.  ]\n",
            " [2.25 2.25 2.25 0.   0.   0.  ]\n",
            " [0.   0.   0.   0.   0.   0.  ]\n",
            " [0.   0.   0.   0.   0.   0.  ]\n",
            " [0.   0.   0.   0.   0.   0.  ]]\n",
            "\n"
          ]
        },
        {
          "data": {
            "text/plain": [
              "<matplotlib.legend.Legend at 0x7a739e91e110>"
            ]
          },
          "execution_count": 17,
          "metadata": {},
          "output_type": "execute_result"
        },
        {
          "data": {
            "image/png": "[encoded data removed]",
            "text/plain": [
              "<Figure size 640x480 with 1 Axes>"
            ]
          },
          "metadata": {},
          "output_type": "display_data"
        }
      ],
      "source": [
        "c11, c13, c44, c33, c66 = [], [], [], [], []\n",
        "# porosity = np.arange(0.0, 1.1, 0.1)\n",
        "porosity = np.arange(0, 1.1, 0.1)\n",
        "\n",
        "g_m = tensor_g(C_c, [1, 1, 1])\n",
        "g_fl = tensor_g(C_c, [100, 100, 1])\n",
        "\n",
        "\n",
        "for i in porosity:\n",
        "\n",
        "  a, b, c, d, f =  effective_tensor_new(g_m, g_fl, C_mtrx, C_fl, C_c, i)\n",
        "\n",
        "  c11.append(a)\n",
        "  c13.append(b)\n",
        "  c44.append(c)\n",
        "  c33.append(d)\n",
        "  c66.append(f)\n",
        "\n",
        "plt.plot(porosity, c11, label='c11', marker=\"o\")\n",
        "plt.plot(porosity, c13, label='c13', marker=\"o\")\n",
        "plt.plot(porosity, c44, label='c44', marker=\"o\")\n",
        "plt.plot(porosity, c33, label='c33', marker=\"o\")\n",
        "plt.plot(porosity, c66, label='c66', marker=\"o\")\n",
        "plt.xlabel('Porosity, n/n')\n",
        "plt.ylabel('Cij, ГПа')\n",
        "plt.title ('AR fluid 0.01')\n",
        "plt.xlim([0, 1])\n",
        "plt.ylim([0, 100])\n",
        "plt.grid()\n",
        "plt.legend()"
      ]
    },
    {
      "cell_type": "code",
      "source": [
        "np.linspace(1, 1000, 20)"
      ],
      "metadata": {
        "colab": {
          "base_uri": "https://localhost:8080/"
        },
        "id": "CXZ7jOzkGyfQ",
        "outputId": "13d2981d-183c-4078-8b93-a8559a156c83"
      },
      "execution_count": null,
      "outputs": [
        {
          "output_type": "execute_result",
          "data": {
            "text/plain": [
              "array([   1.        ,   53.57894737,  106.15789474,  158.73684211,\n",
              "        211.31578947,  263.89473684,  316.47368421,  369.05263158,\n",
              "        421.63157895,  474.21052632,  526.78947368,  579.36842105,\n",
              "        631.94736842,  684.52631579,  737.10526316,  789.68421053,\n",
              "        842.26315789,  894.84210526,  947.42105263, 1000.        ])"
            ]
          },
          "metadata": {},
          "execution_count": 15
        }
      ]
    },
    {
      "cell_type": "code",
      "execution_count": null,
      "metadata": {
        "colab": {
          "base_uri": "https://localhost:8080/"
        },
        "id": "N0gSrC0q0lqL",
        "outputId": "93a6fc15-66ab-4b45-b8a7-9ee892d5f5f2"
      },
      "outputs": [
        {
          "output_type": "stream",
          "name": "stdout",
          "text": [
            "[[66.50586  8.0397   8.0397   0.       0.       0.     ]\n",
            " [ 8.0397  66.50586  8.0397   0.       0.       0.     ]\n",
            " [ 8.0397   8.0397  66.50586  0.       0.       0.     ]\n",
            " [ 0.       0.       0.      29.23308  0.       0.     ]\n",
            " [ 0.       0.       0.       0.      29.23308  0.     ]\n",
            " [ 0.       0.       0.       0.       0.      29.23308]]\n",
            "[[61.64855 12.18809 12.18809  0.       0.       0.     ]\n",
            " [12.18809 61.64855 12.18809  0.       0.       0.     ]\n",
            " [12.18809 12.18809 61.64855  0.       0.       0.     ]\n",
            " [ 0.       0.       0.      24.73023  0.       0.     ]\n",
            " [ 0.       0.       0.       0.      24.73023  0.     ]\n",
            " [ 0.       0.       0.       0.       0.      24.73023]]\n",
            "[[49.65828 18.28263 18.28263  0.       0.       0.     ]\n",
            " [18.28263 49.65828 18.28263  0.       0.       0.     ]\n",
            " [18.28263 18.28263 49.65828  0.       0.       0.     ]\n",
            " [ 0.       0.       0.      15.68782  0.       0.     ]\n",
            " [ 0.       0.       0.       0.      15.68782  0.     ]\n",
            " [ 0.       0.       0.       0.       0.      15.68782]]\n"
          ]
        }
      ],
      "source": [
        "c11, c12, c44 = [], [], []\n",
        "# porosity = np.arange(0.0, 1.1, 0.1)\n",
        "porosity = 0.1\n",
        "\n",
        "AR = np.linspace(1, 1000, 20)\n",
        "\n",
        "g_m = tensor_g(C_c, [1, 1, 1])\n",
        "\n",
        "for i in AR:\n",
        "\n",
        "  g_fl = tensor_g(C_c, [i, i, 1])\n",
        "\n",
        "  a, b, c =  effective_tensor_new(g_m, g_fl, C_mtrx, C_fl, C_c, porosity)\n",
        "\n",
        "  c11.append(a)\n",
        "  c12.append(b)\n",
        "  c44.append(c)\n"
      ]
    },
    {
      "cell_type": "code",
      "execution_count": null,
      "metadata": {
        "colab": {
          "base_uri": "https://localhost:8080/",
          "height": 493
        },
        "id": "h3pjI3Rm0lvC",
        "outputId": "9edef2c3-c6f6-48e4-b47e-c77e4268ac81"
      },
      "outputs": [
        {
          "output_type": "execute_result",
          "data": {
            "text/plain": [
              "<matplotlib.legend.Legend at 0x7b0895f5d1b0>"
            ]
          },
          "metadata": {},
          "execution_count": 9
        },
        {
          "output_type": "display_data",
          "data": {
            "text/plain": [
              "<Figure size 640x480 with 1 Axes>"
            ],
            "image/png": "[encoded data removed]"
          },
          "metadata": {}
        }
      ],
      "source": [
        "AR = [1, 0.1, 0.01]\n",
        "\n",
        "plt.plot(AR, c11, label='c11', marker=\"o\")\n",
        "plt.plot(AR, c12, label='c12', marker=\"o\")\n",
        "plt.plot(AR, c44, label='c44', marker=\"o\")\n",
        "plt.xscale(\"log\")\n",
        "plt.xlabel('Porosity, n/n')\n",
        "plt.ylabel('Cij, ГПа')\n",
        "plt.title ('AR fluid')\n",
        "\n",
        "plt.grid()\n",
        "plt.legend()"
      ]
    },
    {
      "cell_type": "code",
      "execution_count": null,
      "metadata": {
        "id": "7l9cL_i-0lxo"
      },
      "outputs": [],
      "source": [
        "[[66.50586  8.0397   8.0397   0.       0.       0.     ]\n",
        " [ 8.0397  66.50586  8.0397   0.       0.       0.     ]\n",
        " [ 8.0397   8.0397  66.50586  0.       0.       0.     ]\n",
        " [ 0.       0.       0.      29.23308  0.       0.     ]\n",
        " [ 0.       0.       0.       0.      29.23308  0.     ]\n",
        " [ 0.       0.       0.       0.       0.      29.23308]]\n",
        "[[61.64855 12.18809 12.18809  0.       0.       0.     ]\n",
        " [12.18809 61.64855 12.18809  0.       0.       0.     ]\n",
        " [12.18809 12.18809 61.64855  0.       0.       0.     ]\n",
        " [ 0.       0.       0.      24.73023  0.       0.     ]\n",
        " [ 0.       0.       0.       0.      24.73023  0.     ]\n",
        " [ 0.       0.       0.       0.       0.      24.73023]]\n",
        "[[49.65828 18.28263 18.28263  0.       0.       0.     ]\n",
        " [18.28263 49.65828 18.28263  0.       0.       0.     ]\n",
        " [18.28263 18.28263 49.65828  0.       0.       0.     ]\n",
        " [ 0.       0.       0.      15.68782  0.       0.     ]\n",
        " [ 0.       0.       0.       0.      15.68782  0.     ]\n",
        " [ 0.       0.       0.       0.       0.      15.68782]]"
      ]
    },
    {
      "cell_type": "markdown",
      "metadata": {
        "id": "rRNli6-nHtw_"
      },
      "source": [
        "# BackUp"
      ]
    },
    {
      "cell_type": "code",
      "execution_count": null,
      "metadata": {
        "id": "KBDnyWfh0l0U"
      },
      "outputs": [],
      "source": [
        "def integration(C_c, ar):\n",
        "\n",
        "  A_klnm = np.empty((3,3,3,3))\n",
        "\n",
        "  for i in range(3):\n",
        "      for j in range(3):\n",
        "          for k in range(3):\n",
        "              for l in range(3):\n",
        "\n",
        "                # if i==j==k==l==0 or i==j==k==l==1 or i==j==k==l==2 or (i==j==0 and k==l==1) or (i==j==0 and k==l==2) or \\\n",
        "                #   (i==j==1 and k==l==0) or (i==j==2 and k==l==0) or \\\n",
        "                #   (i==j==2 and k==l==0) or (i==j==2 and k==l==1)or\\\n",
        "                #   (i==j==1 and k==l==2) or \\\n",
        "                #   (i==1 and j==2 and k==1 and l==2) or (i==2 and j==1 and k==2 and l==1) or\\\n",
        "                #   (i==1 and j==2 and k==2 and l==1) or (i==2 and j==1 and k==1 and l==2) or\\\n",
        "                #   (i==0 and j==2 and k==0 and l==2) or (i==2 and j==0 and k==2 and l==0) or\\\n",
        "                #   (i==2 and j==0 and  k==0 and l==2) or (i==0 and j==2 and k==2 and l==0) or\\\n",
        "                #   (i==0 and j==1 and k==0 and l==1) or (i==1 and j==0 and k==1 and l==0) or\\\n",
        "                #   (i==1 and j==0 and k==0 and l==1) or (i==0 and j==1 and k==1 and l==0):\n",
        "\n",
        "                  A_klnm[i,j,k,l], _ = integrate.dblquad(lambda θ, φ: Function(C_c, θ, φ, ar)[i,j,k,l]*np.sin(θ), 0, 2*np.pi, \\\n",
        "                                                      lambda θ: 0, lambda θ: np.pi, epsabs=1.49e-8, epsrel=1.49e-8)\n",
        "                  # print(i+1, j+1, k+1, l+1,  A_klnm[i,j,k,l]*(-1 /(4*np.pi)))\n",
        "                # else:\n",
        "                #   A_klnm[i,j,k,l] = 10***-18\n",
        "\n",
        "\n",
        "\n",
        "  A_klnm = -1/(4*np.pi)*A_klnm\n",
        "\n",
        "  g = np.empty((3,3,3,3))\n",
        "\n",
        "  for i in range(3):\n",
        "      for j in range(3):\n",
        "          for k in range(3):\n",
        "              for l in range(3):\n",
        "                g[i,j,k,l] = (A_klnm[i,k,l,j]+A_klnm[i,l,k,j]+A_klnm[j,k,l,i]+A_klnm[j,l,k,i])*0.25\n",
        "\n",
        "  return g"
      ]
    },
    {
      "cell_type": "code",
      "execution_count": null,
      "metadata": {
        "id": "2hcXQ4TQHiVT"
      },
      "outputs": [],
      "source": [
        "import numpy as np\n",
        "import scipy.integrate as integrate\n",
        "\n",
        "\n",
        "def tensor_g_try(C_c, AR):\n",
        "\n",
        "    # Define the integrand function f(θ, φ)\n",
        "    def func(θ, φ, position):\n",
        "        n_vector = np.array([[((np.sin(θ) * np.cos(φ))*AR[0]**-1),\n",
        "                        (np.sin(θ) * np.sin(φ))*AR[1]**-1,\n",
        "                        (np.cos(θ)*AR[2]**-1)]])\n",
        "\n",
        "        n = n_vector.T @ n_vector\n",
        "        λ = np.linalg.inv(np.einsum('imjn,mn->ij', C_c, n))\n",
        "        return (np.einsum('mn,ij -> imjn', n, λ)*np.sin(θ))[position[0],\n",
        "                                                            position[1],\n",
        "                                                            position[2],\n",
        "                                                            position[3]]  # Return a scalar value\n",
        "\n",
        "\n",
        "    # Compute the double integral for each component of A over θ and φ\n",
        "    integrals = np.zeros((3,3,3,3))\n",
        "\n",
        "    abserr = 1.0e-10\n",
        "    relerr = 1.0e-10\n",
        "    points = [0,]\n",
        "    opts={\n",
        "        'epsabs': abserr,\n",
        "        'epsrel': relerr,\n",
        "        'points': points\n",
        "        }\n",
        "\n",
        "    cc_list = []\n",
        "\n",
        "    for i in range(C_c.shape[0]):\n",
        "        for j in range(C_c.shape[1]):\n",
        "            for k in range(C_c.shape[2]):\n",
        "                for l in range(C_c.shape[3]):\n",
        "\n",
        "                  if (i==0 and j==0 and k==0 and l==0) or (i==0 and j==0 and k==1 and l==1) or (i==1 and j==2 and k==1 and l==2):\n",
        "\n",
        "                    integrand = lambda θ, φ: func(θ, φ, (i,j,k,l))\n",
        "                    integral,_ = integrate.nquad(integrand, [(0, np.pi), (0, 2*np.pi)],\n",
        "                                                  opts=opts)\n",
        "\n",
        "                    cc_list.append(integral*(-1/(4*np.pi)))\n",
        "\n",
        "\n",
        "    return cc_list[0], cc_list[1], cc_list[2]"
      ]
    },
    {
      "cell_type": "code",
      "execution_count": null,
      "metadata": {
        "id": "Ac8y5jH-Hsri"
      },
      "outputs": [],
      "source": [
        "def integration(C_c, ar):\n",
        "\n",
        "  A_klnm = np.zeros((3,3,3,3))\n",
        "\n",
        "  for i in range(3):\n",
        "      for j in range(3):\n",
        "          for k in range(3):\n",
        "              for l in range(3):\n",
        "\n",
        "\n",
        "                  A_klnm[i,j,k,l], _ = integrate.dblquad(lambda θ, φ: Function(C_c, θ, φ, ar)[i,j,k,l]*np.sin(θ), 0, 2*np.pi, \\\n",
        "                                                      lambda θ: 0, lambda θ: np.pi, epsabs=1.49e-8, epsrel=1.49e-8)\n",
        "  A_klnm = (-1/(4*np.pi))*A_klnm\n",
        "\n",
        "  g = np.zeros((3,3,3,3))\n",
        "\n",
        "  for i in range(3):\n",
        "      for j in range(3):\n",
        "          for k in range(3):\n",
        "              for l in range(3):\n",
        "                g[i,j,k,l] = (A_klnm[i,k,l,j]+A_klnm[i,l,k,j]+A_klnm[j,k,l,i]+A_klnm[j,l,k,i])*0.25\n",
        "  return g"
      ]
    }
  ],
  "metadata": {
    "colab": {
      "provenance": [],
      "include_colab_link": true
    },
    "kernelspec": {
      "display_name": "Python 3",
      "name": "python3"
    },
    "language_info": {
      "name": "python"
    }
  },
  "nbformat": 4,
  "nbformat_minor": 0
}