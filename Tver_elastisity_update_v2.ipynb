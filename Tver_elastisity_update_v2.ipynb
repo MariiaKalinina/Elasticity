{
 "cells": [
  {
   "cell_type": "markdown",
   "metadata": {
    "colab_type": "text",
    "id": "view-in-github"
   },
   "source": [
    "<a href=\"https://colab.research.google.com/github/MariiaKalinina/Elasticity/blob/main/Tver_elastisity_update_v1.ipynb\" target=\"_parent\"><img src=\"https://colab.research.google.com/assets/colab-badge.svg\" alt=\"Open In Colab\"/></a>"
   ]
  },
  {
   "cell_type": "code",
   "execution_count": 1,
   "metadata": {
    "id": "ApjBy1kiHfgc"
   },
   "outputs": [],
   "source": [
    "import numpy as np\n",
    "# import torch\n",
    "from math import *\n",
    "from scipy import integrate\n",
    "from numpy import linalg as LA\n",
    "import matplotlib.pyplot as plt\n",
    "%matplotlib inline\n",
    "from numba import njit\n",
    "import numpy as np\n",
    "from scipy.integrate import dblquad\n",
    "\n",
    "import matplotlib.pylab as plt\n",
    "import seaborn as sns\n",
    "import pandas as pd\n",
    "from pathlib import Path\n",
    "import matplotlib.colors\n",
    "\n",
    "import matplotlib.pyplot as plt\n",
    "import matplotlib.font_manager as font_manager\n",
    "%matplotlib inline\n",
    "csfont = {'fontname':'Times New Roman'}"
   ]
  },
  {
   "cell_type": "markdown",
   "metadata": {
    "id": "2AMgoI4Tw09G"
   },
   "source": [
    "# Preparation part"
   ]
  },
  {
   "cell_type": "code",
   "execution_count": 2,
   "metadata": {
    "id": "1crXixNIHsmZ"
   },
   "outputs": [],
   "source": [
    "# path_to_ser = Path('/content/Tver.xlsx')\n",
    "# /Users/maryiakalinina/Desktop\n",
    "path_to_ser = Path('/Users/maryiakalinina/Desktop/Tver.xlsx')\n",
    "df_ues = pd.read_excel(path_to_ser, sheet_name='All properties', skiprows=0)"
   ]
  },
  {
   "cell_type": "code",
   "execution_count": 3,
   "metadata": {
    "id": "u-VvhzJpQKWv"
   },
   "outputs": [],
   "source": [
    "pd.set_option('display.max_rows', None)\n",
    "pd.set_option('display.max_columns', None)\n",
    "pd.set_option('display.width', None)\n",
    "pd.set_option('display.max_colwidth', None)"
   ]
  },
  {
   "cell_type": "code",
   "execution_count": 4,
   "metadata": {
    "id": "DXejR58dKLQr"
   },
   "outputs": [],
   "source": [
    "data = df_ues.copy()\n",
    "data.drop('#', axis=1, inplace=True)"
   ]
  },
  {
   "cell_type": "code",
   "execution_count": 5,
   "metadata": {
    "colab": {
     "base_uri": "https://localhost:8080/",
     "height": 402
    },
    "id": "VVZ-ViChKxPm",
    "outputId": "8b7f823a-19e9-41db-8668-52b3ed041bbd"
   },
   "outputs": [
    {
     "data": {
      "text/html": [
       "<div>\n",
       "<style scoped>\n",
       "    .dataframe tbody tr th:only-of-type {\n",
       "        vertical-align: middle;\n",
       "    }\n",
       "\n",
       "    .dataframe tbody tr th {\n",
       "        vertical-align: top;\n",
       "    }\n",
       "\n",
       "    .dataframe thead th {\n",
       "        text-align: right;\n",
       "    }\n",
       "</style>\n",
       "<table border=\"1\" class=\"dataframe\">\n",
       "  <thead>\n",
       "    <tr style=\"text-align: right;\">\n",
       "      <th></th>\n",
       "      <th>Sample</th>\n",
       "      <th>Well</th>\n",
       "      <th>Litholohy</th>\n",
       "      <th>Porosity,%</th>\n",
       "      <th>Permeability</th>\n",
       "      <th>Density (water)</th>\n",
       "      <th>Density (oil)</th>\n",
       "      <th>Vp air</th>\n",
       "      <th>Vs air</th>\n",
       "      <th>Vp oil</th>\n",
       "      <th>Vs oil</th>\n",
       "      <th>Vp water</th>\n",
       "      <th>Vs water</th>\n",
       "      <th>Unnamed: 14</th>\n",
       "      <th>AR thermal</th>\n",
       "      <th>AO electrical</th>\n",
       "      <th>Unnamed: 17</th>\n",
       "      <th>Ar air</th>\n",
       "      <th>Ar water</th>\n",
       "      <th>AR oil</th>\n",
       "      <th>Unnamed: 21</th>\n",
       "      <th>C11</th>\n",
       "      <th>C12</th>\n",
       "      <th>C44</th>\n",
       "      <th>Vp</th>\n",
       "      <th>Vs</th>\n",
       "      <th>Unnamed: 27</th>\n",
       "      <th>C11.1</th>\n",
       "      <th>C12.1</th>\n",
       "      <th>C44.1</th>\n",
       "      <th>Vp.1</th>\n",
       "      <th>Vs.1</th>\n",
       "      <th>Unnamed: 33</th>\n",
       "      <th>C11.2</th>\n",
       "      <th>C12.2</th>\n",
       "      <th>C44.2</th>\n",
       "      <th>Vp.2</th>\n",
       "      <th>Vs.2</th>\n",
       "    </tr>\n",
       "  </thead>\n",
       "  <tbody>\n",
       "    <tr>\n",
       "      <th>0</th>\n",
       "      <td>113480</td>\n",
       "      <td>a</td>\n",
       "      <td>пористо-кавернозный, скол на торце, закрытые и полуоткрытые трещины</td>\n",
       "      <td>4.524900</td>\n",
       "      <td>0.832741</td>\n",
       "      <td>2.572247</td>\n",
       "      <td>2.576227</td>\n",
       "      <td>5.037000</td>\n",
       "      <td>2.360000</td>\n",
       "      <td>5.564425</td>\n",
       "      <td>3.019440</td>\n",
       "      <td>5.2945</td>\n",
       "      <td>2.6495</td>\n",
       "      <td>NaN</td>\n",
       "      <td>0.066681</td>\n",
       "      <td>0.069183</td>\n",
       "      <td>NaN</td>\n",
       "      <td>0.023</td>\n",
       "      <td>0.023</td>\n",
       "      <td>0.062</td>\n",
       "      <td>NaN</td>\n",
       "      <td>56.670000</td>\n",
       "      <td>24.860000</td>\n",
       "      <td>15.907000</td>\n",
       "      <td>4.694139</td>\n",
       "      <td>2.486839</td>\n",
       "      <td>NaN</td>\n",
       "      <td>76.350818</td>\n",
       "      <td>39.700320</td>\n",
       "      <td>18.325249</td>\n",
       "      <td>5.448169</td>\n",
       "      <td>2.669123</td>\n",
       "      <td>NaN</td>\n",
       "      <td>82.951572</td>\n",
       "      <td>38.509190</td>\n",
       "      <td>22.221191</td>\n",
       "      <td>5.678793</td>\n",
       "      <td>2.939188</td>\n",
       "    </tr>\n",
       "    <tr>\n",
       "      <th>1</th>\n",
       "      <td>113532</td>\n",
       "      <td>a</td>\n",
       "      <td>пористо-кавернозный</td>\n",
       "      <td>6.473371</td>\n",
       "      <td>0.253703</td>\n",
       "      <td>2.537162</td>\n",
       "      <td>2.529374</td>\n",
       "      <td>4.042333</td>\n",
       "      <td>2.427667</td>\n",
       "      <td>5.173550</td>\n",
       "      <td>2.849075</td>\n",
       "      <td>5.0545</td>\n",
       "      <td>2.6650</td>\n",
       "      <td>NaN</td>\n",
       "      <td>0.134276</td>\n",
       "      <td>0.087096</td>\n",
       "      <td>NaN</td>\n",
       "      <td>0.026</td>\n",
       "      <td>0.026</td>\n",
       "      <td>0.055</td>\n",
       "      <td>NaN</td>\n",
       "      <td>49.195447</td>\n",
       "      <td>21.396043</td>\n",
       "      <td>13.899702</td>\n",
       "      <td>4.403402</td>\n",
       "      <td>2.340608</td>\n",
       "      <td>NaN</td>\n",
       "      <td>68.960950</td>\n",
       "      <td>35.754080</td>\n",
       "      <td>16.171007</td>\n",
       "      <td>5.180683</td>\n",
       "      <td>2.524611</td>\n",
       "      <td>NaN</td>\n",
       "      <td>70.516504</td>\n",
       "      <td>32.409340</td>\n",
       "      <td>19.053582</td>\n",
       "      <td>5.271950</td>\n",
       "      <td>2.740402</td>\n",
       "    </tr>\n",
       "    <tr>\n",
       "      <th>2</th>\n",
       "      <td>113536</td>\n",
       "      <td>a</td>\n",
       "      <td>пористо-кавернозный</td>\n",
       "      <td>15.024288</td>\n",
       "      <td>18.334600</td>\n",
       "      <td>2.285245</td>\n",
       "      <td>2.297374</td>\n",
       "      <td>3.514333</td>\n",
       "      <td>1.997000</td>\n",
       "      <td>4.103260</td>\n",
       "      <td>2.256210</td>\n",
       "      <td>4.0285</td>\n",
       "      <td>2.2330</td>\n",
       "      <td>NaN</td>\n",
       "      <td>0.131826</td>\n",
       "      <td>0.104713</td>\n",
       "      <td>NaN</td>\n",
       "      <td>0.034</td>\n",
       "      <td>0.026</td>\n",
       "      <td>0.043</td>\n",
       "      <td>NaN</td>\n",
       "      <td>30.993864</td>\n",
       "      <td>13.219300</td>\n",
       "      <td>8.887282</td>\n",
       "      <td>3.682744</td>\n",
       "      <td>1.972051</td>\n",
       "      <td>NaN</td>\n",
       "      <td>42.766052</td>\n",
       "      <td>24.151980</td>\n",
       "      <td>9.307036</td>\n",
       "      <td>4.325967</td>\n",
       "      <td>2.018084</td>\n",
       "      <td>NaN</td>\n",
       "      <td>38.410987</td>\n",
       "      <td>17.259686</td>\n",
       "      <td>10.575651</td>\n",
       "      <td>4.099788</td>\n",
       "      <td>2.151232</td>\n",
       "    </tr>\n",
       "    <tr>\n",
       "      <th>3</th>\n",
       "      <td>113541</td>\n",
       "      <td>a</td>\n",
       "      <td>пористо-кавернозный</td>\n",
       "      <td>14.192654</td>\n",
       "      <td>17.343900</td>\n",
       "      <td>2.326067</td>\n",
       "      <td>2.319278</td>\n",
       "      <td>3.241000</td>\n",
       "      <td>1.837667</td>\n",
       "      <td>3.971235</td>\n",
       "      <td>2.164210</td>\n",
       "      <td>3.8155</td>\n",
       "      <td>2.0285</td>\n",
       "      <td>NaN</td>\n",
       "      <td>0.122462</td>\n",
       "      <td>0.095499</td>\n",
       "      <td>NaN</td>\n",
       "      <td>0.028</td>\n",
       "      <td>0.017</td>\n",
       "      <td>0.028</td>\n",
       "      <td>NaN</td>\n",
       "      <td>28.470997</td>\n",
       "      <td>12.028736</td>\n",
       "      <td>8.221131</td>\n",
       "      <td>3.498567</td>\n",
       "      <td>1.879986</td>\n",
       "      <td>NaN</td>\n",
       "      <td>38.774483</td>\n",
       "      <td>23.602611</td>\n",
       "      <td>7.585936</td>\n",
       "      <td>4.082836</td>\n",
       "      <td>1.805899</td>\n",
       "      <td>NaN</td>\n",
       "      <td>30.976822</td>\n",
       "      <td>13.874753</td>\n",
       "      <td>8.551035</td>\n",
       "      <td>3.649281</td>\n",
       "      <td>1.917336</td>\n",
       "    </tr>\n",
       "    <tr>\n",
       "      <th>4</th>\n",
       "      <td>113556</td>\n",
       "      <td>a</td>\n",
       "      <td>пористо-кавернозный</td>\n",
       "      <td>9.432966</td>\n",
       "      <td>15.777000</td>\n",
       "      <td>2.459785</td>\n",
       "      <td>2.445896</td>\n",
       "      <td>3.798667</td>\n",
       "      <td>2.336333</td>\n",
       "      <td>4.759910</td>\n",
       "      <td>2.564645</td>\n",
       "      <td>4.8270</td>\n",
       "      <td>2.5030</td>\n",
       "      <td>NaN</td>\n",
       "      <td>0.081658</td>\n",
       "      <td>0.072444</td>\n",
       "      <td>NaN</td>\n",
       "      <td>NaN</td>\n",
       "      <td>NaN</td>\n",
       "      <td>NaN</td>\n",
       "      <td>NaN</td>\n",
       "      <td>NaN</td>\n",
       "      <td>NaN</td>\n",
       "      <td>NaN</td>\n",
       "      <td>NaN</td>\n",
       "      <td>NaN</td>\n",
       "      <td>NaN</td>\n",
       "      <td>NaN</td>\n",
       "      <td>NaN</td>\n",
       "      <td>NaN</td>\n",
       "      <td>NaN</td>\n",
       "      <td>NaN</td>\n",
       "      <td>NaN</td>\n",
       "      <td>NaN</td>\n",
       "      <td>NaN</td>\n",
       "      <td>NaN</td>\n",
       "      <td>NaN</td>\n",
       "      <td>NaN</td>\n",
       "    </tr>\n",
       "  </tbody>\n",
       "</table>\n",
       "</div>"
      ],
      "text/plain": [
       "   Sample Well  \\\n",
       "0  113480    a   \n",
       "1  113532    a   \n",
       "2  113536    a   \n",
       "3  113541    a   \n",
       "4  113556    a   \n",
       "\n",
       "                                                             Litholohy  \\\n",
       "0  пористо-кавернозный, скол на торце, закрытые и полуоткрытые трещины   \n",
       "1                                                  пористо-кавернозный   \n",
       "2                                                  пористо-кавернозный   \n",
       "3                                                  пористо-кавернозный   \n",
       "4                                                  пористо-кавернозный   \n",
       "\n",
       "   Porosity,%  Permeability  Density (water)  Density (oil)    Vp air  \\\n",
       "0    4.524900      0.832741         2.572247       2.576227  5.037000   \n",
       "1    6.473371      0.253703         2.537162       2.529374  4.042333   \n",
       "2   15.024288     18.334600         2.285245       2.297374  3.514333   \n",
       "3   14.192654     17.343900         2.326067       2.319278  3.241000   \n",
       "4    9.432966     15.777000         2.459785       2.445896  3.798667   \n",
       "\n",
       "     Vs air    Vp oil    Vs oil  Vp water  Vs water  Unnamed: 14  AR thermal  \\\n",
       "0  2.360000  5.564425  3.019440    5.2945    2.6495          NaN    0.066681   \n",
       "1  2.427667  5.173550  2.849075    5.0545    2.6650          NaN    0.134276   \n",
       "2  1.997000  4.103260  2.256210    4.0285    2.2330          NaN    0.131826   \n",
       "3  1.837667  3.971235  2.164210    3.8155    2.0285          NaN    0.122462   \n",
       "4  2.336333  4.759910  2.564645    4.8270    2.5030          NaN    0.081658   \n",
       "\n",
       "   AO electrical  Unnamed: 17  Ar air  Ar water  AR oil  Unnamed: 21  \\\n",
       "0       0.069183          NaN   0.023     0.023   0.062          NaN   \n",
       "1       0.087096          NaN   0.026     0.026   0.055          NaN   \n",
       "2       0.104713          NaN   0.034     0.026   0.043          NaN   \n",
       "3       0.095499          NaN   0.028     0.017   0.028          NaN   \n",
       "4       0.072444          NaN     NaN       NaN     NaN          NaN   \n",
       "\n",
       "         C11        C12        C44        Vp        Vs  Unnamed: 27  \\\n",
       "0  56.670000  24.860000  15.907000  4.694139  2.486839          NaN   \n",
       "1  49.195447  21.396043  13.899702  4.403402  2.340608          NaN   \n",
       "2  30.993864  13.219300   8.887282  3.682744  1.972051          NaN   \n",
       "3  28.470997  12.028736   8.221131  3.498567  1.879986          NaN   \n",
       "4        NaN        NaN        NaN       NaN       NaN          NaN   \n",
       "\n",
       "       C11.1      C12.1      C44.1      Vp.1      Vs.1  Unnamed: 33  \\\n",
       "0  76.350818  39.700320  18.325249  5.448169  2.669123          NaN   \n",
       "1  68.960950  35.754080  16.171007  5.180683  2.524611          NaN   \n",
       "2  42.766052  24.151980   9.307036  4.325967  2.018084          NaN   \n",
       "3  38.774483  23.602611   7.585936  4.082836  1.805899          NaN   \n",
       "4        NaN        NaN        NaN       NaN       NaN          NaN   \n",
       "\n",
       "       C11.2      C12.2      C44.2      Vp.2      Vs.2  \n",
       "0  82.951572  38.509190  22.221191  5.678793  2.939188  \n",
       "1  70.516504  32.409340  19.053582  5.271950  2.740402  \n",
       "2  38.410987  17.259686  10.575651  4.099788  2.151232  \n",
       "3  30.976822  13.874753   8.551035  3.649281  1.917336  \n",
       "4        NaN        NaN        NaN       NaN       NaN  "
      ]
     },
     "execution_count": 5,
     "metadata": {},
     "output_type": "execute_result"
    }
   ],
   "source": [
    "data[:5]"
   ]
  },
  {
   "cell_type": "code",
   "execution_count": 6,
   "metadata": {
    "colab": {
     "base_uri": "https://localhost:8080/",
     "height": 291
    },
    "id": "c8UthUoFKy5G",
    "outputId": "dd737c2e-10ef-4ea8-e4c9-f24c2178bc3d"
   },
   "outputs": [
    {
     "data": {
      "text/html": [
       "<div>\n",
       "<style scoped>\n",
       "    .dataframe tbody tr th:only-of-type {\n",
       "        vertical-align: middle;\n",
       "    }\n",
       "\n",
       "    .dataframe tbody tr th {\n",
       "        vertical-align: top;\n",
       "    }\n",
       "\n",
       "    .dataframe thead th {\n",
       "        text-align: right;\n",
       "    }\n",
       "</style>\n",
       "<table border=\"1\" class=\"dataframe\">\n",
       "  <thead>\n",
       "    <tr style=\"text-align: right;\">\n",
       "      <th></th>\n",
       "      <th>Vp air</th>\n",
       "      <th>Vs air</th>\n",
       "      <th>Vp water</th>\n",
       "      <th>Vs water</th>\n",
       "      <th>Vp oil</th>\n",
       "      <th>Vs oil</th>\n",
       "    </tr>\n",
       "  </thead>\n",
       "  <tbody>\n",
       "    <tr>\n",
       "      <th>count</th>\n",
       "      <td>33.000000</td>\n",
       "      <td>33.000000</td>\n",
       "      <td>33.000000</td>\n",
       "      <td>33.000000</td>\n",
       "      <td>33.000000</td>\n",
       "      <td>33.000000</td>\n",
       "    </tr>\n",
       "    <tr>\n",
       "      <th>mean</th>\n",
       "      <td>4.049354</td>\n",
       "      <td>2.347747</td>\n",
       "      <td>4.734121</td>\n",
       "      <td>2.500788</td>\n",
       "      <td>4.801224</td>\n",
       "      <td>2.647978</td>\n",
       "    </tr>\n",
       "    <tr>\n",
       "      <th>std</th>\n",
       "      <td>0.785375</td>\n",
       "      <td>0.394807</td>\n",
       "      <td>0.634691</td>\n",
       "      <td>0.349465</td>\n",
       "      <td>0.684056</td>\n",
       "      <td>0.374006</td>\n",
       "    </tr>\n",
       "    <tr>\n",
       "      <th>min</th>\n",
       "      <td>2.212333</td>\n",
       "      <td>1.323000</td>\n",
       "      <td>3.259500</td>\n",
       "      <td>1.718500</td>\n",
       "      <td>3.167705</td>\n",
       "      <td>1.825235</td>\n",
       "    </tr>\n",
       "    <tr>\n",
       "      <th>25%</th>\n",
       "      <td>3.514333</td>\n",
       "      <td>2.076667</td>\n",
       "      <td>4.405000</td>\n",
       "      <td>2.233000</td>\n",
       "      <td>4.224880</td>\n",
       "      <td>2.373170</td>\n",
       "    </tr>\n",
       "    <tr>\n",
       "      <th>50%</th>\n",
       "      <td>4.042333</td>\n",
       "      <td>2.360000</td>\n",
       "      <td>4.900000</td>\n",
       "      <td>2.582000</td>\n",
       "      <td>4.972040</td>\n",
       "      <td>2.704390</td>\n",
       "    </tr>\n",
       "    <tr>\n",
       "      <th>75%</th>\n",
       "      <td>4.839333</td>\n",
       "      <td>2.675000</td>\n",
       "      <td>5.211500</td>\n",
       "      <td>2.723500</td>\n",
       "      <td>5.190400</td>\n",
       "      <td>2.876360</td>\n",
       "    </tr>\n",
       "    <tr>\n",
       "      <th>max</th>\n",
       "      <td>5.199333</td>\n",
       "      <td>2.883000</td>\n",
       "      <td>5.674000</td>\n",
       "      <td>2.991500</td>\n",
       "      <td>5.958540</td>\n",
       "      <td>3.269995</td>\n",
       "    </tr>\n",
       "  </tbody>\n",
       "</table>\n",
       "</div>"
      ],
      "text/plain": [
       "          Vp air     Vs air   Vp water   Vs water     Vp oil     Vs oil\n",
       "count  33.000000  33.000000  33.000000  33.000000  33.000000  33.000000\n",
       "mean    4.049354   2.347747   4.734121   2.500788   4.801224   2.647978\n",
       "std     0.785375   0.394807   0.634691   0.349465   0.684056   0.374006\n",
       "min     2.212333   1.323000   3.259500   1.718500   3.167705   1.825235\n",
       "25%     3.514333   2.076667   4.405000   2.233000   4.224880   2.373170\n",
       "50%     4.042333   2.360000   4.900000   2.582000   4.972040   2.704390\n",
       "75%     4.839333   2.675000   5.211500   2.723500   5.190400   2.876360\n",
       "max     5.199333   2.883000   5.674000   2.991500   5.958540   3.269995"
      ]
     },
     "execution_count": 6,
     "metadata": {},
     "output_type": "execute_result"
    }
   ],
   "source": [
    "data[['Vp air', 'Vs air', 'Vp water', 'Vs water', 'Vp oil', 'Vs oil']].describe()"
   ]
  },
  {
   "cell_type": "code",
   "execution_count": 7,
   "metadata": {
    "id": "p6EPfTVKPDMm"
   },
   "outputs": [],
   "source": [
    "data['Vp/Vs air'] = data[['Vp air', 'Vs air']].apply(lambda x: x[0]/x[1], axis=1)\n",
    "data['Vp/Vs water'] = data[['Vp water', 'Vs water']].apply(lambda x: x[0]/x[1], axis=1)\n",
    "data['Vp/Vs oil'] = data[['Vp oil', 'Vs oil']].apply(lambda x: x[0]/x[1], axis=1)\n",
    "\n",
    "data['Vp Water/Oil Diff'] = data[['Vp water', 'Vp oil']].apply(lambda x: np.round((x[0]-x[1])/x[1]*100, 2), axis=1)\n",
    "data['Vs Water/Oil Diff'] = data[['Vs water', 'Vs oil']].apply(lambda x: np.round((x[0]-x[1])/x[1]*100, 2), axis=1)"
   ]
  },
  {
   "cell_type": "code",
   "execution_count": 8,
   "metadata": {
    "id": "vvu6RwkAdIv0"
   },
   "outputs": [],
   "source": [
    "def bulk_mdl(p, vp, vs):\n",
    "\n",
    "    K = list(map(lambda x, y, z: x * (y**2 - 4/3*z**2), p, vp, vs))\n",
    "    μ = list(map(lambda x, z: x * z**2, p, vs))\n",
    "    return K[0], μ[0]"
   ]
  },
  {
   "cell_type": "code",
   "execution_count": 9,
   "metadata": {
    "id": "rTeh7SRpdDcD"
   },
   "outputs": [],
   "source": [
    "    ### Moduli Air\n",
    "data['K air'] = data[['Vp air', 'Vs air', 'Density (water)']].apply(lambda x: x[2] * (x[0]**2 - 4/3*x[1]**2), axis=1)\n",
    "data['Mu air'] = data[['Vs air', 'Density (water)']].apply(lambda x: x[1] * x[0]**2, axis=1)\n",
    "\n",
    "    ### Moduli Water\n",
    "data['K water'] = data[['Vp water', 'Vs water', 'Density (water)']].apply(lambda x: x[2] * (x[0]**2 - 4/3*x[1]**2), axis=1)\n",
    "data['Mu water'] = data[['Vs water', 'Density (water)']].apply(lambda x: x[1] * x[0]**2, axis=1)\n",
    "\n",
    "    ### Moduli Oil\n",
    "data['K oil'] = data[['Vp oil', 'Vs oil', 'Density (oil)']].apply(lambda x: x[2] * (x[0]**2 - 4/3*x[1]**2), axis=1)\n",
    "data['Mu oil'] = data[['Vs oil', 'Density (oil)']].apply(lambda x: x[1] * x[0]**2, axis=1)"
   ]
  },
  {
   "cell_type": "code",
   "execution_count": 10,
   "metadata": {
    "colab": {
     "base_uri": "https://localhost:8080/",
     "height": 418
    },
    "id": "fPN9coHdPcl_",
    "outputId": "ea8bbeba-198f-4b26-b0ad-c31d03eeee9c"
   },
   "outputs": [
    {
     "data": {
      "text/html": [
       "<div>\n",
       "<style scoped>\n",
       "    .dataframe tbody tr th:only-of-type {\n",
       "        vertical-align: middle;\n",
       "    }\n",
       "\n",
       "    .dataframe tbody tr th {\n",
       "        vertical-align: top;\n",
       "    }\n",
       "\n",
       "    .dataframe thead th {\n",
       "        text-align: right;\n",
       "    }\n",
       "</style>\n",
       "<table border=\"1\" class=\"dataframe\">\n",
       "  <thead>\n",
       "    <tr style=\"text-align: right;\">\n",
       "      <th></th>\n",
       "      <th>Sample</th>\n",
       "      <th>Well</th>\n",
       "      <th>Litholohy</th>\n",
       "      <th>Porosity,%</th>\n",
       "      <th>Permeability</th>\n",
       "      <th>Density (water)</th>\n",
       "      <th>Density (oil)</th>\n",
       "      <th>Vp air</th>\n",
       "      <th>Vs air</th>\n",
       "      <th>Vp oil</th>\n",
       "      <th>Vs oil</th>\n",
       "      <th>Vp water</th>\n",
       "      <th>Vs water</th>\n",
       "      <th>Unnamed: 14</th>\n",
       "      <th>AR thermal</th>\n",
       "      <th>AO electrical</th>\n",
       "      <th>Unnamed: 17</th>\n",
       "      <th>Ar air</th>\n",
       "      <th>Ar water</th>\n",
       "      <th>AR oil</th>\n",
       "      <th>Unnamed: 21</th>\n",
       "      <th>C11</th>\n",
       "      <th>C12</th>\n",
       "      <th>C44</th>\n",
       "      <th>Vp</th>\n",
       "      <th>Vs</th>\n",
       "      <th>Unnamed: 27</th>\n",
       "      <th>C11.1</th>\n",
       "      <th>C12.1</th>\n",
       "      <th>C44.1</th>\n",
       "      <th>Vp.1</th>\n",
       "      <th>Vs.1</th>\n",
       "      <th>Unnamed: 33</th>\n",
       "      <th>C11.2</th>\n",
       "      <th>C12.2</th>\n",
       "      <th>C44.2</th>\n",
       "      <th>Vp.2</th>\n",
       "      <th>Vs.2</th>\n",
       "      <th>Vp/Vs air</th>\n",
       "      <th>Vp/Vs water</th>\n",
       "      <th>Vp/Vs oil</th>\n",
       "      <th>Vp Water/Oil Diff</th>\n",
       "      <th>Vs Water/Oil Diff</th>\n",
       "      <th>K air</th>\n",
       "      <th>Mu air</th>\n",
       "      <th>K water</th>\n",
       "      <th>Mu water</th>\n",
       "      <th>K oil</th>\n",
       "      <th>Mu oil</th>\n",
       "    </tr>\n",
       "  </thead>\n",
       "  <tbody>\n",
       "    <tr>\n",
       "      <th>0</th>\n",
       "      <td>113480</td>\n",
       "      <td>a</td>\n",
       "      <td>пористо-кавернозный, скол на торце, закрытые и полуоткрытые трещины</td>\n",
       "      <td>4.524900</td>\n",
       "      <td>0.832741</td>\n",
       "      <td>2.572247</td>\n",
       "      <td>2.576227</td>\n",
       "      <td>5.037000</td>\n",
       "      <td>2.360000</td>\n",
       "      <td>5.564425</td>\n",
       "      <td>3.019440</td>\n",
       "      <td>5.2945</td>\n",
       "      <td>2.6495</td>\n",
       "      <td>NaN</td>\n",
       "      <td>0.066681</td>\n",
       "      <td>0.069183</td>\n",
       "      <td>NaN</td>\n",
       "      <td>0.023</td>\n",
       "      <td>0.023</td>\n",
       "      <td>0.062</td>\n",
       "      <td>NaN</td>\n",
       "      <td>56.670000</td>\n",
       "      <td>24.860000</td>\n",
       "      <td>15.907000</td>\n",
       "      <td>4.694139</td>\n",
       "      <td>2.486839</td>\n",
       "      <td>NaN</td>\n",
       "      <td>76.350818</td>\n",
       "      <td>39.700320</td>\n",
       "      <td>18.325249</td>\n",
       "      <td>5.448169</td>\n",
       "      <td>2.669123</td>\n",
       "      <td>NaN</td>\n",
       "      <td>82.951572</td>\n",
       "      <td>38.509190</td>\n",
       "      <td>22.221191</td>\n",
       "      <td>5.678793</td>\n",
       "      <td>2.939188</td>\n",
       "      <td>2.134322</td>\n",
       "      <td>1.998302</td>\n",
       "      <td>1.842867</td>\n",
       "      <td>-4.85</td>\n",
       "      <td>-12.25</td>\n",
       "      <td>46.159570</td>\n",
       "      <td>14.326384</td>\n",
       "      <td>48.028807</td>\n",
       "      <td>18.056785</td>\n",
       "      <td>48.450587</td>\n",
       "      <td>23.487506</td>\n",
       "    </tr>\n",
       "    <tr>\n",
       "      <th>1</th>\n",
       "      <td>113532</td>\n",
       "      <td>a</td>\n",
       "      <td>пористо-кавернозный</td>\n",
       "      <td>6.473371</td>\n",
       "      <td>0.253703</td>\n",
       "      <td>2.537162</td>\n",
       "      <td>2.529374</td>\n",
       "      <td>4.042333</td>\n",
       "      <td>2.427667</td>\n",
       "      <td>5.173550</td>\n",
       "      <td>2.849075</td>\n",
       "      <td>5.0545</td>\n",
       "      <td>2.6650</td>\n",
       "      <td>NaN</td>\n",
       "      <td>0.134276</td>\n",
       "      <td>0.087096</td>\n",
       "      <td>NaN</td>\n",
       "      <td>0.026</td>\n",
       "      <td>0.026</td>\n",
       "      <td>0.055</td>\n",
       "      <td>NaN</td>\n",
       "      <td>49.195447</td>\n",
       "      <td>21.396043</td>\n",
       "      <td>13.899702</td>\n",
       "      <td>4.403402</td>\n",
       "      <td>2.340608</td>\n",
       "      <td>NaN</td>\n",
       "      <td>68.960950</td>\n",
       "      <td>35.754080</td>\n",
       "      <td>16.171007</td>\n",
       "      <td>5.180683</td>\n",
       "      <td>2.524611</td>\n",
       "      <td>NaN</td>\n",
       "      <td>70.516504</td>\n",
       "      <td>32.409340</td>\n",
       "      <td>19.053582</td>\n",
       "      <td>5.271950</td>\n",
       "      <td>2.740402</td>\n",
       "      <td>1.665111</td>\n",
       "      <td>1.896623</td>\n",
       "      <td>1.815870</td>\n",
       "      <td>-2.30</td>\n",
       "      <td>-6.46</td>\n",
       "      <td>21.521152</td>\n",
       "      <td>14.952932</td>\n",
       "      <td>40.793349</td>\n",
       "      <td>18.019497</td>\n",
       "      <td>40.324913</td>\n",
       "      <td>20.531503</td>\n",
       "    </tr>\n",
       "    <tr>\n",
       "      <th>2</th>\n",
       "      <td>113536</td>\n",
       "      <td>a</td>\n",
       "      <td>пористо-кавернозный</td>\n",
       "      <td>15.024288</td>\n",
       "      <td>18.334600</td>\n",
       "      <td>2.285245</td>\n",
       "      <td>2.297374</td>\n",
       "      <td>3.514333</td>\n",
       "      <td>1.997000</td>\n",
       "      <td>4.103260</td>\n",
       "      <td>2.256210</td>\n",
       "      <td>4.0285</td>\n",
       "      <td>2.2330</td>\n",
       "      <td>NaN</td>\n",
       "      <td>0.131826</td>\n",
       "      <td>0.104713</td>\n",
       "      <td>NaN</td>\n",
       "      <td>0.034</td>\n",
       "      <td>0.026</td>\n",
       "      <td>0.043</td>\n",
       "      <td>NaN</td>\n",
       "      <td>30.993864</td>\n",
       "      <td>13.219300</td>\n",
       "      <td>8.887282</td>\n",
       "      <td>3.682744</td>\n",
       "      <td>1.972051</td>\n",
       "      <td>NaN</td>\n",
       "      <td>42.766052</td>\n",
       "      <td>24.151980</td>\n",
       "      <td>9.307036</td>\n",
       "      <td>4.325967</td>\n",
       "      <td>2.018084</td>\n",
       "      <td>NaN</td>\n",
       "      <td>38.410987</td>\n",
       "      <td>17.259686</td>\n",
       "      <td>10.575651</td>\n",
       "      <td>4.099788</td>\n",
       "      <td>2.151232</td>\n",
       "      <td>1.759806</td>\n",
       "      <td>1.804075</td>\n",
       "      <td>1.818652</td>\n",
       "      <td>-1.82</td>\n",
       "      <td>-1.03</td>\n",
       "      <td>16.072570</td>\n",
       "      <td>9.113578</td>\n",
       "      <td>21.893623</td>\n",
       "      <td>11.394892</td>\n",
       "      <td>23.087306</td>\n",
       "      <td>11.694747</td>\n",
       "    </tr>\n",
       "    <tr>\n",
       "      <th>3</th>\n",
       "      <td>113541</td>\n",
       "      <td>a</td>\n",
       "      <td>пористо-кавернозный</td>\n",
       "      <td>14.192654</td>\n",
       "      <td>17.343900</td>\n",
       "      <td>2.326067</td>\n",
       "      <td>2.319278</td>\n",
       "      <td>3.241000</td>\n",
       "      <td>1.837667</td>\n",
       "      <td>3.971235</td>\n",
       "      <td>2.164210</td>\n",
       "      <td>3.8155</td>\n",
       "      <td>2.0285</td>\n",
       "      <td>NaN</td>\n",
       "      <td>0.122462</td>\n",
       "      <td>0.095499</td>\n",
       "      <td>NaN</td>\n",
       "      <td>0.028</td>\n",
       "      <td>0.017</td>\n",
       "      <td>0.028</td>\n",
       "      <td>NaN</td>\n",
       "      <td>28.470997</td>\n",
       "      <td>12.028736</td>\n",
       "      <td>8.221131</td>\n",
       "      <td>3.498567</td>\n",
       "      <td>1.879986</td>\n",
       "      <td>NaN</td>\n",
       "      <td>38.774483</td>\n",
       "      <td>23.602611</td>\n",
       "      <td>7.585936</td>\n",
       "      <td>4.082836</td>\n",
       "      <td>1.805899</td>\n",
       "      <td>NaN</td>\n",
       "      <td>30.976822</td>\n",
       "      <td>13.874753</td>\n",
       "      <td>8.551035</td>\n",
       "      <td>3.649281</td>\n",
       "      <td>1.917336</td>\n",
       "      <td>1.763650</td>\n",
       "      <td>1.880947</td>\n",
       "      <td>1.834958</td>\n",
       "      <td>-3.92</td>\n",
       "      <td>-6.27</td>\n",
       "      <td>13.959632</td>\n",
       "      <td>7.855171</td>\n",
       "      <td>21.101203</td>\n",
       "      <td>9.571328</td>\n",
       "      <td>22.092591</td>\n",
       "      <td>10.863045</td>\n",
       "    </tr>\n",
       "    <tr>\n",
       "      <th>4</th>\n",
       "      <td>113556</td>\n",
       "      <td>a</td>\n",
       "      <td>пористо-кавернозный</td>\n",
       "      <td>9.432966</td>\n",
       "      <td>15.777000</td>\n",
       "      <td>2.459785</td>\n",
       "      <td>2.445896</td>\n",
       "      <td>3.798667</td>\n",
       "      <td>2.336333</td>\n",
       "      <td>4.759910</td>\n",
       "      <td>2.564645</td>\n",
       "      <td>4.8270</td>\n",
       "      <td>2.5030</td>\n",
       "      <td>NaN</td>\n",
       "      <td>0.081658</td>\n",
       "      <td>0.072444</td>\n",
       "      <td>NaN</td>\n",
       "      <td>NaN</td>\n",
       "      <td>NaN</td>\n",
       "      <td>NaN</td>\n",
       "      <td>NaN</td>\n",
       "      <td>NaN</td>\n",
       "      <td>NaN</td>\n",
       "      <td>NaN</td>\n",
       "      <td>NaN</td>\n",
       "      <td>NaN</td>\n",
       "      <td>NaN</td>\n",
       "      <td>NaN</td>\n",
       "      <td>NaN</td>\n",
       "      <td>NaN</td>\n",
       "      <td>NaN</td>\n",
       "      <td>NaN</td>\n",
       "      <td>NaN</td>\n",
       "      <td>NaN</td>\n",
       "      <td>NaN</td>\n",
       "      <td>NaN</td>\n",
       "      <td>NaN</td>\n",
       "      <td>NaN</td>\n",
       "      <td>1.625910</td>\n",
       "      <td>1.928486</td>\n",
       "      <td>1.855972</td>\n",
       "      <td>1.41</td>\n",
       "      <td>-2.40</td>\n",
       "      <td>17.592209</td>\n",
       "      <td>13.426620</td>\n",
       "      <td>36.765377</td>\n",
       "      <td>15.410573</td>\n",
       "      <td>33.965842</td>\n",
       "      <td>16.087646</td>\n",
       "    </tr>\n",
       "  </tbody>\n",
       "</table>\n",
       "</div>"
      ],
      "text/plain": [
       "   Sample Well  \\\n",
       "0  113480    a   \n",
       "1  113532    a   \n",
       "2  113536    a   \n",
       "3  113541    a   \n",
       "4  113556    a   \n",
       "\n",
       "                                                             Litholohy  \\\n",
       "0  пористо-кавернозный, скол на торце, закрытые и полуоткрытые трещины   \n",
       "1                                                  пористо-кавернозный   \n",
       "2                                                  пористо-кавернозный   \n",
       "3                                                  пористо-кавернозный   \n",
       "4                                                  пористо-кавернозный   \n",
       "\n",
       "   Porosity,%  Permeability  Density (water)  Density (oil)    Vp air  \\\n",
       "0    4.524900      0.832741         2.572247       2.576227  5.037000   \n",
       "1    6.473371      0.253703         2.537162       2.529374  4.042333   \n",
       "2   15.024288     18.334600         2.285245       2.297374  3.514333   \n",
       "3   14.192654     17.343900         2.326067       2.319278  3.241000   \n",
       "4    9.432966     15.777000         2.459785       2.445896  3.798667   \n",
       "\n",
       "     Vs air    Vp oil    Vs oil  Vp water  Vs water  Unnamed: 14  AR thermal  \\\n",
       "0  2.360000  5.564425  3.019440    5.2945    2.6495          NaN    0.066681   \n",
       "1  2.427667  5.173550  2.849075    5.0545    2.6650          NaN    0.134276   \n",
       "2  1.997000  4.103260  2.256210    4.0285    2.2330          NaN    0.131826   \n",
       "3  1.837667  3.971235  2.164210    3.8155    2.0285          NaN    0.122462   \n",
       "4  2.336333  4.759910  2.564645    4.8270    2.5030          NaN    0.081658   \n",
       "\n",
       "   AO electrical  Unnamed: 17  Ar air  Ar water  AR oil  Unnamed: 21  \\\n",
       "0       0.069183          NaN   0.023     0.023   0.062          NaN   \n",
       "1       0.087096          NaN   0.026     0.026   0.055          NaN   \n",
       "2       0.104713          NaN   0.034     0.026   0.043          NaN   \n",
       "3       0.095499          NaN   0.028     0.017   0.028          NaN   \n",
       "4       0.072444          NaN     NaN       NaN     NaN          NaN   \n",
       "\n",
       "         C11        C12        C44        Vp        Vs  Unnamed: 27  \\\n",
       "0  56.670000  24.860000  15.907000  4.694139  2.486839          NaN   \n",
       "1  49.195447  21.396043  13.899702  4.403402  2.340608          NaN   \n",
       "2  30.993864  13.219300   8.887282  3.682744  1.972051          NaN   \n",
       "3  28.470997  12.028736   8.221131  3.498567  1.879986          NaN   \n",
       "4        NaN        NaN        NaN       NaN       NaN          NaN   \n",
       "\n",
       "       C11.1      C12.1      C44.1      Vp.1      Vs.1  Unnamed: 33  \\\n",
       "0  76.350818  39.700320  18.325249  5.448169  2.669123          NaN   \n",
       "1  68.960950  35.754080  16.171007  5.180683  2.524611          NaN   \n",
       "2  42.766052  24.151980   9.307036  4.325967  2.018084          NaN   \n",
       "3  38.774483  23.602611   7.585936  4.082836  1.805899          NaN   \n",
       "4        NaN        NaN        NaN       NaN       NaN          NaN   \n",
       "\n",
       "       C11.2      C12.2      C44.2      Vp.2      Vs.2  Vp/Vs air  \\\n",
       "0  82.951572  38.509190  22.221191  5.678793  2.939188   2.134322   \n",
       "1  70.516504  32.409340  19.053582  5.271950  2.740402   1.665111   \n",
       "2  38.410987  17.259686  10.575651  4.099788  2.151232   1.759806   \n",
       "3  30.976822  13.874753   8.551035  3.649281  1.917336   1.763650   \n",
       "4        NaN        NaN        NaN       NaN       NaN   1.625910   \n",
       "\n",
       "   Vp/Vs water  Vp/Vs oil  Vp Water/Oil Diff  Vs Water/Oil Diff      K air  \\\n",
       "0     1.998302   1.842867              -4.85             -12.25  46.159570   \n",
       "1     1.896623   1.815870              -2.30              -6.46  21.521152   \n",
       "2     1.804075   1.818652              -1.82              -1.03  16.072570   \n",
       "3     1.880947   1.834958              -3.92              -6.27  13.959632   \n",
       "4     1.928486   1.855972               1.41              -2.40  17.592209   \n",
       "\n",
       "      Mu air    K water   Mu water      K oil     Mu oil  \n",
       "0  14.326384  48.028807  18.056785  48.450587  23.487506  \n",
       "1  14.952932  40.793349  18.019497  40.324913  20.531503  \n",
       "2   9.113578  21.893623  11.394892  23.087306  11.694747  \n",
       "3   7.855171  21.101203   9.571328  22.092591  10.863045  \n",
       "4  13.426620  36.765377  15.410573  33.965842  16.087646  "
      ]
     },
     "execution_count": 10,
     "metadata": {},
     "output_type": "execute_result"
    }
   ],
   "source": [
    "data[:5]"
   ]
  },
  {
   "cell_type": "code",
   "execution_count": 11,
   "metadata": {
    "colab": {
     "base_uri": "https://localhost:8080/",
     "height": 291
    },
    "id": "aTsCq5HVVU4d",
    "outputId": "58d33683-5b13-433c-8c93-03df95a6299e"
   },
   "outputs": [
    {
     "data": {
      "text/html": [
       "<div>\n",
       "<style scoped>\n",
       "    .dataframe tbody tr th:only-of-type {\n",
       "        vertical-align: middle;\n",
       "    }\n",
       "\n",
       "    .dataframe tbody tr th {\n",
       "        vertical-align: top;\n",
       "    }\n",
       "\n",
       "    .dataframe thead th {\n",
       "        text-align: right;\n",
       "    }\n",
       "</style>\n",
       "<table border=\"1\" class=\"dataframe\">\n",
       "  <thead>\n",
       "    <tr style=\"text-align: right;\">\n",
       "      <th></th>\n",
       "      <th>Vp Water/Oil Diff</th>\n",
       "      <th>Vs Water/Oil Diff</th>\n",
       "    </tr>\n",
       "  </thead>\n",
       "  <tbody>\n",
       "    <tr>\n",
       "      <th>count</th>\n",
       "      <td>33.000000</td>\n",
       "      <td>33.000000</td>\n",
       "    </tr>\n",
       "    <tr>\n",
       "      <th>mean</th>\n",
       "      <td>-1.018788</td>\n",
       "      <td>-5.234242</td>\n",
       "    </tr>\n",
       "    <tr>\n",
       "      <th>std</th>\n",
       "      <td>7.620490</td>\n",
       "      <td>8.221110</td>\n",
       "    </tr>\n",
       "    <tr>\n",
       "      <th>min</th>\n",
       "      <td>-21.120000</td>\n",
       "      <td>-24.470000</td>\n",
       "    </tr>\n",
       "    <tr>\n",
       "      <th>25%</th>\n",
       "      <td>-4.850000</td>\n",
       "      <td>-10.100000</td>\n",
       "    </tr>\n",
       "    <tr>\n",
       "      <th>50%</th>\n",
       "      <td>-1.770000</td>\n",
       "      <td>-6.180000</td>\n",
       "    </tr>\n",
       "    <tr>\n",
       "      <th>75%</th>\n",
       "      <td>1.840000</td>\n",
       "      <td>-2.400000</td>\n",
       "    </tr>\n",
       "    <tr>\n",
       "      <th>max</th>\n",
       "      <td>31.430000</td>\n",
       "      <td>25.300000</td>\n",
       "    </tr>\n",
       "  </tbody>\n",
       "</table>\n",
       "</div>"
      ],
      "text/plain": [
       "       Vp Water/Oil Diff  Vs Water/Oil Diff\n",
       "count          33.000000          33.000000\n",
       "mean           -1.018788          -5.234242\n",
       "std             7.620490           8.221110\n",
       "min           -21.120000         -24.470000\n",
       "25%            -4.850000         -10.100000\n",
       "50%            -1.770000          -6.180000\n",
       "75%             1.840000          -2.400000\n",
       "max            31.430000          25.300000"
      ]
     },
     "execution_count": 11,
     "metadata": {},
     "output_type": "execute_result"
    }
   ],
   "source": [
    "data[['Vp Water/Oil Diff', 'Vs Water/Oil Diff']].describe()"
   ]
  },
  {
   "cell_type": "code",
   "execution_count": 12,
   "metadata": {
    "colab": {
     "base_uri": "https://localhost:8080/",
     "height": 488
    },
    "id": "VPbIjRKXVcQd",
    "outputId": "b37d9653-f6f6-44a6-8665-b0ed9c03bf36"
   },
   "outputs": [
    {
     "data": {
      "text/plain": [
       "Text(0, 0.5, 'Absolute Percentage Error, %')"
      ]
     },
     "execution_count": 12,
     "metadata": {},
     "output_type": "execute_result"
    },
    {
     "data": {
      "image/png": "[encoded data removed]",
      "text/plain": [
       "<Figure size 432x288 with 1 Axes>"
      ]
     },
     "metadata": {
      "needs_background": "light"
     },
     "output_type": "display_data"
    }
   ],
   "source": [
    "plt.scatter(data['Porosity,%'], data['Vp Water/Oil Diff'], label='Vp')\n",
    "plt.scatter(data['Porosity,%'], data['Vs Water/Oil Diff'], label='Vs')\n",
    "plt.title('Diffrence b/w Vp and Vs in water and oil saturation')\n",
    "plt.legend()\n",
    "plt.grid()\n",
    "plt.xlim(0, 25)\n",
    "plt.xlabel('Porosity, %')\n",
    "plt.ylabel('Absolute Percentage Error, %')"
   ]
  },
  {
   "cell_type": "markdown",
   "metadata": {
    "id": "Ir2P7D48_qbl"
   },
   "source": [
    "Plot of acoustic and shear impedance.\n",
    "$Z_{acoustic} = V_{p}*\\rho$, $Z_{shear} = V_{s}*\\rho$"
   ]
  },
  {
   "cell_type": "code",
   "execution_count": 13,
   "metadata": {
    "colab": {
     "base_uri": "https://localhost:8080/",
     "height": 471
    },
    "id": "RQDAMJ_p_qIO",
    "outputId": "0a2830f1-0517-4185-e897-7a37b9ff8cc3"
   },
   "outputs": [
    {
     "data": {
      "image/png": "[encoded data removed]",
      "text/plain": [
       "<Figure size 432x288 with 1 Axes>"
      ]
     },
     "metadata": {
      "needs_background": "light"
     },
     "output_type": "display_data"
    }
   ],
   "source": [
    "plt.scatter(data['Vs air']*data['Density (water)'], data['Vp air']*data['Density (water)'], label='Air')\n",
    "plt.scatter(data['Vs water']*data['Density (water)'], data['Vp water']*data['Density (water)'], label='Water')\n",
    "plt.scatter(data['Vs oil']*data['Density (oil)'], data['Vp oil']*data['Density (oil)'], label='Oil')\n",
    "# plt.xlim(1.4, 2.2)\n",
    "# plt.ylim(1.4, 2.2)\n",
    "plt.title('Acoustic and shear impedance.')\n",
    "plt.xlabel('Acoustic impedance (Z_acoutic)')\n",
    "plt.ylabel('Shear impedance Z_shear')\n",
    "plt.legend()\n",
    "plt.grid()"
   ]
  },
  {
   "cell_type": "markdown",
   "metadata": {
    "id": "gq5lPERRAOqd"
   },
   "source": [
    "Plot of vertical P-wave velocity versus vertical S-wave velocity to distinguish different lithologies."
   ]
  },
  {
   "cell_type": "code",
   "execution_count": 14,
   "metadata": {
    "colab": {
     "base_uri": "https://localhost:8080/",
     "height": 471
    },
    "id": "P23qmqcqAN2-",
    "outputId": "8deb896f-a303-470c-cc4a-3348bfd7d130"
   },
   "outputs": [
    {
     "data": {
      "image/png": "[encoded data removed]",
      "text/plain": [
       "<Figure size 432x288 with 1 Axes>"
      ]
     },
     "metadata": {
      "needs_background": "light"
     },
     "output_type": "display_data"
    }
   ],
   "source": [
    "plt.scatter(data['Vs air'], data['Vp air'], label='Air')\n",
    "plt.scatter(data['Vs water'], data['Vp water'], label='Water')\n",
    "plt.scatter(data['Vs oil'], data['Vp oil'], label='Oil')\n",
    "# plt.xlim(1.4, 2.2)\n",
    "# plt.ylim(1.4, 2.2)\n",
    "plt.title(' P-wave velocity versus vertical S-wave velocity')\n",
    "plt.xlabel('S-wave velocity')\n",
    "plt.ylabel('P-wave velocity ')\n",
    "plt.legend()\n",
    "plt.grid()"
   ]
  },
  {
   "cell_type": "markdown",
   "metadata": {
    "id": "7PkMdRI7XmD2"
   },
   "source": [
    "$Susan, 1992$\n",
    "https://www.crewes.org/Documents/ResearchReports/1992/1992-12.pdf\n",
    "\n",
    "https://www.researchgate.net/publication/249866305_Changes_in_dynamic_shear_moduli_of_carbonate_rocks_with_fluid_substitution"
   ]
  },
  {
   "cell_type": "code",
   "execution_count": 15,
   "metadata": {
    "colab": {
     "base_uri": "https://localhost:8080/",
     "height": 471
    },
    "id": "B_OUvg4rUZgL",
    "outputId": "5ac012f0-9d3f-401d-fd93-c39727457c2d"
   },
   "outputs": [
    {
     "data": {
      "image/png": "[encoded data removed]",
      "text/plain": [
       "<Figure size 432x288 with 1 Axes>"
      ]
     },
     "metadata": {
      "needs_background": "light"
     },
     "output_type": "display_data"
    }
   ],
   "source": [
    "plt.scatter(data['Vp/Vs air'], data['Vp/Vs water'])\n",
    "plt.plot([0, 25], [1.9, 1.9], label='Limstone')\n",
    "plt.plot([0, 25], [1.8, 1.8], label='Dolomite')\n",
    "plt.plot([0, 25], [1.6, 1.6], label='Sandstone')\n",
    "plt.xlim(1.4, 2.2)\n",
    "plt.ylim(1.4, 2.2)\n",
    "plt.title('Vp/Vs for Water and Dried States')\n",
    "plt.xlabel('Vp/Vs Dry')\n",
    "plt.ylabel('Vp/Vs Water')\n",
    "plt.legend()\n",
    "plt.grid()"
   ]
  },
  {
   "cell_type": "code",
   "execution_count": 16,
   "metadata": {
    "colab": {
     "base_uri": "https://localhost:8080/",
     "height": 448
    },
    "id": "1-WwxkioQs3x",
    "outputId": "7fe7862d-c81b-4a34-c4d2-9eb2ff1ae53a"
   },
   "outputs": [
    {
     "data": {
      "image/png": "[encoded data removed]",
      "text/plain": [
       "<Figure size 432x288 with 1 Axes>"
      ]
     },
     "metadata": {
      "needs_background": "light"
     },
     "output_type": "display_data"
    }
   ],
   "source": [
    "# plt.scatter(data['Porosity,%'], data['Vp/Vs air'], label='air')\n",
    "plt.scatter(data['Porosity,%'], data['Vp/Vs water'], label='air')\n",
    "plt.plot([0, 25], [1.9, 1.9], label='Limstone')\n",
    "plt.plot([0, 25], [1.8, 1.8], label='Dolomite')\n",
    "plt.plot([0, 25], [1.6, 1.6], label='Sandstone')\n",
    "# plt.xlim(1.4, 2.2)\n",
    "# plt.ylim(1.4, 2.2)\n",
    "plt.xlabel('Vp/Vs Dry')\n",
    "plt.ylabel('Vp/Vs Water')\n",
    "plt.legend()\n",
    "plt.grid()"
   ]
  },
  {
   "cell_type": "markdown",
   "metadata": {
    "id": "Jc9Nb7wwZnQi"
   },
   "source": [
    "### Vp, Vs, density of minerals\n",
    "- Calcite Peselnick and Robie (1963) Vp=6.54 Vs=3.35, p=2.71\n",
    "- Dolomite Ahrens (1995) Vp=6.40; Vs=3.46 p=2.86"
   ]
  },
  {
   "cell_type": "code",
   "execution_count": 17,
   "metadata": {
    "id": "gf1Da3LTaA3J"
   },
   "outputs": [],
   "source": [
    "def bulk_mdl(p, vp, vs):\n",
    "\n",
    "    K = list(map(lambda x, y, z: x * (y**2 - 4/3*z**2), p, vp, vs))\n",
    "    μ = list(map(lambda x, z: x * z**2, p, vs))\n",
    "    return K[0], μ[0]"
   ]
  },
  {
   "cell_type": "code",
   "execution_count": 18,
   "metadata": {
    "id": "yJpKTRSLaC6D"
   },
   "outputs": [],
   "source": [
    "### Calcite. (Известняк состоит преимущественно из кальцита)\n",
    "K_calcite, mu_calcite = bulk_mdl([2.71], [6.54], [3.35])\n",
    "p_calcite = 2.71\n",
    "### Dolomite\n",
    "K_dolomite, mu_dolomite = bulk_mdl([2.86], [6.40], [3.46])"
   ]
  },
  {
   "cell_type": "code",
   "execution_count": 19,
   "metadata": {
    "colab": {
     "base_uri": "https://localhost:8080/"
    },
    "id": "DNOLffA3akxw",
    "outputId": "9e23e7f8-be8a-44bd-8f50-a1fe24ec82a7"
   },
   "outputs": [
    {
     "data": {
      "text/plain": [
       "(75.36040266666667, 30.412975)"
      ]
     },
     "execution_count": 19,
     "metadata": {},
     "output_type": "execute_result"
    }
   ],
   "source": [
    "K_calcite, mu_calcite"
   ]
  },
  {
   "cell_type": "code",
   "execution_count": 20,
   "metadata": {
    "colab": {
     "base_uri": "https://localhost:8080/"
    },
    "id": "rKtppyx_aYUs",
    "outputId": "1fb34113-5347-4522-dc5f-b26fbf571040"
   },
   "outputs": [
    {
     "data": {
      "text/plain": [
       "(71.49389866666668, 34.238776)"
      ]
     },
     "execution_count": 20,
     "metadata": {},
     "output_type": "execute_result"
    }
   ],
   "source": [
    "K_dolomite, mu_dolomite"
   ]
  },
  {
   "cell_type": "code",
   "execution_count": 21,
   "metadata": {
    "id": "2g8xakK5ZL-G"
   },
   "outputs": [],
   "source": [
    "K_oil, Mu_oil, p_oil = 0.26, 10**-12, 1.04\n",
    "K_water, Mu_water, p_water = 2.25, 10**-20, 1.04 ### water\n",
    "K_air, Mu_air, p_air = 10**-6, 10**-6, 1.22 ### air"
   ]
  },
  {
   "cell_type": "markdown",
   "metadata": {
    "id": "Ob_p_Vj_xBo2"
   },
   "source": [
    "### Voight and Hashin-Strikman boundes"
   ]
  },
  {
   "cell_type": "code",
   "execution_count": 22,
   "metadata": {
    "id": "S0g980b5ONFL"
   },
   "outputs": [],
   "source": [
    "def HS_borders(K, μ, f):\n",
    "\n",
    "  K_up = K[0] + (f[1]/((K[1]-K[0])**-1 + f[0]*(K[0]+4/3*μ[0])**-1))\n",
    "  K_lo = K[1] + (f[0]/((K[0]-K[1])**-1 + f[1]*(K[1]+4/3*μ[1])**-1))\n",
    "  K_av = np.mean([K_up, K_lo])\n",
    "\n",
    "  μ_up = μ[0] + ((f[1])/((μ[1]-μ[0])**-1 + 2*f[0]*(K[0]+2*μ[0])/(5*μ[0]*(K[0]+4/3*μ[0]))))\n",
    "  μ_lo = μ[1] + ((f[0])/((μ[0]-μ[1])**-1 + 2*f[1]*(K[1]+2*μ[1])/(5*μ[1]*(K[1]+4/3*μ[1]))))\n",
    "  μ_av = np.mean([μ_up, μ_lo])\n",
    "\n",
    "  return K_up, K_lo, K_av, μ_up, μ_lo, μ_av"
   ]
  },
  {
   "cell_type": "code",
   "execution_count": 23,
   "metadata": {
    "id": "AreAp7MbcGcB"
   },
   "outputs": [],
   "source": [
    "K_matrix, Mu_matrix = K_calcite, mu_calcite"
   ]
  },
  {
   "cell_type": "code",
   "execution_count": 24,
   "metadata": {
    "id": "9YCXLJBnuPqq"
   },
   "outputs": [],
   "source": [
    "K_fluid, Mu_fluid = K_air, Mu_air"
   ]
  },
  {
   "cell_type": "code",
   "execution_count": 25,
   "metadata": {
    "colab": {
     "base_uri": "https://localhost:8080/",
     "height": 563
    },
    "id": "inf_Qn6YPbkf",
    "outputId": "22cc1e02-3a3f-4999-cfee-2310300f0585"
   },
   "outputs": [
    {
     "data": {
      "image/png": "[encoded data removed]",
      "text/plain": [
       "<Figure size 432x432 with 1 Axes>"
      ]
     },
     "metadata": {
      "needs_background": "light"
     },
     "output_type": "display_data"
    }
   ],
   "source": [
    "porosity = np.linspace(0, 0.3, 100, endpoint=True)\n",
    "K_up_value, K_lo_value, K_av_value = [], [], []\n",
    "\n",
    "\n",
    "for phi in porosity:\n",
    "  K, μ, f = [K_matrix, K_fluid], [Mu_matrix, Mu_fluid], [1-phi, phi]\n",
    "  K_up, K_lo, K_av, _, _, _ = HS_borders(K, μ, f)\n",
    "  K_up_value.append(K_up)\n",
    "  K_lo_value.append(K_lo)\n",
    "  K_av_value.append(K_av)\n",
    "\n",
    "\n",
    "\n",
    "plt.figure(figsize=(6,6))\n",
    "plt.xlabel('Porosity')\n",
    "plt.ylabel('Bulk modulus [GPa]')\n",
    "plt.title('HS bounds - Water')\n",
    "\n",
    "plt.plot(porosity*100, K_up_value,label='K HS+')\n",
    "plt.plot(porosity*100, K_lo_value,label='K HS-')\n",
    "plt.plot(porosity*100, K_av_value,label='K AV')\n",
    "\n",
    "plt.scatter(data['Porosity,%'], data['K water'])\n",
    "\n",
    "plt.legend(loc='best')\n",
    "plt.grid(ls='--')"
   ]
  },
  {
   "cell_type": "markdown",
   "metadata": {
    "id": "LkSSQ3xsIhKZ"
   },
   "source": [
    "### Расчет модулей матрицы для разных состояний насыщения по уравнению регрессии \"пористость - скорость\""
   ]
  },
  {
   "cell_type": "code",
   "execution_count": 26,
   "metadata": {
    "id": "XcRS12z4IhKa"
   },
   "outputs": [],
   "source": [
    "def velosity2modulus(density, Vp, Vs): ### <-- K, mu to Vp, Vs\n",
    "\n",
    "    density = 2.71\n",
    "    с_11 = Vp**2*density\n",
    "    c_44 = Vs**2*density\n",
    "\n",
    "    mu = c_44\n",
    "    K = с_11 - 4/3*mu\n",
    "    print(с_11,c_44, K, mu)\n",
    "\n",
    "    return K, mu"
   ]
  },
  {
   "cell_type": "markdown",
   "metadata": {
    "id": "oJbrfiYCIhKa"
   },
   "source": [
    "значения скоростей из уравнения регрессии \"пористость - скорость\""
   ]
  },
  {
   "cell_type": "code",
   "execution_count": 27,
   "metadata": {
    "colab": {
     "base_uri": "https://localhost:8080/"
    },
    "id": "8xRC8NrAIhKa",
    "outputId": "7c615fb2-3fae-4bf3-eab3-675412952226"
   },
   "outputs": [
    {
     "name": "stdout",
     "output_type": "stream",
     "text": [
      "90.22375899999999 27.232519 53.91373366666666 27.232519\n",
      "101.833399 28.624375 63.66756566666667 28.624375\n",
      "103.83663100000001 31.143591 62.31184300000001 31.143591\n"
     ]
    }
   ],
   "source": [
    "Vp_reg_air, Vs_reg_air = 5.77, 3.17\n",
    "Vp_reg_water, Vs_reg_water = 6.13, 3.25\n",
    "Vp_reg_oil, Vs_reg_oil = 6.19, 3.39\n",
    "\n",
    "K_air_mtrx, Mu_air_mtrx = velosity2modulus(2.71, Vp_reg_air, Vs_reg_air)\n",
    "K_water_mtrx, Mu_water_mtrx = velosity2modulus(2.71, Vp_reg_water, Vs_reg_water)\n",
    "K_oil_mtrx, Mu_oil_mtrx = velosity2modulus(2.71, Vp_reg_oil, Vs_reg_oil)"
   ]
  },
  {
   "cell_type": "markdown",
   "metadata": {
    "id": "hZ_cGvn-lJG0"
   },
   "source": [
    "HS bourders for K and Mu moduli in diffrent saturation states.\n",
    "--> All samples are inside bourdes for which Calcite moduli K and mu were used."
   ]
  },
  {
   "cell_type": "code",
   "execution_count": 28,
   "metadata": {
    "colab": {
     "base_uri": "https://localhost:8080/",
     "height": 852
    },
    "id": "dAgLdSJlfFTl",
    "outputId": "b41a41f6-8754-4703-a412-81f4b5a54870"
   },
   "outputs": [
    {
     "data": {
      "image/png": "[encoded data removed]",
      "text/plain": [
       "<Figure size 1440x720 with 6 Axes>"
      ]
     },
     "metadata": {
      "needs_background": "light"
     },
     "output_type": "display_data"
    }
   ],
   "source": [
    "fig = plt.figure(figsize=(20, 10))\n",
    "\n",
    "porosity = np.linspace(0, 0.3, 100, endpoint=True)\n",
    "\n",
    "    ### Вариант 1: модули матрицы (кальцит) одинаковый для\n",
    "    ### состояний насыщения\n",
    "# K_matrix, Mu_matrix = K_calcite, mu_calcite\n",
    "# MODULI = {\n",
    "#     \"K Air\": [data['K air'], K_matrix, K_air, Mu_matrix, Mu_air],\n",
    "#     \"K Water\":[data['K water'], K_matrix, K_water, Mu_matrix, Mu_water],\n",
    "#     \"K Oil\" : [data['K oil'],K_matrix, K_oil, Mu_matrix, Mu_oil],\n",
    "#     \"Mu Air\" : [data['Mu air'], K_matrix, K_air, Mu_matrix, Mu_air],\n",
    "#      \"Mu Water\" : [data['Mu water'], K_matrix, K_water, Mu_matrix, Mu_water],\n",
    "#      \"Mu Oil\" : [data['Mu oil'], K_matrix, K_oil, Mu_matrix, Mu_oil]\n",
    "# }\n",
    "\n",
    "    ### Вариант 2: модули матрицы разные (из уравнения регресии пористость - скорость)\n",
    "    ### для трех состояний насыщения\n",
    "MODULI = {\n",
    "    \"K Air\": [data['K air'], K_air_mtrx, K_air, Mu_air_mtrx, Mu_air],\n",
    "    \"K Water\":[data['K water'], K_water_mtrx, K_water, Mu_water_mtrx, Mu_water],\n",
    "    \"K Oil\" : [data['K oil'],K_oil_mtrx, K_oil, Mu_oil_mtrx, Mu_oil],\n",
    "\n",
    "    \"Mu Air\" : [data['Mu air'], K_air_mtrx, K_air, Mu_air_mtrx, Mu_air],\n",
    "     \"Mu Water\" : [data['Mu water'], K_water_mtrx, K_water, Mu_water_mtrx, Mu_water],\n",
    "     \"Mu Oil\" : [data['Mu oil'], K_oil_mtrx, K_oil, Mu_oil_mtrx, Mu_oil]\n",
    "}\n",
    "\n",
    "for index, (name, moduli) in enumerate(MODULI.items()):\n",
    "\n",
    "  K_matrix, K_fluid, Mu_matrix, Mu_fluid = moduli[1], moduli[2], moduli[3], moduli[4]\n",
    "\n",
    "  K_up_value, K_lo_value, K_av_value = [], [], []\n",
    "  Mu_up_value, Mu_lo_value, Mu_av_value = [], [], []\n",
    "\n",
    "  for phi in porosity:\n",
    "    K, μ, f = [K_matrix, K_fluid], [Mu_matrix, Mu_fluid], [1-phi, phi]\n",
    "    K_up, K_lo, K_av, Mu_up, Mu_lo, Mu_av  = HS_borders(K, μ, f)\n",
    "\n",
    "    K_up_value.append(K_up)\n",
    "    K_lo_value.append(K_lo)\n",
    "    K_av_value.append(K_av)\n",
    "\n",
    "    Mu_up_value.append(Mu_up)\n",
    "    Mu_lo_value.append(Mu_lo)\n",
    "    Mu_av_value.append(Mu_av)\n",
    "\n",
    "\n",
    "  ax = plt.subplot(2, 3, index + 1)\n",
    "  plt.scatter(data['Porosity,%'], moduli[0])\n",
    "\n",
    "  if index < 3: ### K moduli (upper plots)\n",
    "    plt.plot(porosity*100, K_up_value,label='K HS+')\n",
    "    plt.plot(porosity*100, K_lo_value,label='K HS-')\n",
    "    plt.plot(porosity*100, K_av_value,label='K AV')\n",
    "    plt.ylim(0, 80)\n",
    "\n",
    "  else: ### Mu moduli (bottom plots)\n",
    "    plt.plot(porosity*100, Mu_up_value,label='K HS+')\n",
    "    plt.plot(porosity*100, Mu_lo_value,label='K HS-')\n",
    "    plt.plot(porosity*100, Mu_av_value,label='K AV')\n",
    "    plt.ylim(0, 40)\n",
    "\n",
    "  plt.grid()\n",
    "  plt.xlim(0, 30)\n",
    "  plt.title(f'{name}')"
   ]
  },
  {
   "cell_type": "markdown",
   "metadata": {
    "id": "hRL55Teslj22"
   },
   "source": [
    "# GSA isotropic"
   ]
  },
  {
   "cell_type": "code",
   "execution_count": 29,
   "metadata": {
    "id": "8XbXBxsvllZi"
   },
   "outputs": [],
   "source": [
    "import numpy as np\n",
    "# import torch\n",
    "from math import *\n",
    "from scipy import integrate\n",
    "from numpy import linalg as LA\n",
    "import matplotlib.pyplot as plt\n",
    "%matplotlib inline\n",
    "from numba import njit\n",
    "import numpy as np\n",
    "from scipy.integrate import dblquad"
   ]
  },
  {
   "cell_type": "markdown",
   "metadata": {
    "id": "bM82tEhfTziT"
   },
   "source": [
    "### Voight natation - matrix to tensor and vice virce"
   ]
  },
  {
   "cell_type": "code",
   "execution_count": 30,
   "metadata": {
    "id": "yaqzXT0ClnXH"
   },
   "outputs": [],
   "source": [
    "\"\"\"Нотация Фойта - переход к матричной записи\"\"\"\n",
    "\n",
    "def tens2mat(cij_tens, compl=False):\n",
    "    \"\"\"Convert from full tensor to Voigt notation\n",
    "       Convert from the 3*3*3*3 elastic constants tensor to\n",
    "       to 6*6 matrix representation. Recoded from the Fortran\n",
    "       implementation in DRex. Use the optional\n",
    "       argument \"compl\" for the elastic compliance (not\n",
    "       stiffness) tensor to deal with the multiplication\n",
    "       of elements needed to keep the Voigt and full\n",
    "       notation consistant.\n",
    "    \"\"\"\n",
    "    t2m = np.array([[0,1,2,1,2,0],[0,1,2,2,0,1]])\n",
    "    cij_mat = np.zeros((6,6))\n",
    "    # Convert back to matrix form\n",
    "    for i in range(6):\n",
    "        for j in range(6):\n",
    "            cij_mat[i,j] = cij_tens[t2m[0,i],t2m[1,i],t2m[0,j],t2m[1,j]]\n",
    "#             cij_mat = toFixed(cij_mat[i,j], 1)\n",
    "#             print(cij_mat)\n",
    "\n",
    "\n",
    "    if compl:\n",
    "        cij_mat = cij_mat * np.array([[1.0, 1.0, 1.0, 2.0, 2.0, 2.0],\n",
    "                                      [1.0, 1.0, 1.0, 2.0, 2.0, 2.0],\n",
    "                                      [1.0, 1.0, 1.0, 2.0, 2.0, 2.0],\n",
    "                                      [2.0, 2.0, 2.0, 4.0, 4.0, 4.0],\n",
    "                                      [2.0, 2.0, 2.0, 4.0, 4.0, 4.0],\n",
    "                                      [2.0, 2.0, 2.0, 4.0, 4.0, 4.0]])\n",
    "\n",
    "    return cij_mat\n",
    "\n",
    "# print(tens2mat(C_c))\n",
    "# C_cmtrx = tens2mat(C_c)\n",
    "\n",
    "def mat2tens(cij_mat, compl=False): # cij_mat - надо задавать матрицу 6х6. compl = True - для податливости\n",
    "    \"\"\"Convert from Voigt to full tensor notation\n",
    "       Convert from the 6*6 elastic constants matrix to\n",
    "       the 3*3*3*3 tensor representation. Recoded from\n",
    "       the Fortran implementation in DRex. Use the optional\n",
    "       argument \"compl\" for the elastic compliance (not\n",
    "       stiffness) tensor to deal with the multiplication\n",
    "       of elements needed to keep the Voigt and full\n",
    "       notation consistant.\n",
    "    \"\"\"\n",
    "    cij_tens = np.empty((3,3,3,3))\n",
    "    m2t = np.array([[0,5,4],[5,1,3],[4,3,2]])\n",
    "\n",
    "    if compl:\n",
    "        cij_mat = cij_mat / np.array([[1.0, 1.0, 1.0, 2.0, 2.0, 2.0],\n",
    "                                      [1.0, 1.0, 1.0, 2.0, 2.0, 2.0],\n",
    "                                      [1.0, 1.0, 1.0, 2.0, 2.0, 2.0],\n",
    "                                      [2.0, 2.0, 2.0, 4.0, 4.0, 4.0],\n",
    "                                      [2.0, 2.0, 2.0, 4.0, 4.0, 4.0],\n",
    "                                      [2.0, 2.0, 2.0, 4.0, 4.0, 4.0]])\n",
    "    for i in range(3):\n",
    "        for j in range(3):\n",
    "            for k in range(3):\n",
    "                for l in range(3):\n",
    "\n",
    "                    # print(m2t[i,j])\n",
    "                    # print(m2t[k,l])\n",
    "\n",
    "                    cij_tens[i,j,k,l] = cij_mat[m2t[i,j],m2t[k,l]]\n",
    "\n",
    "\n",
    "    return cij_tens"
   ]
  },
  {
   "cell_type": "markdown",
   "metadata": {
    "id": "Q-n4ti9qT8F6"
   },
   "source": [
    "### Input data"
   ]
  },
  {
   "cell_type": "code",
   "execution_count": 31,
   "metadata": {
    "id": "tC9V8oldlpC0"
   },
   "outputs": [],
   "source": [
    "# M_C11 = K_matrix + 4/3*Mu_matrix\n",
    "# M_C44 = Mu_matrix\n",
    "# M_C12 = M_C11 - 2*M_C44\n",
    "\n",
    "\n",
    "# C_mtrx = np.zeros((6,6))\n",
    "# C_mtrx[0,0] = C_mtrx[1,1] = C_mtrx[2,2] = M_C11\n",
    "# C_mtrx[0,1] = C_mtrx[0,2] = C_mtrx[1,0] = C_mtrx[1,2] =C_mtrx[2,0] = C_mtrx[2,1] = M_C12\n",
    "# C_mtrx[3,3] = C_mtrx[4,4] = C_mtrx[5,5] = M_C44\n",
    "\n",
    "# C_mtrx = mat2tens(C_mtrx, compl=False)\n",
    "# C_c = C_mtrx\n",
    "\n",
    "\n",
    "# k, mu = K_fluid, Mu_fluid\n",
    "\n",
    "# lambda_ = k - 2 * mu / 3\n",
    "# c11 = lambda_ + 2 * mu\n",
    "# c12 = lambda_\n",
    "# c44 = mu\n",
    "\n",
    "# Fl_C11 = c11\n",
    "# Fl_C12 = c12\n",
    "# Fl_C44 = (Fl_C11 - Fl_C12)*0.5\n",
    "\n",
    "# C_fl = np.zeros((6, 6))\n",
    "# C_fl[0,0] = C_fl[1,1] = C_fl[2,2] = Fl_C11\n",
    "# C_fl[0,1] = C_fl[0,2] = C_fl[1,0] = C_fl[1,2] =C_fl[2,0] = C_fl[2,1] = Fl_C12\n",
    "# C_fl[3,3] = C_fl[4,4] = C_fl[5,5] = Fl_C44\n",
    "\n",
    "# C_fl = mat2tens(C_fl, compl=False)"
   ]
  },
  {
   "cell_type": "code",
   "execution_count": 32,
   "metadata": {
    "id": "PCJjzFPTys3m"
   },
   "outputs": [],
   "source": [
    "def make_C_matrix(K_matrix, Mu_matrix):\n",
    "\n",
    "  M_C11 = K_matrix + 4/3*Mu_matrix\n",
    "  M_C44 = Mu_matrix\n",
    "  M_C12 = M_C11 - 2*M_C44\n",
    "\n",
    "\n",
    "  C_mtrx = np.zeros((6,6))\n",
    "  C_mtrx[0,0] = C_mtrx[1,1] = C_mtrx[2,2] = M_C11\n",
    "  C_mtrx[0,1] = C_mtrx[0,2] = C_mtrx[1,0] = C_mtrx[1,2] =C_mtrx[2,0] = C_mtrx[2,1] = M_C12\n",
    "  C_mtrx[3,3] = C_mtrx[4,4] = C_mtrx[5,5] = M_C44\n",
    "\n",
    "  C_mtrx = mat2tens(C_mtrx, compl=False)\n",
    "\n",
    "  return C_mtrx"
   ]
  },
  {
   "cell_type": "code",
   "execution_count": 33,
   "metadata": {
    "id": "Yn8Q1LUJzpHu"
   },
   "outputs": [],
   "source": [
    "def make_C_fluid (K_fluid, Mu_fluid):\n",
    "\n",
    "  k, mu = K_fluid, Mu_fluid\n",
    "\n",
    "  lambda_ = k - 2 * mu / 3\n",
    "  c11 = lambda_ + 2 * mu\n",
    "  c12 = lambda_\n",
    "  c44 = mu\n",
    "\n",
    "  Fl_C11 = c11\n",
    "  Fl_C12 = c12\n",
    "  Fl_C44 = (Fl_C11 - Fl_C12)*0.5\n",
    "\n",
    "  C_fl = np.zeros((6, 6))\n",
    "  C_fl[0,0] = C_fl[1,1] = C_fl[2,2] = Fl_C11\n",
    "  C_fl[0,1] = C_fl[0,2] = C_fl[1,0] = C_fl[1,2] =C_fl[2,0] = C_fl[2,1] = Fl_C12\n",
    "  C_fl[3,3] = C_fl[4,4] = C_fl[5,5] = Fl_C44\n",
    "\n",
    "  C_fl = mat2tens(C_fl, compl=False)\n",
    "\n",
    "  return C_fl"
   ]
  },
  {
   "cell_type": "code",
   "execution_count": 34,
   "metadata": {
    "id": "FPUnUpbQysFB"
   },
   "outputs": [],
   "source": [
    "def make_C_comparison(C_mtrx, C_fluid, f):\n",
    "  return (1-f)*C_mtrx + f*C_fluid"
   ]
  },
  {
   "cell_type": "markdown",
   "metadata": {
    "id": "RCNg8gmwUERo"
   },
   "source": [
    "### Tensor $g_{ijkl}$ calculation"
   ]
  },
  {
   "cell_type": "code",
   "execution_count": 35,
   "metadata": {
    "id": "4E39Tvd1pT27"
   },
   "outputs": [],
   "source": [
    "pi = np.pi\n",
    "\n",
    "def tensor_g(C_c, AR):\n",
    "\n",
    "    # Define the integrand function f(θ, φ)\n",
    "    def func(θ, φ, position):\n",
    "        n_vector = np.array([[((np.sin(θ) * np.cos(φ))*AR[0]**-1),\n",
    "                        (np.sin(θ) * np.sin(φ))*AR[1]**-1,\n",
    "                        (np.cos(θ)*AR[2]**-1)]])\n",
    "\n",
    "\n",
    "\n",
    "        n = n_vector.T @ n_vector\n",
    "\n",
    "        n = n.astype(np.float64)\n",
    "\n",
    "        λ = np.linalg.inv(np.einsum('imjn,mn->ij', C_c, n))\n",
    "        return (np.einsum('mn,ij -> imjn', n, λ))[position[0],\n",
    "                                                            position[1],\n",
    "                                                            position[2],\n",
    "                                                            position[3]]  # Return a scalar value\n",
    "\n",
    "\n",
    "    # Compute the double integral for each component of A over θ and φ\n",
    "    integrals = np.zeros((3,3,3,3))\n",
    "\n",
    "    abserr = 1.0e-6\n",
    "    relerr = 1.0e-6\n",
    "    # points = [0,]\n",
    "    opts={\n",
    "        'epsabs': abserr,\n",
    "        'epsrel': relerr\n",
    "        }\n",
    "\n",
    "\n",
    "    for i in range(C_c.shape[0]):\n",
    "        for j in range(C_c.shape[1]):\n",
    "            for k in range(C_c.shape[2]):\n",
    "                for l in range(C_c.shape[3]):\n",
    "\n",
    "\n",
    "                  integrand = (lambda θ, φ, i=i, j=j, k=k, l=l: func(θ, φ, (i, k, l, j))* np.sin(θ) + \\\n",
    "                                 func(θ, φ, (j, k, l, i))* np.sin(θ) +\\\n",
    "                                 func(θ, φ, (i, l, k, j))* np.sin(θ) +\\\n",
    "                                 func(θ, φ, (j, l, k, i))* np.sin(θ))\n",
    "\n",
    "                  integral,_ = integrate.nquad(integrand, [(0, pi), (0, 2*pi)], opts=opts)\n",
    "\n",
    "                  integrals[i, j, k, l] = integral / (-16 * pi)\n",
    "\n",
    "                  if abs(integrals[i, j, k, l]) > 10**-10:\n",
    "                    pass\n",
    "                  else:\n",
    "                    integrals[i, j, k, l] = 10**-20\n",
    "\n",
    "    # print(tens2mat(integrals, compl=True))\n",
    "\n",
    "    return integrals"
   ]
  },
  {
   "cell_type": "code",
   "execution_count": 36,
   "metadata": {
    "id": "zzL4UCbssvME"
   },
   "outputs": [],
   "source": [
    "def tensor_g_fast(C_c, AR):\n",
    "    pi = np.pi\n",
    "\n",
    "    def func(θ, φ, position):\n",
    "      n_vector = np.array([[((np.sin(θ) * np.cos(φ))*AR[0]**-1),\n",
    "                      (np.sin(θ) * np.sin(φ))*AR[1]**-1,\n",
    "                      (np.cos(θ)*AR[2]**-1)]])\n",
    "\n",
    "\n",
    "\n",
    "      n = n_vector.T @ n_vector\n",
    "\n",
    "      n = n.astype(np.float64)\n",
    "\n",
    "      λ = np.linalg.inv(np.einsum('imjn,mn->ij', C_c, n))\n",
    "      return (np.einsum('mn,ij -> imjn', n, λ))[position[0],\n",
    "                                                          position[1],\n",
    "                                                          position[2],\n",
    "                                                          position[3]]  # Return a scalar value\n",
    "\n",
    "    integrals = np.zeros((3, 3, 3, 3))\n",
    "\n",
    "    abserr = 1.0e-8\n",
    "    relerr = 1.0e-8\n",
    "    opts = {'epsabs': abserr, 'epsrel': relerr}\n",
    "\n",
    "    valid_combinations = {(0, 0, 0, 0), (0, 0, 1, 1), (1, 1, 0, 0), (0, 2, 0, 2), (1, 1, 1, 1), (2, 2, 2, 2),\n",
    "                          (0, 0, 2, 2), (1, 1, 2, 2), (2, 2, 0, 0), (2, 2, 1, 1), (0, 2, 2, 0), (2, 0, 2, 0),\n",
    "                          (2, 0, 0, 2), (0, 1, 0, 1), (0, 1, 1, 0), (1, 0, 0, 1), (1, 0, 1, 0), (1, 2, 1, 2),\n",
    "                          (1, 2, 2, 1), (2, 1, 1, 2), (2, 1, 2, 1)}\n",
    "\n",
    "    for i in range(C_c.shape[0]):\n",
    "        for j in range(C_c.shape[1]):\n",
    "            for k in range(C_c.shape[2]):\n",
    "                for l in range(C_c.shape[3]):\n",
    "                    if (i, j, k, l) in valid_combinations:\n",
    "                        integrand = lambda θ, φ, i=i, j=j, k=k, l=l: (\n",
    "                            func(θ, φ, (i, k, l, j)) + func(θ, φ, (j, k, l, i)) +\n",
    "                            func(θ, φ, (i, l, k, j)) + func(θ, φ, (j, l, k, i))) * np.sin(θ)\n",
    "\n",
    "                        integral, _ = integrate.nquad(integrand, [(0, pi), (0, 2 * pi)], opts=opts)\n",
    "                        integrals[i, j, k, l] = integral / (-16 * pi)\n",
    "                    else:\n",
    "                        integrals[i, j, k, l] = 10 ** -20\n",
    "\n",
    "    # print(tens2mat(integrals, compl=True))\n",
    "\n",
    "    return integrals"
   ]
  },
  {
   "cell_type": "markdown",
   "metadata": {
    "id": "KXf-BJMaxQ6V"
   },
   "source": [
    "### Transition from laboratory system (xyz) of VTI symmetry to XYZ system with isotopy"
   ]
  },
  {
   "cell_type": "code",
   "execution_count": 37,
   "metadata": {
    "id": "OSI62fYYWQyG"
   },
   "outputs": [],
   "source": [
    "def izotr(c):\n",
    "\n",
    "  pi = np.pi\n",
    "  c_iz = np.zeros((3, 3, 3, 3))\n",
    "\n",
    "  c11 = c[0, 0, 0, 0]\n",
    "  c22 = c[1, 1, 1, 1]\n",
    "  c33 = c[2, 2, 2, 2]\n",
    "  c12 = c[0, 0, 1, 1]\n",
    "  c13 = c[0, 0, 2, 2]\n",
    "  c23 = c[1, 1, 2, 2]\n",
    "  c44 = c[1, 2, 1, 2]\n",
    "  c55 = c[0, 2, 0, 2]\n",
    "  c66 = c[0, 1, 0, 1]\n",
    "\n",
    "  t1 = 0.3141593E1**2\n",
    "  t20 = 32.E0/15.E0*c44*t1 + 8.E0/5.E0*c22*t1 + 16.E0/15.E0*c23*t1 + 32.E0/15.E0*c55*t1 + 8.E0/5.E0*c11*t1 + 32.E0/15.E0*c66*t1 + 16.E0/15.E0*c13*t1 + 16.E0/15.E0*c12*t1 + 8.E0/5.E0*c33*t1\n",
    "  c_iz[0, 0, 0, 0] = t20 / (8 * pi * pi)\n",
    "\n",
    "  t20 = 32.E0/15.E0*c12*t1 + 8.E0/15.E0*c11*t1 + 8.E0/15.E0*c22*t1 - 16.E0/15.E0*c66*t1 + 32.E0/15.E0*c13*t1 + 32.E0/15.E0*c23*t1 - 16.E0/15.E0*c44*t1 + 8.E0/15.E0*c33*t1 - 16.E0/15.E0*c55*t1\n",
    "  c_iz[0, 0, 1, 1] = t20 / (8 * pi * pi)\n",
    "  c_iz[1, 1, 0, 0] = c_iz[0, 0, 1, 1]\n",
    "\n",
    "  t20 = -8.E0/15.E0*c12*t1 + 8.E0/15.E0*c22*t1 + 8.E0/5.E0*c44*t1 + 8.E0/5.E0*c55*t1 + 8.E0/15.E0*c11*t1 + 8.E0/5.E0*c66*t1 - 8.E0/15.E0*c13*t1 - 8.E0/15.E0*c23*t1 + 8.E0/15.E0*c33*t1\n",
    "  c_iz[0, 2, 0, 2] = t20 / (8 * pi * pi)\n",
    "\n",
    "  c_iz[1, 1, 1, 1] = c_iz[0, 0, 0, 0]\n",
    "  c_iz[2, 2, 2, 2] = c_iz[0, 0, 0, 0]\n",
    "  c_iz[0, 0, 2, 2] = c_iz[0, 0, 1, 1]\n",
    "  c_iz[1, 1, 2, 2] = c_iz[0, 0, 1, 1]\n",
    "  c_iz[2, 2, 0, 0] = c_iz[0, 0, 1, 1]\n",
    "  c_iz[2, 2, 1, 1] = c_iz[0, 0, 1, 1]\n",
    "  c_iz[0, 2, 2, 0] = c_iz[0, 2, 0, 2]\n",
    "  c_iz[2, 0, 2, 0] = c_iz[0, 2, 0, 2]\n",
    "  c_iz[2, 0, 0, 2] = c_iz[0, 2, 0, 2]\n",
    "  c_iz[0, 1, 0, 1] = c_iz[0, 2, 0, 2]\n",
    "  c_iz[0, 1, 1, 0] = c_iz[0, 2, 0, 2]\n",
    "  c_iz[1, 0, 0, 1] = c_iz[0, 2, 0, 2]\n",
    "  c_iz[1, 0, 1, 0] = c_iz[0, 2, 0, 2]\n",
    "  c_iz[1, 2, 1, 2] = c_iz[0, 2, 0, 2]\n",
    "  c_iz[1, 2, 2, 1] = c_iz[0, 2, 0, 2]\n",
    "  c_iz[2, 1, 1, 2] = c_iz[0, 2, 0, 2]\n",
    "  c_iz[2, 1, 2, 1] = c_iz[0, 2, 0, 2]\n",
    "\n",
    "  return c_iz"
   ]
  },
  {
   "cell_type": "markdown",
   "metadata": {
    "id": "Y41iKulqxje4"
   },
   "source": [
    "### $C_{eff}$ calculation"
   ]
  },
  {
   "cell_type": "code",
   "execution_count": 38,
   "metadata": {
    "id": "s3utDVTfWQ0s"
   },
   "outputs": [],
   "source": [
    "def effective_C_isotropic(g_m, g_fl, C_mtrx, C_fl, C_c, porosity):\n",
    "\n",
    "  ### matrix\n",
    "  A_m1 = tens2mat(C_mtrx - C_c, compl=False)\n",
    "  g_m1 = (tens2mat(g_m, compl=True))\n",
    "\n",
    "\n",
    "  g_inv_m1 = np.linalg.inv(g_m1)\n",
    "  x_m1 = np.linalg.inv(g_inv_m1 - A_m1)\n",
    "\n",
    "  num_mtrx =  tens2mat(C_mtrx, compl=False) @ (x_m1 @ g_inv_m1) # -----> multiply in matrix form not in tensor\n",
    "\n",
    "  ### fluid\n",
    "  A_fl1 = tens2mat(C_fl - C_c, compl=False)\n",
    "  g_fl1 = tens2mat(g_fl, compl=True)\n",
    "\n",
    "  g_inv_fl1 = np.linalg.inv(g_fl1)\n",
    "  x_fl1 = np.linalg.inv(g_inv_fl1 - A_fl1)\n",
    "  num_fl =  tens2mat(C_fl, compl=False) @ (x_fl1 @ g_inv_fl1)\n",
    "  num_fl_rotated = izotr(mat2tens(num_fl, compl=False))\n",
    "  ### -----------\n",
    "\n",
    "\n",
    "  ### Числитель\n",
    "  rslt_num = ((1-porosity)*num_mtrx + porosity*tens2mat(num_fl_rotated, compl=False))\n",
    "\n",
    "   ### Знаменатель\n",
    "  result_mtrx =  (x_m1 @ g_inv_m1) * (1-porosity) # matrix shape\n",
    "  result_fl = (x_fl1 @ g_inv_fl1) * porosity\n",
    "\n",
    "  g_matrix = (tens2mat(g_m, compl=True))\n",
    "  M = mat2tens(np.linalg.inv(g_matrix) @ result_fl, compl=False)\n",
    "  b = np.einsum('ijmn,nmkl->ijkl', g_m, M)\n",
    "  B = izotr(b) # tensor shape\n",
    "\n",
    "  aa = mat2tens(np.linalg.inv(g_matrix), compl=False)\n",
    "  bb = tens2mat(np.einsum('ijmn,nmkl->ijkl', aa, B), compl=False)\n",
    "\n",
    "  result_fl_rotated = g_matrix @ bb\n",
    "\n",
    "  rslt_dnmntr = np.linalg.inv(result_mtrx + result_fl_rotated)\n",
    "\n",
    "\n",
    "        ### Effective matrix Cij in laboratory system\n",
    "  C_eff = rslt_num @ rslt_dnmntr\n",
    "\n",
    "  return C_eff"
   ]
  },
  {
   "cell_type": "markdown",
   "metadata": {
    "id": "cy6gF0U_xpFC"
   },
   "source": [
    "# Inversion problem for three fluids in material inclusion"
   ]
  },
  {
   "cell_type": "code",
   "execution_count": 39,
   "metadata": {
    "id": "3u_W-Ki1u1yC"
   },
   "outputs": [],
   "source": [
    "### Measured parametrs\n",
    "idx = 3 #порядкой номер образцы в исходной таблице\n",
    "porosity_measured = data['Porosity,%'][idx]\n",
    "Vp_air_measured = data['Vp air'][idx]\n",
    "Vs_air_measured = data['Vs air'][idx]"
   ]
  },
  {
   "cell_type": "markdown",
   "metadata": {
    "id": "qhAZ5ylF8ioC"
   },
   "source": [
    "Определение плотности породы в высушенном состоянии с использованием измеренных данных о плотности породы в водонасыщенном."
   ]
  },
  {
   "cell_type": "code",
   "execution_count": 256,
   "metadata": {
    "colab": {
     "base_uri": "https://localhost:8080/"
    },
    "id": "i8XbQ4Ma8hk0",
    "outputId": "12648e20-0e37-40ef-99d4-4b6f08880c88"
   },
   "outputs": [
    {
     "name": "stdout",
     "output_type": "stream",
     "text": [
      "The solution for ro2 is: 2.35\n"
     ]
    }
   ],
   "source": [
    "def density_rock_air(ro_1, ro_matrix, ro_water, ro_air, phi):\n",
    "    pm = (ro_1 - phi*ro_water)/(1-phi)\n",
    "    ro2 = (1-phi)*pm + phi*ro_air\n",
    "    return ro2\n",
    "\n",
    "# Given values\n",
    "ro_1 = 2.326067\t #измерения плотности породы по воде\n",
    "ro_matrix = 2.69 # значение из уравнения регрессии (плотность по воде - пористость )\n",
    "ro_water = p_water\n",
    "ro_air = p_air\n",
    "phi = porosity_measured /100\n",
    "\n",
    "ro2_solution = density_rock_air(ro_1, ro_matrix, ro_water, ro_air, phi)\n",
    "print(\"The solution for ro2 is:\", np.round(ro2_solution, 2))"
   ]
  },
  {
   "cell_type": "markdown",
   "metadata": {
    "id": "6w1Htu8G8h2f"
   },
   "source": []
  },
  {
   "cell_type": "code",
   "execution_count": 41,
   "metadata": {
    "colab": {
     "base_uri": "https://localhost:8080/"
    },
    "id": "S1IyzsjjIqrK",
    "outputId": "41aeaa79-135a-42bf-95e7-9d148d4fb861"
   },
   "outputs": [
    {
     "data": {
      "text/plain": [
       "14.192653640237129"
      ]
     },
     "execution_count": 41,
     "metadata": {},
     "output_type": "execute_result"
    }
   ],
   "source": [
    "porosity_measured"
   ]
  },
  {
   "cell_type": "code",
   "execution_count": null,
   "metadata": {
    "id": "INgiXNY-a6Md"
   },
   "outputs": [],
   "source": [
    "# def self_consistent_GSA(C_mtrx, C_fluid, C_c, porosity):\n",
    "\n",
    "#   g_matrix = tensor_g_fast(C_c, [1, 1, 1])\n",
    "#   g_inclusion= tensor_g_fast(C_c, [10, 10, 1])\n",
    "\n",
    "#   x0 = C_c\n",
    "#   C_c = mat2tens(effective_C_isotropic(g_matrix, g_inclusion, C_mtrx, C_fluid, x0, porosity), compl=False)\n",
    "#   it = 1\n",
    "#   print(it)\n",
    "#   print('Comparison body', np.round(tens2mat(x0, compl=False), 2))\n",
    "#   print('Effective_value', np.round(tens2mat(C_c, compl=False), 2), end='\\n\\n')\n",
    "\n",
    "\n",
    "#   while not np.all(np.round(x0, 2) == np.round(C_c, 2)):\n",
    "\n",
    "#     x0 = C_c\n",
    "#     g_matrix = tensor_g_fast(x0, [1, 1, 1])\n",
    "#     g_inclusion= tensor_g_fast(x0, [10, 10, 1])\n",
    "\n",
    "#     C_c = mat2tens(effective_C_isotropic(g_matrix, g_inclusion, C_mtrx, C_fluid, x0, porosity), compl=False)\n",
    "\n",
    "#     it +=1\n",
    "#     print('Iteration:', it)\n",
    "#     print('Comparison body', np.round(tens2mat(x0, compl=False), 2))\n",
    "#     print('Effective_value', np.round(tens2mat(C_c, compl=False), 2), end='\\n\\n')\n",
    "\n",
    "#   else:\n",
    "#     print('Final')\n",
    "#     return np.round(effective_C_isotropic(g_matrix, g_inclusion, C_mtrx, C_fluid, x0, porosity), 2)\n",
    "\n"
   ]
  },
  {
   "cell_type": "code",
   "execution_count": 41,
   "metadata": {
    "id": "lCJSnuUluFT8"
   },
   "outputs": [],
   "source": [
    "### Function to use self-consistent method of GSA. Applied. if comparison body is equal to\n",
    "### mineral matrix. Works iterativly\n",
    "\n",
    "def self_consistent_GSA(C_mtrx, C_fluid, C_c, porosity, AR_inclusion):\n",
    "#     it = 1\n",
    "    g_matrix = tensor_g_fast(C_c, [1, 1, 1])\n",
    "    g_inclusion = tensor_g_fast(C_c, AR_inclusion)\n",
    "\n",
    "    x0 = C_c\n",
    "    C_c = mat2tens(effective_C_isotropic(g_matrix, g_inclusion, C_mtrx, C_fluid, x0, porosity), compl=False)\n",
    "\n",
    "    # print(f\"Iteration: {it}\")\n",
    "    # print('Comparison body:', np.round(tens2mat(x0, compl=False), 2))\n",
    "    # print('Effective_value:', np.round(tens2mat(C_c, compl=False), 2), end='\\n\\n')\n",
    "\n",
    "    while not np.all(np.round(x0, 2) == np.round(C_c, 2)):\n",
    "        x0 = C_c\n",
    "        g_matrix = tensor_g_fast(x0, [1, 1, 1])\n",
    "        g_inclusion = tensor_g_fast(x0, AR_inclusion)\n",
    "\n",
    "        C_c = mat2tens(effective_C_isotropic(g_matrix, g_inclusion, C_mtrx, C_fluid, x0, porosity), compl=False)\n",
    "\n",
    "#         it += 1\n",
    "#         print(f\"Iteration: {it}\")\n",
    "    #     print('Comparison body:', np.round(tens2mat(x0, compl=False), 2))\n",
    "    #     print('Effective_value:', np.round(tens2mat(C_c, compl=False), 2), end='\\n\\n')\n",
    "\n",
    "    # print('Final')\n",
    "    return effective_C_isotropic(g_matrix, g_inclusion, C_mtrx, C_fluid, x0, porosity) #return - C_eff in matrix form"
   ]
  },
  {
   "cell_type": "code",
   "execution_count": 288,
   "metadata": {},
   "outputs": [
    {
     "data": {
      "text/plain": [
       "array([0.05011872, 0.05754399, 0.06606934, 0.07585776, 0.08709636,\n",
       "       0.1       ])"
      ]
     },
     "execution_count": 288,
     "metadata": {},
     "output_type": "execute_result"
    }
   ],
   "source": [
    "np.logspace(-1.3, -1, num=6)"
   ]
  },
  {
   "cell_type": "markdown",
   "metadata": {
    "id": "CePBFkSNwG20"
   },
   "source": [
    "Выбор метода: самосогласования или f-модель"
   ]
  },
  {
   "cell_type": "code",
   "execution_count": 289,
   "metadata": {
    "colab": {
     "base_uri": "https://localhost:8080/"
    },
    "id": "mypA2L66WQ55",
    "outputId": "005506fa-b84a-4b06-e26c-2162feedc88a"
   },
   "outputs": [
    {
     "name": "stdout",
     "output_type": "stream",
     "text": [
      "0.1447\n",
      "[19.95262315 17.37800829 15.13561248 13.18256739 11.48153621 10.        ]\n",
      "[0.05011872 0.05754399 0.06606934 0.07585776 0.08709636 0.1       ]\n",
      "\n",
      "19.952623149688797 0.05011872336272723\n",
      "self-consistent\n",
      "air\n",
      "9.547770799050438 2.686949948923573 3.4304104250634317\n",
      "self-consistent\n",
      "water\n",
      "39.92777463829414 22.691408195752743 8.618183221270698\n",
      "17.378008287493753 0.0575439937337157\n",
      "self-consistent\n",
      "air\n",
      "14.458459449976138 4.350718884595492 5.053870282690324\n",
      "self-consistent\n",
      "water\n",
      "41.971996058111 22.854969669373485 9.558513194368768\n",
      "15.13561248436208 0.06606934480075961\n",
      "self-consistent\n",
      "air\n",
      "19.35634305895613 6.159286917192439 6.598528070881843\n",
      "self-consistent\n",
      "water\n",
      "44.126502813703205 23.146145445995828 10.490178683853685\n",
      "13.182567385564074 0.07585775750291836\n",
      "self-consistent\n",
      "air\n",
      "24.149100746883843 8.047108076026978 8.050996335428431\n",
      "self-consistent\n",
      "water\n",
      "46.36881945724469 23.56168120292665 11.403569127159018\n",
      "11.481536214968829 0.08709635899560805\n",
      "self-consistent\n",
      "air\n",
      "28.7913521392574 9.96521779610143 9.413067171577985\n",
      "self-consistent\n",
      "water\n",
      "48.69028521890286 24.092422747977473 12.29893123546269\n",
      "10.0 0.1\n",
      "self-consistent\n",
      "air\n",
      "33.22551048262443 11.86153493170871 10.681987775457863\n",
      "self-consistent\n",
      "water\n",
      "51.06289301063618 24.72220871226383 13.170342149186174\n"
     ]
    }
   ],
   "source": [
    "c11_air, c12_air, c44_air = [], [], []\n",
    "c11_water, c12_water, c44_water = [], [], []\n",
    "c11_oil, c12_oil, c44_oil = [], [], []\n",
    "\n",
    "# porosity = data['Porosity,%'][idx]/100\n",
    "porosity = 14.47/100\n",
    "print(porosity)\n",
    "\n",
    "\n",
    "AR = np.logspace(1.3, 1, num=6)\n",
    "print(AR)\n",
    "AR_loop = AR**-1 #для построения графиков\n",
    "print(AR_loop, end='\\n\\n')\n",
    "\n",
    "# C_mtrx = make_C_matrix(K_calcite, mu_calcite)\n",
    "# C_c = C_mtrx\n",
    "# g_matrix = tensor_g_fast(C_c, [1, 1, 1])\n",
    "\n",
    "f = 0\n",
    "\n",
    "for i in AR:\n",
    "    print(i, 1/i)\n",
    "\n",
    "### Air\n",
    "    C_mtrx = make_C_matrix(K_air_mtrx, Mu_air_mtrx)\n",
    "    C_fluid = make_C_fluid(K_air, Mu_air)\n",
    "\n",
    "    AR_inclusion = [i,i,1]\n",
    "\n",
    "    if f != 0: #f-model\n",
    "        print('f-model')\n",
    "        C_c = C_mtrx*(1-f) + C_fluid*f\n",
    "\n",
    "        g_matrix = tensor_g_fast(C_c, [1, 1, 1])\n",
    "        g_inclusion= tensor_g_fast(C_c, AR_inclusion)\n",
    "        eff_air = effective_C_isotropic(g_matrix, g_inclusion, C_mtrx,\n",
    "                                      C_fluid, C_c, porosity)\n",
    "        c11_air.append(eff_air[0,0])\n",
    "        c12_air.append(eff_air[0,2])\n",
    "        c44_air.append(eff_air[3,3])\n",
    "\n",
    "    else: #self-consistent\n",
    "        print('self-consistent')\n",
    "        C_c = C_mtrx\n",
    "        eff_air = self_consistent_GSA(C_mtrx, C_fluid, C_c, porosity, AR_inclusion)\n",
    "\n",
    "        c11_air.append(eff_air[0,0])\n",
    "        c12_air.append(eff_air[0,2])\n",
    "        c44_air.append(eff_air[3,3])\n",
    "        print('air')\n",
    "        print(eff_air[0,0], eff_air[0,2], eff_air[3,3])\n",
    "\n",
    "\n",
    "### Water\n",
    "\n",
    "    C_mtrx = make_C_matrix(K_water_mtrx, Mu_water_mtrx)\n",
    "    C_fluid = make_C_fluid(K_water, Mu_water)\n",
    "\n",
    "    AR_inclusion = [i,i,1]\n",
    "\n",
    "    if f != 0: #f-model\n",
    "        print('f-model')\n",
    "        C_c = C_mtrx*(1-f) + C_fluid*f\n",
    "\n",
    "        g_matrix = tensor_g_fast(C_c, [1, 1, 1])\n",
    "        g_inclusion= tensor_g_fast(C_c, AR_inclusion)\n",
    "        eff_water = effective_C_isotropic(g_matrix, g_inclusion, C_mtrx,\n",
    "                                      C_fluid, C_c, porosity)\n",
    "        c11_water.append(eff_water[0,0])\n",
    "        c12_water.append(eff_water[0,2])\n",
    "        c44_water.append(eff_water[3,3])\n",
    "\n",
    "    else: #self-consistent\n",
    "        print('self-consistent')\n",
    "        C_c = C_mtrx\n",
    "        eff_water = self_consistent_GSA(C_mtrx, C_fluid, C_c, porosity, AR_inclusion)\n",
    "\n",
    "        c11_water.append(eff_water[0,0])\n",
    "        c12_water.append(eff_water[0,2])\n",
    "        c44_water.append(eff_water[3,3])\n",
    "        print('water')\n",
    "        print(eff_water[0,0], eff_water[0,2], eff_water[3,3])\n",
    "\n",
    "#     C_mtrx = make_C_matrix(K_water_mtrx, Mu_water_mtrx)\n",
    "#     C_fluid = make_C_fluid(K_oil, Mu_oil)\n",
    "#     C_c = C_mtrx*(1-f) + C_fluid*f\n",
    "\n",
    "#     g_matrix = tensor_g_fast(C_c, [1, 1, 1])\n",
    "#     g_inclusion= tensor_g_fast(C_c, [i, i, 1])\n",
    "#     eff_water = effective_C_isotropic(g_matrix, g_inclusion, C_mtrx,\n",
    "#                                  C_fluid, C_c, porosity)\n",
    "#     c11_water.append(eff_water[0,0])\n",
    "#     c12_water.append(eff_water[0,2])\n",
    "#     c44_water.append(eff_water[3,3])\n",
    "\n",
    "# ### Oil\n",
    "#   C_mtrx = make_C_matrix(K_oil_mtrx, Mu_oil_mtrx)\n",
    "#   C_fluid = make_C_fluid(K_oil, Mu_oil)\n",
    "#   C_c = C_mtrx*(1-f) + C_fluid*f\n",
    "\n",
    "#   g_matrix = tensor_g_fast(C_c, [1, 1, 1])\n",
    "#   g_inclusion= tensor_g_fast(C_c, [i, i, 1])\n",
    "#   eff_oil = effective_C_isotropic(g_matrix, g_inclusion, C_mtrx,\n",
    "#                                  C_fluid, C_c, porosity)\n",
    "#   c11_oil.append(eff_oil[0,0])\n",
    "#   c12_oil.append(eff_oil[0,2])\n",
    "#   c44_oil.append(eff_oil[3,3])"
   ]
  },
  {
   "cell_type": "code",
   "execution_count": 291,
   "metadata": {},
   "outputs": [],
   "source": [
    "fluid_list = ['air', 'water', 'oil']\n",
    "\n",
    "for fluid in fluid_list:\n",
    "    data_fluid = {\n",
    "        f'C11_{fluid}': globals()[f'c11_{fluid}'],\n",
    "        f'C12_{fluid}': globals()[f'c12_{fluid}'],\n",
    "        f'C44_{fluid}': globals()[f'c44_{fluid}']\n",
    "    }\n",
    "    globals()[f'inversion_{fluid}'] = pd.DataFrame(data_fluid)\n",
    "\n",
    "    if fluid == 'air':\n",
    "        globals()[f'inversion_{fluid}'][f'Density ({fluid})'] = 2.35\n",
    "        density = 2.35\n",
    "    \n",
    "    else:\n",
    "        globals()[f'inversion_{fluid}'][f'Density ({fluid})'] = data['Density (water)'][idx]\n",
    "#         density = data['Density (water)'][idx]\n",
    "        density =2.32\n",
    "\n",
    "    # density = data['Density (water)'][idx]\n",
    "#     density = 2.71\n",
    "    Vp_exp, Vs_exp = data[f'Vp {fluid}'][idx], data[f'Vs {fluid}'][idx]\n",
    "    porosity = data['Porosity,%'][idx]/100\n",
    "\n",
    "### Vp, Vs calculation\n",
    "    globals()[f'inversion_{fluid}'][f'Vp {fluid}'] = globals()[f'inversion_{fluid}'][[f'C11_{fluid}']].\\\n",
    "    apply(lambda x: np.sqrt(x[0] / density), axis=1)\n",
    "    globals()[f'inversion_{fluid}'][f'Vs {fluid}'] = globals()[f'inversion_{fluid}'][[f'C44_{fluid}']].\\\n",
    "    apply(lambda x: np.sqrt(x[0] / density), axis=1)\n",
    "### Aspect ratio\n",
    "    globals()[f'inversion_{fluid}']['AR inclusion'] = np.round(AR_loop, 3)\n",
    "### Crack density\n",
    "    ### Если crack density > 1, то в породе преобладают монетообразные трещины,\n",
    "    ### значит порода может потерять свою целостность. Следовательно, определять\n",
    "    ### эффективные свойства породы имеет смысл лишь при rack density < 1 .\n",
    "    globals()[f'inversion_{fluid}']['Crack density'] = np.round(3*porosity/(4*np.pi*AR_loop), 3)\n",
    "\n",
    "### Relative diffrence between calculated and experimntal velocities\n",
    "    globals()[f'inversion_{fluid}'][f'Diff Vp {fluid}'] = globals()[f'inversion_{fluid}'][[f'Vp {fluid}']]\\\n",
    "     .apply(lambda x: np.round((x[0] - Vp_exp)/Vp_exp*100, 2), axis=1)\n",
    "    globals()[f'inversion_{fluid}'][f'Diff Vs {fluid}'] =globals()[f'inversion_{fluid}'][[f'Vs {fluid}']]\\\n",
    "    .apply(lambda x: np.round((x[0] - Vs_exp)/Vs_exp*100, 2), axis=1)\n",
    "\n",
    "### Common relative diffrence between calculated and experimntal velocities\n",
    "    globals()[f'inversion_{fluid}'][f'Diff'] = globals()[f'inversion_{fluid}']\\\n",
    "    .apply(lambda row: np.round(np.sqrt((row[f'Diff Vp {fluid}'])**2 + (row[f'Diff Vs {fluid}'])**2), 2), axis=1)\n",
    "\n",
    "    ### sort values\n",
    "    globals()[f'inversion_{fluid}'] = globals()[f'inversion_{fluid}'].sort_values(by=f'Diff')\n"
   ]
  },
  {
   "cell_type": "code",
   "execution_count": 292,
   "metadata": {},
   "outputs": [
    {
     "data": {
      "text/html": [
       "<div>\n",
       "<style scoped>\n",
       "    .dataframe tbody tr th:only-of-type {\n",
       "        vertical-align: middle;\n",
       "    }\n",
       "\n",
       "    .dataframe tbody tr th {\n",
       "        vertical-align: top;\n",
       "    }\n",
       "\n",
       "    .dataframe thead th {\n",
       "        text-align: right;\n",
       "    }\n",
       "</style>\n",
       "<table border=\"1\" class=\"dataframe\">\n",
       "  <thead>\n",
       "    <tr style=\"text-align: right;\">\n",
       "      <th></th>\n",
       "      <th>C11_air</th>\n",
       "      <th>C12_air</th>\n",
       "      <th>C44_air</th>\n",
       "      <th>Density (air)</th>\n",
       "      <th>Vp air</th>\n",
       "      <th>Vs air</th>\n",
       "      <th>AR inclusion</th>\n",
       "      <th>Crack density</th>\n",
       "      <th>Diff Vp air</th>\n",
       "      <th>Diff Vs air</th>\n",
       "      <th>Diff</th>\n",
       "    </tr>\n",
       "  </thead>\n",
       "  <tbody>\n",
       "    <tr>\n",
       "      <th>3</th>\n",
       "      <td>24.149101</td>\n",
       "      <td>8.047108</td>\n",
       "      <td>8.050996</td>\n",
       "      <td>2.35</td>\n",
       "      <td>3.205653</td>\n",
       "      <td>1.850934</td>\n",
       "      <td>0.076</td>\n",
       "      <td>0.447</td>\n",
       "      <td>-1.09</td>\n",
       "      <td>0.72</td>\n",
       "      <td>1.31</td>\n",
       "    </tr>\n",
       "    <tr>\n",
       "      <th>4</th>\n",
       "      <td>28.791352</td>\n",
       "      <td>9.965218</td>\n",
       "      <td>9.413067</td>\n",
       "      <td>2.35</td>\n",
       "      <td>3.500234</td>\n",
       "      <td>2.001390</td>\n",
       "      <td>0.087</td>\n",
       "      <td>0.389</td>\n",
       "      <td>8.00</td>\n",
       "      <td>8.91</td>\n",
       "      <td>11.97</td>\n",
       "    </tr>\n",
       "    <tr>\n",
       "      <th>2</th>\n",
       "      <td>19.356343</td>\n",
       "      <td>6.159287</td>\n",
       "      <td>6.598528</td>\n",
       "      <td>2.35</td>\n",
       "      <td>2.869972</td>\n",
       "      <td>1.675674</td>\n",
       "      <td>0.066</td>\n",
       "      <td>0.513</td>\n",
       "      <td>-11.45</td>\n",
       "      <td>-8.82</td>\n",
       "      <td>14.45</td>\n",
       "    </tr>\n",
       "    <tr>\n",
       "      <th>5</th>\n",
       "      <td>33.225510</td>\n",
       "      <td>11.861535</td>\n",
       "      <td>10.681988</td>\n",
       "      <td>2.35</td>\n",
       "      <td>3.760122</td>\n",
       "      <td>2.132024</td>\n",
       "      <td>0.100</td>\n",
       "      <td>0.339</td>\n",
       "      <td>16.02</td>\n",
       "      <td>16.02</td>\n",
       "      <td>22.66</td>\n",
       "    </tr>\n",
       "    <tr>\n",
       "      <th>1</th>\n",
       "      <td>14.458459</td>\n",
       "      <td>4.350719</td>\n",
       "      <td>5.053870</td>\n",
       "      <td>2.35</td>\n",
       "      <td>2.480431</td>\n",
       "      <td>1.466487</td>\n",
       "      <td>0.058</td>\n",
       "      <td>0.589</td>\n",
       "      <td>-23.47</td>\n",
       "      <td>-20.20</td>\n",
       "      <td>30.97</td>\n",
       "    </tr>\n",
       "    <tr>\n",
       "      <th>0</th>\n",
       "      <td>9.547771</td>\n",
       "      <td>2.686950</td>\n",
       "      <td>3.430410</td>\n",
       "      <td>2.35</td>\n",
       "      <td>2.015659</td>\n",
       "      <td>1.208201</td>\n",
       "      <td>0.050</td>\n",
       "      <td>0.676</td>\n",
       "      <td>-37.81</td>\n",
       "      <td>-34.25</td>\n",
       "      <td>51.02</td>\n",
       "    </tr>\n",
       "  </tbody>\n",
       "</table>\n",
       "</div>"
      ],
      "text/plain": [
       "     C11_air    C12_air    C44_air  Density (air)    Vp air    Vs air  \\\n",
       "3  24.149101   8.047108   8.050996           2.35  3.205653  1.850934   \n",
       "4  28.791352   9.965218   9.413067           2.35  3.500234  2.001390   \n",
       "2  19.356343   6.159287   6.598528           2.35  2.869972  1.675674   \n",
       "5  33.225510  11.861535  10.681988           2.35  3.760122  2.132024   \n",
       "1  14.458459   4.350719   5.053870           2.35  2.480431  1.466487   \n",
       "0   9.547771   2.686950   3.430410           2.35  2.015659  1.208201   \n",
       "\n",
       "   AR inclusion  Crack density  Diff Vp air  Diff Vs air   Diff  \n",
       "3         0.076          0.447        -1.09         0.72   1.31  \n",
       "4         0.087          0.389         8.00         8.91  11.97  \n",
       "2         0.066          0.513       -11.45        -8.82  14.45  \n",
       "5         0.100          0.339        16.02        16.02  22.66  \n",
       "1         0.058          0.589       -23.47       -20.20  30.97  \n",
       "0         0.050          0.676       -37.81       -34.25  51.02  "
      ]
     },
     "execution_count": 292,
     "metadata": {},
     "output_type": "execute_result"
    }
   ],
   "source": [
    "inversion_air"
   ]
  },
  {
   "cell_type": "code",
   "execution_count": 293,
   "metadata": {},
   "outputs": [
    {
     "data": {
      "text/html": [
       "<div>\n",
       "<style scoped>\n",
       "    .dataframe tbody tr th:only-of-type {\n",
       "        vertical-align: middle;\n",
       "    }\n",
       "\n",
       "    .dataframe tbody tr th {\n",
       "        vertical-align: top;\n",
       "    }\n",
       "\n",
       "    .dataframe thead th {\n",
       "        text-align: right;\n",
       "    }\n",
       "</style>\n",
       "<table border=\"1\" class=\"dataframe\">\n",
       "  <thead>\n",
       "    <tr style=\"text-align: right;\">\n",
       "      <th></th>\n",
       "      <th>C11_water</th>\n",
       "      <th>C12_water</th>\n",
       "      <th>C44_water</th>\n",
       "      <th>Density (water)</th>\n",
       "      <th>Vp water</th>\n",
       "      <th>Vs water</th>\n",
       "      <th>AR inclusion</th>\n",
       "      <th>Crack density</th>\n",
       "      <th>Diff Vp water</th>\n",
       "      <th>Diff Vs water</th>\n",
       "      <th>Diff</th>\n",
       "    </tr>\n",
       "  </thead>\n",
       "  <tbody>\n",
       "    <tr>\n",
       "      <th>0</th>\n",
       "      <td>39.927775</td>\n",
       "      <td>22.691408</td>\n",
       "      <td>8.618183</td>\n",
       "      <td>2.326067</td>\n",
       "      <td>4.148524</td>\n",
       "      <td>1.927365</td>\n",
       "      <td>0.050</td>\n",
       "      <td>0.676</td>\n",
       "      <td>8.73</td>\n",
       "      <td>-4.99</td>\n",
       "      <td>10.06</td>\n",
       "    </tr>\n",
       "    <tr>\n",
       "      <th>1</th>\n",
       "      <td>41.971996</td>\n",
       "      <td>22.854970</td>\n",
       "      <td>9.558513</td>\n",
       "      <td>2.326067</td>\n",
       "      <td>4.253396</td>\n",
       "      <td>2.029790</td>\n",
       "      <td>0.058</td>\n",
       "      <td>0.589</td>\n",
       "      <td>11.48</td>\n",
       "      <td>0.06</td>\n",
       "      <td>11.48</td>\n",
       "    </tr>\n",
       "    <tr>\n",
       "      <th>2</th>\n",
       "      <td>44.126503</td>\n",
       "      <td>23.146145</td>\n",
       "      <td>10.490179</td>\n",
       "      <td>2.326067</td>\n",
       "      <td>4.361198</td>\n",
       "      <td>2.126412</td>\n",
       "      <td>0.066</td>\n",
       "      <td>0.513</td>\n",
       "      <td>14.30</td>\n",
       "      <td>4.83</td>\n",
       "      <td>15.09</td>\n",
       "    </tr>\n",
       "    <tr>\n",
       "      <th>3</th>\n",
       "      <td>46.368819</td>\n",
       "      <td>23.561681</td>\n",
       "      <td>11.403569</td>\n",
       "      <td>2.326067</td>\n",
       "      <td>4.470633</td>\n",
       "      <td>2.217055</td>\n",
       "      <td>0.076</td>\n",
       "      <td>0.447</td>\n",
       "      <td>17.17</td>\n",
       "      <td>9.30</td>\n",
       "      <td>19.53</td>\n",
       "    </tr>\n",
       "    <tr>\n",
       "      <th>4</th>\n",
       "      <td>48.690285</td>\n",
       "      <td>24.092423</td>\n",
       "      <td>12.298931</td>\n",
       "      <td>2.326067</td>\n",
       "      <td>4.581178</td>\n",
       "      <td>2.302447</td>\n",
       "      <td>0.087</td>\n",
       "      <td>0.389</td>\n",
       "      <td>20.07</td>\n",
       "      <td>13.50</td>\n",
       "      <td>24.19</td>\n",
       "    </tr>\n",
       "    <tr>\n",
       "      <th>5</th>\n",
       "      <td>51.062893</td>\n",
       "      <td>24.722209</td>\n",
       "      <td>13.170342</td>\n",
       "      <td>2.326067</td>\n",
       "      <td>4.691468</td>\n",
       "      <td>2.382619</td>\n",
       "      <td>0.100</td>\n",
       "      <td>0.339</td>\n",
       "      <td>22.96</td>\n",
       "      <td>17.46</td>\n",
       "      <td>28.84</td>\n",
       "    </tr>\n",
       "  </tbody>\n",
       "</table>\n",
       "</div>"
      ],
      "text/plain": [
       "   C11_water  C12_water  C44_water  Density (water)  Vp water  Vs water  \\\n",
       "0  39.927775  22.691408   8.618183         2.326067  4.148524  1.927365   \n",
       "1  41.971996  22.854970   9.558513         2.326067  4.253396  2.029790   \n",
       "2  44.126503  23.146145  10.490179         2.326067  4.361198  2.126412   \n",
       "3  46.368819  23.561681  11.403569         2.326067  4.470633  2.217055   \n",
       "4  48.690285  24.092423  12.298931         2.326067  4.581178  2.302447   \n",
       "5  51.062893  24.722209  13.170342         2.326067  4.691468  2.382619   \n",
       "\n",
       "   AR inclusion  Crack density  Diff Vp water  Diff Vs water   Diff  \n",
       "0         0.050          0.676           8.73          -4.99  10.06  \n",
       "1         0.058          0.589          11.48           0.06  11.48  \n",
       "2         0.066          0.513          14.30           4.83  15.09  \n",
       "3         0.076          0.447          17.17           9.30  19.53  \n",
       "4         0.087          0.389          20.07          13.50  24.19  \n",
       "5         0.100          0.339          22.96          17.46  28.84  "
      ]
     },
     "execution_count": 293,
     "metadata": {},
     "output_type": "execute_result"
    }
   ],
   "source": [
    "inversion_water"
   ]
  },
  {
   "cell_type": "code",
   "execution_count": 304,
   "metadata": {},
   "outputs": [],
   "source": [
    "error = 12"
   ]
  },
  {
   "cell_type": "code",
   "execution_count": 305,
   "metadata": {},
   "outputs": [
    {
     "data": {
      "text/html": [
       "<div>\n",
       "<style scoped>\n",
       "    .dataframe tbody tr th:only-of-type {\n",
       "        vertical-align: middle;\n",
       "    }\n",
       "\n",
       "    .dataframe tbody tr th {\n",
       "        vertical-align: top;\n",
       "    }\n",
       "\n",
       "    .dataframe thead th {\n",
       "        text-align: right;\n",
       "    }\n",
       "</style>\n",
       "<table border=\"1\" class=\"dataframe\">\n",
       "  <thead>\n",
       "    <tr style=\"text-align: right;\">\n",
       "      <th></th>\n",
       "      <th>C11_air</th>\n",
       "      <th>C12_air</th>\n",
       "      <th>C44_air</th>\n",
       "      <th>Density (air)</th>\n",
       "      <th>Vp air</th>\n",
       "      <th>Vs air</th>\n",
       "      <th>AR inclusion</th>\n",
       "      <th>Crack density</th>\n",
       "      <th>Diff Vp air</th>\n",
       "      <th>Diff Vs air</th>\n",
       "      <th>Diff</th>\n",
       "    </tr>\n",
       "  </thead>\n",
       "  <tbody>\n",
       "    <tr>\n",
       "      <th>3</th>\n",
       "      <td>24.149101</td>\n",
       "      <td>8.047108</td>\n",
       "      <td>8.050996</td>\n",
       "      <td>2.35</td>\n",
       "      <td>3.205653</td>\n",
       "      <td>1.850934</td>\n",
       "      <td>0.076</td>\n",
       "      <td>0.447</td>\n",
       "      <td>-1.09</td>\n",
       "      <td>0.72</td>\n",
       "      <td>1.31</td>\n",
       "    </tr>\n",
       "    <tr>\n",
       "      <th>4</th>\n",
       "      <td>28.791352</td>\n",
       "      <td>9.965218</td>\n",
       "      <td>9.413067</td>\n",
       "      <td>2.35</td>\n",
       "      <td>3.500234</td>\n",
       "      <td>2.001390</td>\n",
       "      <td>0.087</td>\n",
       "      <td>0.389</td>\n",
       "      <td>8.00</td>\n",
       "      <td>8.91</td>\n",
       "      <td>11.97</td>\n",
       "    </tr>\n",
       "    <tr>\n",
       "      <th>2</th>\n",
       "      <td>19.356343</td>\n",
       "      <td>6.159287</td>\n",
       "      <td>6.598528</td>\n",
       "      <td>2.35</td>\n",
       "      <td>2.869972</td>\n",
       "      <td>1.675674</td>\n",
       "      <td>0.066</td>\n",
       "      <td>0.513</td>\n",
       "      <td>-11.45</td>\n",
       "      <td>-8.82</td>\n",
       "      <td>14.45</td>\n",
       "    </tr>\n",
       "  </tbody>\n",
       "</table>\n",
       "</div>"
      ],
      "text/plain": [
       "     C11_air   C12_air   C44_air  Density (air)    Vp air    Vs air  \\\n",
       "3  24.149101  8.047108  8.050996           2.35  3.205653  1.850934   \n",
       "4  28.791352  9.965218  9.413067           2.35  3.500234  2.001390   \n",
       "2  19.356343  6.159287  6.598528           2.35  2.869972  1.675674   \n",
       "\n",
       "   AR inclusion  Crack density  Diff Vp air  Diff Vs air   Diff  \n",
       "3         0.076          0.447        -1.09         0.72   1.31  \n",
       "4         0.087          0.389         8.00         8.91  11.97  \n",
       "2         0.066          0.513       -11.45        -8.82  14.45  "
      ]
     },
     "execution_count": 305,
     "metadata": {},
     "output_type": "execute_result"
    }
   ],
   "source": [
    "selected_row_air = inversion_air[(abs(inversion_air['Diff Vp air']) <= error ) &\\\n",
    "                             (abs(inversion_air['Diff Vs air']) <= error)]\n",
    "selected_row_air"
   ]
  },
  {
   "cell_type": "code",
   "execution_count": 307,
   "metadata": {},
   "outputs": [
    {
     "data": {
      "text/html": [
       "<div>\n",
       "<style scoped>\n",
       "    .dataframe tbody tr th:only-of-type {\n",
       "        vertical-align: middle;\n",
       "    }\n",
       "\n",
       "    .dataframe tbody tr th {\n",
       "        vertical-align: top;\n",
       "    }\n",
       "\n",
       "    .dataframe thead th {\n",
       "        text-align: right;\n",
       "    }\n",
       "</style>\n",
       "<table border=\"1\" class=\"dataframe\">\n",
       "  <thead>\n",
       "    <tr style=\"text-align: right;\">\n",
       "      <th></th>\n",
       "      <th>C11_water</th>\n",
       "      <th>C12_water</th>\n",
       "      <th>C44_water</th>\n",
       "      <th>Density (water)</th>\n",
       "      <th>Vp water</th>\n",
       "      <th>Vs water</th>\n",
       "      <th>AR inclusion</th>\n",
       "      <th>Crack density</th>\n",
       "      <th>Diff Vp water</th>\n",
       "      <th>Diff Vs water</th>\n",
       "      <th>Diff</th>\n",
       "    </tr>\n",
       "  </thead>\n",
       "  <tbody>\n",
       "    <tr>\n",
       "      <th>0</th>\n",
       "      <td>39.927775</td>\n",
       "      <td>22.691408</td>\n",
       "      <td>8.618183</td>\n",
       "      <td>2.326067</td>\n",
       "      <td>4.148524</td>\n",
       "      <td>1.927365</td>\n",
       "      <td>0.050</td>\n",
       "      <td>0.676</td>\n",
       "      <td>8.73</td>\n",
       "      <td>-4.99</td>\n",
       "      <td>10.06</td>\n",
       "    </tr>\n",
       "    <tr>\n",
       "      <th>1</th>\n",
       "      <td>41.971996</td>\n",
       "      <td>22.854970</td>\n",
       "      <td>9.558513</td>\n",
       "      <td>2.326067</td>\n",
       "      <td>4.253396</td>\n",
       "      <td>2.029790</td>\n",
       "      <td>0.058</td>\n",
       "      <td>0.589</td>\n",
       "      <td>11.48</td>\n",
       "      <td>0.06</td>\n",
       "      <td>11.48</td>\n",
       "    </tr>\n",
       "  </tbody>\n",
       "</table>\n",
       "</div>"
      ],
      "text/plain": [
       "   C11_water  C12_water  C44_water  Density (water)  Vp water  Vs water  \\\n",
       "0  39.927775  22.691408   8.618183         2.326067  4.148524  1.927365   \n",
       "1  41.971996  22.854970   9.558513         2.326067  4.253396  2.029790   \n",
       "\n",
       "   AR inclusion  Crack density  Diff Vp water  Diff Vs water   Diff  \n",
       "0         0.050          0.676           8.73          -4.99  10.06  \n",
       "1         0.058          0.589          11.48           0.06  11.48  "
      ]
     },
     "execution_count": 307,
     "metadata": {},
     "output_type": "execute_result"
    }
   ],
   "source": [
    "selected_row_water = inversion_water[(abs(inversion_water['Diff Vp water']) <= error) &\\\n",
    "                               (abs(inversion_water['Diff Vs water'])  <= error)]\n",
    "selected_row_water"
   ]
  },
  {
   "cell_type": "markdown",
   "metadata": {},
   "source": [
    "Отбор решений с одинаковым АО (отбор по таблица с учетом ошибки)"
   ]
  },
  {
   "cell_type": "code",
   "execution_count": 303,
   "metadata": {},
   "outputs": [
    {
     "data": {
      "text/html": [
       "<div>\n",
       "<style scoped>\n",
       "    .dataframe tbody tr th:only-of-type {\n",
       "        vertical-align: middle;\n",
       "    }\n",
       "\n",
       "    .dataframe tbody tr th {\n",
       "        vertical-align: top;\n",
       "    }\n",
       "\n",
       "    .dataframe thead th {\n",
       "        text-align: right;\n",
       "    }\n",
       "</style>\n",
       "<table border=\"1\" class=\"dataframe\">\n",
       "  <thead>\n",
       "    <tr style=\"text-align: right;\">\n",
       "      <th></th>\n",
       "      <th>C11_air</th>\n",
       "      <th>C12_air</th>\n",
       "      <th>C44_air</th>\n",
       "      <th>Density (air)</th>\n",
       "      <th>Vp air</th>\n",
       "      <th>Vs air</th>\n",
       "      <th>AR inclusion</th>\n",
       "      <th>Crack density_air</th>\n",
       "      <th>Diff Vp air</th>\n",
       "      <th>Diff Vs air</th>\n",
       "      <th>Diff_air</th>\n",
       "      <th>C11_water</th>\n",
       "      <th>C12_water</th>\n",
       "      <th>C44_water</th>\n",
       "      <th>Density (water)</th>\n",
       "      <th>Vp water</th>\n",
       "      <th>Vs water</th>\n",
       "      <th>Crack density_water</th>\n",
       "      <th>Diff Vp water</th>\n",
       "      <th>Diff Vs water</th>\n",
       "      <th>Diff_water</th>\n",
       "    </tr>\n",
       "  </thead>\n",
       "  <tbody>\n",
       "  </tbody>\n",
       "</table>\n",
       "</div>"
      ],
      "text/plain": [
       "Empty DataFrame\n",
       "Columns: [C11_air, C12_air, C44_air, Density (air), Vp air, Vs air, AR inclusion, Crack density_air, Diff Vp air, Diff Vs air, Diff_air, C11_water, C12_water, C44_water, Density (water), Vp water, Vs water, Crack density_water, Diff Vp water, Diff Vs water, Diff_water]\n",
       "Index: []"
      ]
     },
     "execution_count": 303,
     "metadata": {},
     "output_type": "execute_result"
    }
   ],
   "source": [
    "merged_data = pd.merge(selected_row_air, \n",
    "                       selected_row_water, on=\"AR inclusion\", suffixes=('_air', '_water'), how='inner')\n",
    "\n",
    "# merged_data will contain the rows where the \"AR inclusion\" values are equal in both DataFrames\n",
    "merged_data"
   ]
  },
  {
   "cell_type": "markdown",
   "metadata": {
    "id": "K41URgvreAFK"
   },
   "source": [
    "Нет данным плотности породы в высушенном состоянии. Только данные по плотности в водо- и керосинонасыщенном состоянии, результаты измерения которых одинаковые.\n",
    "\n",
    "Далее для определения скоростей Vp и Vs использую одно плотность (в водонасыщенном состоянии) для опредения скоростей в высушенном, водо- и керосинонасыщенном состоянии."
   ]
  },
  {
   "cell_type": "code",
   "execution_count": 42,
   "metadata": {
    "id": "U30LUANvTd8g"
   },
   "outputs": [
    {
     "data": {
      "text/plain": [
       "(array([2.71      , 2.70548485, 2.7009697 , 2.69645455, 2.69193939,\n",
       "        2.68742424, 2.68290909, 2.67839394, 2.67387879, 2.66936364,\n",
       "        2.66484848, 2.66033333, 2.65581818, 2.65130303, 2.64678788,\n",
       "        2.64227273, 2.63775758, 2.63324242, 2.62872727, 2.62421212,\n",
       "        2.61969697, 2.61518182, 2.61066667, 2.60615152, 2.60163636,\n",
       "        2.59712121, 2.59260606, 2.58809091, 2.58357576, 2.57906061,\n",
       "        2.57454545, 2.5700303 , 2.56551515, 2.561     , 2.55648485,\n",
       "        2.5519697 , 2.54745455, 2.54293939, 2.53842424, 2.53390909,\n",
       "        2.52939394, 2.52487879, 2.52036364, 2.51584848, 2.51133333,\n",
       "        2.50681818, 2.50230303, 2.49778788, 2.49327273, 2.48875758,\n",
       "        2.48424242, 2.47972727, 2.47521212, 2.47069697, 2.46618182,\n",
       "        2.46166667, 2.45715152, 2.45263636, 2.44812121, 2.44360606,\n",
       "        2.43909091, 2.43457576, 2.43006061, 2.42554545, 2.4210303 ,\n",
       "        2.41651515, 2.412     , 2.40748485, 2.4029697 , 2.39845455,\n",
       "        2.39393939, 2.38942424, 2.38490909, 2.38039394, 2.37587879,\n",
       "        2.37136364, 2.36684848, 2.36233333, 2.35781818, 2.35330303,\n",
       "        2.34878788, 2.34427273, 2.33975758, 2.33524242, 2.33072727,\n",
       "        2.32621212, 2.32169697, 2.31718182, 2.31266667, 2.30815152,\n",
       "        2.30363636, 2.29912121, 2.29460606, 2.29009091, 2.28557576,\n",
       "        2.28106061, 2.27654545, 2.2720303 , 2.26751515, 2.263     ]),\n",
       " array([2.71      , 2.70493939, 2.69987879, 2.69481818, 2.68975758,\n",
       "        2.68469697, 2.67963636, 2.67457576, 2.66951515, 2.66445455,\n",
       "        2.65939394, 2.65433333, 2.64927273, 2.64421212, 2.63915152,\n",
       "        2.63409091, 2.6290303 , 2.6239697 , 2.61890909, 2.61384848,\n",
       "        2.60878788, 2.60372727, 2.59866667, 2.59360606, 2.58854545,\n",
       "        2.58348485, 2.57842424, 2.57336364, 2.56830303, 2.56324242,\n",
       "        2.55818182, 2.55312121, 2.54806061, 2.543     , 2.53793939,\n",
       "        2.53287879, 2.52781818, 2.52275758, 2.51769697, 2.51263636,\n",
       "        2.50757576, 2.50251515, 2.49745455, 2.49239394, 2.48733333,\n",
       "        2.48227273, 2.47721212, 2.47215152, 2.46709091, 2.4620303 ,\n",
       "        2.4569697 , 2.45190909, 2.44684848, 2.44178788, 2.43672727,\n",
       "        2.43166667, 2.42660606, 2.42154545, 2.41648485, 2.41142424,\n",
       "        2.40636364, 2.40130303, 2.39624242, 2.39118182, 2.38612121,\n",
       "        2.38106061, 2.376     , 2.37093939, 2.36587879, 2.36081818,\n",
       "        2.35575758, 2.35069697, 2.34563636, 2.34057576, 2.33551515,\n",
       "        2.33045455, 2.32539394, 2.32033333, 2.31527273, 2.31021212,\n",
       "        2.30515152, 2.30009091, 2.2950303 , 2.2899697 , 2.28490909,\n",
       "        2.27984848, 2.27478788, 2.26972727, 2.26466667, 2.25960606,\n",
       "        2.25454545, 2.24948485, 2.24442424, 2.23936364, 2.23430303,\n",
       "        2.22924242, 2.22418182, 2.21912121, 2.21406061, 2.209     ]),\n",
       " 2.572246514732358)"
      ]
     },
     "execution_count": 42,
     "metadata": {},
     "output_type": "execute_result"
    }
   ],
   "source": [
    "p_calcite = 2.71\n",
    "den_air = p_calcite * (1-porosity ) + p_air*porosity\n",
    "den_water = p_calcite * (1-porosity ) + p_water*porosity\n",
    "den_air, den_water,  data['Density (water)'][0]"
   ]
  },
  {
   "cell_type": "code",
   "execution_count": null,
   "metadata": {
    "id": "FWNUrZF2XlD-"
   },
   "outputs": [],
   "source": [
    "# density = 2.572247\n",
    "\n",
    "# print('Air')\n",
    "# for i, j in zip(c11_air, c44_air):\n",
    "#   print('Vp', np.sqrt(i / density), 'Vs', np.sqrt(j / density))\n",
    "\n",
    "# print('Water')\n",
    "# for i, j in zip(c11_water, c44_water):\n",
    "#   print('Vp', np.sqrt(i / density), 'Vs', np.sqrt(j / density))\n",
    "\n",
    "# print('Kerosene')\n",
    "# for i, j in zip(c11_oil, c44_oil):\n",
    "#   print('Vp', np.sqrt(i / density), 'Vs', np.sqrt(j / density))"
   ]
  },
  {
   "cell_type": "code",
   "execution_count": 43,
   "metadata": {
    "colab": {
     "base_uri": "https://localhost:8080/",
     "height": 491
    },
    "id": "YqxR25wGLxsD",
    "outputId": "69aa40b7-7807-4d07-eba2-234702b39c48"
   },
   "outputs": [
    {
     "ename": "NameError",
     "evalue": "name 'AR_loop' is not defined",
     "output_type": "error",
     "traceback": [
      "\u001b[0;31m---------------------------------------------------------------------------\u001b[0m",
      "\u001b[0;31mNameError\u001b[0m                                 Traceback (most recent call last)",
      "Input \u001b[0;32mIn [43]\u001b[0m, in \u001b[0;36m<cell line: 1>\u001b[0;34m()\u001b[0m\n\u001b[0;32m----> 1\u001b[0m plt\u001b[38;5;241m.\u001b[39mplot(\u001b[43mAR_loop\u001b[49m, c11_air, label\u001b[38;5;241m=\u001b[39m\u001b[38;5;124m'\u001b[39m\u001b[38;5;124mC11\u001b[39m\u001b[38;5;124m'\u001b[39m)\n\u001b[1;32m      2\u001b[0m plt\u001b[38;5;241m.\u001b[39mplot(AR_loop, c12_air, label\u001b[38;5;241m=\u001b[39m\u001b[38;5;124m'\u001b[39m\u001b[38;5;124mC12\u001b[39m\u001b[38;5;124m'\u001b[39m)\n\u001b[1;32m      3\u001b[0m plt\u001b[38;5;241m.\u001b[39mplot(AR_loop, c44_air, label\u001b[38;5;241m=\u001b[39m\u001b[38;5;124m'\u001b[39m\u001b[38;5;124mC44\u001b[39m\u001b[38;5;124m'\u001b[39m)\n",
      "\u001b[0;31mNameError\u001b[0m: name 'AR_loop' is not defined"
     ]
    }
   ],
   "source": [
    "plt.plot(AR_loop, c11_air, label='C11')\n",
    "plt.plot(AR_loop, c12_air, label='C12')\n",
    "plt.plot(AR_loop, c44_air, label='C44')\n",
    "plt.xscale(\"log\")\n",
    "plt.xlabel('AR')\n",
    "\n",
    "plt.ylabel('Cij effective, ГПа')\n",
    "plt.title ('AR fluid')\n",
    "# plt.xlim(10**-2, 10**0)\n",
    "\n",
    "plt.grid()\n",
    "plt.legend()\n"
   ]
  },
  {
   "cell_type": "markdown",
   "metadata": {
    "id": "YZu7HALhOXeZ"
   },
   "source": [
    "### Палетки с АО для скорость - пористость"
   ]
  },
  {
   "cell_type": "code",
   "execution_count": 43,
   "metadata": {
    "colab": {
     "base_uri": "https://localhost:8080/"
    },
    "id": "xInWquDPOza0",
    "outputId": "a9010140-2a4e-46ef-8836-81068471da07"
   },
   "outputs": [
    {
     "data": {
      "text/plain": [
       "array([0.  , 0.04, 0.08, 0.12, 0.16, 0.2 , 0.24, 0.28, 0.32, 0.36, 0.4 ])"
      ]
     },
     "execution_count": 43,
     "metadata": {},
     "output_type": "execute_result"
    }
   ],
   "source": [
    "np.linspace(0, 0.4, 11)"
   ]
  },
  {
   "cell_type": "code",
   "execution_count": 71,
   "metadata": {},
   "outputs": [
    {
     "data": {
      "text/plain": [
       "array([0.24, 0.28, 0.32, 0.36, 0.4 ])"
      ]
     },
     "execution_count": 71,
     "metadata": {},
     "output_type": "execute_result"
    }
   ],
   "source": [
    "np.linspace(0, 0.4, 11)[-5:]"
   ]
  },
  {
   "cell_type": "code",
   "execution_count": 104,
   "metadata": {
    "colab": {
     "base_uri": "https://localhost:8080/"
    },
    "id": "jMu7PKuROlic",
    "outputId": "63839aae-84e8-4fbd-b1da-0dd1e3e3f31c"
   },
   "outputs": [
    {
     "name": "stdout",
     "output_type": "stream",
     "text": [
      "[0.   0.04 0.08 0.12 0.16 0.2  0.24 0.28 0.32 0.36 0.4 ]\n",
      "0.0 101.83339900000001 44.584649 28.624375\n",
      "0.04 85.07621948728583 38.02435416316608 23.525932662059862\n",
      "0.08 70.51778463792769 32.29567634073538 19.11105414859614\n",
      "0.12 57.9324488668091 27.374851758876286 15.278798553966412\n",
      "0.16 47.131135968304775 23.219876873819814 11.955629547242483\n",
      "0.2 37.94787660368922 19.769427984847066 9.089224309421072\n",
      "0.24 30.232219022174736 16.94647399087324 6.642872515650753\n",
      "0.28 23.856039475470116 14.665536657654823 4.595251408907651\n",
      "0.32 18.685609577575793 12.83557744073435 2.9250160684207196\n",
      "0.36 14.569659477865736 11.368308344860965 1.6006755665023877\n",
      "0.4 11.398005291012339 10.183980683182897 0.6070123039147214\n"
     ]
    }
   ],
   "source": [
    "c11_001, c12_001, c44_001 = [], [], []\n",
    "c11_01, c12_01, c44_01 = [], [], []\n",
    "c11_1, c12_1, c44_1 = [], [], []\n",
    "\n",
    "porosity_list = np.linspace(0, 0.4, 11)\n",
    "# porosity_list = np.linspace(0, 0.4, 11)[-5:]\n",
    "print(porosity_list)\n",
    "\n",
    "for porosity in porosity_list:\n",
    "#     C_mtrx = make_C_matrix(K_air_mtrx, Mu_air_mtrx)\n",
    "#     C_fluid = make_C_fluid(K_air, Mu_air)\n",
    "    \n",
    "    C_mtrx = make_C_matrix(K_water_mtrx, Mu_water_mtrx)\n",
    "    C_fluid = make_C_fluid(K_water, Mu_water)\n",
    "    \n",
    "    C_c = C_mtrx\n",
    "    \n",
    "#     print(K_water_mtrx, Mu_water_mtrx, K_water, Mu_water)\n",
    "\n",
    "# ### AR=0.01\n",
    "#   AR_inclusion = [100, 100, 1]\n",
    "#   eff_001 = self_consistent_GSA(C_mtrx, C_fluid, C_c, porosity, AR_inclusion)\n",
    "#   c11_001.append(eff_001[0,0])\n",
    "#   c12_001.append(eff_001[0,2])\n",
    "#   c44_001.append(eff_001[3,3])\n",
    "\n",
    "### AR=0.1\n",
    "    AR_inclusion = [10, 10, 1]\n",
    "    eff_01 = self_consistent_GSA(C_mtrx, C_fluid, C_c, porosity, AR_inclusion)\n",
    "    c11_01.append(eff_01[0,0])\n",
    "    c12_01.append(eff_01[0,2])\n",
    "    c44_01.append(eff_01[3,3])\n",
    "    print(porosity, eff_01[0,0], eff_01[0,2], eff_01[3,3] )\n",
    "\n",
    "#     ### AR=1\n",
    "#     AR_inclusion = [1, 1, 1]\n",
    "#     eff_1 = self_consistent_GSA(C_mtrx, C_fluid, C_c, porosity, AR_inclusion)\n",
    "#     c11_1.append(eff_1[0,0])\n",
    "#     c12_1.append(eff_1[0,2])\n",
    "#     c44_1.append(eff_1[3,3])\n",
    "#     print(porosity, eff_1[0,0], eff_1[0,2], eff_1[3,3] )"
   ]
  },
  {
   "cell_type": "code",
   "execution_count": 106,
   "metadata": {},
   "outputs": [
    {
     "data": {
      "text/plain": [
       "[101.83339900000001,\n",
       " 85.07621948728583,\n",
       " 70.51778463792769,\n",
       " 57.9324488668091,\n",
       " 47.131135968304775,\n",
       " 37.94787660368922,\n",
       " 30.232219022174736,\n",
       " 23.856039475470116,\n",
       " 18.685609577575793,\n",
       " 14.569659477865736,\n",
       " 11.398005291012339]"
      ]
     },
     "execution_count": 106,
     "metadata": {},
     "output_type": "execute_result"
    }
   ],
   "source": [
    "c11_01"
   ]
  },
  {
   "cell_type": "code",
   "execution_count": 107,
   "metadata": {},
   "outputs": [
    {
     "data": {
      "text/plain": [
       "[44.584649,\n",
       " 38.02435416316608,\n",
       " 32.29567634073538,\n",
       " 27.374851758876286,\n",
       " 23.219876873819814,\n",
       " 19.769427984847066,\n",
       " 16.94647399087324,\n",
       " 14.665536657654823,\n",
       " 12.83557744073435,\n",
       " 11.368308344860965,\n",
       " 10.183980683182897]"
      ]
     },
     "execution_count": 107,
     "metadata": {},
     "output_type": "execute_result"
    }
   ],
   "source": [
    "c12_01"
   ]
  },
  {
   "cell_type": "code",
   "execution_count": 109,
   "metadata": {},
   "outputs": [
    {
     "data": {
      "text/plain": [
       "[28.624375,\n",
       " 23.525932662059862,\n",
       " 19.11105414859614,\n",
       " 15.278798553966412,\n",
       " 11.955629547242483,\n",
       " 9.089224309421072,\n",
       " 6.642872515650753,\n",
       " 4.595251408907651,\n",
       " 2.9250160684207196,\n",
       " 1.6006755665023877,\n",
       " 0.6070123039147214]"
      ]
     },
     "execution_count": 109,
     "metadata": {},
     "output_type": "execute_result"
    }
   ],
   "source": [
    "c44_01"
   ]
  },
  {
   "cell_type": "code",
   "execution_count": 110,
   "metadata": {},
   "outputs": [],
   "source": [
    "# # ### Water\n",
    "# c11_1 = [101.83339900000001,92.83869652501586,84.05294964762811,75.48154884984223,67.13134251202757,59.011365831084504,\\\n",
    "#  51.13526959996483,43.518233503338806,36.191438841924324,29.207305068872714,22.63926001801288]\n",
    "\n",
    "# c12_1 =[44.584649,39.95960373277442,35.5598877493716,31.390460743147578,27.456943518146616,23.7658139128385,\\\n",
    "#  20.325225282791827,17.14320302209669,14.232978921590751,11.61274200408233,9.302728933155866]\n",
    "\n",
    "# c44_1 = [28.624375,26.439546396120715,24.24653094912825,22.045544053347328,19.83719949694048,17.622775959123004,\\\n",
    "#  15.4050221585865,13.187515240621057,10.979229960166784,8.797281532395193,6.668265542428505]\n",
    "\n",
    "# c11_01 = [101.83339900000001,85.07621948728583,70.51778463792769,57.9324488668091,47.131135968304775,\\\n",
    "#  37.94787660368922,30.232219022174736,23.856039475470116,18.685609577575793,14.569659477865736,11.398005291012339]\n",
    "\n",
    "# c12_01 = [44.584649,38.02435416316608,32.29567634073538,27.374851758876286,23.219876873819814,\\\n",
    "#  19.769427984847066,16.94647399087324,14.665536657654823,12.83557744073435,11.368308344860965,10.183980683182897]\n",
    "\n",
    "# c44_01 = [28.624375,23.525932662059862,19.11105414859614,15.278798553966412,11.955629547242483,\\\n",
    "#  9.089224309421072,6.642872515650753,4.595251408907651,2.9250160684207196,1.6006755665023877,0.6070123039147214]\n",
    "\n",
    "\n",
    "# c11_001 = [101.83339900000001,59.14264780330049,39.73127505478017,29.195281303587514,24.206332860383327,\\\n",
    "#  20.533302612479872,17.681444558862644,15.401276293633913,13.537224005795414,11.985019891625749,10.67255246530666]\n",
    "\n",
    "# c12_001 = [44.584649,38.16862263944145,33.479740112552065,29.044141231503293,24.20033556756166,20.530680211146432,\\\n",
    "#  17.67854611149693,15.39975435610107,13.536863241853743,11.983334620190504,10.671925421731085]\n",
    "\n",
    "# c44_001 = [28.624375,10.487012581929514,3.1257674711140524,0.07557003604213071,0.0029986464112035536,0.0013112006667593441,\\\n",
    "#  0.0014492236830656847,0.0007609687663081907,0.00018038197107747784,0.000842635717644406,0.00031352178774861046]"
   ]
  },
  {
   "cell_type": "code",
   "execution_count": 195,
   "metadata": {},
   "outputs": [],
   "source": [
    "### Air\n",
    "\n",
    "c11_1 = [90.22375899999999, 82.13597398295575, 74.18376407860785, 66.37099620198352, 58.701789619483314, 51.18052439252807, 43.81192664071915, \\\n",
    " 36.60021124681235, 29.555541976955634, 22.672379827010474, 15.97587541058327]\n",
    "\n",
    "c12_1 = [35.75872099999999, 31.873412790526235, 28.142505106283313, 24.5714837078384, 21.166270494715, 17.93327197366473,\\\n",
    " 14.879472091446795, 12.01214998242682, 9.34152173092628, 6.872471777820715, 4.622011198116806]\n",
    "\n",
    "c44_1 = [27.232519, 25.131280596214754, 23.020629486162267, 20.899756247072553, 18.767759562384153, 16.623626209431684,\\\n",
    " 14.466227274636179, 12.294030632192772,10.107010123014685,7.899954024594878,5.676932106233231]\n",
    "\n",
    "\n",
    "c11_01 = [90.22375899999999, 71.8667008657977, 55.58446046612388, 41.21174339229741, 28.599871754005434, 17.59053569728439,\\\n",
    "8.035806443110143, 0.41530791040984033, 0.027391252369747196, 0.0065676657761493985, 0.00777235918186352]\n",
    "\n",
    "c12_01 = [35.75872099999999, 28.09046056842363, 21.194515445344656, 15.147276710772298, 10.001708844693887,\\\n",
    "5.771007891065225, 2.435917177711575, 0.11540506731772561, 0.007573790340733157, 0.0018165579829035557, 0.0021492876910576245]\n",
    "\n",
    "c44_01 = [27.232519, 21.88812014868703, 17.19497251038961, 13.032233340762556, 9.299081454655784,\\\n",
    "5.90976390310958, 2.799944632699286, 0.14995142154605742, 0.009908731014507005, 0.0023755538966229225, 0.002811535745402948]\n",
    "\n",
    "\n",
    "c11_001 = [90.22375899999999, 4.748306444756991, 0.0062380338951195605,0.0007217492097617586,0.0004731640252439319,\\\n",
    " 0.0003124131909482511,0.0003899215963311086,0.00013900157069818866,0.00036055952833036447,0.00016343296218961588,\\\n",
    " 8.15649811703837e-05]\n",
    "\n",
    "c12_001 = [35.75872099999999,1.103123185072469,0.001339428808572755,0.0001655996546721346,0.00010923331168853302,\\\n",
    " 7.304687233858264e-05,8.790355903861996e-05,3.394916426984627e-05,7.994836767673492e-05,3.768957051589097e-05,1.9946368160425335e-05]\n",
    "\n",
    "c44_001 = [27.232519,1.8225916298422606,0.0024493025432734,0.0002780747775448119,0.00018196535677769956,\\\n",
    " 0.00011968315930483426,0.00015100901864624432,5.2526203214171203e-05,0.0001403055803268148,6.287169583686248e-05,\\\n",
    " 3.080930650497917e-05]"
   ]
  },
  {
   "cell_type": "code",
   "execution_count": 126,
   "metadata": {
    "id": "2zS02xUHSwQh"
   },
   "outputs": [],
   "source": [
    "### Пересчет компонент тензора (С11, С44) в скорость\n",
    "def modulus2velosity(RoMatrix, RoFluid, porosity, C11, C44): ### <-- K, mu to Vp, Vs\n",
    "    density = RoMatrix * (1-porosity) + RoFluid * porosity\n",
    "    Vp = np.sqrt(C11/ density)\n",
    "    Vs = np.sqrt(C44/density)\n",
    "    return Vp, Vs"
   ]
  },
  {
   "cell_type": "code",
   "execution_count": 127,
   "metadata": {
    "id": "gwp5i0fGRh49"
   },
   "outputs": [],
   "source": [
    "Vp_value_1, Vs_value_1 = [], []\n",
    "\n",
    "for porosity, C11, C44 in zip(porosity_list, c11_1, c44_1):\n",
    "    Vp, Vs = modulus2velosity(p_calcite, p_water, porosity, C11, C44)\n",
    "    Vp_value_1.append(Vp)\n",
    "    Vs_value_1.append(Vs)"
   ]
  },
  {
   "cell_type": "code",
   "execution_count": 128,
   "metadata": {},
   "outputs": [],
   "source": [
    "Vp_value_01, Vs_value_01 = [], []\n",
    "\n",
    "for porosity, C11, C44 in zip(porosity_list, c11_01, c44_01):\n",
    "    Vp, Vs = modulus2velosity(p_calcite, p_water, porosity, C11, C44)\n",
    "    Vp_value_01.append(Vp)\n",
    "    Vs_value_01.append(Vs)"
   ]
  },
  {
   "cell_type": "code",
   "execution_count": 129,
   "metadata": {},
   "outputs": [],
   "source": [
    "Vp_value_001, Vs_value_001 = [], []\n",
    "\n",
    "for porosity, C11, C44 in zip(porosity_list, c11_001, c44_001):\n",
    "    Vp, Vs = modulus2velosity(p_calcite, p_water, porosity, C11, C44)\n",
    "    Vp_value_001.append(Vp)\n",
    "    Vs_value_001.append(Vs)"
   ]
  },
  {
   "cell_type": "code",
   "execution_count": 173,
   "metadata": {
    "colab": {
     "base_uri": "https://localhost:8080/"
    },
    "id": "_zfmXeejR0dS",
    "outputId": "3abb9aeb-ea33-4d90-d01c-8a3849c01e34"
   },
   "outputs": [
    {
     "data": {
      "text/plain": [
       "<matplotlib.legend.Legend at 0x7fc49a0e7d60>"
      ]
     },
     "execution_count": 173,
     "metadata": {},
     "output_type": "execute_result"
    },
    {
     "data": {
      "image/png": "[encoded data removed]",
      "text/plain": [
       "<Figure size 576x432 with 2 Axes>"
      ]
     },
     "metadata": {
      "needs_background": "light"
     },
     "output_type": "display_data"
    }
   ],
   "source": [
    "### Air plot\n",
    "\n",
    "plt.figure(figsize=(8,6))\n",
    "\n",
    "### Vp-porosity\n",
    "porosity_list = np.linspace(0, 0.4, 11)\n",
    "\n",
    "    ### Vp\n",
    "plt.plot(porosity_list, Vp_value_1, 'r-', label='1')\n",
    "plt.plot(porosity_list, Vp_value_01, 'k-', label='0.1', linewidth=3)\n",
    "plt.plot(porosity_list, Vp_value_001, 'g-', label='0.01')\n",
    "\n",
    "colors = data['AR thermal']  # Assuming 'permeability' contains values to map colors\n",
    "plt.scatter(data['Porosity,%']/100, data['Vp air'], c=colors, cmap='coolwarm', marker='o')\n",
    "\n",
    "# plt.scatter(data['Porosity,%']/100, data['Vp air'], color='red')\n",
    "\n",
    "    ### Vs\n",
    "plt.plot(porosity_list, Vs_value_1,'r--')\n",
    "plt.plot(porosity_list, Vs_value_01, 'k--', linewidth=3)\n",
    "plt.plot(porosity_list, Vs_value_001, 'g--')\n",
    "plt.scatter(data['Porosity,%']/100, data['Vs air'], c=colors, cmap='coolwarm', marker='o')\n",
    "# plt.scatter(data['Porosity,%']/100, data['Vs air'], color='red', marker='o')\n",
    "\n",
    "\n",
    "cbar = plt.colorbar()\n",
    "cbar.set_label('AR thermal (3 fluids)', rotation=270, labelpad=20)\n",
    "\n",
    "plt.xlim(0, 0.3)\n",
    "plt.ylim(1, 6)\n",
    "\n",
    "plt.xlabel('Porosity, n/n', fontsize=14)  # Set x label and increase font size\n",
    "plt.ylabel('Vp Vs, km/s', fontsize=14)     # Set y label and increase font size\n",
    "plt.title('Pore fluid: air', fontsize=16)  # Set title and increase font size\n",
    "\n",
    "plt.xlim(0, 0.3)\n",
    "plt.ylim(1, 6)\n",
    "\n",
    "plt.xticks(fontsize=14)  # Increase x ticks font size\n",
    "plt.yticks(fontsize=14)  # Increase y ticks font size\n",
    "\n",
    "\n",
    "plt.grid()\n",
    "plt.legend(title='AR inclusion', fontsize=14)"
   ]
  },
  {
   "cell_type": "code",
   "execution_count": 204,
   "metadata": {},
   "outputs": [],
   "source": [
    "# ### Water\n",
    "c11_1 = [101.83339900000001,92.83869652501586,84.05294964762811,75.48154884984223,67.13134251202757,59.011365831084504,\\\n",
    " 51.13526959996483,43.518233503338806,36.191438841924324,29.207305068872714,22.63926001801288]\n",
    "\n",
    "c12_1 =[44.584649,39.95960373277442,35.5598877493716,31.390460743147578,27.456943518146616,23.7658139128385,\\\n",
    " 20.325225282791827,17.14320302209669,14.232978921590751,11.61274200408233,9.302728933155866]\n",
    "\n",
    "c44_1 = [28.624375,26.439546396120715,24.24653094912825,22.045544053347328,19.83719949694048,17.622775959123004,\\\n",
    " 15.4050221585865,13.187515240621057,10.979229960166784,8.797281532395193,6.668265542428505]\n",
    "\n",
    "c11_01 = [101.83339900000001,85.07621948728583,70.51778463792769,57.9324488668091,47.131135968304775,\\\n",
    " 37.94787660368922,30.232219022174736,23.856039475470116,18.685609577575793,14.569659477865736,11.398005291012339]\n",
    "\n",
    "c12_01 = [44.584649,38.02435416316608,32.29567634073538,27.374851758876286,23.219876873819814,\\\n",
    " 19.769427984847066,16.94647399087324,14.665536657654823,12.83557744073435,11.368308344860965,10.183980683182897]\n",
    "\n",
    "c44_01 = [28.624375,23.525932662059862,19.11105414859614,15.278798553966412,11.955629547242483,\\\n",
    " 9.089224309421072,6.642872515650753,4.595251408907651,2.9250160684207196,1.6006755665023877,0.6070123039147214]\n",
    "\n",
    "\n",
    "c11_001 = [101.83339900000001,59.14264780330049,39.73127505478017,29.195281303587514,24.206332860383327,\\\n",
    " 20.533302612479872,17.681444558862644,15.401276293633913,13.537224005795414,11.985019891625749,10.67255246530666]\n",
    "\n",
    "c12_001 = [44.584649,38.16862263944145,33.479740112552065,29.044141231503293,24.20033556756166,20.530680211146432,\\\n",
    " 17.67854611149693,15.39975435610107,13.536863241853743,11.983334620190504,10.671925421731085]\n",
    "\n",
    "c44_001 = [28.624375,10.487012581929514,3.1257674711140524,0.07557003604213071,0.0029986464112035536,0.0013112006667593441,\\\n",
    " 0.0014492236830656847,0.0007609687663081907,0.00018038197107747784,0.000842635717644406,0.00031352178774861046]"
   ]
  },
  {
   "cell_type": "code",
   "execution_count": 175,
   "metadata": {},
   "outputs": [],
   "source": [
    "### Пересчет компонент тензора (С11, С44) в скорость\n",
    "def modulus2velosity(RoMatrix, RoFluid, porosity, C11, C44): ### <-- K, mu to Vp, Vs\n",
    "    density = RoMatrix * (1-porosity) + RoFluid * porosity\n",
    "    Vp = np.sqrt(C11/ density)\n",
    "    Vs = np.sqrt(C44/density)\n",
    "    return Vp, Vs"
   ]
  },
  {
   "cell_type": "code",
   "execution_count": 176,
   "metadata": {},
   "outputs": [],
   "source": [
    "Vp_value_1, Vs_value_1 = [], []\n",
    "\n",
    "for porosity, C11, C44 in zip(porosity_list, c11_1, c44_1):\n",
    "    Vp, Vs = modulus2velosity(p_calcite, p_water, porosity, C11, C44)\n",
    "    Vp_value_1.append(Vp)\n",
    "    Vs_value_1.append(Vs)"
   ]
  },
  {
   "cell_type": "code",
   "execution_count": 177,
   "metadata": {},
   "outputs": [],
   "source": [
    "Vp_value_01, Vs_value_01 = [], []\n",
    "\n",
    "for porosity, C11, C44 in zip(porosity_list, c11_01, c44_01):\n",
    "    Vp, Vs = modulus2velosity(p_calcite, p_water, porosity, C11, C44)\n",
    "    Vp_value_01.append(Vp)\n",
    "    Vs_value_01.append(Vs)"
   ]
  },
  {
   "cell_type": "code",
   "execution_count": 178,
   "metadata": {},
   "outputs": [],
   "source": [
    "Vp_value_001, Vs_value_001 = [], []\n",
    "\n",
    "for porosity, C11, C44 in zip(porosity_list, c11_001, c44_001):\n",
    "    Vp, Vs = modulus2velosity(p_calcite, p_water, porosity, C11, C44)\n",
    "    Vp_value_001.append(Vp)\n",
    "    Vs_value_001.append(Vs)"
   ]
  },
  {
   "cell_type": "code",
   "execution_count": 180,
   "metadata": {},
   "outputs": [
    {
     "data": {
      "text/plain": [
       "<matplotlib.legend.Legend at 0x7fc49a1c8910>"
      ]
     },
     "execution_count": 180,
     "metadata": {},
     "output_type": "execute_result"
    },
    {
     "data": {
      "image/png": "[encoded data removed]",
      "text/plain": [
       "<Figure size 576x432 with 2 Axes>"
      ]
     },
     "metadata": {
      "needs_background": "light"
     },
     "output_type": "display_data"
    }
   ],
   "source": [
    "### Water plot\n",
    "\n",
    "plt.figure(figsize=(8,6))\n",
    "\n",
    "### Vp-porosity\n",
    "porosity_list = np.linspace(0, 0.4, 11)\n",
    "\n",
    "    ### Vp\n",
    "plt.plot(porosity_list, Vp_value_1, 'r-', label='1')\n",
    "plt.plot(porosity_list, Vp_value_01, 'k-', label='0.1', linewidth=3)\n",
    "plt.plot(porosity_list, Vp_value_001, 'g-', label='0.01')\n",
    "\n",
    "colors = data['AR thermal']  # Assuming 'permeability' contains values to map colors\n",
    "plt.scatter(data['Porosity,%']/100, data['Vp water'], c=colors, cmap='coolwarm', marker='o')\n",
    "\n",
    "# plt.scatter(data['Porosity,%']/100, data['Vp air'], color='red')\n",
    "\n",
    "    ### Vs\n",
    "plt.plot(porosity_list, Vs_value_1,'r--')\n",
    "plt.plot(porosity_list, Vs_value_01, 'k--', linewidth=3)\n",
    "plt.plot(porosity_list, Vs_value_001, 'g--')\n",
    "plt.scatter(data['Porosity,%']/100, data['Vs water'], c=colors, cmap='coolwarm', marker='o')\n",
    "# plt.scatter(data['Porosity,%']/100, data['Vs air'], color='red', marker='o')\n",
    "\n",
    "\n",
    "cbar = plt.colorbar()\n",
    "cbar.set_label('AR thermal (3 fluids)', rotation=270, labelpad=20)\n",
    "\n",
    "plt.xlim(0, 0.3)\n",
    "plt.ylim(1, 6)\n",
    "\n",
    "plt.xlabel('Porosity, n/n', fontsize=14)  # Set x label and increase font size\n",
    "plt.ylabel('Vp Vs, km/s', fontsize=14)     # Set y label and increase font size\n",
    "plt.title('Pore fluid: water', fontsize=16)  # Set title and increase font size\n",
    "\n",
    "plt.xlim(0, 0.3)\n",
    "plt.ylim(1.5, 6.5)\n",
    "\n",
    "plt.xticks(fontsize=14)  # Increase x ticks font size\n",
    "plt.yticks(fontsize=14)  # Increase y ticks font size\n",
    "\n",
    "\n",
    "plt.grid()\n",
    "plt.legend(title='AR inclusion', fontsize=14)"
   ]
  },
  {
   "cell_type": "markdown",
   "metadata": {},
   "source": [
    "### Сравнение с берриманом (АО 0.1)"
   ]
  },
  {
   "cell_type": "code",
   "execution_count": 214,
   "metadata": {},
   "outputs": [],
   "source": [
    "Vp_berr_water = [6.129596701215929, 5.514353494233723,4.987992781833181,4.5151111234443295,4.077595992384277,\\\n",
    "           3.665771098268981,3.2750726946820046,2.904804334686873,2.557677217538991,2.2393120406972673,1.9568573140584635]\n",
    "\n",
    "Vs_berr_water = [3.249751622640735,3.018823266067871,2.782835053189592,2.5424369150276784,\\\n",
    "                 2.2976401283359364,2.048336203231547,1.794676715125974,1.5373648937980375,1.2777254843077992,\\\n",
    " 1.017035034435466,0.753544718613626]\n",
    "\n",
    "\n",
    "Vp_berr_air = [5.769773210692863,5.055530258271884,4.426196900748177,3.8273383802169216,3.2209428519565035,\\\n",
    " 2.5633589241735595,1.7648421931172364,0.043186845010223886,0.006684628057306662,0.004677588182052284,0.0037665984227694166]\n",
    "\n",
    "Vs_berr_air = [3.1698533845755072,2.911681041351673,2.6356492581968545,2.33747555968083,\\\n",
    " 2.0073791050085044,1.62474722535072,1.134995760960801,0.02811728533943196,0.004311545775576835,\\\n",
    "               0.0029957580757544694,0.0024000075273252148]\n"
   ]
  },
  {
   "cell_type": "code",
   "execution_count": 215,
   "metadata": {},
   "outputs": [],
   "source": [
    "GSA_air_01_vp = [5.77,5.207246572572331,4.63190616891703,4.0350345952288915,3.4016760285730387,2.7005416581919905,\\\n",
    " 1.8482433333054946,0.4256003878813955,0.11074959202653553,0.054968730764543144,0.060635077874194344]\n",
    "\n",
    "GSA_air_01_vs = [3.17,2.873746931526685,2.576225049672033,2.2690611119904376,1.939683773387078,\\\n",
    " 1.5652957777800265,1.090985896540042,0.25573619965615924,0.0666108859459415,0.03305922218987137,0.036468618625701506]\n",
    "\n",
    "GSA_water_01_vp = [6.130000000000001,5.673343492145975,5.231698222685381,4.804616082232241,4.392482076420511,\\\n",
    " 3.9964144601012332,3.6182972174909898,3.2616896085481146,2.93065104753337,2.6284940866647055,2.36258019064007]\n",
    "\n",
    "GSA_water_01_vs = [3.25,2.9833788872044193,2.723552029563229,2.467415846649895,2.2122910847073713,\n",
    " 1.9558709330266912,1.6960833254882515,1.431522228441633,1.1595102791013774,0.871232286659041,0.5452188698320348]"
   ]
  },
  {
   "cell_type": "code",
   "execution_count": 237,
   "metadata": {},
   "outputs": [
    {
     "data": {
      "text/plain": [
       "<matplotlib.legend.Legend at 0x7fc4ac7640a0>"
      ]
     },
     "execution_count": 237,
     "metadata": {},
     "output_type": "execute_result"
    },
    {
     "data": {
      "image/png": "[encoded data removed]",
      "text/plain": [
       "<Figure size 576x432 with 2 Axes>"
      ]
     },
     "metadata": {
      "needs_background": "light"
     },
     "output_type": "display_data"
    }
   ],
   "source": [
    "### Air plot\n",
    "\n",
    "plt.figure(figsize=(8,6))\n",
    "\n",
    "### Vp-porosity\n",
    "porosity_list = np.linspace(0, 0.4, 11)\n",
    "\n",
    "    ### Vp\n",
    "plt.plot(porosity_list, GSA_air_01_vp, 'r-', label='GSA')\n",
    "plt.plot(porosity_list, Vp_berr_air , 'k-', label='Berryman', linewidth=3)\n",
    "\n",
    "\n",
    "colors = data['AR thermal']  # Assuming 'permeability' contains values to map colors\n",
    "plt.scatter(data['Porosity,%']/100, data['Vp air'], c=colors, cmap='coolwarm', marker='o')\n",
    "\n",
    "# plt.scatter(data['Porosity,%']/100, data['Vp air'], color='red')\n",
    "\n",
    "    ### Vs\n",
    "plt.plot(porosity_list, GSA_air_01_vs, 'r--')\n",
    "plt.plot(porosity_list, Vs_berr_air , 'k--')\n",
    "\n",
    "plt.scatter(data['Porosity,%']/100, data['Vs air'], c=colors, cmap='coolwarm', marker='o')\n",
    "# plt.scatter(data['Porosity,%']/100, data['Vs air'], color='red', marker='o')\n",
    "\n",
    "\n",
    "cbar = plt.colorbar()\n",
    "cbar.set_label('AR thermal (3 fluids)', rotation=270, labelpad=20)\n",
    "\n",
    "plt.xlim(0, 0.3)\n",
    "plt.ylim(1, 6)\n",
    "\n",
    "plt.xlabel('Porosity, n/n', fontsize=14)  # Set x label and increase font size\n",
    "plt.ylabel('Vp Vs, km/s', fontsize=14)     # Set y label and increase font size\n",
    "plt.title('Pore fluid: air', fontsize=16)  # Set title and increase font size\n",
    "\n",
    "plt.xlim(0, 0.3)\n",
    "plt.ylim(1, 6)\n",
    "\n",
    "plt.xticks(fontsize=14)  # Increase x ticks font size\n",
    "plt.yticks(fontsize=14)  # Increase y ticks font size\n",
    "\n",
    "\n",
    "plt.grid()\n",
    "plt.legend(title='Models', fontsize=14)"
   ]
  },
  {
   "cell_type": "code",
   "execution_count": 222,
   "metadata": {},
   "outputs": [
    {
     "data": {
      "text/plain": [
       "<matplotlib.legend.Legend at 0x7fc4abe0b1f0>"
      ]
     },
     "execution_count": 222,
     "metadata": {},
     "output_type": "execute_result"
    },
    {
     "data": {
      "image/png": "[encoded data removed]",
      "text/plain": [
       "<Figure size 576x432 with 2 Axes>"
      ]
     },
     "metadata": {
      "needs_background": "light"
     },
     "output_type": "display_data"
    }
   ],
   "source": [
    "### Air plot\n",
    "\n",
    "plt.figure(figsize=(8,6))\n",
    "\n",
    "### Vp-porosity\n",
    "porosity_list = np.linspace(0, 0.4, 11)\n",
    "\n",
    "    ### Vp\n",
    "plt.plot(porosity_list, GSA_water_01_vp, 'r-', label='GSA')\n",
    "plt.plot(porosity_list, Vp_berr_water , 'k-', label='Berryman', linewidth=3)\n",
    "\n",
    "\n",
    "colors = data['AR thermal']  # Assuming 'permeability' contains values to map colors\n",
    "plt.scatter(data['Porosity,%']/100, data['Vp water'], c=colors, cmap='coolwarm', marker='o')\n",
    "\n",
    "# plt.scatter(data['Porosity,%']/100, data['Vp air'], color='red')\n",
    "\n",
    "    ### Vs\n",
    "plt.plot(porosity_list, GSA_water_01_vs, 'r--')\n",
    "plt.plot(porosity_list, Vs_berr_water , 'k--')\n",
    "\n",
    "plt.scatter(data['Porosity,%']/100, data['Vs water'], c=colors, cmap='coolwarm', marker='o')\n",
    "# plt.scatter(data['Porosity,%']/100, data['Vs air'], color='red', marker='o')\n",
    "\n",
    "\n",
    "cbar = plt.colorbar()\n",
    "cbar.set_label('AR thermal (3 fluids)', rotation=270, labelpad=20)\n",
    "\n",
    "plt.xlim(0, 0.3)\n",
    "plt.ylim(1, 6)\n",
    "\n",
    "plt.xlabel('Porosity, n/n', fontsize=14)  # Set x label and increase font size\n",
    "plt.ylabel('Vp Vs, km/s', fontsize=14)     # Set y label and increase font size\n",
    "plt.title('Pore fluid: water', fontsize=16)  # Set title and increase font size\n",
    "\n",
    "plt.xlim(0, 0.3)\n",
    "plt.ylim(1.5, 6.5)\n",
    "\n",
    "plt.xticks(fontsize=14)  # Increase x ticks font size\n",
    "plt.yticks(fontsize=14)  # Increase y ticks font size\n",
    "\n",
    "\n",
    "plt.grid()\n",
    "plt.legend(title='Models', fontsize=14)"
   ]
  },
  {
   "cell_type": "code",
   "execution_count": 239,
   "metadata": {},
   "outputs": [
    {
     "data": {
      "text/plain": [
       "<matplotlib.legend.Legend at 0x7fc48b41bbe0>"
      ]
     },
     "execution_count": 239,
     "metadata": {},
     "output_type": "execute_result"
    },
    {
     "data": {
      "image/png": "[encoded data removed]",
      "text/plain": [
       "<Figure size 432x288 with 1 Axes>"
      ]
     },
     "metadata": {
      "needs_background": "light"
     },
     "output_type": "display_data"
    }
   ],
   "source": [
    "# Perform element-wise subtraction and division\n",
    "result_vp_air = [(berr - value)/value*100 for berr, value in zip(Vp_berr_air, GSA_air_01_vp)]\n",
    "result_vs_air = [(berr - value)/value*100 for berr, value in zip(Vs_berr_air, GSA_air_01_vs)]\n",
    "\n",
    "# Plot the result\n",
    "plt.plot(porosity_list, result_vp_air, label='Vp' )\n",
    "plt.plot(porosity_list, result_vs_air, label='Vs' )\n",
    "plt.xlim(0, 0.4)\n",
    "# plt.ylim(-20, 10)\n",
    "\n",
    "plt.xlabel('Porosity, n/n', fontsize=14)  # Set x label and increase font size\n",
    "plt.ylabel('Relative diffrence, %', fontsize=14)     # Set y label and increase font size\n",
    "plt.title('Relative Diff b/w methods:air', fontsize=16)  # Set title and increase font size\n",
    "plt.legend()"
   ]
  },
  {
   "cell_type": "code",
   "execution_count": 240,
   "metadata": {},
   "outputs": [
    {
     "data": {
      "text/plain": [
       "<matplotlib.legend.Legend at 0x7fc4a577bee0>"
      ]
     },
     "execution_count": 240,
     "metadata": {},
     "output_type": "execute_result"
    },
    {
     "data": {
      "image/png": "[encoded data removed]",
      "text/plain": [
       "<Figure size 432x288 with 1 Axes>"
      ]
     },
     "metadata": {
      "needs_background": "light"
     },
     "output_type": "display_data"
    }
   ],
   "source": [
    "# Perform element-wise subtraction and division\n",
    "result_vp_water = [(berr - value)/value*100 for berr, value in zip(Vp_berr_water, GSA_water_01_vp)]\n",
    "result_vs_water = [(berr - value)/value*100 for berr, value in zip(Vs_berr_water, GSA_water_01_vs)]\n",
    "\n",
    "# Plot the result\n",
    "plt.plot(porosity_list, result_vp_water, label='Vp' )\n",
    "plt.plot(porosity_list, result_vs_water, label='Vs' )\n",
    "plt.xlim(0, 0.4)\n",
    "\n",
    "plt.xlabel('Porosity, n/n', fontsize=14)  # Set x label and increase font size\n",
    "plt.ylabel('Relative diffrence, %', fontsize=14)     # Set y label and increase font size\n",
    "plt.title('Relative Diff b/w methods:air', fontsize=16)  # Set title and increase font size\n",
    "plt.legend()"
   ]
  },
  {
   "cell_type": "code",
   "execution_count": null,
   "metadata": {
    "id": "J1Ao5lpZqa_Z"
   },
   "outputs": [],
   "source": [
    "# data_air = {\n",
    "#     'C11': c11_air,\n",
    "#     'C12': c12_air,\n",
    "#     'C44': c44_air\n",
    "# }\n",
    "\n",
    "# inversion_air = pd.DataFrame(data_air)\n",
    "# inversion_air['Density (water)'] = data['Density (water)'][0]\n",
    "\n",
    "# density = 2.572247\n",
    "\n",
    "# Vp_exp, Vs_exp = data['Vp air'][0], data['Vs air'][0]\n",
    "\n",
    "# inversion_air['Vp air'] = inversion_air[['C11']].apply(lambda x: np.sqrt(x[0] / density), axis=1)\n",
    "# inversion_air['Vs air'] = inversion_air[['C44']].apply(lambda x: np.sqrt(x[0] / density), axis=1)\n",
    "# inversion_air['AR inclusion'] = 1/AR_loop\n",
    "# inversion_air['Diff Vp'] = inversion_air[['Vp air']].apply(lambda x: np.round(abs(x[0] - Vp_exp)/Vp_exp*100, 2), axis=1)\n",
    "# inversion_air['Diff Vs'] = inversion_air[['Vs air']].apply(lambda x: np.round(abs(x[0] - Vs_exp)/Vs_exp*100, 2), axis=1)\n",
    "\n",
    "# df_sorted_air = inversion_air.sort_values(by='Diff Vp')\n",
    "# df_sorted_air"
   ]
  },
  {
   "cell_type": "code",
   "execution_count": null,
   "metadata": {},
   "outputs": [],
   "source": []
  },
  {
   "cell_type": "code",
   "execution_count": null,
   "metadata": {
    "id": "m2E5JFh17lXz"
   },
   "outputs": [],
   "source": [
    "fluid_list = ['air', 'water', 'oil']\n",
    "\n",
    "for fluid in fluid_list:\n",
    "    data_fluid = {\n",
    "        f'C11_{fluid}': globals()[f'c11_{fluid}'],\n",
    "        f'C12_{fluid}': globals()[f'c12_{fluid}'],\n",
    "        f'C44_{fluid}': globals()[f'c44_{fluid}']\n",
    "    }\n",
    "    globals()[f'inversion_{fluid}'] = pd.DataFrame(data_fluid)\n",
    "\n",
    "    if fluid == 'air':\n",
    "      globals()[f'inversion_{fluid}'][f'Density ({fluid})'] = 2.33\n",
    "    else:\n",
    "      globals()[f'inversion_{fluid}'][f'Density ({fluid})'] = data['Density (water)'][idx]\n",
    "\n",
    "    # density = data['Density (water)'][idx]\n",
    "    density = 2.71\n",
    "    Vp_exp, Vs_exp = data[f'Vp {fluid}'][idx], data[f'Vs {fluid}'][idx]\n",
    "    porosity = data['Porosity,%'][idx]/100\n",
    "\n",
    "### Vp, Vs calculation\n",
    "    globals()[f'inversion_{fluid}'][f'Vp {fluid}'] = globals()[f'inversion_{fluid}'][[f'C11_{fluid}']].\\\n",
    "    apply(lambda x: np.sqrt(x[0] / density), axis=1)\n",
    "    globals()[f'inversion_{fluid}'][f'Vs {fluid}'] = globals()[f'inversion_{fluid}'][[f'C44_{fluid}']].\\\n",
    "    apply(lambda x: np.sqrt(x[0] / density), axis=1)\n",
    "### Aspect ratio\n",
    "    globals()[f'inversion_{fluid}']['AR inclusion'] = np.round(AR_loop, 3)\n",
    "### Crack density\n",
    "    ### Если crack density > 1, то в породе преобладают монетообразные трещины,\n",
    "    ### значит порода может потерять свою целостность. Следовательно, определять\n",
    "    ### эффективные свойства породы имеет смысл лишь при rack density < 1 .\n",
    "    globals()[f'inversion_{fluid}']['Crack density'] = np.round(3*porosity/(4*np.pi*AR_loop), 3)\n",
    "\n",
    "### Relative diffrence between calculated and experimntal velocities\n",
    "    globals()[f'inversion_{fluid}'][f'Diff Vp {fluid}'] = globals()[f'inversion_{fluid}'][[f'Vp {fluid}']]\\\n",
    "     .apply(lambda x: np.round((x[0] - Vp_exp)/Vp_exp*100, 2), axis=1)\n",
    "    globals()[f'inversion_{fluid}'][f'Diff Vs {fluid}'] =globals()[f'inversion_{fluid}'][[f'Vs {fluid}']]\\\n",
    "    .apply(lambda x: np.round((x[0] - Vs_exp)/Vs_exp*100, 2), axis=1)\n",
    "\n",
    "### Common relative diffrence between calculated and experimntal velocities\n",
    "    globals()[f'inversion_{fluid}'][f'Diff'] = globals()[f'inversion_{fluid}']\\\n",
    "    .apply(lambda row: np.round(np.sqrt((row[f'Diff Vp {fluid}'])**2 + (row[f'Diff Vs {fluid}'])**2), 2), axis=1)\n",
    "\n",
    "    ### sort values\n",
    "    globals()[f'inversion_{fluid}'] = globals()[f'inversion_{fluid}'].sort_values(by=f'Diff')\n"
   ]
  },
  {
   "cell_type": "code",
   "execution_count": null,
   "metadata": {
    "colab": {
     "base_uri": "https://localhost:8080/",
     "height": 170
    },
    "id": "w4t-cTVy7lak",
    "outputId": "ed097b56-c9b3-44b0-c8f6-23c7ea118af7"
   },
   "outputs": [
    {
     "data": {
      "application/vnd.google.colaboratory.intrinsic+json": {
       "summary": "{\n  \"name\": \"inversion_air\",\n  \"rows\": 4,\n  \"fields\": [\n    {\n      \"column\": \"C11_air\",\n      \"properties\": {\n        \"dtype\": \"number\",\n        \"std\": 13.05180308513804,\n        \"min\": 34.08963930177198,\n        \"max\": 62.14887684519465,\n        \"num_unique_values\": 4,\n        \"samples\": [\n          52.98079255915848,\n          62.14887684519465,\n          34.08963930177198\n        ],\n        \"semantic_type\": \"\",\n        \"description\": \"\"\n      }\n    },\n    {\n      \"column\": \"C12_air\",\n      \"properties\": {\n        \"dtype\": \"number\",\n        \"std\": 5.187465892276773,\n        \"min\": 12.212967165905301,\n        \"max\": 23.57973810862792,\n        \"num_unique_values\": 4,\n        \"samples\": [\n          20.55507549579635,\n          22.683897331077123,\n          12.212967165905301\n        ],\n        \"semantic_type\": \"\",\n        \"description\": \"\"\n      }\n    },\n    {\n      \"column\": \"C44_air\",\n      \"properties\": {\n        \"dtype\": \"number\",\n        \"std\": 3.9671146924866036,\n        \"min\": 10.938336067933342,\n        \"max\": 19.73248975705877,\n        \"num_unique_values\": 4,\n        \"samples\": [\n          16.212858531681054,\n          19.73248975705877,\n          10.938336067933342\n        ],\n        \"semantic_type\": \"\",\n        \"description\": \"\"\n      }\n    },\n    {\n      \"column\": \"Density (air)\",\n      \"properties\": {\n        \"dtype\": \"number\",\n        \"std\": 0.0,\n        \"min\": 2.33,\n        \"max\": 2.33,\n        \"num_unique_values\": 1,\n        \"samples\": [\n          2.33\n        ],\n        \"semantic_type\": \"\",\n        \"description\": \"\"\n      }\n    },\n    {\n      \"column\": \"Vp air\",\n      \"properties\": {\n        \"dtype\": \"number\",\n        \"std\": 0.5793721553069827,\n        \"min\": 3.546717171467272,\n        \"max\": 4.788858411722537,\n        \"num_unique_values\": 4,\n        \"samples\": [\n          4.421550401771875\n        ],\n        \"semantic_type\": \"\",\n        \"description\": \"\"\n      }\n    },\n    {\n      \"column\": \"Vs air\",\n      \"properties\": {\n        \"dtype\": \"number\",\n        \"std\": 0.3122968595356482,\n        \"min\": 2.0090511123242045,\n        \"max\": 2.6983998098817796,\n        \"num_unique_values\": 4,\n        \"samples\": [\n          2.4459363491792976\n        ],\n        \"semantic_type\": \"\",\n        \"description\": \"\"\n      }\n    },\n    {\n      \"column\": \"AR inclusion\",\n      \"properties\": {\n        \"dtype\": \"number\",\n        \"std\": 0.4001294582173791,\n        \"min\": 0.1,\n        \"max\": 1.0,\n        \"num_unique_values\": 4,\n        \"samples\": [\n          0.215\n        ],\n        \"semantic_type\": \"\",\n        \"description\": \"\"\n      }\n    },\n    {\n      \"column\": \"Crack density\",\n      \"properties\": {\n        \"dtype\": \"number\",\n        \"std\": 0.1355885319634371,\n        \"min\": 0.034,\n        \"max\": 0.339,\n        \"num_unique_values\": 4,\n        \"samples\": [\n          0.157\n        ],\n        \"semantic_type\": \"\",\n        \"description\": \"\"\n      }\n    },\n    {\n      \"column\": \"Diff Vp air\",\n      \"properties\": {\n        \"dtype\": \"number\",\n        \"std\": 17.877547370934305,\n        \"min\": 9.43,\n        \"max\": 47.76,\n        \"num_unique_values\": 4,\n        \"samples\": [\n          36.43\n        ],\n        \"semantic_type\": \"\",\n        \"description\": \"\"\n      }\n    },\n    {\n      \"column\": \"Diff Vs air\",\n      \"properties\": {\n        \"dtype\": \"number\",\n        \"std\": 16.99302307811454,\n        \"min\": 9.33,\n        \"max\": 46.84,\n        \"num_unique_values\": 4,\n        \"samples\": [\n          33.1\n        ],\n        \"semantic_type\": \"\",\n        \"description\": \"\"\n      }\n    },\n    {\n      \"column\": \"Diff\",\n      \"properties\": {\n        \"dtype\": \"number\",\n        \"std\": 24.648078356469632,\n        \"min\": 13.27,\n        \"max\": 66.9,\n        \"num_unique_values\": 4,\n        \"samples\": [\n          49.22\n        ],\n        \"semantic_type\": \"\",\n        \"description\": \"\"\n      }\n    }\n  ]\n}",
       "type": "dataframe",
       "variable_name": "inversion_air"
      },
      "text/html": [
       "\n",
       "  <div id=\"df-5ddf5985-e496-442a-ad90-84d79cfe96da\" class=\"colab-df-container\">\n",
       "    <div>\n",
       "<style scoped>\n",
       "    .dataframe tbody tr th:only-of-type {\n",
       "        vertical-align: middle;\n",
       "    }\n",
       "\n",
       "    .dataframe tbody tr th {\n",
       "        vertical-align: top;\n",
       "    }\n",
       "\n",
       "    .dataframe thead th {\n",
       "        text-align: right;\n",
       "    }\n",
       "</style>\n",
       "<table border=\"1\" class=\"dataframe\">\n",
       "  <thead>\n",
       "    <tr style=\"text-align: right;\">\n",
       "      <th></th>\n",
       "      <th>C11_air</th>\n",
       "      <th>C12_air</th>\n",
       "      <th>C44_air</th>\n",
       "      <th>Density (air)</th>\n",
       "      <th>Vp air</th>\n",
       "      <th>Vs air</th>\n",
       "      <th>AR inclusion</th>\n",
       "      <th>Crack density</th>\n",
       "      <th>Diff Vp air</th>\n",
       "      <th>Diff Vs air</th>\n",
       "      <th>Diff</th>\n",
       "    </tr>\n",
       "  </thead>\n",
       "  <tbody>\n",
       "    <tr>\n",
       "      <th>0</th>\n",
       "      <td>34.089639</td>\n",
       "      <td>12.212967</td>\n",
       "      <td>10.938336</td>\n",
       "      <td>2.33</td>\n",
       "      <td>3.546717</td>\n",
       "      <td>2.009051</td>\n",
       "      <td>0.100</td>\n",
       "      <td>0.339</td>\n",
       "      <td>9.43</td>\n",
       "      <td>9.33</td>\n",
       "      <td>13.27</td>\n",
       "    </tr>\n",
       "    <tr>\n",
       "      <th>1</th>\n",
       "      <td>52.980793</td>\n",
       "      <td>20.555075</td>\n",
       "      <td>16.212859</td>\n",
       "      <td>2.33</td>\n",
       "      <td>4.421550</td>\n",
       "      <td>2.445936</td>\n",
       "      <td>0.215</td>\n",
       "      <td>0.157</td>\n",
       "      <td>36.43</td>\n",
       "      <td>33.10</td>\n",
       "      <td>49.22</td>\n",
       "    </tr>\n",
       "    <tr>\n",
       "      <th>2</th>\n",
       "      <td>61.380614</td>\n",
       "      <td>23.579738</td>\n",
       "      <td>18.900438</td>\n",
       "      <td>2.33</td>\n",
       "      <td>4.759167</td>\n",
       "      <td>2.640896</td>\n",
       "      <td>0.464</td>\n",
       "      <td>0.073</td>\n",
       "      <td>46.84</td>\n",
       "      <td>43.71</td>\n",
       "      <td>64.07</td>\n",
       "    </tr>\n",
       "    <tr>\n",
       "      <th>3</th>\n",
       "      <td>62.148877</td>\n",
       "      <td>22.683897</td>\n",
       "      <td>19.732490</td>\n",
       "      <td>2.33</td>\n",
       "      <td>4.788858</td>\n",
       "      <td>2.698400</td>\n",
       "      <td>1.000</td>\n",
       "      <td>0.034</td>\n",
       "      <td>47.76</td>\n",
       "      <td>46.84</td>\n",
       "      <td>66.90</td>\n",
       "    </tr>\n",
       "  </tbody>\n",
       "</table>\n",
       "</div>\n",
       "    <div class=\"colab-df-buttons\">\n",
       "\n",
       "  <div class=\"colab-df-container\">\n",
       "    <button class=\"colab-df-convert\" onclick=\"convertToInteractive('df-5ddf5985-e496-442a-ad90-84d79cfe96da')\"\n",
       "            title=\"Convert this dataframe to an interactive table.\"\n",
       "            style=\"display:none;\">\n",
       "\n",
       "  <svg xmlns=\"http://www.w3.org/2000/svg\" height=\"24px\" viewBox=\"0 -960 960 960\">\n",
       "    <path d=\"M120-120v-720h720v720H120Zm60-500h600v-160H180v160Zm220 220h160v-160H400v160Zm0 220h160v-160H400v160ZM180-400h160v-160H180v160Zm440 0h160v-160H620v160ZM180-180h160v-160H180v160Zm440 0h160v-160H620v160Z\"/>\n",
       "  </svg>\n",
       "    </button>\n",
       "\n",
       "  <style>\n",
       "    .colab-df-container {\n",
       "      display:flex;\n",
       "      gap: 12px;\n",
       "    }\n",
       "\n",
       "    .colab-df-convert {\n",
       "      background-color: #E8F0FE;\n",
       "      border: none;\n",
       "      border-radius: 50%;\n",
       "      cursor: pointer;\n",
       "      display: none;\n",
       "      fill: #1967D2;\n",
       "      height: 32px;\n",
       "      padding: 0 0 0 0;\n",
       "      width: 32px;\n",
       "    }\n",
       "\n",
       "    .colab-df-convert:hover {\n",
       "      background-color: #E2EBFA;\n",
       "      box-shadow: 0px 1px 2px rgba(60, 64, 67, 0.3), 0px 1px 3px 1px rgba(60, 64, 67, 0.15);\n",
       "      fill: #174EA6;\n",
       "    }\n",
       "\n",
       "    .colab-df-buttons div {\n",
       "      margin-bottom: 4px;\n",
       "    }\n",
       "\n",
       "    [theme=dark] .colab-df-convert {\n",
       "      background-color: #3B4455;\n",
       "      fill: #D2E3FC;\n",
       "    }\n",
       "\n",
       "    [theme=dark] .colab-df-convert:hover {\n",
       "      background-color: #434B5C;\n",
       "      box-shadow: 0px 1px 3px 1px rgba(0, 0, 0, 0.15);\n",
       "      filter: drop-shadow(0px 1px 2px rgba(0, 0, 0, 0.3));\n",
       "      fill: #FFFFFF;\n",
       "    }\n",
       "  </style>\n",
       "\n",
       "    <script>\n",
       "      const buttonEl =\n",
       "        document.querySelector('#df-5ddf5985-e496-442a-ad90-84d79cfe96da button.colab-df-convert');\n",
       "      buttonEl.style.display =\n",
       "        google.colab.kernel.accessAllowed ? 'block' : 'none';\n",
       "\n",
       "      async function convertToInteractive(key) {\n",
       "        const element = document.querySelector('#df-5ddf5985-e496-442a-ad90-84d79cfe96da');\n",
       "        const dataTable =\n",
       "          await google.colab.kernel.invokeFunction('convertToInteractive',\n",
       "                                                    [key], {});\n",
       "        if (!dataTable) return;\n",
       "\n",
       "        const docLinkHtml = 'Like what you see? Visit the ' +\n",
       "          '<a target=\"_blank\" href=https://colab.research.google.com/notebooks/data_table.ipynb>data table notebook</a>'\n",
       "          + ' to learn more about interactive tables.';\n",
       "        element.innerHTML = '';\n",
       "        dataTable['output_type'] = 'display_data';\n",
       "        await google.colab.output.renderOutput(dataTable, element);\n",
       "        const docLink = document.createElement('div');\n",
       "        docLink.innerHTML = docLinkHtml;\n",
       "        element.appendChild(docLink);\n",
       "      }\n",
       "    </script>\n",
       "  </div>\n",
       "\n",
       "\n",
       "<div id=\"df-653c7186-0b9b-4c4a-8fe2-defbb0747ae9\">\n",
       "  <button class=\"colab-df-quickchart\" onclick=\"quickchart('df-653c7186-0b9b-4c4a-8fe2-defbb0747ae9')\"\n",
       "            title=\"Suggest charts\"\n",
       "            style=\"display:none;\">\n",
       "\n",
       "<svg xmlns=\"http://www.w3.org/2000/svg\" height=\"24px\"viewBox=\"0 0 24 24\"\n",
       "     width=\"24px\">\n",
       "    <g>\n",
       "        <path d=\"M19 3H5c-1.1 0-2 .9-2 2v14c0 1.1.9 2 2 2h14c1.1 0 2-.9 2-2V5c0-1.1-.9-2-2-2zM9 17H7v-7h2v7zm4 0h-2V7h2v10zm4 0h-2v-4h2v4z\"/>\n",
       "    </g>\n",
       "</svg>\n",
       "  </button>\n",
       "\n",
       "<style>\n",
       "  .colab-df-quickchart {\n",
       "      --bg-color: #E8F0FE;\n",
       "      --fill-color: #1967D2;\n",
       "      --hover-bg-color: #E2EBFA;\n",
       "      --hover-fill-color: #174EA6;\n",
       "      --disabled-fill-color: #AAA;\n",
       "      --disabled-bg-color: #DDD;\n",
       "  }\n",
       "\n",
       "  [theme=dark] .colab-df-quickchart {\n",
       "      --bg-color: #3B4455;\n",
       "      --fill-color: #D2E3FC;\n",
       "      --hover-bg-color: #434B5C;\n",
       "      --hover-fill-color: #FFFFFF;\n",
       "      --disabled-bg-color: #3B4455;\n",
       "      --disabled-fill-color: #666;\n",
       "  }\n",
       "\n",
       "  .colab-df-quickchart {\n",
       "    background-color: var(--bg-color);\n",
       "    border: none;\n",
       "    border-radius: 50%;\n",
       "    cursor: pointer;\n",
       "    display: none;\n",
       "    fill: var(--fill-color);\n",
       "    height: 32px;\n",
       "    padding: 0;\n",
       "    width: 32px;\n",
       "  }\n",
       "\n",
       "  .colab-df-quickchart:hover {\n",
       "    background-color: var(--hover-bg-color);\n",
       "    box-shadow: 0 1px 2px rgba(60, 64, 67, 0.3), 0 1px 3px 1px rgba(60, 64, 67, 0.15);\n",
       "    fill: var(--button-hover-fill-color);\n",
       "  }\n",
       "\n",
       "  .colab-df-quickchart-complete:disabled,\n",
       "  .colab-df-quickchart-complete:disabled:hover {\n",
       "    background-color: var(--disabled-bg-color);\n",
       "    fill: var(--disabled-fill-color);\n",
       "    box-shadow: none;\n",
       "  }\n",
       "\n",
       "  .colab-df-spinner {\n",
       "    border: 2px solid var(--fill-color);\n",
       "    border-color: transparent;\n",
       "    border-bottom-color: var(--fill-color);\n",
       "    animation:\n",
       "      spin 1s steps(1) infinite;\n",
       "  }\n",
       "\n",
       "  @keyframes spin {\n",
       "    0% {\n",
       "      border-color: transparent;\n",
       "      border-bottom-color: var(--fill-color);\n",
       "      border-left-color: var(--fill-color);\n",
       "    }\n",
       "    20% {\n",
       "      border-color: transparent;\n",
       "      border-left-color: var(--fill-color);\n",
       "      border-top-color: var(--fill-color);\n",
       "    }\n",
       "    30% {\n",
       "      border-color: transparent;\n",
       "      border-left-color: var(--fill-color);\n",
       "      border-top-color: var(--fill-color);\n",
       "      border-right-color: var(--fill-color);\n",
       "    }\n",
       "    40% {\n",
       "      border-color: transparent;\n",
       "      border-right-color: var(--fill-color);\n",
       "      border-top-color: var(--fill-color);\n",
       "    }\n",
       "    60% {\n",
       "      border-color: transparent;\n",
       "      border-right-color: var(--fill-color);\n",
       "    }\n",
       "    80% {\n",
       "      border-color: transparent;\n",
       "      border-right-color: var(--fill-color);\n",
       "      border-bottom-color: var(--fill-color);\n",
       "    }\n",
       "    90% {\n",
       "      border-color: transparent;\n",
       "      border-bottom-color: var(--fill-color);\n",
       "    }\n",
       "  }\n",
       "</style>\n",
       "\n",
       "  <script>\n",
       "    async function quickchart(key) {\n",
       "      const quickchartButtonEl =\n",
       "        document.querySelector('#' + key + ' button');\n",
       "      quickchartButtonEl.disabled = true;  // To prevent multiple clicks.\n",
       "      quickchartButtonEl.classList.add('colab-df-spinner');\n",
       "      try {\n",
       "        const charts = await google.colab.kernel.invokeFunction(\n",
       "            'suggestCharts', [key], {});\n",
       "      } catch (error) {\n",
       "        console.error('Error during call to suggestCharts:', error);\n",
       "      }\n",
       "      quickchartButtonEl.classList.remove('colab-df-spinner');\n",
       "      quickchartButtonEl.classList.add('colab-df-quickchart-complete');\n",
       "    }\n",
       "    (() => {\n",
       "      let quickchartButtonEl =\n",
       "        document.querySelector('#df-653c7186-0b9b-4c4a-8fe2-defbb0747ae9 button');\n",
       "      quickchartButtonEl.style.display =\n",
       "        google.colab.kernel.accessAllowed ? 'block' : 'none';\n",
       "    })();\n",
       "  </script>\n",
       "</div>\n",
       "    </div>\n",
       "  </div>\n"
      ],
      "text/plain": [
       "     C11_air    C12_air    C44_air  Density (air)    Vp air    Vs air  AR inclusion  \\\n",
       "0  34.089639  12.212967  10.938336           2.33  3.546717  2.009051         0.100   \n",
       "1  52.980793  20.555075  16.212859           2.33  4.421550  2.445936         0.215   \n",
       "2  61.380614  23.579738  18.900438           2.33  4.759167  2.640896         0.464   \n",
       "3  62.148877  22.683897  19.732490           2.33  4.788858  2.698400         1.000   \n",
       "\n",
       "   Crack density  Diff Vp air  Diff Vs air   Diff  \n",
       "0          0.339         9.43         9.33  13.27  \n",
       "1          0.157        36.43        33.10  49.22  \n",
       "2          0.073        46.84        43.71  64.07  \n",
       "3          0.034        47.76        46.84  66.90  "
      ]
     },
     "execution_count": 136,
     "metadata": {},
     "output_type": "execute_result"
    }
   ],
   "source": [
    "inversion_air"
   ]
  },
  {
   "cell_type": "markdown",
   "metadata": {
    "id": "VJwFb-VZdu4j"
   },
   "source": [
    "### Выбор лучшего решения по трем флюидам"
   ]
  },
  {
   "cell_type": "code",
   "execution_count": null,
   "metadata": {
    "id": "PtPcNjMab0oE"
   },
   "outputs": [],
   "source": [
    "error = 10"
   ]
  },
  {
   "cell_type": "code",
   "execution_count": null,
   "metadata": {
    "colab": {
     "base_uri": "https://localhost:8080/",
     "height": 80
    },
    "id": "OO3LyumCEqnP",
    "outputId": "939e47ba-d5b7-4387-bd74-bdf1a57ff31f"
   },
   "outputs": [
    {
     "data": {
      "application/vnd.google.colaboratory.intrinsic+json": {
       "summary": "{\n  \"name\": \"selected_row\",\n  \"rows\": 1,\n  \"fields\": [\n    {\n      \"column\": \"C11_air\",\n      \"properties\": {\n        \"dtype\": \"number\",\n        \"std\": null,\n        \"min\": 21.84810052162968,\n        \"max\": 21.84810052162968,\n        \"num_unique_values\": 1,\n        \"samples\": [\n          21.84810052162968\n        ],\n        \"semantic_type\": \"\",\n        \"description\": \"\"\n      }\n    },\n    {\n      \"column\": \"C12_air\",\n      \"properties\": {\n        \"dtype\": \"number\",\n        \"std\": null,\n        \"min\": 7.603625275824576,\n        \"max\": 7.603625275824576,\n        \"num_unique_values\": 1,\n        \"samples\": [\n          7.603625275824576\n        ],\n        \"semantic_type\": \"\",\n        \"description\": \"\"\n      }\n    },\n    {\n      \"column\": \"C44_air\",\n      \"properties\": {\n        \"dtype\": \"number\",\n        \"std\": null,\n        \"min\": 7.12223762290255,\n        \"max\": 7.12223762290255,\n        \"num_unique_values\": 1,\n        \"samples\": [\n          7.12223762290255\n        ],\n        \"semantic_type\": \"\",\n        \"description\": \"\"\n      }\n    },\n    {\n      \"column\": \"Density (air)\",\n      \"properties\": {\n        \"dtype\": \"number\",\n        \"std\": null,\n        \"min\": 2.36,\n        \"max\": 2.36,\n        \"num_unique_values\": 1,\n        \"samples\": [\n          2.36\n        ],\n        \"semantic_type\": \"\",\n        \"description\": \"\"\n      }\n    },\n    {\n      \"column\": \"Vp air\",\n      \"properties\": {\n        \"dtype\": \"number\",\n        \"std\": null,\n        \"min\": 3.0647549639877356,\n        \"max\": 3.0647549639877356,\n        \"num_unique_values\": 1,\n        \"samples\": [\n          3.0647549639877356\n        ],\n        \"semantic_type\": \"\",\n        \"description\": \"\"\n      }\n    },\n    {\n      \"column\": \"Vs air\",\n      \"properties\": {\n        \"dtype\": \"number\",\n        \"std\": null,\n        \"min\": 1.7498351816811735,\n        \"max\": 1.7498351816811735,\n        \"num_unique_values\": 1,\n        \"samples\": [\n          1.7498351816811735\n        ],\n        \"semantic_type\": \"\",\n        \"description\": \"\"\n      }\n    },\n    {\n      \"column\": \"AR inclusion\",\n      \"properties\": {\n        \"dtype\": \"number\",\n        \"std\": null,\n        \"min\": 0.032,\n        \"max\": 0.032,\n        \"num_unique_values\": 1,\n        \"samples\": [\n          0.032\n        ],\n        \"semantic_type\": \"\",\n        \"description\": \"\"\n      }\n    },\n    {\n      \"column\": \"Crack density\",\n      \"properties\": {\n        \"dtype\": \"number\",\n        \"std\": null,\n        \"min\": 1.071,\n        \"max\": 1.071,\n        \"num_unique_values\": 1,\n        \"samples\": [\n          1.071\n        ],\n        \"semantic_type\": \"\",\n        \"description\": \"\"\n      }\n    },\n    {\n      \"column\": \"Diff Vp air\",\n      \"properties\": {\n        \"dtype\": \"number\",\n        \"std\": null,\n        \"min\": 5.44,\n        \"max\": 5.44,\n        \"num_unique_values\": 1,\n        \"samples\": [\n          5.44\n        ],\n        \"semantic_type\": \"\",\n        \"description\": \"\"\n      }\n    },\n    {\n      \"column\": \"Diff Vs air\",\n      \"properties\": {\n        \"dtype\": \"number\",\n        \"std\": null,\n        \"min\": 4.78,\n        \"max\": 4.78,\n        \"num_unique_values\": 1,\n        \"samples\": [\n          4.78\n        ],\n        \"semantic_type\": \"\",\n        \"description\": \"\"\n      }\n    },\n    {\n      \"column\": \"Diff\",\n      \"properties\": {\n        \"dtype\": \"number\",\n        \"std\": null,\n        \"min\": 7.24,\n        \"max\": 7.24,\n        \"num_unique_values\": 1,\n        \"samples\": [\n          7.24\n        ],\n        \"semantic_type\": \"\",\n        \"description\": \"\"\n      }\n    }\n  ]\n}",
       "type": "dataframe",
       "variable_name": "selected_row"
      },
      "text/html": [
       "\n",
       "  <div id=\"df-6257a3a1-463e-4943-8fc4-0b299828432a\" class=\"colab-df-container\">\n",
       "    <div>\n",
       "<style scoped>\n",
       "    .dataframe tbody tr th:only-of-type {\n",
       "        vertical-align: middle;\n",
       "    }\n",
       "\n",
       "    .dataframe tbody tr th {\n",
       "        vertical-align: top;\n",
       "    }\n",
       "\n",
       "    .dataframe thead th {\n",
       "        text-align: right;\n",
       "    }\n",
       "</style>\n",
       "<table border=\"1\" class=\"dataframe\">\n",
       "  <thead>\n",
       "    <tr style=\"text-align: right;\">\n",
       "      <th></th>\n",
       "      <th>C11_air</th>\n",
       "      <th>C12_air</th>\n",
       "      <th>C44_air</th>\n",
       "      <th>Density (air)</th>\n",
       "      <th>Vp air</th>\n",
       "      <th>Vs air</th>\n",
       "      <th>AR inclusion</th>\n",
       "      <th>Crack density</th>\n",
       "      <th>Diff Vp air</th>\n",
       "      <th>Diff Vs air</th>\n",
       "      <th>Diff</th>\n",
       "    </tr>\n",
       "  </thead>\n",
       "  <tbody>\n",
       "    <tr>\n",
       "      <th>0</th>\n",
       "      <td>21.848101</td>\n",
       "      <td>7.603625</td>\n",
       "      <td>7.122238</td>\n",
       "      <td>2.36</td>\n",
       "      <td>3.064755</td>\n",
       "      <td>1.749835</td>\n",
       "      <td>0.032</td>\n",
       "      <td>1.071</td>\n",
       "      <td>5.44</td>\n",
       "      <td>4.78</td>\n",
       "      <td>7.24</td>\n",
       "    </tr>\n",
       "  </tbody>\n",
       "</table>\n",
       "</div>\n",
       "    <div class=\"colab-df-buttons\">\n",
       "\n",
       "  <div class=\"colab-df-container\">\n",
       "    <button class=\"colab-df-convert\" onclick=\"convertToInteractive('df-6257a3a1-463e-4943-8fc4-0b299828432a')\"\n",
       "            title=\"Convert this dataframe to an interactive table.\"\n",
       "            style=\"display:none;\">\n",
       "\n",
       "  <svg xmlns=\"http://www.w3.org/2000/svg\" height=\"24px\" viewBox=\"0 -960 960 960\">\n",
       "    <path d=\"M120-120v-720h720v720H120Zm60-500h600v-160H180v160Zm220 220h160v-160H400v160Zm0 220h160v-160H400v160ZM180-400h160v-160H180v160Zm440 0h160v-160H620v160ZM180-180h160v-160H180v160Zm440 0h160v-160H620v160Z\"/>\n",
       "  </svg>\n",
       "    </button>\n",
       "\n",
       "  <style>\n",
       "    .colab-df-container {\n",
       "      display:flex;\n",
       "      gap: 12px;\n",
       "    }\n",
       "\n",
       "    .colab-df-convert {\n",
       "      background-color: #E8F0FE;\n",
       "      border: none;\n",
       "      border-radius: 50%;\n",
       "      cursor: pointer;\n",
       "      display: none;\n",
       "      fill: #1967D2;\n",
       "      height: 32px;\n",
       "      padding: 0 0 0 0;\n",
       "      width: 32px;\n",
       "    }\n",
       "\n",
       "    .colab-df-convert:hover {\n",
       "      background-color: #E2EBFA;\n",
       "      box-shadow: 0px 1px 2px rgba(60, 64, 67, 0.3), 0px 1px 3px 1px rgba(60, 64, 67, 0.15);\n",
       "      fill: #174EA6;\n",
       "    }\n",
       "\n",
       "    .colab-df-buttons div {\n",
       "      margin-bottom: 4px;\n",
       "    }\n",
       "\n",
       "    [theme=dark] .colab-df-convert {\n",
       "      background-color: #3B4455;\n",
       "      fill: #D2E3FC;\n",
       "    }\n",
       "\n",
       "    [theme=dark] .colab-df-convert:hover {\n",
       "      background-color: #434B5C;\n",
       "      box-shadow: 0px 1px 3px 1px rgba(0, 0, 0, 0.15);\n",
       "      filter: drop-shadow(0px 1px 2px rgba(0, 0, 0, 0.3));\n",
       "      fill: #FFFFFF;\n",
       "    }\n",
       "  </style>\n",
       "\n",
       "    <script>\n",
       "      const buttonEl =\n",
       "        document.querySelector('#df-6257a3a1-463e-4943-8fc4-0b299828432a button.colab-df-convert');\n",
       "      buttonEl.style.display =\n",
       "        google.colab.kernel.accessAllowed ? 'block' : 'none';\n",
       "\n",
       "      async function convertToInteractive(key) {\n",
       "        const element = document.querySelector('#df-6257a3a1-463e-4943-8fc4-0b299828432a');\n",
       "        const dataTable =\n",
       "          await google.colab.kernel.invokeFunction('convertToInteractive',\n",
       "                                                    [key], {});\n",
       "        if (!dataTable) return;\n",
       "\n",
       "        const docLinkHtml = 'Like what you see? Visit the ' +\n",
       "          '<a target=\"_blank\" href=https://colab.research.google.com/notebooks/data_table.ipynb>data table notebook</a>'\n",
       "          + ' to learn more about interactive tables.';\n",
       "        element.innerHTML = '';\n",
       "        dataTable['output_type'] = 'display_data';\n",
       "        await google.colab.output.renderOutput(dataTable, element);\n",
       "        const docLink = document.createElement('div');\n",
       "        docLink.innerHTML = docLinkHtml;\n",
       "        element.appendChild(docLink);\n",
       "      }\n",
       "    </script>\n",
       "  </div>\n",
       "\n",
       "    </div>\n",
       "  </div>\n"
      ],
      "text/plain": [
       "     C11_air   C12_air   C44_air  Density (air)    Vp air    Vs air  AR inclusion  Crack density  \\\n",
       "0  21.848101  7.603625  7.122238           2.36  3.064755  1.749835         0.032          1.071   \n",
       "\n",
       "   Diff Vp air  Diff Vs air  Diff  \n",
       "0         5.44         4.78  7.24  "
      ]
     },
     "execution_count": 153,
     "metadata": {},
     "output_type": "execute_result"
    }
   ],
   "source": [
    "selected_row = inversion_air[(inversion_air['Diff Vp air'] <= error ) &\\\n",
    "                             (inversion_air['Diff Vs air'] <= error)]\n",
    "selected_row\n"
   ]
  },
  {
   "cell_type": "code",
   "execution_count": null,
   "metadata": {
    "colab": {
     "base_uri": "https://localhost:8080/",
     "height": 53
    },
    "id": "Ec-GR4QSNXVW",
    "outputId": "5fe5a9d0-0fc6-47a6-9501-d1806986783d"
   },
   "outputs": [
    {
     "data": {
      "application/vnd.google.colaboratory.intrinsic+json": {
       "summary": "{\n  \"name\": \"selected_row\",\n  \"rows\": 0,\n  \"fields\": [\n    {\n      \"column\": \"C11_water\",\n      \"properties\": {\n        \"dtype\": \"number\",\n        \"std\": null,\n        \"min\": null,\n        \"max\": null,\n        \"num_unique_values\": 0,\n        \"samples\": [],\n        \"semantic_type\": \"\",\n        \"description\": \"\"\n      }\n    },\n    {\n      \"column\": \"C12_water\",\n      \"properties\": {\n        \"dtype\": \"number\",\n        \"std\": null,\n        \"min\": null,\n        \"max\": null,\n        \"num_unique_values\": 0,\n        \"samples\": [],\n        \"semantic_type\": \"\",\n        \"description\": \"\"\n      }\n    },\n    {\n      \"column\": \"C44_water\",\n      \"properties\": {\n        \"dtype\": \"number\",\n        \"std\": null,\n        \"min\": null,\n        \"max\": null,\n        \"num_unique_values\": 0,\n        \"samples\": [],\n        \"semantic_type\": \"\",\n        \"description\": \"\"\n      }\n    },\n    {\n      \"column\": \"Density (water)\",\n      \"properties\": {\n        \"dtype\": \"number\",\n        \"std\": null,\n        \"min\": null,\n        \"max\": null,\n        \"num_unique_values\": 0,\n        \"samples\": [],\n        \"semantic_type\": \"\",\n        \"description\": \"\"\n      }\n    },\n    {\n      \"column\": \"Vp water\",\n      \"properties\": {\n        \"dtype\": \"number\",\n        \"std\": null,\n        \"min\": null,\n        \"max\": null,\n        \"num_unique_values\": 0,\n        \"samples\": [],\n        \"semantic_type\": \"\",\n        \"description\": \"\"\n      }\n    },\n    {\n      \"column\": \"Vs water\",\n      \"properties\": {\n        \"dtype\": \"number\",\n        \"std\": null,\n        \"min\": null,\n        \"max\": null,\n        \"num_unique_values\": 0,\n        \"samples\": [],\n        \"semantic_type\": \"\",\n        \"description\": \"\"\n      }\n    },\n    {\n      \"column\": \"AR inclusion\",\n      \"properties\": {\n        \"dtype\": \"number\",\n        \"std\": null,\n        \"min\": null,\n        \"max\": null,\n        \"num_unique_values\": 0,\n        \"samples\": [],\n        \"semantic_type\": \"\",\n        \"description\": \"\"\n      }\n    },\n    {\n      \"column\": \"Crack density\",\n      \"properties\": {\n        \"dtype\": \"number\",\n        \"std\": null,\n        \"min\": null,\n        \"max\": null,\n        \"num_unique_values\": 0,\n        \"samples\": [],\n        \"semantic_type\": \"\",\n        \"description\": \"\"\n      }\n    },\n    {\n      \"column\": \"Diff Vp water\",\n      \"properties\": {\n        \"dtype\": \"number\",\n        \"std\": null,\n        \"min\": null,\n        \"max\": null,\n        \"num_unique_values\": 0,\n        \"samples\": [],\n        \"semantic_type\": \"\",\n        \"description\": \"\"\n      }\n    },\n    {\n      \"column\": \"Diff Vs water\",\n      \"properties\": {\n        \"dtype\": \"number\",\n        \"std\": null,\n        \"min\": null,\n        \"max\": null,\n        \"num_unique_values\": 0,\n        \"samples\": [],\n        \"semantic_type\": \"\",\n        \"description\": \"\"\n      }\n    },\n    {\n      \"column\": \"Diff\",\n      \"properties\": {\n        \"dtype\": \"number\",\n        \"std\": null,\n        \"min\": null,\n        \"max\": null,\n        \"num_unique_values\": 0,\n        \"samples\": [],\n        \"semantic_type\": \"\",\n        \"description\": \"\"\n      }\n    }\n  ]\n}",
       "type": "dataframe",
       "variable_name": "selected_row"
      },
      "text/html": [
       "\n",
       "  <div id=\"df-8151da32-6240-47b6-af32-d6f1736c08fc\" class=\"colab-df-container\">\n",
       "    <div>\n",
       "<style scoped>\n",
       "    .dataframe tbody tr th:only-of-type {\n",
       "        vertical-align: middle;\n",
       "    }\n",
       "\n",
       "    .dataframe tbody tr th {\n",
       "        vertical-align: top;\n",
       "    }\n",
       "\n",
       "    .dataframe thead th {\n",
       "        text-align: right;\n",
       "    }\n",
       "</style>\n",
       "<table border=\"1\" class=\"dataframe\">\n",
       "  <thead>\n",
       "    <tr style=\"text-align: right;\">\n",
       "      <th></th>\n",
       "      <th>C11_water</th>\n",
       "      <th>C12_water</th>\n",
       "      <th>C44_water</th>\n",
       "      <th>Density (water)</th>\n",
       "      <th>Vp water</th>\n",
       "      <th>Vs water</th>\n",
       "      <th>AR inclusion</th>\n",
       "      <th>Crack density</th>\n",
       "      <th>Diff Vp water</th>\n",
       "      <th>Diff Vs water</th>\n",
       "      <th>Diff</th>\n",
       "    </tr>\n",
       "  </thead>\n",
       "  <tbody>\n",
       "  </tbody>\n",
       "</table>\n",
       "</div>\n",
       "    <div class=\"colab-df-buttons\">\n",
       "\n",
       "  <div class=\"colab-df-container\">\n",
       "    <button class=\"colab-df-convert\" onclick=\"convertToInteractive('df-8151da32-6240-47b6-af32-d6f1736c08fc')\"\n",
       "            title=\"Convert this dataframe to an interactive table.\"\n",
       "            style=\"display:none;\">\n",
       "\n",
       "  <svg xmlns=\"http://www.w3.org/2000/svg\" height=\"24px\" viewBox=\"0 -960 960 960\">\n",
       "    <path d=\"M120-120v-720h720v720H120Zm60-500h600v-160H180v160Zm220 220h160v-160H400v160Zm0 220h160v-160H400v160ZM180-400h160v-160H180v160Zm440 0h160v-160H620v160ZM180-180h160v-160H180v160Zm440 0h160v-160H620v160Z\"/>\n",
       "  </svg>\n",
       "    </button>\n",
       "\n",
       "  <style>\n",
       "    .colab-df-container {\n",
       "      display:flex;\n",
       "      gap: 12px;\n",
       "    }\n",
       "\n",
       "    .colab-df-convert {\n",
       "      background-color: #E8F0FE;\n",
       "      border: none;\n",
       "      border-radius: 50%;\n",
       "      cursor: pointer;\n",
       "      display: none;\n",
       "      fill: #1967D2;\n",
       "      height: 32px;\n",
       "      padding: 0 0 0 0;\n",
       "      width: 32px;\n",
       "    }\n",
       "\n",
       "    .colab-df-convert:hover {\n",
       "      background-color: #E2EBFA;\n",
       "      box-shadow: 0px 1px 2px rgba(60, 64, 67, 0.3), 0px 1px 3px 1px rgba(60, 64, 67, 0.15);\n",
       "      fill: #174EA6;\n",
       "    }\n",
       "\n",
       "    .colab-df-buttons div {\n",
       "      margin-bottom: 4px;\n",
       "    }\n",
       "\n",
       "    [theme=dark] .colab-df-convert {\n",
       "      background-color: #3B4455;\n",
       "      fill: #D2E3FC;\n",
       "    }\n",
       "\n",
       "    [theme=dark] .colab-df-convert:hover {\n",
       "      background-color: #434B5C;\n",
       "      box-shadow: 0px 1px 3px 1px rgba(0, 0, 0, 0.15);\n",
       "      filter: drop-shadow(0px 1px 2px rgba(0, 0, 0, 0.3));\n",
       "      fill: #FFFFFF;\n",
       "    }\n",
       "  </style>\n",
       "\n",
       "    <script>\n",
       "      const buttonEl =\n",
       "        document.querySelector('#df-8151da32-6240-47b6-af32-d6f1736c08fc button.colab-df-convert');\n",
       "      buttonEl.style.display =\n",
       "        google.colab.kernel.accessAllowed ? 'block' : 'none';\n",
       "\n",
       "      async function convertToInteractive(key) {\n",
       "        const element = document.querySelector('#df-8151da32-6240-47b6-af32-d6f1736c08fc');\n",
       "        const dataTable =\n",
       "          await google.colab.kernel.invokeFunction('convertToInteractive',\n",
       "                                                    [key], {});\n",
       "        if (!dataTable) return;\n",
       "\n",
       "        const docLinkHtml = 'Like what you see? Visit the ' +\n",
       "          '<a target=\"_blank\" href=https://colab.research.google.com/notebooks/data_table.ipynb>data table notebook</a>'\n",
       "          + ' to learn more about interactive tables.';\n",
       "        element.innerHTML = '';\n",
       "        dataTable['output_type'] = 'display_data';\n",
       "        await google.colab.output.renderOutput(dataTable, element);\n",
       "        const docLink = document.createElement('div');\n",
       "        docLink.innerHTML = docLinkHtml;\n",
       "        element.appendChild(docLink);\n",
       "      }\n",
       "    </script>\n",
       "  </div>\n",
       "\n",
       "    </div>\n",
       "  </div>\n"
      ],
      "text/plain": [
       "Empty DataFrame\n",
       "Columns: [C11_water, C12_water, C44_water, Density (water), Vp water, Vs water, AR inclusion, Crack density, Diff Vp water, Diff Vs water, Diff]\n",
       "Index: []"
      ]
     },
     "execution_count": 154,
     "metadata": {},
     "output_type": "execute_result"
    }
   ],
   "source": [
    "selected_row = inversion_water[(inversion_water['Diff Vp water'] <= error) &\\\n",
    "                               (inversion_water['Diff Vs water']  <= error)]\n",
    "selected_row"
   ]
  },
  {
   "cell_type": "code",
   "execution_count": null,
   "metadata": {
    "colab": {
     "base_uri": "https://localhost:8080/",
     "height": 53
    },
    "id": "OP_bxgFINcSX",
    "outputId": "2b6f2f89-c2de-484d-ca54-fa49539e93d0"
   },
   "outputs": [
    {
     "data": {
      "application/vnd.google.colaboratory.intrinsic+json": {
       "summary": "{\n  \"name\": \"selected_row\",\n  \"rows\": 0,\n  \"fields\": [\n    {\n      \"column\": \"C11_oil\",\n      \"properties\": {\n        \"dtype\": \"number\",\n        \"std\": null,\n        \"min\": null,\n        \"max\": null,\n        \"num_unique_values\": 0,\n        \"samples\": [],\n        \"semantic_type\": \"\",\n        \"description\": \"\"\n      }\n    },\n    {\n      \"column\": \"C12_oil\",\n      \"properties\": {\n        \"dtype\": \"number\",\n        \"std\": null,\n        \"min\": null,\n        \"max\": null,\n        \"num_unique_values\": 0,\n        \"samples\": [],\n        \"semantic_type\": \"\",\n        \"description\": \"\"\n      }\n    },\n    {\n      \"column\": \"C44_oil\",\n      \"properties\": {\n        \"dtype\": \"number\",\n        \"std\": null,\n        \"min\": null,\n        \"max\": null,\n        \"num_unique_values\": 0,\n        \"samples\": [],\n        \"semantic_type\": \"\",\n        \"description\": \"\"\n      }\n    },\n    {\n      \"column\": \"Density (oil)\",\n      \"properties\": {\n        \"dtype\": \"number\",\n        \"std\": null,\n        \"min\": null,\n        \"max\": null,\n        \"num_unique_values\": 0,\n        \"samples\": [],\n        \"semantic_type\": \"\",\n        \"description\": \"\"\n      }\n    },\n    {\n      \"column\": \"Vp oil\",\n      \"properties\": {\n        \"dtype\": \"number\",\n        \"std\": null,\n        \"min\": null,\n        \"max\": null,\n        \"num_unique_values\": 0,\n        \"samples\": [],\n        \"semantic_type\": \"\",\n        \"description\": \"\"\n      }\n    },\n    {\n      \"column\": \"Vs oil\",\n      \"properties\": {\n        \"dtype\": \"number\",\n        \"std\": null,\n        \"min\": null,\n        \"max\": null,\n        \"num_unique_values\": 0,\n        \"samples\": [],\n        \"semantic_type\": \"\",\n        \"description\": \"\"\n      }\n    },\n    {\n      \"column\": \"AR inclusion\",\n      \"properties\": {\n        \"dtype\": \"number\",\n        \"std\": null,\n        \"min\": null,\n        \"max\": null,\n        \"num_unique_values\": 0,\n        \"samples\": [],\n        \"semantic_type\": \"\",\n        \"description\": \"\"\n      }\n    },\n    {\n      \"column\": \"Crack density\",\n      \"properties\": {\n        \"dtype\": \"number\",\n        \"std\": null,\n        \"min\": null,\n        \"max\": null,\n        \"num_unique_values\": 0,\n        \"samples\": [],\n        \"semantic_type\": \"\",\n        \"description\": \"\"\n      }\n    },\n    {\n      \"column\": \"Diff Vp oil\",\n      \"properties\": {\n        \"dtype\": \"number\",\n        \"std\": null,\n        \"min\": null,\n        \"max\": null,\n        \"num_unique_values\": 0,\n        \"samples\": [],\n        \"semantic_type\": \"\",\n        \"description\": \"\"\n      }\n    },\n    {\n      \"column\": \"Diff Vs oil\",\n      \"properties\": {\n        \"dtype\": \"number\",\n        \"std\": null,\n        \"min\": null,\n        \"max\": null,\n        \"num_unique_values\": 0,\n        \"samples\": [],\n        \"semantic_type\": \"\",\n        \"description\": \"\"\n      }\n    },\n    {\n      \"column\": \"Diff\",\n      \"properties\": {\n        \"dtype\": \"number\",\n        \"std\": null,\n        \"min\": null,\n        \"max\": null,\n        \"num_unique_values\": 0,\n        \"samples\": [],\n        \"semantic_type\": \"\",\n        \"description\": \"\"\n      }\n    }\n  ]\n}",
       "type": "dataframe",
       "variable_name": "selected_row"
      },
      "text/html": [
       "\n",
       "  <div id=\"df-711e2d93-75c4-4fd2-8247-ce085718b3bb\" class=\"colab-df-container\">\n",
       "    <div>\n",
       "<style scoped>\n",
       "    .dataframe tbody tr th:only-of-type {\n",
       "        vertical-align: middle;\n",
       "    }\n",
       "\n",
       "    .dataframe tbody tr th {\n",
       "        vertical-align: top;\n",
       "    }\n",
       "\n",
       "    .dataframe thead th {\n",
       "        text-align: right;\n",
       "    }\n",
       "</style>\n",
       "<table border=\"1\" class=\"dataframe\">\n",
       "  <thead>\n",
       "    <tr style=\"text-align: right;\">\n",
       "      <th></th>\n",
       "      <th>C11_oil</th>\n",
       "      <th>C12_oil</th>\n",
       "      <th>C44_oil</th>\n",
       "      <th>Density (oil)</th>\n",
       "      <th>Vp oil</th>\n",
       "      <th>Vs oil</th>\n",
       "      <th>AR inclusion</th>\n",
       "      <th>Crack density</th>\n",
       "      <th>Diff Vp oil</th>\n",
       "      <th>Diff Vs oil</th>\n",
       "      <th>Diff</th>\n",
       "    </tr>\n",
       "  </thead>\n",
       "  <tbody>\n",
       "  </tbody>\n",
       "</table>\n",
       "</div>\n",
       "    <div class=\"colab-df-buttons\">\n",
       "\n",
       "  <div class=\"colab-df-container\">\n",
       "    <button class=\"colab-df-convert\" onclick=\"convertToInteractive('df-711e2d93-75c4-4fd2-8247-ce085718b3bb')\"\n",
       "            title=\"Convert this dataframe to an interactive table.\"\n",
       "            style=\"display:none;\">\n",
       "\n",
       "  <svg xmlns=\"http://www.w3.org/2000/svg\" height=\"24px\" viewBox=\"0 -960 960 960\">\n",
       "    <path d=\"M120-120v-720h720v720H120Zm60-500h600v-160H180v160Zm220 220h160v-160H400v160Zm0 220h160v-160H400v160ZM180-400h160v-160H180v160Zm440 0h160v-160H620v160ZM180-180h160v-160H180v160Zm440 0h160v-160H620v160Z\"/>\n",
       "  </svg>\n",
       "    </button>\n",
       "\n",
       "  <style>\n",
       "    .colab-df-container {\n",
       "      display:flex;\n",
       "      gap: 12px;\n",
       "    }\n",
       "\n",
       "    .colab-df-convert {\n",
       "      background-color: #E8F0FE;\n",
       "      border: none;\n",
       "      border-radius: 50%;\n",
       "      cursor: pointer;\n",
       "      display: none;\n",
       "      fill: #1967D2;\n",
       "      height: 32px;\n",
       "      padding: 0 0 0 0;\n",
       "      width: 32px;\n",
       "    }\n",
       "\n",
       "    .colab-df-convert:hover {\n",
       "      background-color: #E2EBFA;\n",
       "      box-shadow: 0px 1px 2px rgba(60, 64, 67, 0.3), 0px 1px 3px 1px rgba(60, 64, 67, 0.15);\n",
       "      fill: #174EA6;\n",
       "    }\n",
       "\n",
       "    .colab-df-buttons div {\n",
       "      margin-bottom: 4px;\n",
       "    }\n",
       "\n",
       "    [theme=dark] .colab-df-convert {\n",
       "      background-color: #3B4455;\n",
       "      fill: #D2E3FC;\n",
       "    }\n",
       "\n",
       "    [theme=dark] .colab-df-convert:hover {\n",
       "      background-color: #434B5C;\n",
       "      box-shadow: 0px 1px 3px 1px rgba(0, 0, 0, 0.15);\n",
       "      filter: drop-shadow(0px 1px 2px rgba(0, 0, 0, 0.3));\n",
       "      fill: #FFFFFF;\n",
       "    }\n",
       "  </style>\n",
       "\n",
       "    <script>\n",
       "      const buttonEl =\n",
       "        document.querySelector('#df-711e2d93-75c4-4fd2-8247-ce085718b3bb button.colab-df-convert');\n",
       "      buttonEl.style.display =\n",
       "        google.colab.kernel.accessAllowed ? 'block' : 'none';\n",
       "\n",
       "      async function convertToInteractive(key) {\n",
       "        const element = document.querySelector('#df-711e2d93-75c4-4fd2-8247-ce085718b3bb');\n",
       "        const dataTable =\n",
       "          await google.colab.kernel.invokeFunction('convertToInteractive',\n",
       "                                                    [key], {});\n",
       "        if (!dataTable) return;\n",
       "\n",
       "        const docLinkHtml = 'Like what you see? Visit the ' +\n",
       "          '<a target=\"_blank\" href=https://colab.research.google.com/notebooks/data_table.ipynb>data table notebook</a>'\n",
       "          + ' to learn more about interactive tables.';\n",
       "        element.innerHTML = '';\n",
       "        dataTable['output_type'] = 'display_data';\n",
       "        await google.colab.output.renderOutput(dataTable, element);\n",
       "        const docLink = document.createElement('div');\n",
       "        docLink.innerHTML = docLinkHtml;\n",
       "        element.appendChild(docLink);\n",
       "      }\n",
       "    </script>\n",
       "  </div>\n",
       "\n",
       "    </div>\n",
       "  </div>\n"
      ],
      "text/plain": [
       "Empty DataFrame\n",
       "Columns: [C11_oil, C12_oil, C44_oil, Density (oil), Vp oil, Vs oil, AR inclusion, Crack density, Diff Vp oil, Diff Vs oil, Diff]\n",
       "Index: []"
      ]
     },
     "execution_count": 155,
     "metadata": {},
     "output_type": "execute_result"
    }
   ],
   "source": [
    "selected_row = inversion_oil[(inversion_oil['Diff Vp oil'] <= error) &\\\n",
    "                             (inversion_oil['Diff Vs oil'] <= error)]\n",
    "selected_row"
   ]
  },
  {
   "cell_type": "code",
   "execution_count": null,
   "metadata": {
    "colab": {
     "base_uri": "https://localhost:8080/"
    },
    "id": "OcE2A59u4Wet",
    "outputId": "7c821361-5e89-429d-fd1d-020d503400b7"
   },
   "outputs": [
    {
     "name": "stdout",
     "output_type": "stream",
     "text": [
      "0.12 0.1\n"
     ]
    }
   ],
   "source": [
    "    ### AR value for thermal & electrical properties\n",
    "AR_thermal = np.round(data['AR thermal'][idx], 2)\n",
    "AR_electrical = np.round(data['AO electrical'][idx], 2)\n",
    "print(AR_thermal, AR_electrical )"
   ]
  },
  {
   "cell_type": "code",
   "execution_count": null,
   "metadata": {
    "id": "sgy5rFt2OT_8"
   },
   "outputs": [],
   "source": []
  },
  {
   "cell_type": "markdown",
   "metadata": {
    "id": "Smd-X0bN0pwG"
   },
   "source": [
    "### Direct problem"
   ]
  },
  {
   "cell_type": "code",
   "execution_count": null,
   "metadata": {
    "id": "mHVjoin305VV"
   },
   "outputs": [],
   "source": [
    "AR_thermal = data['AR thermal']"
   ]
  },
  {
   "cell_type": "code",
   "execution_count": null,
   "metadata": {
    "colab": {
     "base_uri": "https://localhost:8080/"
    },
    "id": "XPcjxl8S2HEd",
    "outputId": "bae80e51-4df9-4b07-8be3-6d2a3f4fcd74"
   },
   "outputs": [
    {
     "data": {
      "text/plain": [
       "0     0.066681\n",
       "1     0.134276\n",
       "2     0.131826\n",
       "3     0.122462\n",
       "4     0.081658\n",
       "5     0.144544\n",
       "6     0.149968\n",
       "7     0.120226\n",
       "8          NaN\n",
       "9     0.158489\n",
       "10    0.124738\n",
       "11    0.155597\n",
       "12    0.127057\n",
       "13    0.131826\n",
       "14    0.242103\n",
       "15    0.139316\n",
       "16    0.275423\n",
       "17    0.087902\n",
       "18    0.233346\n",
       "19    0.136773\n",
       "20    0.131826\n",
       "21    0.149968\n",
       "22    0.134276\n",
       "23    0.092897\n",
       "24    0.087902\n",
       "25    0.107647\n",
       "26    0.091201\n",
       "27    0.022491\n",
       "28    0.131826\n",
       "29    0.120226\n",
       "30    0.096383\n",
       "31    0.131826\n",
       "32    0.096383\n",
       "33    0.194089\n",
       "Name: AR thermal, dtype: float64"
      ]
     },
     "execution_count": 336,
     "metadata": {},
     "output_type": "execute_result"
    }
   ],
   "source": [
    "AR_thermal"
   ]
  },
  {
   "cell_type": "code",
   "execution_count": null,
   "metadata": {
    "colab": {
     "base_uri": "https://localhost:8080/",
     "height": 374
    },
    "id": "YwxLPDTU0uEF",
    "outputId": "95135f2f-e742-457b-e00c-3b41f1db784f"
   },
   "outputs": [
    {
     "ename": "ValueError",
     "evalue": "setting an array element with a sequence. The requested array has an inhomogeneous shape after 2 dimensions. The detected shape was (1, 3) + inhomogeneous part.",
     "output_type": "error",
     "traceback": [
      "\u001b[0;31m---------------------------------------------------------------------------\u001b[0m",
      "\u001b[0;31mValueError\u001b[0m                                Traceback (most recent call last)",
      "\u001b[0;32m<ipython-input-339-6136af4f7b82>\u001b[0m in \u001b[0;36m<cell line: 11>\u001b[0;34m()\u001b[0m\n\u001b[1;32m      9\u001b[0m \u001b[0;34m\u001b[0m\u001b[0m\n\u001b[1;32m     10\u001b[0m \u001b[0mar_inclusion\u001b[0m \u001b[0;34m=\u001b[0m \u001b[0mAR_thermal\u001b[0m \u001b[0;34m**\u001b[0m\u001b[0;34m-\u001b[0m\u001b[0;36m1\u001b[0m\u001b[0;34m\u001b[0m\u001b[0;34m\u001b[0m\u001b[0m\n\u001b[0;32m---> 11\u001b[0;31m \u001b[0mg_inclusion\u001b[0m\u001b[0;34m=\u001b[0m \u001b[0mtensor_g_fast\u001b[0m\u001b[0;34m(\u001b[0m\u001b[0mC_c\u001b[0m\u001b[0;34m,\u001b[0m \u001b[0;34m[\u001b[0m\u001b[0mar_inclusion\u001b[0m\u001b[0;34m,\u001b[0m \u001b[0mar_inclusion\u001b[0m\u001b[0;34m,\u001b[0m \u001b[0;36m1\u001b[0m\u001b[0;34m]\u001b[0m\u001b[0;34m)\u001b[0m\u001b[0;34m\u001b[0m\u001b[0;34m\u001b[0m\u001b[0m\n\u001b[0m\u001b[1;32m     12\u001b[0m \u001b[0;34m\u001b[0m\u001b[0m\n\u001b[1;32m     13\u001b[0m eff_air = effective_C_isotropic(g_matrix, g_inclusion, C_mtrx,\n",
      "\u001b[0;32m<ipython-input-259-4c5ab473897a>\u001b[0m in \u001b[0;36mtensor_g_fast\u001b[0;34m(C_c, AR)\u001b[0m\n\u001b[1;32m     39\u001b[0m                             func(θ, φ, (i, l, k, j)) + func(θ, φ, (j, l, k, i))) * np.sin(θ)\n\u001b[1;32m     40\u001b[0m \u001b[0;34m\u001b[0m\u001b[0m\n\u001b[0;32m---> 41\u001b[0;31m                         \u001b[0mintegral\u001b[0m\u001b[0;34m,\u001b[0m \u001b[0m_\u001b[0m \u001b[0;34m=\u001b[0m \u001b[0mintegrate\u001b[0m\u001b[0;34m.\u001b[0m\u001b[0mnquad\u001b[0m\u001b[0;34m(\u001b[0m\u001b[0mintegrand\u001b[0m\u001b[0;34m,\u001b[0m \u001b[0;34m[\u001b[0m\u001b[0;34m(\u001b[0m\u001b[0;36m0\u001b[0m\u001b[0;34m,\u001b[0m \u001b[0mpi\u001b[0m\u001b[0;34m)\u001b[0m\u001b[0;34m,\u001b[0m \u001b[0;34m(\u001b[0m\u001b[0;36m0\u001b[0m\u001b[0;34m,\u001b[0m \u001b[0;36m2\u001b[0m \u001b[0;34m*\u001b[0m \u001b[0mpi\u001b[0m\u001b[0;34m)\u001b[0m\u001b[0;34m]\u001b[0m\u001b[0;34m,\u001b[0m \u001b[0mopts\u001b[0m\u001b[0;34m=\u001b[0m\u001b[0mopts\u001b[0m\u001b[0;34m)\u001b[0m\u001b[0;34m\u001b[0m\u001b[0;34m\u001b[0m\u001b[0m\n\u001b[0m\u001b[1;32m     42\u001b[0m                         \u001b[0mintegrals\u001b[0m\u001b[0;34m[\u001b[0m\u001b[0mi\u001b[0m\u001b[0;34m,\u001b[0m \u001b[0mj\u001b[0m\u001b[0;34m,\u001b[0m \u001b[0mk\u001b[0m\u001b[0;34m,\u001b[0m \u001b[0ml\u001b[0m\u001b[0;34m]\u001b[0m \u001b[0;34m=\u001b[0m \u001b[0mintegral\u001b[0m \u001b[0;34m/\u001b[0m \u001b[0;34m(\u001b[0m\u001b[0;34m-\u001b[0m\u001b[0;36m16\u001b[0m \u001b[0;34m*\u001b[0m \u001b[0mpi\u001b[0m\u001b[0;34m)\u001b[0m\u001b[0;34m\u001b[0m\u001b[0;34m\u001b[0m\u001b[0m\n\u001b[1;32m     43\u001b[0m                     \u001b[0;32melse\u001b[0m\u001b[0;34m:\u001b[0m\u001b[0;34m\u001b[0m\u001b[0;34m\u001b[0m\u001b[0m\n",
      "\u001b[0;32m/usr/local/lib/python3.10/dist-packages/scipy/integrate/_quadpack_py.py\u001b[0m in \u001b[0;36mnquad\u001b[0;34m(func, ranges, args, opts, full_output)\u001b[0m\n\u001b[1;32m   1177\u001b[0m     \u001b[0;32melse\u001b[0m\u001b[0;34m:\u001b[0m\u001b[0;34m\u001b[0m\u001b[0;34m\u001b[0m\u001b[0m\n\u001b[1;32m   1178\u001b[0m         \u001b[0mopts\u001b[0m \u001b[0;34m=\u001b[0m \u001b[0;34m[\u001b[0m\u001b[0mopt\u001b[0m \u001b[0;32mif\u001b[0m \u001b[0mcallable\u001b[0m\u001b[0;34m(\u001b[0m\u001b[0mopt\u001b[0m\u001b[0;34m)\u001b[0m \u001b[0;32melse\u001b[0m \u001b[0m_OptFunc\u001b[0m\u001b[0;34m(\u001b[0m\u001b[0mopt\u001b[0m\u001b[0;34m)\u001b[0m \u001b[0;32mfor\u001b[0m \u001b[0mopt\u001b[0m \u001b[0;32min\u001b[0m \u001b[0mopts\u001b[0m\u001b[0;34m]\u001b[0m\u001b[0;34m\u001b[0m\u001b[0;34m\u001b[0m\u001b[0m\n\u001b[0;32m-> 1179\u001b[0;31m     \u001b[0;32mreturn\u001b[0m \u001b[0m_NQuad\u001b[0m\u001b[0;34m(\u001b[0m\u001b[0mfunc\u001b[0m\u001b[0;34m,\u001b[0m \u001b[0mranges\u001b[0m\u001b[0;34m,\u001b[0m \u001b[0mopts\u001b[0m\u001b[0;34m,\u001b[0m \u001b[0mfull_output\u001b[0m\u001b[0;34m)\u001b[0m\u001b[0;34m.\u001b[0m\u001b[0mintegrate\u001b[0m\u001b[0;34m(\u001b[0m\u001b[0;34m*\u001b[0m\u001b[0margs\u001b[0m\u001b[0;34m)\u001b[0m\u001b[0;34m\u001b[0m\u001b[0;34m\u001b[0m\u001b[0m\n\u001b[0m\u001b[1;32m   1180\u001b[0m \u001b[0;34m\u001b[0m\u001b[0m\n\u001b[1;32m   1181\u001b[0m \u001b[0;34m\u001b[0m\u001b[0m\n",
      "\u001b[0;32m/usr/local/lib/python3.10/dist-packages/scipy/integrate/_quadpack_py.py\u001b[0m in \u001b[0;36mintegrate\u001b[0;34m(self, *args, **kwargs)\u001b[0m\n\u001b[1;32m   1231\u001b[0m         \u001b[0;32melse\u001b[0m\u001b[0;34m:\u001b[0m\u001b[0;34m\u001b[0m\u001b[0;34m\u001b[0m\u001b[0m\n\u001b[1;32m   1232\u001b[0m             \u001b[0mf\u001b[0m \u001b[0;34m=\u001b[0m \u001b[0mpartial\u001b[0m\u001b[0;34m(\u001b[0m\u001b[0mself\u001b[0m\u001b[0;34m.\u001b[0m\u001b[0mintegrate\u001b[0m\u001b[0;34m,\u001b[0m \u001b[0mdepth\u001b[0m\u001b[0;34m=\u001b[0m\u001b[0mdepth\u001b[0m\u001b[0;34m+\u001b[0m\u001b[0;36m1\u001b[0m\u001b[0;34m)\u001b[0m\u001b[0;34m\u001b[0m\u001b[0;34m\u001b[0m\u001b[0m\n\u001b[0;32m-> 1233\u001b[0;31m         quad_r = quad(f, low, high, args=args, full_output=self.full_output,\n\u001b[0m\u001b[1;32m   1234\u001b[0m                       **opt)\n\u001b[1;32m   1235\u001b[0m         \u001b[0mvalue\u001b[0m \u001b[0;34m=\u001b[0m \u001b[0mquad_r\u001b[0m\u001b[0;34m[\u001b[0m\u001b[0;36m0\u001b[0m\u001b[0;34m]\u001b[0m\u001b[0;34m\u001b[0m\u001b[0;34m\u001b[0m\u001b[0m\n",
      "\u001b[0;32m/usr/local/lib/python3.10/dist-packages/scipy/integrate/_quadpack_py.py\u001b[0m in \u001b[0;36mquad\u001b[0;34m(func, a, b, args, full_output, epsabs, epsrel, limit, points, weight, wvar, wopts, maxp1, limlst, complex_func)\u001b[0m\n\u001b[1;32m    463\u001b[0m \u001b[0;34m\u001b[0m\u001b[0m\n\u001b[1;32m    464\u001b[0m     \u001b[0;32mif\u001b[0m \u001b[0mweight\u001b[0m \u001b[0;32mis\u001b[0m \u001b[0;32mNone\u001b[0m\u001b[0;34m:\u001b[0m\u001b[0;34m\u001b[0m\u001b[0;34m\u001b[0m\u001b[0m\n\u001b[0;32m--> 465\u001b[0;31m         retval = _quad(func, a, b, args, full_output, epsabs, epsrel, limit,\n\u001b[0m\u001b[1;32m    466\u001b[0m                        points)\n\u001b[1;32m    467\u001b[0m     \u001b[0;32melse\u001b[0m\u001b[0;34m:\u001b[0m\u001b[0;34m\u001b[0m\u001b[0;34m\u001b[0m\u001b[0m\n",
      "\u001b[0;32m/usr/local/lib/python3.10/dist-packages/scipy/integrate/_quadpack_py.py\u001b[0m in \u001b[0;36m_quad\u001b[0;34m(func, a, b, args, full_output, epsabs, epsrel, limit, points)\u001b[0m\n\u001b[1;32m    575\u001b[0m     \u001b[0;32mif\u001b[0m \u001b[0mpoints\u001b[0m \u001b[0;32mis\u001b[0m \u001b[0;32mNone\u001b[0m\u001b[0;34m:\u001b[0m\u001b[0;34m\u001b[0m\u001b[0;34m\u001b[0m\u001b[0m\n\u001b[1;32m    576\u001b[0m         \u001b[0;32mif\u001b[0m \u001b[0minfbounds\u001b[0m \u001b[0;34m==\u001b[0m \u001b[0;36m0\u001b[0m\u001b[0;34m:\u001b[0m\u001b[0;34m\u001b[0m\u001b[0;34m\u001b[0m\u001b[0m\n\u001b[0;32m--> 577\u001b[0;31m             \u001b[0;32mreturn\u001b[0m \u001b[0m_quadpack\u001b[0m\u001b[0;34m.\u001b[0m\u001b[0m_qagse\u001b[0m\u001b[0;34m(\u001b[0m\u001b[0mfunc\u001b[0m\u001b[0;34m,\u001b[0m\u001b[0ma\u001b[0m\u001b[0;34m,\u001b[0m\u001b[0mb\u001b[0m\u001b[0;34m,\u001b[0m\u001b[0margs\u001b[0m\u001b[0;34m,\u001b[0m\u001b[0mfull_output\u001b[0m\u001b[0;34m,\u001b[0m\u001b[0mepsabs\u001b[0m\u001b[0;34m,\u001b[0m\u001b[0mepsrel\u001b[0m\u001b[0;34m,\u001b[0m\u001b[0mlimit\u001b[0m\u001b[0;34m)\u001b[0m\u001b[0;34m\u001b[0m\u001b[0;34m\u001b[0m\u001b[0m\n\u001b[0m\u001b[1;32m    578\u001b[0m         \u001b[0;32melse\u001b[0m\u001b[0;34m:\u001b[0m\u001b[0;34m\u001b[0m\u001b[0;34m\u001b[0m\u001b[0m\n\u001b[1;32m    579\u001b[0m             \u001b[0;32mreturn\u001b[0m \u001b[0m_quadpack\u001b[0m\u001b[0;34m.\u001b[0m\u001b[0m_qagie\u001b[0m\u001b[0;34m(\u001b[0m\u001b[0mfunc\u001b[0m\u001b[0;34m,\u001b[0m\u001b[0mbound\u001b[0m\u001b[0;34m,\u001b[0m\u001b[0minfbounds\u001b[0m\u001b[0;34m,\u001b[0m\u001b[0margs\u001b[0m\u001b[0;34m,\u001b[0m\u001b[0mfull_output\u001b[0m\u001b[0;34m,\u001b[0m\u001b[0mepsabs\u001b[0m\u001b[0;34m,\u001b[0m\u001b[0mepsrel\u001b[0m\u001b[0;34m,\u001b[0m\u001b[0mlimit\u001b[0m\u001b[0;34m)\u001b[0m\u001b[0;34m\u001b[0m\u001b[0;34m\u001b[0m\u001b[0m\n",
      "\u001b[0;32m/usr/local/lib/python3.10/dist-packages/scipy/integrate/_quadpack_py.py\u001b[0m in \u001b[0;36mintegrate\u001b[0;34m(self, *args, **kwargs)\u001b[0m\n\u001b[1;32m   1231\u001b[0m         \u001b[0;32melse\u001b[0m\u001b[0;34m:\u001b[0m\u001b[0;34m\u001b[0m\u001b[0;34m\u001b[0m\u001b[0m\n\u001b[1;32m   1232\u001b[0m             \u001b[0mf\u001b[0m \u001b[0;34m=\u001b[0m \u001b[0mpartial\u001b[0m\u001b[0;34m(\u001b[0m\u001b[0mself\u001b[0m\u001b[0;34m.\u001b[0m\u001b[0mintegrate\u001b[0m\u001b[0;34m,\u001b[0m \u001b[0mdepth\u001b[0m\u001b[0;34m=\u001b[0m\u001b[0mdepth\u001b[0m\u001b[0;34m+\u001b[0m\u001b[0;36m1\u001b[0m\u001b[0;34m)\u001b[0m\u001b[0;34m\u001b[0m\u001b[0;34m\u001b[0m\u001b[0m\n\u001b[0;32m-> 1233\u001b[0;31m         quad_r = quad(f, low, high, args=args, full_output=self.full_output,\n\u001b[0m\u001b[1;32m   1234\u001b[0m                       **opt)\n\u001b[1;32m   1235\u001b[0m         \u001b[0mvalue\u001b[0m \u001b[0;34m=\u001b[0m \u001b[0mquad_r\u001b[0m\u001b[0;34m[\u001b[0m\u001b[0;36m0\u001b[0m\u001b[0;34m]\u001b[0m\u001b[0;34m\u001b[0m\u001b[0;34m\u001b[0m\u001b[0m\n",
      "\u001b[0;32m/usr/local/lib/python3.10/dist-packages/scipy/integrate/_quadpack_py.py\u001b[0m in \u001b[0;36mquad\u001b[0;34m(func, a, b, args, full_output, epsabs, epsrel, limit, points, weight, wvar, wopts, maxp1, limlst, complex_func)\u001b[0m\n\u001b[1;32m    463\u001b[0m \u001b[0;34m\u001b[0m\u001b[0m\n\u001b[1;32m    464\u001b[0m     \u001b[0;32mif\u001b[0m \u001b[0mweight\u001b[0m \u001b[0;32mis\u001b[0m \u001b[0;32mNone\u001b[0m\u001b[0;34m:\u001b[0m\u001b[0;34m\u001b[0m\u001b[0;34m\u001b[0m\u001b[0m\n\u001b[0;32m--> 465\u001b[0;31m         retval = _quad(func, a, b, args, full_output, epsabs, epsrel, limit,\n\u001b[0m\u001b[1;32m    466\u001b[0m                        points)\n\u001b[1;32m    467\u001b[0m     \u001b[0;32melse\u001b[0m\u001b[0;34m:\u001b[0m\u001b[0;34m\u001b[0m\u001b[0;34m\u001b[0m\u001b[0m\n",
      "\u001b[0;32m/usr/local/lib/python3.10/dist-packages/scipy/integrate/_quadpack_py.py\u001b[0m in \u001b[0;36m_quad\u001b[0;34m(func, a, b, args, full_output, epsabs, epsrel, limit, points)\u001b[0m\n\u001b[1;32m    575\u001b[0m     \u001b[0;32mif\u001b[0m \u001b[0mpoints\u001b[0m \u001b[0;32mis\u001b[0m \u001b[0;32mNone\u001b[0m\u001b[0;34m:\u001b[0m\u001b[0;34m\u001b[0m\u001b[0;34m\u001b[0m\u001b[0m\n\u001b[1;32m    576\u001b[0m         \u001b[0;32mif\u001b[0m \u001b[0minfbounds\u001b[0m \u001b[0;34m==\u001b[0m \u001b[0;36m0\u001b[0m\u001b[0;34m:\u001b[0m\u001b[0;34m\u001b[0m\u001b[0;34m\u001b[0m\u001b[0m\n\u001b[0;32m--> 577\u001b[0;31m             \u001b[0;32mreturn\u001b[0m \u001b[0m_quadpack\u001b[0m\u001b[0;34m.\u001b[0m\u001b[0m_qagse\u001b[0m\u001b[0;34m(\u001b[0m\u001b[0mfunc\u001b[0m\u001b[0;34m,\u001b[0m\u001b[0ma\u001b[0m\u001b[0;34m,\u001b[0m\u001b[0mb\u001b[0m\u001b[0;34m,\u001b[0m\u001b[0margs\u001b[0m\u001b[0;34m,\u001b[0m\u001b[0mfull_output\u001b[0m\u001b[0;34m,\u001b[0m\u001b[0mepsabs\u001b[0m\u001b[0;34m,\u001b[0m\u001b[0mepsrel\u001b[0m\u001b[0;34m,\u001b[0m\u001b[0mlimit\u001b[0m\u001b[0;34m)\u001b[0m\u001b[0;34m\u001b[0m\u001b[0;34m\u001b[0m\u001b[0m\n\u001b[0m\u001b[1;32m    578\u001b[0m         \u001b[0;32melse\u001b[0m\u001b[0;34m:\u001b[0m\u001b[0;34m\u001b[0m\u001b[0;34m\u001b[0m\u001b[0m\n\u001b[1;32m    579\u001b[0m             \u001b[0;32mreturn\u001b[0m \u001b[0m_quadpack\u001b[0m\u001b[0;34m.\u001b[0m\u001b[0m_qagie\u001b[0m\u001b[0;34m(\u001b[0m\u001b[0mfunc\u001b[0m\u001b[0;34m,\u001b[0m\u001b[0mbound\u001b[0m\u001b[0;34m,\u001b[0m\u001b[0minfbounds\u001b[0m\u001b[0;34m,\u001b[0m\u001b[0margs\u001b[0m\u001b[0;34m,\u001b[0m\u001b[0mfull_output\u001b[0m\u001b[0;34m,\u001b[0m\u001b[0mepsabs\u001b[0m\u001b[0;34m,\u001b[0m\u001b[0mepsrel\u001b[0m\u001b[0;34m,\u001b[0m\u001b[0mlimit\u001b[0m\u001b[0;34m)\u001b[0m\u001b[0;34m\u001b[0m\u001b[0;34m\u001b[0m\u001b[0m\n",
      "\u001b[0;32m<ipython-input-259-4c5ab473897a>\u001b[0m in \u001b[0;36m<lambda>\u001b[0;34m(θ, φ, i, j, k, l)\u001b[0m\n\u001b[1;32m     36\u001b[0m                     \u001b[0;32mif\u001b[0m \u001b[0;34m(\u001b[0m\u001b[0mi\u001b[0m\u001b[0;34m,\u001b[0m \u001b[0mj\u001b[0m\u001b[0;34m,\u001b[0m \u001b[0mk\u001b[0m\u001b[0;34m,\u001b[0m \u001b[0ml\u001b[0m\u001b[0;34m)\u001b[0m \u001b[0;32min\u001b[0m \u001b[0mvalid_combinations\u001b[0m\u001b[0;34m:\u001b[0m\u001b[0;34m\u001b[0m\u001b[0;34m\u001b[0m\u001b[0m\n\u001b[1;32m     37\u001b[0m                         integrand = lambda θ, φ, i=i, j=j, k=k, l=l: (\n\u001b[0;32m---> 38\u001b[0;31m                             \u001b[0mfunc\u001b[0m\u001b[0;34m(\u001b[0m\u001b[0mθ\u001b[0m\u001b[0;34m,\u001b[0m \u001b[0mφ\u001b[0m\u001b[0;34m,\u001b[0m \u001b[0;34m(\u001b[0m\u001b[0mi\u001b[0m\u001b[0;34m,\u001b[0m \u001b[0mk\u001b[0m\u001b[0;34m,\u001b[0m \u001b[0ml\u001b[0m\u001b[0;34m,\u001b[0m \u001b[0mj\u001b[0m\u001b[0;34m)\u001b[0m\u001b[0;34m)\u001b[0m \u001b[0;34m+\u001b[0m \u001b[0mfunc\u001b[0m\u001b[0;34m(\u001b[0m\u001b[0mθ\u001b[0m\u001b[0;34m,\u001b[0m \u001b[0mφ\u001b[0m\u001b[0;34m,\u001b[0m \u001b[0;34m(\u001b[0m\u001b[0mj\u001b[0m\u001b[0;34m,\u001b[0m \u001b[0mk\u001b[0m\u001b[0;34m,\u001b[0m \u001b[0ml\u001b[0m\u001b[0;34m,\u001b[0m \u001b[0mi\u001b[0m\u001b[0;34m)\u001b[0m\u001b[0;34m)\u001b[0m \u001b[0;34m+\u001b[0m\u001b[0;34m\u001b[0m\u001b[0;34m\u001b[0m\u001b[0m\n\u001b[0m\u001b[1;32m     39\u001b[0m                             func(θ, φ, (i, l, k, j)) + func(θ, φ, (j, l, k, i))) * np.sin(θ)\n\u001b[1;32m     40\u001b[0m \u001b[0;34m\u001b[0m\u001b[0m\n",
      "\u001b[0;32m<ipython-input-259-4c5ab473897a>\u001b[0m in \u001b[0;36mfunc\u001b[0;34m(θ, φ, position)\u001b[0m\n\u001b[1;32m      3\u001b[0m \u001b[0;34m\u001b[0m\u001b[0m\n\u001b[1;32m      4\u001b[0m     \u001b[0;32mdef\u001b[0m \u001b[0mfunc\u001b[0m\u001b[0;34m(\u001b[0m\u001b[0mθ\u001b[0m\u001b[0;34m,\u001b[0m \u001b[0mφ\u001b[0m\u001b[0;34m,\u001b[0m \u001b[0mposition\u001b[0m\u001b[0;34m)\u001b[0m\u001b[0;34m:\u001b[0m\u001b[0;34m\u001b[0m\u001b[0;34m\u001b[0m\u001b[0m\n\u001b[0;32m----> 5\u001b[0;31m       n_vector = np.array([[((np.sin(θ) * np.cos(φ))*AR[0]**-1),\n\u001b[0m\u001b[1;32m      6\u001b[0m                       \u001b[0;34m(\u001b[0m\u001b[0mnp\u001b[0m\u001b[0;34m.\u001b[0m\u001b[0msin\u001b[0m\u001b[0;34m(\u001b[0m\u001b[0mθ\u001b[0m\u001b[0;34m)\u001b[0m \u001b[0;34m*\u001b[0m \u001b[0mnp\u001b[0m\u001b[0;34m.\u001b[0m\u001b[0msin\u001b[0m\u001b[0;34m(\u001b[0m\u001b[0mφ\u001b[0m\u001b[0;34m)\u001b[0m\u001b[0;34m)\u001b[0m\u001b[0;34m*\u001b[0m\u001b[0mAR\u001b[0m\u001b[0;34m[\u001b[0m\u001b[0;36m1\u001b[0m\u001b[0;34m]\u001b[0m\u001b[0;34m**\u001b[0m\u001b[0;34m-\u001b[0m\u001b[0;36m1\u001b[0m\u001b[0;34m,\u001b[0m\u001b[0;34m\u001b[0m\u001b[0;34m\u001b[0m\u001b[0m\n\u001b[1;32m      7\u001b[0m                       (np.cos(θ)*AR[2]**-1)]])\n",
      "\u001b[0;31mValueError\u001b[0m: setting an array element with a sequence. The requested array has an inhomogeneous shape after 2 dimensions. The detected shape was (1, 3) + inhomogeneous part."
     ]
    }
   ],
   "source": [
    "\n",
    "porosity = data['Porosity,%']/100\n",
    "\n",
    "density  = data['Density (water)']\n",
    "\n",
    "\n",
    "C_mtrx = make_C_matrix(K_calcite, mu_calcite)\n",
    "C_c = C_mtrx\n",
    "g_matrix = tensor_g_fast(C_c, [1, 1, 1])\n",
    "\n",
    "ar_inclusion = AR_thermal **-1\n",
    "g_inclusion= tensor_g_fast(C_c, [ar_inclusion, ar_inclusion, 1])\n",
    "\n",
    "eff_air = effective_C_isotropic(g_matrix, g_inclusion, C_mtrx,\n",
    "                                  make_C_fluid (K_air, Mu_air),\n",
    "                                  C_c, porosity)\n",
    "\n",
    "c11_air,c44_air  = eff_air[0,0], eff_air[3,3]\n",
    "vp_air = np.sqrt(c11_air / density)\n",
    "vs_air = np.sqrt(c44_air / density)"
   ]
  },
  {
   "cell_type": "code",
   "execution_count": null,
   "metadata": {
    "id": "x4DLMhIj3TDh"
   },
   "outputs": [],
   "source": []
  }
 ],
 "metadata": {
  "colab": {
   "include_colab_link": true,
   "provenance": []
  },
  "kernelspec": {
   "display_name": "Python 3 (ipykernel)",
   "language": "python",
   "name": "python3"
  },
  "language_info": {
   "codemirror_mode": {
    "name": "ipython",
    "version": 3
   },
   "file_extension": ".py",
   "mimetype": "text/x-python",
   "name": "python",
   "nbconvert_exporter": "python",
   "pygments_lexer": "ipython3",
   "version": "3.9.12"
  }
 },
 "nbformat": 4,
 "nbformat_minor": 1
}
