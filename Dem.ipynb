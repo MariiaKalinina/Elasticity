{
  "nbformat": 4,
  "nbformat_minor": 0,
  "metadata": {
    "colab": {
      "provenance": [],
      "authorship_tag": "ABX9TyNinorg9UDIfms+e07OenNk",
      "include_colab_link": true
    },
    "kernelspec": {
      "name": "python3",
      "display_name": "Python 3"
    },
    "language_info": {
      "name": "python"
    }
  },
  "cells": [
    {
      "cell_type": "markdown",
      "metadata": {
        "id": "view-in-github",
        "colab_type": "text"
      },
      "source": [
        "<a href=\"https://colab.research.google.com/github/MariiaKalinina/Elasticity/blob/main/Dem.ipynb\" target=\"_parent\"><img src=\"https://colab.research.google.com/assets/colab-badge.svg\" alt=\"Open In Colab\"/></a>"
      ]
    },
    {
      "cell_type": "code",
      "execution_count": null,
      "metadata": {
        "id": "ARcwggxznicY"
      },
      "outputs": [],
      "source": []
    },
    {
      "cell_type": "code",
      "execution_count": 1,
      "metadata": {
        "id": "WIq4LKfQrOna"
      },
      "outputs": [],
      "source": [
        "import numpy as np\n",
        "import torch\n",
        "from math import *\n",
        "from scipy import integrate\n",
        "from numpy import linalg as LA\n",
        "import matplotlib.pyplot as plt\n",
        "%matplotlib inline\n",
        "from numba import njit\n",
        "import numpy as np\n",
        "from scipy.integrate import dblquad\n",
        "\n",
        "import matplotlib.pylab as plt\n",
        "import seaborn as sns\n",
        "import pandas as pd\n",
        "from pathlib import Path\n",
        "import matplotlib.colors\n",
        "\n",
        "import matplotlib.pyplot as plt\n",
        "import matplotlib.font_manager as font_manager\n",
        "%matplotlib inline\n",
        "csfont = {'fontname':'Times New Roman'}"
      ]
    },
    {
      "cell_type": "code",
      "source": [
        "!pip install GitPython\n",
        "from git import Repo\n",
        "# !git clone https://github.com/MariiaKalinina/Elasticity.git\n",
        "!git clone https://github.com/fvizeus/PyDEM.git DEM"
      ],
      "metadata": {
        "colab": {
          "base_uri": "https://localhost:8080/"
        },
        "id": "ZoFqEYOJrPEt",
        "outputId": "f4d826a4-bbae-469d-a2c9-c105038eff90"
      },
      "execution_count": 3,
      "outputs": [
        {
          "output_type": "stream",
          "name": "stdout",
          "text": [
            "Requirement already satisfied: GitPython in /usr/local/lib/python3.10/dist-packages (3.1.43)\n",
            "Requirement already satisfied: gitdb<5,>=4.0.1 in /usr/local/lib/python3.10/dist-packages (from GitPython) (4.0.11)\n",
            "Requirement already satisfied: smmap<6,>=3.0.1 in /usr/local/lib/python3.10/dist-packages (from gitdb<5,>=4.0.1->GitPython) (5.0.1)\n",
            "Cloning into 'DEM'...\n",
            "remote: Enumerating objects: 49, done.\u001b[K\n",
            "remote: Total 49 (delta 0), reused 0 (delta 0), pack-reused 49\u001b[K\n",
            "Receiving objects: 100% (49/49), 225.04 KiB | 4.17 MiB/s, done.\n",
            "Resolving deltas: 100% (16/16), done.\n"
          ]
        }
      ]
    },
    {
      "cell_type": "code",
      "source": [
        "\"\"\"\n",
        "From Berryman 1980\n",
        "\"\"\"\n",
        "\n",
        "import numpy as np\n",
        "from scipy.optimize import fsolve\n",
        "\n",
        "def theta(alpha):\n",
        "    return alpha*(np.arccos(alpha) - alpha*np.sqrt(1.0 - alpha*alpha))/(1.0 - alpha*alpha)**(3.0/2.0)\n",
        "\n",
        "def f(alpha, theta):\n",
        "    return alpha*alpha*(3.0*theta - 2.0)/(1.0 - alpha*alpha)\n",
        "\n",
        "def PQ(A, B, R, theta, f):\n",
        "    F1 = 1.0 + A*(1.5*(f + theta) - R*(1.5*f + 2.5*theta - 4.0/3.0))\n",
        "    F2 = 1.0 + A*(1.0 + 1.5*(f + theta) - R*(1.5*f + 2.5*theta)) + B*(3.0 - 4.0*R) + A*(A + 3.0*B)*(1.5 - 2.0*R)*(f + theta - R*(f - theta + 2.0*theta*theta))\n",
        "    F3 = 1.0 + A*(1.0 - f - 1.5*theta + R*(f + theta))\n",
        "    F4 = 1.0 + (A/4.0)*(f + 3.0*theta - R*(f - theta))\n",
        "    F5 = A*(-f + R*(f + theta - 4.0/3.0)) + B*theta*(3.0 - 4.0*R)\n",
        "    F6 = 1.0 + A*(1.0 + f - R*(f + theta)) + B*(1.0 - theta)*(3.0 - 4.0*R)\n",
        "    F7 = 2.0 + (A/4.0)*(3.0*f + 9.0*theta - R*(3.0*f + 5.0*theta)) + B*theta*(3.0 - 4.0*R)\n",
        "    F8 = A*(1.0 - 2.0*R + (f/2.0)*(R - 1.0) + (theta/2.0)*(5.0*R - 3.0)) + B*(1.0 - theta)*(3.0 - 4.0*R)\n",
        "    F9 = A*((R - 1.0)*f - R*theta) + B*theta*(3.0 - 4.0*R)\n",
        "\n",
        "    P = 3.0*F1/F2\n",
        "    Q = 2.0/F3 + 1.0/F4 + (F4*F5 + F6*F7 - F8*F9)/(F2*F4)\n",
        "    return P, Q\n",
        "\n",
        "def KG(Km, Gm, Ki, Gi, ci, theta, f):\n",
        "    A = Gi/Gm - 1.0\n",
        "    B = (Ki/Km - Gi/Gm)/3.0\n",
        "    R = Gm/(Km + (4.0/3.0)*Gm)\n",
        "    Fm = (Gm/6.0)*(9.0*Km + 8.0*Gm)/(Km + 2.0*Gm)\n",
        "\n",
        "    P, Q = PQ(A, B, R, theta, f)\n",
        "\n",
        "    K = Km - (Km + (4.0/3.0)*Gm)*ci*(Km - Ki)*P/3.0/(Km + (4.0/3.0)*Gm + ci*(Km - Ki)*P/3.0)\n",
        "    G = Gm - (Gm + Fm)*ci*(Gm - Gi)*Q/5.0/(Gm + Fm + ci*(Gm - Gi)*Q/5.0)\n",
        "\n",
        "    return K, G\n",
        "\n",
        "def DEM(Km, Gm, Ki, Gi, alphai, phii, phi0=0.0, r=1000, phitol=1.0E-10, gamma=0.01):\n",
        "    phi = np.sum(phii)\n",
        "    fraci = phii/np.sum(phi)\n",
        "    ci = fraci*alphai/r\n",
        "    n = int(np.ceil((np.log(1.0-phi)-np.log(1.0-phi0))/np.sum(np.log(1.0-ci))))\n",
        "    m = len(alphai)\n",
        "\n",
        "    def func(r):\n",
        "        f = np.empty(m)\n",
        "        f[0] = np.log(alphai[0]/r[0]) + np.log(1.0 - phi0/phi) - np.log(1 - ((1.0 - phi)/(1.0 - phi0))**(1.0/n))\n",
        "        for j in range(1, m):\n",
        "            f[j] = f[j-1] + np.log(alphai[j]/r[j]) + np.log(r[j-1]/alphai[j-1] - fraci[j-1])\n",
        "        return f\n",
        "\n",
        "    def fprime(r):\n",
        "        jac = np.diag(-1.0/r)\n",
        "        for j in range(0, m-1):\n",
        "            jac[j+1:, j] = -1.0/r[j] + 1.0/(r[j] - fraci[j]*alphai[j])\n",
        "\n",
        "        return jac\n",
        "\n",
        "    r0 = r*np.ones(m)\n",
        "\n",
        "    ri = fsolve(func, r0, fprime=fprime, factor=0.1)\n",
        "\n",
        "    ci = fraci*alphai/ri\n",
        "\n",
        "    thetai = theta(alphai)\n",
        "    fi = f(alphai, thetai)\n",
        "\n",
        "    K = np.empty(n)\n",
        "    G = np.empty(n)\n",
        "    phi = np.empty(n)\n",
        "\n",
        "    K_ = Km\n",
        "    G_ = Gm\n",
        "    phi_ = phi0\n",
        "\n",
        "    for i in range(n):\n",
        "        dphi = ci[0]*(1.0 - phi_)\n",
        "        K_, G_ = KG(K_, G_, Ki[0], Gi[0], ci[0], thetai[0], fi[0])\n",
        "        phi_ += dphi\n",
        "        for j in range(1, m):\n",
        "            dphi *= ci[j]*(1.0 - ci[j-1])/ci[j-1]\n",
        "            K_, G_ = KG(K_, G_, Ki[j], Gi[j], ci[j], thetai[j], fi[j])\n",
        "            phi_ += dphi\n",
        "        K[i] = K_\n",
        "        G[i] = G_\n",
        "        phi[i] = phi_\n",
        "\n",
        "    return K, G, phi"
      ],
      "metadata": {
        "id": "4V8ZKIaunjPA"
      },
      "execution_count": 29,
      "outputs": []
    },
    {
      "cell_type": "code",
      "source": [
        "# Matrix properties\n",
        "Km = 77.0 # GPa\n",
        "Gm = 32.0 # GPa\n",
        "rhom = 2.71 # g/cm3\n",
        "\n",
        "# Fluid properties\n",
        "Kf = 2.2 # GPa\n",
        "rhof = 1.0 # g/cm3\n",
        "\n",
        "\n",
        "# Porosity\n",
        "phimax = 0.2\n",
        "\n",
        "# Inclusion properties\n",
        "# In this example a mixture of three inclusion types are used:\n",
        "# - 30% of 0.02 aspect ratio\n",
        "# - 50% of 0.15 aspect ratio\n",
        "# - 20% of 0.80 aspect ratio\n",
        "# alphas = np.array([0.01, 0.15, 0.8])\n",
        "# volumes = np.array([0.3, 0.5, 0.2])*phimax\n",
        "\n",
        "alphas = np.array([0.01])\n",
        "volumes = np.array([1])*phimax\n",
        "\n",
        "# Dry inclusions\n",
        "Kis = np.zeros(len(alphas), dtype=float)\n",
        "Gis = np.zeros(len(alphas), dtype=float)\n",
        "\n",
        "# The DEM function returns the bulk and shear moduli along with the porosity array to match them.\n",
        "# The porosity array is not regularly spaced. If you need so, you should reinterpolate.\n",
        "K, G, phi = DEM(Km, Gm, Kis, Gis, alphas, volumes)\n",
        "\n",
        "rho = (1.0 - phi)*rhom + phi*rhof\n",
        "# Ks = Gassmann.Ks(K, Km, Kf, phi)\n",
        "\n",
        "# Vp = np.sqrt((Ks + 4.0*G/3.0)/rho)\n",
        "# Vs = np.sqrt(G/rho)\n",
        "\n",
        "plt.plot(phi, K, 'b', label='K')\n",
        "plt.plot(phi, G, 'g', label='G')\n",
        "\n",
        "plt.legend()\n",
        "\n",
        "plt.show()"
      ],
      "metadata": {
        "colab": {
          "base_uri": "https://localhost:8080/",
          "height": 432
        },
        "id": "mnlgwvBGn4H4",
        "outputId": "37d0f572-1405-44ef-a541-276f1384f796"
      },
      "execution_count": 30,
      "outputs": [
        {
          "output_type": "display_data",
          "data": {
            "text/plain": [
              "<Figure size 640x480 with 1 Axes>"
            ],
            "image/png": "[encoded data removed]"
          },
          "metadata": {}
        }
      ]
    },
    {
      "cell_type": "code",
      "source": [
        "from scipy.optimize import fsolve\n",
        "from scipy.integrate import odeint"
      ],
      "metadata": {
        "id": "SOWmCItXrsJh"
      },
      "execution_count": 18,
      "outputs": []
    },
    {
      "cell_type": "code",
      "source": [
        "def PQ(Km,Gm, Ki,Gi, alpha):\n",
        "    \"\"\"compute geometric strain concentration factors P and Q for prolate and oblate spheroids according to Berymann (1980). See also PQ_vectorize\n",
        "\n",
        "    Parameters\n",
        "    ----------\n",
        "    Km : float\n",
        "        Bulk modulus of matrix phase\n",
        "    Gm : float\n",
        "        Shear modulus of matrix phase\n",
        "    Ki : float\n",
        "        Bulk modulus of inclusion phase\n",
        "    Gi : float\n",
        "        Shear modulus of inclusion phase\n",
        "    alpha : float\n",
        "        aspect ratio of the inclusion. Note that α <1 for oblate spheroids and α > 1 for prolate spheroids\n",
        "\n",
        "    Returns\n",
        "    -------\n",
        "    float\n",
        "        P,Q (unitless): geometric strain concentration factors\n",
        "    \"\"\"\n",
        "\n",
        "    if alpha==1:\n",
        "        P= (Km+4*Gm/3)/(Ki+4*Gm/3)\n",
        "        kesai= Gm/6 *(9*Km+8*Gm)/(Km+2*Gm)\n",
        "        Q= (Gm+kesai)/(Gi+kesai)\n",
        "\n",
        "    else:\n",
        "\n",
        "        if alpha<1:\n",
        "            theta= alpha/(1.0 - alpha**2)**(3.0/2.0) * (np.arccos(alpha) - alpha*np.sqrt(1.0 - alpha**2))\n",
        "        else:\n",
        "            theta= alpha/(alpha**2-1)**(3.0/2.0) * ( alpha*(alpha**2-1)**0.5 -np.cosh(alpha)**-1)\n",
        "        f= alpha**2*(3.0*theta - 2.0)/(1.0 - alpha**2)\n",
        "        A = Gi/Gm - 1.0\n",
        "        B = (Ki/Km - Gi/Gm)/3.0\n",
        "        R = Gm/(Km + (4.0/3.0)*Gm) #\n",
        "        F1 = 1.0 + A*(1.5*(f + theta) - R*(1.5*f + 2.5*theta - 4.0/3.0))\n",
        "        F2 = 1.0 + A*(1.0 + 1.5*(f + theta) - R*(1.5*f + 2.5*theta)) + B*(3.0 - 4.0*R) + A*(A + 3.0*B)*(1.5 - 2.0*R)*(f + theta - R*(f - theta +\n",
        "        2.0*theta**2))\n",
        "        F3 = 1.0 + A*(1.0 - f - 1.5*theta + R*(f + theta))\n",
        "        F4 = 1.0 + (A/4.0)*(f + 3.0*theta - R*(f - theta))\n",
        "        F5 = A*(-f + R*(f + theta - 4.0/3.0)) + B*theta*(3.0 - 4.0*R)\n",
        "        F6 = 1.0 + A*(1.0 + f - R*(f + theta)) + B*(1.0 - theta)*(3.0 - 4.0*R)\n",
        "        F7 = 2.0 + (A/4.0)*(3.0*f + 9.0*theta - R*(3.0*f + 5.0*theta)) + B*theta*(3.0 - 4.0*R)\n",
        "        F8 = A*(1.0 - 2.0*R + (f/2.0)*(R - 1.0) + (theta/2.0)*(5.0*R - 3.0)) + B*(1.0 - theta)*(3.0 - 4.0*R)\n",
        "        F9 = A*((R - 1.0)*f - R*theta) + B*theta*(3.0 - 4.0*R)\n",
        "        Tiijj = 3*F1/F2\n",
        "        Tijij = Tiijj/3 + 2/F3 + 1/F4 + (F4*F5 + F6*F7 - F8*F9)/(F2*F4)\n",
        "        P = Tiijj/3\n",
        "        Q = (Tijij - P)/5\n",
        "    return P, Q"
      ],
      "metadata": {
        "id": "rkW5Vas1n_8m"
      },
      "execution_count": 33,
      "outputs": []
    },
    {
      "cell_type": "code",
      "source": [
        "def DEM(y,t, params):\n",
        "    '''\n",
        "    ODE solver tutorial: https://physics.nyu.edu/pine/pymanual/html/chap9/chap9_scipy.html.\n",
        "    '''\n",
        "    K_eff,G_eff=y  # unpack current values of y\n",
        "    Gi,Ki,alpha = params # unpack parameters\n",
        "    P, Q= PQ(G_eff,K_eff,Gi,Ki, alpha)\n",
        "    derivs = [1/(1-t) * (Ki-K_eff) * P,  1/(1-t) * -G_eff * Q]\n",
        "    return derivs\n"
      ],
      "metadata": {
        "id": "bYMo__CArg3q"
      },
      "execution_count": 34,
      "outputs": []
    },
    {
      "cell_type": "code",
      "source": [
        "def Berryman_DEM(Km,Gm, Ki, Gi, alpha,phi):\n",
        "    \"\"\"Compute elastic moduli of two-phase composites by incrementally adding inclusions of one phase (phase 2) to the matrix phase using Berryman DEM theory\n",
        "\n",
        "    Parameters\n",
        "    ----------\n",
        "    Km : float\n",
        "        host mineral bulk modulus\n",
        "    Gm : float\n",
        "        host mineral shear modulus\n",
        "    Ki : float\n",
        "        bulk modulus of inclusion\n",
        "    Gi : float\n",
        "        shear modulus of inclusion\n",
        "    alpha : float\n",
        "        aspect ratio of the inclusion phase\n",
        "    phi : float\n",
        "        desired fraction occupied by the inclusion\n",
        "    \"\"\"\n",
        "    #Bundle parameters for ODE solver\n",
        "    params = [Gi,Ki,alpha]\n",
        "    #Bundle initial conditions for ODE solver\n",
        "    y0 = [Km,Gm]\n",
        "    # Make time array for solution\n",
        "    tStop = phi\n",
        "    tInc = 0.01\n",
        "    t = np.arange(0, tStop+tInc, tInc)\n",
        "    psoln = odeint(DEM, y0, t, args=(params,))\n",
        "    K_dry_dem=psoln[:,0]\n",
        "    G_dry_dem=psoln[:,1]\n",
        "    return K_dry_dem, G_dry_dem,t"
      ],
      "metadata": {
        "id": "B8N3ING3rl5N"
      },
      "execution_count": 35,
      "outputs": []
    },
    {
      "cell_type": "code",
      "source": [
        "Db, Kb = 1, 2.2 # brine density, bulk modulus\n",
        "Do, Ko = 0.8, 1.5 # oil density, bulk modulus\n",
        "Dg, Kg = 0.2, 0.06 # gas density, bulk modulus"
      ],
      "metadata": {
        "id": "IF5UYMoZr83E"
      },
      "execution_count": 36,
      "outputs": []
    },
    {
      "cell_type": "code",
      "source": [
        "Km = 77.0 # GPa\n",
        "Gm = 32.0 # GPa\n",
        "\n",
        "Ki, Gi = 0.06, 10**-6\n",
        "alpha = 0.01\n",
        "phi=0.2"
      ],
      "metadata": {
        "id": "eYocBAQDsREU"
      },
      "execution_count": 40,
      "outputs": []
    },
    {
      "cell_type": "code",
      "source": [
        "a, b, c = Berryman_DEM(Km,Gm, Ki, Gi, alpha,phi)"
      ],
      "metadata": {
        "id": "0UqoqmuusPVQ"
      },
      "execution_count": 41,
      "outputs": []
    },
    {
      "cell_type": "code",
      "source": [
        "plt.plot(c, a)\n",
        "plt.plot(c, b)"
      ],
      "metadata": {
        "id": "BQzJ-I4kuJFd",
        "outputId": "e72e27a0-3e00-42ab-a08f-5b37304899de",
        "colab": {
          "base_uri": "https://localhost:8080/",
          "height": 449
        }
      },
      "execution_count": 42,
      "outputs": [
        {
          "output_type": "execute_result",
          "data": {
            "text/plain": [
              "[<matplotlib.lines.Line2D at 0x7d6452f0c430>]"
            ]
          },
          "metadata": {},
          "execution_count": 42
        },
        {
          "output_type": "display_data",
          "data": {
            "text/plain": [
              "<Figure size 640x480 with 1 Axes>"
            ],
            "image/png": "[encoded data removed]"
          },
          "metadata": {}
        }
      ]
    },
    {
      "cell_type": "code",
      "source": [
        "plt.plot(c, a)\n",
        "plt.plot(c, b)"
      ],
      "metadata": {
        "id": "0OYAF_8SsrVI",
        "outputId": "f78393b0-02fc-4ac9-d6da-d3e65abee394",
        "colab": {
          "base_uri": "https://localhost:8080/",
          "height": 449
        }
      },
      "execution_count": 27,
      "outputs": [
        {
          "output_type": "execute_result",
          "data": {
            "text/plain": [
              "[<matplotlib.lines.Line2D at 0x7d6452f3a050>]"
            ]
          },
          "metadata": {},
          "execution_count": 27
        },
        {
          "output_type": "display_data",
          "data": {
            "text/plain": [
              "<Figure size 640x480 with 1 Axes>"
            ],
            "image/png": "[encoded data removed]"
          },
          "metadata": {}
        }
      ]
    },
    {
      "cell_type": "code",
      "source": [],
      "metadata": {
        "id": "Df18JZh5tIkH"
      },
      "execution_count": null,
      "outputs": []
    }
  ]
}