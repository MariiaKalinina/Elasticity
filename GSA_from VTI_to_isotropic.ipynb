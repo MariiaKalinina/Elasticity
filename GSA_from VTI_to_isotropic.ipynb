{
  "cells": [
    {
      "cell_type": "markdown",
      "metadata": {
        "id": "view-in-github",
        "colab_type": "text"
      },
      "source": [
        "<a href=\"https://colab.research.google.com/github/MariiaKalinina/Elasticity/blob/main/GSA_from%20VTI_to_isotropic.ipynb\" target=\"_parent\"><img src=\"https://colab.research.google.com/assets/colab-badge.svg\" alt=\"Open In Colab\"/></a>"
      ]
    },
    {
      "cell_type": "markdown",
      "metadata": {
        "id": "hRL55Teslj22"
      },
      "source": [
        "### GSA isotropic"
      ]
    },
    {
      "cell_type": "code",
      "execution_count": 1,
      "metadata": {
        "id": "8XbXBxsvllZi"
      },
      "outputs": [],
      "source": [
        "import numpy as np\n",
        "import torch\n",
        "from math import *\n",
        "from scipy import integrate\n",
        "from numpy import linalg as LA\n",
        "import matplotlib.pyplot as plt\n",
        "%matplotlib inline\n",
        "from numba import njit\n",
        "import numpy as np\n",
        "from scipy.integrate import dblquad"
      ]
    },
    {
      "cell_type": "markdown",
      "metadata": {
        "id": "bM82tEhfTziT"
      },
      "source": [
        "### Нотация Фойта - переход к матричной записи"
      ]
    },
    {
      "cell_type": "code",
      "execution_count": 2,
      "metadata": {
        "id": "yaqzXT0ClnXH"
      },
      "outputs": [],
      "source": [
        "\"\"\"Нотация Фойта - переход к матричной записи\"\"\"\n",
        "\n",
        "def tens2mat(cij_tens, compl=False):\n",
        "    \"\"\"Convert from full tensor to Voigt notation\n",
        "       Convert from the 3*3*3*3 elastic constants tensor to\n",
        "       to 6*6 matrix representation. Recoded from the Fortran\n",
        "       implementation in DRex. Use the optional\n",
        "       argument \"compl\" for the elastic compliance (not\n",
        "       stiffness) tensor to deal with the multiplication\n",
        "       of elements needed to keep the Voigt and full\n",
        "       notation consistant.\n",
        "    \"\"\"\n",
        "    t2m = np.array([[0,1,2,1,2,0],[0,1,2,2,0,1]])\n",
        "    cij_mat = np.zeros((6,6))\n",
        "    # Convert back to matrix form\n",
        "    for i in range(6):\n",
        "        for j in range(6):\n",
        "            cij_mat[i,j] = cij_tens[t2m[0,i],t2m[1,i],t2m[0,j],t2m[1,j]]\n",
        "#             cij_mat = toFixed(cij_mat[i,j], 1)\n",
        "#             print(cij_mat)\n",
        "\n",
        "\n",
        "    if compl:\n",
        "        cij_mat = cij_mat * np.array([[1.0, 1.0, 1.0, 2.0, 2.0, 2.0],\n",
        "                                      [1.0, 1.0, 1.0, 2.0, 2.0, 2.0],\n",
        "                                      [1.0, 1.0, 1.0, 2.0, 2.0, 2.0],\n",
        "                                      [2.0, 2.0, 2.0, 4.0, 4.0, 4.0],\n",
        "                                      [2.0, 2.0, 2.0, 4.0, 4.0, 4.0],\n",
        "                                      [2.0, 2.0, 2.0, 4.0, 4.0, 4.0]])\n",
        "\n",
        "    return cij_mat\n",
        "\n",
        "# print(tens2mat(C_c))\n",
        "# C_cmtrx = tens2mat(C_c)\n",
        "\n",
        "def mat2tens(cij_mat, compl=False): # cij_mat - надо задавать матрицу 6х6. compl = True - для податливости\n",
        "    \"\"\"Convert from Voigt to full tensor notation\n",
        "       Convert from the 6*6 elastic constants matrix to\n",
        "       the 3*3*3*3 tensor representation. Recoded from\n",
        "       the Fortran implementation in DRex. Use the optional\n",
        "       argument \"compl\" for the elastic compliance (not\n",
        "       stiffness) tensor to deal with the multiplication\n",
        "       of elements needed to keep the Voigt and full\n",
        "       notation consistant.\n",
        "    \"\"\"\n",
        "    cij_tens = np.empty((3,3,3,3))\n",
        "    m2t = np.array([[0,5,4],[5,1,3],[4,3,2]])\n",
        "\n",
        "    if compl:\n",
        "        cij_mat = cij_mat / np.array([[1.0, 1.0, 1.0, 2.0, 2.0, 2.0],\n",
        "                                      [1.0, 1.0, 1.0, 2.0, 2.0, 2.0],\n",
        "                                      [1.0, 1.0, 1.0, 2.0, 2.0, 2.0],\n",
        "                                      [2.0, 2.0, 2.0, 4.0, 4.0, 4.0],\n",
        "                                      [2.0, 2.0, 2.0, 4.0, 4.0, 4.0],\n",
        "                                      [2.0, 2.0, 2.0, 4.0, 4.0, 4.0]])\n",
        "    for i in range(3):\n",
        "        for j in range(3):\n",
        "            for k in range(3):\n",
        "                for l in range(3):\n",
        "\n",
        "                    # print(m2t[i,j])\n",
        "                    # print(m2t[k,l])\n",
        "\n",
        "                    cij_tens[i,j,k,l] = cij_mat[m2t[i,j],m2t[k,l]]\n",
        "\n",
        "\n",
        "    return cij_tens"
      ]
    },
    {
      "cell_type": "markdown",
      "metadata": {
        "id": "Q-n4ti9qT8F6"
      },
      "source": [
        "### Input data"
      ]
    },
    {
      "cell_type": "code",
      "execution_count": 3,
      "metadata": {
        "id": "tC9V8oldlpC0"
      },
      "outputs": [],
      "source": [
        "# M_C11 = K_matrix + 4/3*Mu_matrix\n",
        "# M_C44 = Mu_matrix\n",
        "# M_C12 = M_C11 - 2*M_C44\n",
        "\n",
        "M_C11 = 80\n",
        "M_C44 = 36\n",
        "M_C12 = M_C11 - 2*M_C44\n",
        "\n",
        "\n",
        "C_mtrx = np.zeros((6,6))\n",
        "C_mtrx[0,0] = C_mtrx[1,1] = C_mtrx[2,2] = M_C11\n",
        "C_mtrx[0,1] = C_mtrx[0,2] = C_mtrx[1,0] = C_mtrx[1,2] =C_mtrx[2,0] = C_mtrx[2,1] = M_C12\n",
        "C_mtrx[3,3] = C_mtrx[4,4] = C_mtrx[5,5] = M_C44\n",
        "\n",
        "C_mtrx = mat2tens(C_mtrx, compl=False)\n",
        "C_c = C_mtrx\n",
        "\n",
        "\n",
        "# k, mu = K_air, Mu_air\n",
        "k, mu = 2.25, 10**-6\n",
        "\n",
        "lambda_ = k - 2 * mu / 3\n",
        "c11 = lambda_ + 2 * mu\n",
        "c12 = lambda_\n",
        "c44 = mu\n",
        "\n",
        "Fl_C11 = c11\n",
        "Fl_C12 = c12\n",
        "Fl_C44 = (Fl_C11 - Fl_C12)*0.5\n",
        "\n",
        "C_fl = np.zeros((6, 6))\n",
        "C_fl[0,0] = C_fl[1,1] = C_fl[2,2] = Fl_C11\n",
        "C_fl[0,1] = C_fl[0,2] = C_fl[1,0] = C_fl[1,2] =C_fl[2,0] = C_fl[2,1] = Fl_C12\n",
        "C_fl[3,3] = C_fl[4,4] = C_fl[5,5] = Fl_C44\n",
        "\n",
        "C_fl = mat2tens(C_fl, compl=False)"
      ]
    },
    {
      "cell_type": "markdown",
      "metadata": {
        "id": "RCNg8gmwUERo"
      },
      "source": [
        "### Tensor $g_{ijkl}$ calculation"
      ]
    },
    {
      "cell_type": "code",
      "execution_count": 7,
      "metadata": {
        "id": "4E39Tvd1pT27"
      },
      "outputs": [],
      "source": [
        "pi = np.pi\n",
        "\n",
        "def tensor_g(C_c, AR):\n",
        "\n",
        "    # Define the integrand function f(θ, φ)\n",
        "    def func(θ, φ, position):\n",
        "        n_vector = np.array([[((np.sin(θ) * np.cos(φ))*AR[0]**-1),\n",
        "                        (np.sin(θ) * np.sin(φ))*AR[1]**-1,\n",
        "                        (np.cos(θ)*AR[2]**-1)]])\n",
        "\n",
        "\n",
        "\n",
        "        n = n_vector.T @ n_vector\n",
        "\n",
        "        n = n.astype(np.float64)\n",
        "\n",
        "        λ = np.linalg.inv(np.einsum('imjn,mn->ij', C_c, n))\n",
        "        return (np.einsum('mn,ij -> imjn', n, λ))[position[0],\n",
        "                                                            position[1],\n",
        "                                                            position[2],\n",
        "                                                            position[3]]  # Return a scalar value\n",
        "\n",
        "\n",
        "    # Compute the double integral for each component of A over θ and φ\n",
        "    integrals = np.zeros((3,3,3,3))\n",
        "\n",
        "    abserr = 1.0e-8\n",
        "    relerr = 1.0e-8\n",
        "    # points = [0,]\n",
        "    opts={\n",
        "        'epsabs': abserr,\n",
        "        'epsrel': relerr\n",
        "        }\n",
        "\n",
        "\n",
        "    for i in range(C_c.shape[0]):\n",
        "        for j in range(C_c.shape[1]):\n",
        "            for k in range(C_c.shape[2]):\n",
        "                for l in range(C_c.shape[3]):\n",
        "\n",
        "\n",
        "                  integrand = (lambda θ, φ, i=i, j=j, k=k, l=l: func(θ, φ, (i, k, l, j))* np.sin(θ) + \\\n",
        "                                 func(θ, φ, (j, k, l, i))* np.sin(θ) +\\\n",
        "                                 func(θ, φ, (i, l, k, j))* np.sin(θ) +\\\n",
        "                                 func(θ, φ, (j, l, k, i))* np.sin(θ))\n",
        "\n",
        "                  integral,_ = integrate.nquad(integrand, [(0, pi), (0, 2*pi)], opts=opts)\n",
        "\n",
        "                  integrals[i, j, k, l] = integral / (-16 * pi)\n",
        "\n",
        "    A_klnm = integrals\n",
        "    return A_klnm"
      ]
    },
    {
      "cell_type": "markdown",
      "source": [
        "### From laboratory system (VTI) to isotropic"
      ],
      "metadata": {
        "id": "NzJyEi6iRG6t"
      }
    },
    {
      "cell_type": "code",
      "source": [
        "def izotr(c):\n",
        "\n",
        "  pi = np.pi\n",
        "  c_iz = np.zeros((3, 3, 3, 3))\n",
        "\n",
        "  c11 = c[0, 0, 0, 0]\n",
        "  c22 = c[1, 1, 1, 1]\n",
        "  c33 = c[2, 2, 2, 2]\n",
        "  c12 = c[0, 0, 1, 1]\n",
        "  c13 = c[0, 0, 2, 2]\n",
        "  c23 = c[1, 1, 2, 2]\n",
        "  c44 = c[1, 2, 1, 2]\n",
        "  c55 = c[0, 2, 0, 2]\n",
        "  c66 = c[0, 1, 0, 1]\n",
        "\n",
        "  t1 = 0.3141593E1**2\n",
        "  t20 = 32.E0/15.E0*c44*t1 + 8.E0/5.E0*c22*t1 + 16.E0/15.E0*c23*t1 + 32.E0/15.E0*c55*t1 + 8.E0/5.E0*c11*t1 + 32.E0/15.E0*c66*t1 + 16.E0/15.E0*c13*t1 + 16.E0/15.E0*c12*t1 + 8.E0/5.E0*c33*t1\n",
        "  c_iz[0, 0, 0, 0] = t20 / (8 * pi * pi)\n",
        "\n",
        "  t20 = 32.E0/15.E0*c12*t1 + 8.E0/15.E0*c11*t1 + 8.E0/15.E0*c22*t1 - 16.E0/15.E0*c66*t1 + 32.E0/15.E0*c13*t1 + 32.E0/15.E0*c23*t1 - 16.E0/15.E0*c44*t1 + 8.E0/15.E0*c33*t1 - 16.E0/15.E0*c55*t1\n",
        "  c_iz[0, 0, 1, 1] = t20 / (8 * pi * pi)\n",
        "  c_iz[1, 1, 0, 0] = c_iz[0, 0, 1, 1]\n",
        "\n",
        "  t20 = -8.E0/15.E0*c12*t1 + 8.E0/15.E0*c22*t1 + 8.E0/5.E0*c44*t1 + 8.E0/5.E0*c55*t1 + 8.E0/15.E0*c11*t1 + 8.E0/5.E0*c66*t1 - 8.E0/15.E0*c13*t1 - 8.E0/15.E0*c23*t1 + 8.E0/15.E0*c33*t1\n",
        "  c_iz[0, 2, 0, 2] = t20 / (8 * pi * pi)\n",
        "\n",
        "  c_iz[1, 1, 1, 1] = c_iz[0, 0, 0, 0]\n",
        "  c_iz[2, 2, 2, 2] = c_iz[0, 0, 0, 0]\n",
        "  c_iz[0, 0, 2, 2] = c_iz[0, 0, 1, 1]\n",
        "  c_iz[1, 1, 2, 2] = c_iz[0, 0, 1, 1]\n",
        "  c_iz[2, 2, 0, 0] = c_iz[0, 0, 1, 1]\n",
        "  c_iz[2, 2, 1, 1] = c_iz[0, 0, 1, 1]\n",
        "  c_iz[0, 2, 2, 0] = c_iz[0, 2, 0, 2]\n",
        "  c_iz[2, 0, 2, 0] = c_iz[0, 2, 0, 2]\n",
        "  c_iz[2, 0, 0, 2] = c_iz[0, 2, 0, 2]\n",
        "  c_iz[0, 1, 0, 1] = c_iz[0, 2, 0, 2]\n",
        "  c_iz[0, 1, 1, 0] = c_iz[0, 2, 0, 2]\n",
        "  c_iz[1, 0, 0, 1] = c_iz[0, 2, 0, 2]\n",
        "  c_iz[1, 0, 1, 0] = c_iz[0, 2, 0, 2]\n",
        "  c_iz[1, 2, 1, 2] = c_iz[0, 2, 0, 2]\n",
        "  c_iz[1, 2, 2, 1] = c_iz[0, 2, 0, 2]\n",
        "  c_iz[2, 1, 1, 2] = c_iz[0, 2, 0, 2]\n",
        "  c_iz[2, 1, 2, 1] = c_iz[0, 2, 0, 2]\n",
        "\n",
        "  return c_iz"
      ],
      "metadata": {
        "id": "hx26scCwYHGt"
      },
      "execution_count": 4,
      "outputs": []
    },
    {
      "cell_type": "code",
      "source": [
        "def effective_from_VTI_to_istrop(g_m, g_fl, C_mtrx, C_fl, C_c, porosity):\n",
        "\n",
        "  ### matrix\n",
        "  A_m1 = tens2mat(C_mtrx - C_c, compl=False)\n",
        "  g_m1 = (tens2mat(g_m, compl=True))\n",
        "\n",
        "\n",
        "  g_inv_m1 = np.linalg.inv(g_m1)\n",
        "  x_m1 = np.linalg.inv(g_inv_m1 - A_m1)\n",
        "\n",
        "  num_mtrx =  tens2mat(C_mtrx, compl=False) @ (x_m1 @ g_inv_m1) # -----> multiply in matrix form not in tensor\n",
        "\n",
        "  ### fluid\n",
        "  A_fl1 = tens2mat(C_fl - C_c, compl=False)\n",
        "  g_fl1 = tens2mat(g_fl, compl=True)\n",
        "\n",
        "  g_inv_fl1 = np.linalg.inv(g_fl1)\n",
        "  x_fl1 = np.linalg.inv(g_inv_fl1 - A_fl1)\n",
        "  num_fl =  tens2mat(C_fl, compl=False) @ (x_fl1 @ g_inv_fl1)\n",
        "  num_fl_rotated = izotr(mat2tens(num_fl, compl=False))\n",
        "  ### -----------\n",
        "\n",
        "\n",
        "  ### Числитель\n",
        "  rslt_num = ((1-porosity)*num_mtrx + porosity*tens2mat(num_fl_rotated, compl=False))\n",
        "  # print(f'1st brackets (GPa)')\n",
        "  # print(np.round(rslt_num, 3))\n",
        "\n",
        "   ### Знаменатель\n",
        "  result_mtrx =  (x_m1 @ g_inv_m1) * (1-porosity) # matrix shape\n",
        "\n",
        "  result_fl = (x_fl1 @ g_inv_fl1) * porosity\n",
        "\n",
        "  # print('B rotated isotropic') #переход в тензор с учетом размерности с использованием тензора g\n",
        "  g_matrix = (tens2mat(g_m, compl=True))\n",
        "  M = mat2tens(np.linalg.inv(g_matrix) @ result_fl, compl=False)\n",
        "  b = np.einsum('ijmn,nmkl->ijkl', g_m, M)\n",
        "  B = izotr(b) # tensor shape\n",
        "\n",
        "  aa = mat2tens(np.linalg.inv(g_matrix), compl=False)\n",
        "  bb = tens2mat(np.einsum('ijmn,nmkl->ijkl', aa, B), compl=False)\n",
        "\n",
        "  result_fl_rotated = g_matrix @ bb\n",
        "  rslt_dnmntr = np.linalg.inv(result_mtrx + result_fl_rotated)\n",
        "  # print(f'2nd brackets (1/GPa)')\n",
        "  # print(np.round(rslt_dnmntr, 3))\n",
        "\n",
        "        ### Effective matrix Cij in laboratory system\n",
        "  C_eff= rslt_num @ rslt_dnmntr\n",
        "  # print(f'Result in laboratory system')\n",
        "  print(np.round(C_eff, 3))\n",
        "\n",
        "\n",
        "  return  C_eff"
      ],
      "metadata": {
        "id": "brjvIeeqbYhr"
      },
      "execution_count": 11,
      "outputs": []
    },
    {
      "cell_type": "markdown",
      "source": [
        "### Sensetivity study"
      ],
      "metadata": {
        "id": "HCFXu1iGTi1p"
      }
    },
    {
      "cell_type": "code",
      "source": [
        "c11, c12, c44 = [], [], []\n",
        "\n",
        "porosity = np.arange(0, 1.1, 0.1)\n",
        "\n",
        "g_matrix, g_inclusion = tensor_g(C_c, [1,1,1]), tensor_g(C_c, [10,10,1])\n",
        "\n",
        "for i in porosity:\n",
        "  eff = effective_from_VTI_to_istrop(g_matrix, g_inclusion, C_mtrx, C_fl, C_c, porosity=i)\n",
        "  c11.append(eff[0,0])\n",
        "  c12.append(eff[0,2])\n",
        "  c44.append(eff[3,3])"
      ],
      "metadata": {
        "id": "mv9XBW76WWcQ",
        "outputId": "f840a78d-6bfb-4930-8f20-de5cb834156b",
        "colab": {
          "base_uri": "https://localhost:8080/"
        }
      },
      "execution_count": 14,
      "outputs": [
        {
          "output_type": "stream",
          "name": "stdout",
          "text": [
            "B rotated isotropic\n",
            "[[80.  8.  8. -0.  0.  0.]\n",
            " [ 8. 80.  8.  0.  0.  0.]\n",
            " [ 8.  8. 80. -0. -0.  0.]\n",
            " [-0. -0.  0. 36.  0.  0.]\n",
            " [ 0. -0. -0.  0. 36.  0.]\n",
            " [ 0.  0. -0. -0.  0. 36.]]\n",
            "B rotated isotropic\n",
            "[[54.686  8.228  8.228  0.    -0.     0.   ]\n",
            " [ 8.228 54.686  8.228  0.    -0.     0.   ]\n",
            " [ 8.228  8.228 54.686 -0.     0.    -0.   ]\n",
            " [-0.     0.     0.    23.229 -0.    -0.   ]\n",
            " [ 0.    -0.     0.     0.    23.229  0.   ]\n",
            " [-0.    -0.     0.     0.     0.    23.229]]\n",
            "B rotated isotropic\n",
            "[[39.741  7.64   7.64   0.    -0.     0.   ]\n",
            " [ 7.64  39.741  7.64   0.    -0.     0.   ]\n",
            " [ 7.64   7.64  39.741 -0.     0.    -0.   ]\n",
            " [-0.     0.     0.    16.05  -0.    -0.   ]\n",
            " [ 0.    -0.     0.     0.    16.05   0.   ]\n",
            " [-0.    -0.     0.     0.     0.    16.05 ]]\n",
            "B rotated isotropic\n",
            "[[29.842  6.94   6.94   0.    -0.     0.   ]\n",
            " [ 6.94  29.842  6.94   0.    -0.     0.   ]\n",
            " [ 6.94   6.94  29.842  0.    -0.     0.   ]\n",
            " [-0.     0.    -0.    11.451 -0.    -0.   ]\n",
            " [-0.    -0.     0.     0.    11.451 -0.   ]\n",
            " [ 0.    -0.     0.     0.    -0.    11.451]]\n",
            "B rotated isotropic\n",
            "[[22.789  6.286  6.286  0.    -0.     0.   ]\n",
            " [ 6.286 22.789  6.286  0.    -0.     0.   ]\n",
            " [ 6.286  6.286 22.789 -0.    -0.    -0.   ]\n",
            " [-0.     0.     0.     8.252 -0.    -0.   ]\n",
            " [ 0.    -0.     0.     0.     8.252  0.   ]\n",
            " [-0.    -0.     0.     0.     0.     8.252]]\n",
            "B rotated isotropic\n",
            "[[17.506  5.709  5.709  0.    -0.     0.   ]\n",
            " [ 5.709 17.506  5.709  0.    -0.    -0.   ]\n",
            " [ 5.709  5.709 17.506  0.     0.    -0.   ]\n",
            " [-0.     0.     0.     5.898  0.    -0.   ]\n",
            " [-0.    -0.    -0.     0.     5.898 -0.   ]\n",
            " [ 0.    -0.     0.    -0.     0.     5.898]]\n",
            "B rotated isotropic\n",
            "[[13.398  5.209  5.209  0.    -0.     0.   ]\n",
            " [ 5.209 13.398  5.209  0.    -0.     0.   ]\n",
            " [ 5.209  5.209 13.398  0.    -0.     0.   ]\n",
            " [-0.     0.    -0.     4.094 -0.    -0.   ]\n",
            " [-0.    -0.     0.     0.     4.094 -0.   ]\n",
            " [ 0.    -0.     0.     0.    -0.     4.094]]\n",
            "B rotated isotropic\n",
            "[[10.112  4.777  4.777  0.    -0.     0.   ]\n",
            " [ 4.777 10.112  4.777  0.    -0.     0.   ]\n",
            " [ 4.777  4.777 10.112  0.    -0.    -0.   ]\n",
            " [-0.     0.     0.     2.668 -0.    -0.   ]\n",
            " [ 0.     0.     0.    -0.     2.668 -0.   ]\n",
            " [-0.    -0.     0.     0.     0.     2.668]]\n",
            "B rotated isotropic\n",
            "[[ 7.422  4.401  4.401  0.    -0.     0.   ]\n",
            " [ 4.401  7.422  4.401  0.    -0.     0.   ]\n",
            " [ 4.401  4.401  7.422  0.    -0.     0.   ]\n",
            " [-0.     0.     0.     1.511 -0.    -0.   ]\n",
            " [ 0.     0.     0.     0.     1.511  0.   ]\n",
            " [-0.    -0.     0.     0.     0.     1.511]]\n",
            "B rotated isotropic\n",
            "[[ 5.18   4.072  4.072  0.    -0.     0.   ]\n",
            " [ 4.072  5.18   4.072  0.    -0.    -0.   ]\n",
            " [ 4.072  4.072  5.18   0.    -0.     0.   ]\n",
            " [-0.    -0.    -0.     0.554 -0.    -0.   ]\n",
            " [ 0.     0.     0.     0.     0.554 -0.   ]\n",
            " [-0.    -0.     0.     0.    -0.     0.554]]\n",
            "B rotated isotropic\n",
            "[[ 3.282  3.783  3.783  0.    -0.    -0.   ]\n",
            " [ 3.783  3.282  3.783  0.    -0.    -0.   ]\n",
            " [ 3.783  3.783  3.282  0.    -0.    -0.   ]\n",
            " [-0.    -0.    -0.    -0.251 -0.     0.   ]\n",
            " [ 0.     0.     0.     0.    -0.251  0.   ]\n",
            " [-0.     0.     0.     0.    -0.    -0.251]]\n"
          ]
        }
      ]
    },
    {
      "cell_type": "code",
      "source": [
        "x = porosity\n",
        "\n",
        "plt.plot(x, c11, label='C11', marker='o', color='blue')\n",
        "plt.plot(x, c12, label='C12', marker='o', color='green')\n",
        "plt.plot(x, c44, label='C44', marker='o', color='red')\n",
        "\n",
        "# plt.xscale(\"log\")\n",
        "plt.xlabel('porosity')\n",
        "plt.ylabel('Cij, ГПа')\n",
        "# plt.title ('AR fluid')\n",
        "\n",
        "plt.grid()\n",
        "plt.legend()"
      ],
      "metadata": {
        "id": "Qexne0aLW35Q",
        "outputId": "7e13f0c5-d388-43a3-db87-4ec903088c49",
        "colab": {
          "base_uri": "https://localhost:8080/",
          "height": 466
        }
      },
      "execution_count": 15,
      "outputs": [
        {
          "output_type": "execute_result",
          "data": {
            "text/plain": [
              "<matplotlib.legend.Legend at 0x7b175c3604f0>"
            ]
          },
          "metadata": {},
          "execution_count": 15
        },
        {
          "output_type": "display_data",
          "data": {
            "text/plain": [
              "<Figure size 640x480 with 1 Axes>"
            ],
            "image/png": "[encoded data removed]"
          },
          "metadata": {}
        }
      ]
    },
    {
      "cell_type": "markdown",
      "source": [
        "### Velocity calculation (Vp, Vs)"
      ],
      "metadata": {
        "id": "QvkIoPs-VQKh"
      }
    },
    {
      "cell_type": "code",
      "source": [
        "density = 2.572247\n",
        "\n",
        "for i, j in zip(c11, c44):\n",
        "  print('Vp', np.sqrt(i / density), 'Vs', np.sqrt(j / density))"
      ],
      "metadata": {
        "colab": {
          "base_uri": "https://localhost:8080/"
        },
        "id": "HRFv7EKHBlCN",
        "outputId": "c71a8b91-5c8c-4ed5-cfd3-d7c7c7b022e7"
      },
      "execution_count": 16,
      "outputs": [
        {
          "output_type": "stream",
          "name": "stdout",
          "text": [
            "Vp 5.576846087743359 Vs 3.7410620856743724\n",
            "Vp 4.610845734268169 Vs 3.0050932310524403\n",
            "Vp 3.930643939467413 Vs 2.4979628069742135\n",
            "Vp 3.406077241882495 Vs 2.109888694072226\n",
            "Vp 2.9765348128886076 Vs 1.7910963134163125\n",
            "Vp 2.608789787480354 Vs 1.5143003673841575\n",
            "Vp 2.282270709118211 Vs 1.2616547144964128\n",
            "Vp 1.9826914978876915 Vs 1.018357490613615\n",
            "Vp 1.6986523208517785 Vs 0.7663685340017353\n",
            "Vp 1.41906676149301 Vs 0.4640575302385428\n",
            "Vp 1.1295583641940112 Vs nan\n"
          ]
        },
        {
          "output_type": "stream",
          "name": "stderr",
          "text": [
            "<ipython-input-16-df976d8dcc71>:4: RuntimeWarning: invalid value encountered in sqrt\n",
            "  print('Vp', np.sqrt(i / density), 'Vs', np.sqrt(j / density))\n"
          ]
        }
      ]
    },
    {
      "cell_type": "code",
      "source": [
        "c11, c12, c44 = [], [], []\n",
        "\n",
        "ar = [1000, 100, 10, 1]\n",
        "\n",
        "porosity = 0.1\n",
        "for i in ar:\n",
        "  g_inclusion = tensor_g(C_c, [i,i,1])\n",
        "  eff = effective_from_VTI_to_istrop(g_matrix, g_inclusion, C_mtrx, C_fl, C_c, porosity)\n",
        "  c11.append(eff[0,0])\n",
        "  c12.append(eff[0,2])\n",
        "  c44.append(eff[3,3])"
      ],
      "metadata": {
        "colab": {
          "base_uri": "https://localhost:8080/"
        },
        "id": "ypE7RODmG2i2",
        "outputId": "974df382-e759-4de2-fbb6-ff88b747db40"
      },
      "execution_count": 17,
      "outputs": [
        {
          "metadata": {
            "tags": null
          },
          "name": "stderr",
          "output_type": "stream",
          "text": [
            "/usr/local/lib/python3.10/dist-packages/scipy/integrate/_quadpack_py.py:1233: IntegrationWarning: The integral is probably divergent, or slowly convergent.\n",
            "  quad_r = quad(f, low, high, args=args, full_output=self.full_output,\n"
          ]
        },
        {
          "output_type": "stream",
          "name": "stdout",
          "text": [
            "B rotated isotropic\n",
            "[[17.443 14.959 14.959  0.    -0.    -0.   ]\n",
            " [14.959 17.443 14.959  0.    -0.    -0.   ]\n",
            " [14.959 14.959 17.443  0.    -0.    -0.   ]\n",
            " [ 0.     0.     0.     1.242 -0.    -0.   ]\n",
            " [-0.    -0.    -0.     0.     1.242  0.   ]\n",
            " [-0.    -0.    -0.     0.    -0.     1.242]]\n",
            "B rotated isotropic\n",
            "[[28.418 11.566 11.566  0.    -0.     0.   ]\n",
            " [11.566 28.418 11.566  0.    -0.     0.   ]\n",
            " [11.566 11.566 28.418  0.    -0.     0.   ]\n",
            " [-0.     0.    -0.     8.426 -0.    -0.   ]\n",
            " [ 0.     0.     0.    -0.     8.426 -0.   ]\n",
            " [ 0.    -0.     0.     0.    -0.     8.426]]\n",
            "B rotated isotropic\n",
            "[[54.686  8.228  8.228  0.    -0.     0.   ]\n",
            " [ 8.228 54.686  8.228  0.    -0.     0.   ]\n",
            " [ 8.228  8.228 54.686 -0.     0.    -0.   ]\n",
            " [-0.     0.     0.    23.229 -0.    -0.   ]\n",
            " [ 0.    -0.     0.     0.    23.229  0.   ]\n",
            " [-0.    -0.     0.     0.     0.    23.229]]\n",
            "B rotated isotropic\n",
            "[[66.506  8.04   8.04   0.    -0.     0.   ]\n",
            " [ 8.04  66.506  8.04   0.    -0.    -0.   ]\n",
            " [ 8.04   8.04  66.506 -0.    -0.    -0.   ]\n",
            " [-0.     0.    -0.    29.233 -0.    -0.   ]\n",
            " [-0.     0.     0.     0.    29.233  0.   ]\n",
            " [ 0.    -0.     0.     0.    -0.    29.233]]\n"
          ]
        }
      ]
    },
    {
      "cell_type": "code",
      "source": [
        "x = [1/1000, 1/100, 1/10, 1]\n",
        "\n",
        "plt.plot(x, c11, label='C11', marker='o', color='blue')\n",
        "plt.plot(x, c12, label='C12', marker='o', color='green')\n",
        "plt.plot(x, c44, label='C44', marker='o', color='red')\n",
        "\n",
        "plt.xscale(\"log\")\n",
        "plt.xlabel('porosity')\n",
        "plt.ylabel('Cij, ГПа')\n",
        "# plt.title ('AR fluid')\n",
        "\n",
        "plt.grid()\n",
        "plt.legend()"
      ],
      "metadata": {
        "id": "MJWHompWS3Um",
        "outputId": "c5d85380-4bc3-4272-95fd-8d0406656cd1",
        "colab": {
          "base_uri": "https://localhost:8080/",
          "height": 471
        }
      },
      "execution_count": 19,
      "outputs": [
        {
          "output_type": "execute_result",
          "data": {
            "text/plain": [
              "<matplotlib.legend.Legend at 0x7b175c0d6620>"
            ]
          },
          "metadata": {},
          "execution_count": 19
        },
        {
          "output_type": "display_data",
          "data": {
            "text/plain": [
              "<Figure size 640x480 with 1 Axes>"
            ],
            "image/png": "[encoded data removed]"
          },
          "metadata": {}
        }
      ]
    }
  ],
  "metadata": {
    "colab": {
      "provenance": [],
      "toc_visible": true,
      "include_colab_link": true
    },
    "kernelspec": {
      "display_name": "Python 3",
      "name": "python3"
    },
    "language_info": {
      "name": "python"
    }
  },
  "nbformat": 4,
  "nbformat_minor": 0
}